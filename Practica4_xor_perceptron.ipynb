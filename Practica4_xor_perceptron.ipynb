{
 "cells": [
  {
   "cell_type": "markdown",
   "metadata": {},
   "source": [
    "## Creacion de funcion XOR"
   ]
  },
  {
   "cell_type": "markdown",
   "metadata": {},
   "source": [
    "Ejercicio en clase"
   ]
  },
  {
   "cell_type": "code",
   "execution_count": 1,
   "metadata": {},
   "outputs": [],
   "source": [
    "def not_custom(x):\n",
    "    parametros = [-1 , 1]\n",
    "    return int(x * parametros[0] + parametros[1]>0)\n"
   ]
  },
  {
   "cell_type": "code",
   "execution_count": 2,
   "metadata": {},
   "outputs": [
    {
     "data": {
      "text/plain": [
       "1"
      ]
     },
     "execution_count": 2,
     "metadata": {},
     "output_type": "execute_result"
    }
   ],
   "source": [
    "test = 0\n",
    "not_custom(test)"
   ]
  },
  {
   "cell_type": "code",
   "execution_count": 3,
   "metadata": {},
   "outputs": [],
   "source": [
    "def or_custom(x1,x2):\n",
    "    parametros = [1,1,0]\n",
    "    \n",
    "    return int(x1*parametros[0] + x2 * parametros[1] + parametros[2] >0) "
   ]
  },
  {
   "cell_type": "code",
   "execution_count": 4,
   "metadata": {},
   "outputs": [
    {
     "data": {
      "text/plain": [
       "0"
      ]
     },
     "execution_count": 4,
     "metadata": {},
     "output_type": "execute_result"
    }
   ],
   "source": [
    "test1 = 0\n",
    "test2 = 0\n",
    "or_custom(test1,test2)"
   ]
  },
  {
   "cell_type": "code",
   "execution_count": 5,
   "metadata": {},
   "outputs": [],
   "source": [
    "def and_custom(x1,x2):\n",
    "    #otra opcion podria ser:\n",
    "    # parametros = [1,1,-1]    \n",
    "    # y compara que sea mayor a 0\n",
    "    parametros = [1,1,0]\n",
    "    \n",
    "    return int(x1*parametros[0] + x2 * parametros[1] + parametros[2] >1) "
   ]
  },
  {
   "cell_type": "code",
   "execution_count": 6,
   "metadata": {},
   "outputs": [
    {
     "data": {
      "text/plain": [
       "0"
      ]
     },
     "execution_count": 6,
     "metadata": {},
     "output_type": "execute_result"
    }
   ],
   "source": [
    "test1 = 1\n",
    "test2 = 0\n",
    "and_custom(test1,test2)"
   ]
  },
  {
   "cell_type": "markdown",
   "metadata": {},
   "source": [
    "<img src=\"xor.png\" width=\"500px\">"
   ]
  },
  {
   "cell_type": "code",
   "execution_count": 7,
   "metadata": {},
   "outputs": [],
   "source": [
    "def xor_custom(x1,x2):\n",
    "    and1 = and_custom(x1,x2)\n",
    "    or1 = or_custom(x1,x2)\n",
    "    \n",
    "    nand1 = not_custom(and1)\n",
    "    \n",
    "    salida = and_custom(nand1,or1)\n",
    "    return salida"
   ]
  },
  {
   "cell_type": "code",
   "execution_count": 9,
   "metadata": {},
   "outputs": [
    {
     "data": {
      "text/plain": [
       "1"
      ]
     },
     "execution_count": 9,
     "metadata": {},
     "output_type": "execute_result"
    }
   ],
   "source": [
    "test1 = 0\n",
    "test2 = 1\n",
    "xor_custom(test1,test2)"
   ]
  },
  {
   "cell_type": "markdown",
   "metadata": {},
   "source": [
    "# Parte 1\n",
    "## XOR Vectorizado"
   ]
  },
  {
   "cell_type": "code",
   "execution_count": 12,
   "metadata": {},
   "outputs": [],
   "source": [
    "import numpy as np"
   ]
  },
  {
   "cell_type": "code",
   "execution_count": 123,
   "metadata": {},
   "outputs": [],
   "source": [
    "def vnot_1(x):\n",
    "    b = np.ones(x.shape)\n",
    "    b = np.vstack((x,b)).astype(int)\n",
    "    a = np.array([[-1,1]])\n",
    "    c = np.matmul(a,b)\n",
    "    return c"
   ]
  },
  {
   "cell_type": "code",
   "execution_count": 137,
   "metadata": {},
   "outputs": [],
   "source": [
    "def vnot(x):\n",
    "    return (x == 0).astype(int)"
   ]
  },
  {
   "cell_type": "code",
   "execution_count": 125,
   "metadata": {},
   "outputs": [
    {
     "name": "stdout",
     "output_type": "stream",
     "text": [
      "[[0 1 0 1 1 1 1 0 0 0]]\n",
      "[0 1 0 1 1 1 1 0 0 0]\n"
     ]
    }
   ],
   "source": [
    "test = np.array([1,0,1,0,0,0,0,1,1,1,])\n",
    "print(vnot_1(test))\n",
    "print(vnot(test))"
   ]
  },
  {
   "cell_type": "code",
   "execution_count": 126,
   "metadata": {},
   "outputs": [],
   "source": [
    "def vand(x1, x2):\n",
    "    return np.int_((x1 + x2)> 1)"
   ]
  },
  {
   "cell_type": "code",
   "execution_count": 127,
   "metadata": {},
   "outputs": [
    {
     "data": {
      "text/plain": [
       "array([0, 1, 0, 0])"
      ]
     },
     "execution_count": 127,
     "metadata": {},
     "output_type": "execute_result"
    }
   ],
   "source": [
    "test1= np.array([1,1,0,0])\n",
    "test2= np.array([0,1,0,1])\n",
    "\n",
    "vand(test1, test2)\n"
   ]
  },
  {
   "cell_type": "code",
   "execution_count": 128,
   "metadata": {},
   "outputs": [],
   "source": [
    "def vor(x1,x2):\n",
    "    return np.int_((x1 + x2)>= 1)\n",
    "    "
   ]
  },
  {
   "cell_type": "code",
   "execution_count": 129,
   "metadata": {},
   "outputs": [
    {
     "data": {
      "text/plain": [
       "array([1, 1, 0, 1])"
      ]
     },
     "execution_count": 129,
     "metadata": {},
     "output_type": "execute_result"
    }
   ],
   "source": [
    "test1= np.array([1,1,0,0])\n",
    "test2= np.array([0,1,0,1])\n",
    "\n",
    "vor(test1, test2)\n"
   ]
  },
  {
   "cell_type": "code",
   "execution_count": 140,
   "metadata": {},
   "outputs": [],
   "source": [
    "def vxor(x1,x2):\n",
    "    and1 = vand(x1,x2)\n",
    "    or1 = vor(x1,x2)\n",
    "    \n",
    "    nand1 = vnot(and1)\n",
    "    salida = vand(nand1,or1)\n",
    "    return salida"
   ]
  },
  {
   "cell_type": "code",
   "execution_count": 141,
   "metadata": {},
   "outputs": [
    {
     "data": {
      "text/plain": [
       "array([1, 0, 0, 1])"
      ]
     },
     "execution_count": 141,
     "metadata": {},
     "output_type": "execute_result"
    }
   ],
   "source": [
    "test1= np.array([1,1,0,0])\n",
    "test2= np.array([0,1,0,1])\n",
    "\n",
    "vxor(test1, test2)\n"
   ]
  },
  {
   "cell_type": "code",
   "execution_count": null,
   "metadata": {},
   "outputs": [],
   "source": []
  }
 ],
 "metadata": {
  "kernelspec": {
   "display_name": "Python 3",
   "language": "python",
   "name": "python3"
  },
  "language_info": {
   "codemirror_mode": {
    "name": "ipython",
    "version": 3
   },
   "file_extension": ".py",
   "mimetype": "text/x-python",
   "name": "python",
   "nbconvert_exporter": "python",
   "pygments_lexer": "ipython3",
   "version": "3.7.4"
  }
 },
 "nbformat": 4,
 "nbformat_minor": 4
}
