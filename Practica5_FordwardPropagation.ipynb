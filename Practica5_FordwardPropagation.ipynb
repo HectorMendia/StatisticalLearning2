{
 "cells": [
  {
   "cell_type": "markdown",
   "metadata": {},
   "source": [
    "## Practica 5\n",
    "#### Forward propagation y representacion intermedia\n",
    "\n",
    "Creacion de Fordward propagation de las graficas"
   ]
  },
  {
   "cell_type": "code",
   "execution_count": 1,
   "metadata": {},
   "outputs": [],
   "source": [
    "import numpy as np"
   ]
  },
  {
   "cell_type": "code",
   "execution_count": 4,
   "metadata": {},
   "outputs": [],
   "source": [
    "\n"
   ]
  },
  {
   "cell_type": "code",
   "execution_count": 71,
   "metadata": {},
   "outputs": [],
   "source": [
    "class ForwardProg:\n",
    "    def __init__(self, w1, w2):    \n",
    "        self.wl1 = w1\n",
    "\n",
    "        # 1 elemento para cada neurona intermedia\n",
    "        self.wl2 = w2\n",
    "\n",
    "    def sigmoid(self,x):\n",
    "        return 1/(1+np.exp(-x))\n",
    "    \n",
    "    def ite_propagation(self,x, add_sesgo= False):\n",
    "        #print(x.shape)\n",
    "        #print(self.wl1.shape)\n",
    "        #print(self.wl1.T.shape)\n",
    "        #print(np.matmul(x,self.wl1))\n",
    "        hidden = self.sigmoid(np.matmul(x,self.wl1.T))\n",
    "        #print(hidden.shape)\n",
    "        if add_sesgo:\n",
    "            largo = hidden.shape[0]\n",
    "            sesgo = np.ones(largo).reshape(largo,1)\n",
    "            #print(sesgo.shape)\n",
    "            #print(hidden.shape)\n",
    "            hidden = np.hstack((hidden,sesgo))\n",
    "            #print(hidden.shape)\n",
    "        #print(hidden.shape)\n",
    "        #print(self.wl2.shape)\n",
    "        sal = self.sigmoid(np.matmul(hidden,self.wl2.T))\n",
    "        #print(sal.shape)\n",
    "        return sal"
   ]
  },
  {
   "cell_type": "markdown",
   "metadata": {},
   "source": [
    "<center><img src=\"diagrama1.png\"/> </center>"
   ]
  },
  {
   "cell_type": "code",
   "execution_count": 73,
   "metadata": {},
   "outputs": [
    {
     "data": {
      "text/plain": [
       "array([[0.33617605],\n",
       "       [0.27158134],\n",
       "       [0.00447989],\n",
       "       [0.99752738]])"
      ]
     },
     "execution_count": 73,
     "metadata": {},
     "output_type": "execute_result"
    }
   ],
   "source": [
    "x1 = np.array([\n",
    " [5, 10, 1],\n",
    " [1, 1, 1],\n",
    " [0, 1, 1],    \n",
    " [10, 5, 1],\n",
    "])\n",
    "\n",
    "w11 = np.array([\n",
    "    [5, -2, -8],\n",
    "    [7, -3, 1]\n",
    "])\n",
    "\n",
    "w12 = np.array([[7, 5, -6]])\n",
    "\n",
    "red1  = ForwardProg(w11,w12)\n",
    "red1.ite_propagation(x1,True)"
   ]
  },
  {
   "cell_type": "code",
   "execution_count": null,
   "metadata": {},
   "outputs": [],
   "source": []
  },
  {
   "cell_type": "markdown",
   "metadata": {},
   "source": [
    "<center><img src=\"diagrama2.png\"/> </center>"
   ]
  },
  {
   "cell_type": "code",
   "execution_count": 74,
   "metadata": {},
   "outputs": [
    {
     "data": {
      "text/plain": [
       "array([[0.78815037],\n",
       "       [0.70056714],\n",
       "       [0.74661477],\n",
       "       [0.75329089],\n",
       "       [0.83640392],\n",
       "       [0.84499949]])"
      ]
     },
     "execution_count": 74,
     "metadata": {},
     "output_type": "execute_result"
    }
   ],
   "source": [
    "x2 = np.array([\n",
    " [1, 1],\n",
    " [0, 0],\n",
    " [0, 1],    \n",
    " [1, 0],\n",
    " [2, 4],    \n",
    " [3, 9],\n",
    "])\n",
    "\n",
    "w21 = np.array([\n",
    "    [8, 0.2],\n",
    "    [0.4, 0.9],\n",
    "    [0.3, 0.5]\n",
    "])\n",
    "\n",
    "w22 = np.array([[0.3, 0.5, 0.9]])\n",
    "\n",
    "red2  = ForwardProg(w21,w22)\n",
    "red2.ite_propagation(x2)"
   ]
  },
  {
   "cell_type": "code",
   "execution_count": null,
   "metadata": {},
   "outputs": [],
   "source": []
  },
  {
   "cell_type": "markdown",
   "metadata": {},
   "source": [
    "<img src=\"diagrama3.png\"/>"
   ]
  },
  {
   "cell_type": "code",
   "execution_count": 76,
   "metadata": {},
   "outputs": [
    {
     "ename": "ValueError",
     "evalue": "matmul: Input operand 1 has a mismatch in its core dimension 0, with gufunc signature (n?,k),(k,m?)->(n?,m?) (size 3 is different from 2)",
     "output_type": "error",
     "traceback": [
      "\u001b[1;31m---------------------------------------------------------------------------\u001b[0m",
      "\u001b[1;31mValueError\u001b[0m                                Traceback (most recent call last)",
      "\u001b[1;32m<ipython-input-76-09db9b526662>\u001b[0m in \u001b[0;36m<module>\u001b[1;34m\u001b[0m\n\u001b[0;32m     16\u001b[0m \u001b[1;33m\u001b[0m\u001b[0m\n\u001b[0;32m     17\u001b[0m \u001b[0mred3\u001b[0m  \u001b[1;33m=\u001b[0m \u001b[0mForwardProg\u001b[0m\u001b[1;33m(\u001b[0m\u001b[0mw31\u001b[0m\u001b[1;33m,\u001b[0m\u001b[0mw32\u001b[0m\u001b[1;33m)\u001b[0m\u001b[1;33m\u001b[0m\u001b[1;33m\u001b[0m\u001b[0m\n\u001b[1;32m---> 18\u001b[1;33m \u001b[0mred3\u001b[0m\u001b[1;33m.\u001b[0m\u001b[0mite_propagation\u001b[0m\u001b[1;33m(\u001b[0m\u001b[0mx3\u001b[0m\u001b[1;33m)\u001b[0m\u001b[1;33m\u001b[0m\u001b[1;33m\u001b[0m\u001b[0m\n\u001b[0m",
      "\u001b[1;32m<ipython-input-71-e97db8f7d118>\u001b[0m in \u001b[0;36mite_propagation\u001b[1;34m(self, x, add_sesgo)\u001b[0m\n\u001b[0;32m     25\u001b[0m         \u001b[1;31m#print(hidden.shape)\u001b[0m\u001b[1;33m\u001b[0m\u001b[1;33m\u001b[0m\u001b[1;33m\u001b[0m\u001b[0m\n\u001b[0;32m     26\u001b[0m         \u001b[1;31m#print(self.wl2.shape)\u001b[0m\u001b[1;33m\u001b[0m\u001b[1;33m\u001b[0m\u001b[1;33m\u001b[0m\u001b[0m\n\u001b[1;32m---> 27\u001b[1;33m         \u001b[0msal\u001b[0m \u001b[1;33m=\u001b[0m \u001b[0mself\u001b[0m\u001b[1;33m.\u001b[0m\u001b[0msigmoid\u001b[0m\u001b[1;33m(\u001b[0m\u001b[0mnp\u001b[0m\u001b[1;33m.\u001b[0m\u001b[0mmatmul\u001b[0m\u001b[1;33m(\u001b[0m\u001b[0mhidden\u001b[0m\u001b[1;33m,\u001b[0m\u001b[0mself\u001b[0m\u001b[1;33m.\u001b[0m\u001b[0mwl2\u001b[0m\u001b[1;33m.\u001b[0m\u001b[0mT\u001b[0m\u001b[1;33m)\u001b[0m\u001b[1;33m)\u001b[0m\u001b[1;33m\u001b[0m\u001b[1;33m\u001b[0m\u001b[0m\n\u001b[0m\u001b[0;32m     28\u001b[0m         \u001b[1;31m#print(sal.shape)\u001b[0m\u001b[1;33m\u001b[0m\u001b[1;33m\u001b[0m\u001b[1;33m\u001b[0m\u001b[0m\n\u001b[0;32m     29\u001b[0m         \u001b[1;32mreturn\u001b[0m \u001b[0msal\u001b[0m\u001b[1;33m\u001b[0m\u001b[1;33m\u001b[0m\u001b[0m\n",
      "\u001b[1;31mValueError\u001b[0m: matmul: Input operand 1 has a mismatch in its core dimension 0, with gufunc signature (n?,k),(k,m?)->(n?,m?) (size 3 is different from 2)"
     ]
    }
   ],
   "source": [
    "x3 = np.array([\n",
    " [1, 1, 1],\n",
    " [0, 0, 1],\n",
    " [0, 1, 1],    \n",
    " [1, 0, 1],\n",
    " [2, 4, 1],    \n",
    " [3, 9, 1],\n",
    "])\n",
    "\n",
    "w31 = np.array([\n",
    "    [20, 20, -10],\n",
    "    [-20, -20, 30]\n",
    "])\n",
    "\n",
    "w32 = np.array([[20, 20, -30]])\n",
    "\n",
    "red3  = ForwardProg(w31,w32)\n",
    "red3.ite_propagation(x3)"
   ]
  },
  {
   "cell_type": "code",
   "execution_count": null,
   "metadata": {},
   "outputs": [],
   "source": []
  },
  {
   "cell_type": "code",
   "execution_count": null,
   "metadata": {},
   "outputs": [],
   "source": []
  },
  {
   "cell_type": "code",
   "execution_count": 2,
   "metadata": {},
   "outputs": [],
   "source": [
    "wc1 = np.array([\n",
    "    [0.9, 0.8, 0.1],\n",
    "    [0.3, 0.5, 0.6],\n",
    "    [0.2, 0.4, 0.7]])\n",
    "\n",
    "wc2 = np.array([0.3, 0.5, 0.9])"
   ]
  },
  {
   "cell_type": "code",
   "execution_count": 3,
   "metadata": {},
   "outputs": [],
   "source": [
    "x = np.array([\n",
    "    [1, 0, 1],\n",
    "    [1, 2, 3],\n",
    "    [4, 5, 6],\n",
    "    [6, 7, 8],\n",
    "])"
   ]
  },
  {
   "cell_type": "code",
   "execution_count": 6,
   "metadata": {},
   "outputs": [
    {
     "data": {
      "text/plain": [
       "array([0.77387413, 0.83403412, 0.84538425, 0.84552612])"
      ]
     },
     "execution_count": 6,
     "metadata": {},
     "output_type": "execute_result"
    }
   ],
   "source": [
    "H = np.matmul(x,wc1)\n",
    "A = sigmoid(H)\n",
    "h2 = np.matmul(A,wc2)\n",
    "y_aprox = sigmoid(h2)\n",
    "y_aprox"
   ]
  }
 ],
 "metadata": {
  "kernelspec": {
   "display_name": "Python 3",
   "language": "python",
   "name": "python3"
  },
  "language_info": {
   "codemirror_mode": {
    "name": "ipython",
    "version": 3
   },
   "file_extension": ".py",
   "mimetype": "text/x-python",
   "name": "python",
   "nbconvert_exporter": "python",
   "pygments_lexer": "ipython3",
   "version": "3.7.4"
  }
 },
 "nbformat": 4,
 "nbformat_minor": 4
}
