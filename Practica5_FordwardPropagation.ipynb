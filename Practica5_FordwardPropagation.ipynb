{
 "cells": [
  {
   "cell_type": "markdown",
   "metadata": {},
   "source": [
    "## Practica 5\n",
    "#### Forward propagation y representacion intermedia\n",
    "\n",
    "Creacion de Fordward propagation de las graficas"
   ]
  },
  {
   "cell_type": "code",
   "execution_count": 94,
   "metadata": {},
   "outputs": [],
   "source": [
    "import numpy as np\n",
    "import matplotlib.pyplot as plt\n",
    "import seaborn as sb"
   ]
  },
  {
   "cell_type": "code",
   "execution_count": 4,
   "metadata": {},
   "outputs": [],
   "source": [
    "\n"
   ]
  },
  {
   "cell_type": "code",
   "execution_count": 87,
   "metadata": {},
   "outputs": [],
   "source": [
    "class ForwardProg:\n",
    "    def __init__(self, w1, w2):    \n",
    "        self.wl1 = w1\n",
    "        self.wl2 = w2\n",
    "        self.hidden = None\n",
    "\n",
    "    def sigmoid(self,x):\n",
    "        return 1/(1+np.exp(-x))\n",
    "    \n",
    "    def ite_propagation(self,x, add_sesgo= False):\n",
    "        print(x.shape)\n",
    "        print(self.wl1.shape)\n",
    "        hidden = self.sigmoid(np.matmul(x,self.wl1.T))\n",
    "        self.hidden = hidden\n",
    "        #print(hidden.shape)\n",
    "        if add_sesgo:\n",
    "            largo = hidden.shape[0]\n",
    "            sesgo = np.ones(largo).reshape(largo,1)\n",
    "            #print(sesgo.shape)\n",
    "            #print(hidden.shape)\n",
    "            hidden = np.hstack((hidden,sesgo))\n",
    "            #print(hidden.shape)\n",
    "        print(hidden.shape)\n",
    "        print(self.wl2.shape)\n",
    "        sal = self.sigmoid(np.matmul(hidden,self.wl2.T))\n",
    "        #print(sal.shape)\n",
    "        return sal\n",
    "    \n",
    "    def get_hidden(self):\n",
    "        return self.hidden"
   ]
  },
  {
   "cell_type": "markdown",
   "metadata": {},
   "source": [
    "<img src=\"diagrama1.PNG\"/>"
   ]
  },
  {
   "cell_type": "code",
   "execution_count": 164,
   "metadata": {},
   "outputs": [
    {
     "name": "stdout",
     "output_type": "stream",
     "text": [
      "(4, 3)\n",
      "(2, 3)\n",
      "(4, 3)\n",
      "(1, 3)\n"
     ]
    },
    {
     "data": {
      "text/plain": [
       "array([[0.33617605],\n",
       "       [0.27158134],\n",
       "       [0.00447989],\n",
       "       [0.99752738]])"
      ]
     },
     "execution_count": 164,
     "metadata": {},
     "output_type": "execute_result"
    }
   ],
   "source": [
    "x1 = np.array([\n",
    " [5, 10, 1],\n",
    " [1, 1, 1],\n",
    " [0, 1, 1],    \n",
    " [10, 5, 1],\n",
    "])\n",
    "\n",
    "w11 = np.array([\n",
    "    [5, -2, -8],\n",
    "    [7, -3, 1]\n",
    "])\n",
    "\n",
    "w12 = np.array([[7, 5, -6]])\n",
    "\n",
    "red1  = ForwardProg(w11,w12)\n",
    "y_1 = red1.ite_propagation(x1,True)\n",
    "y_1"
   ]
  },
  {
   "cell_type": "code",
   "execution_count": 166,
   "metadata": {},
   "outputs": [],
   "source": [
    "color1 = (y_1>0.5).astype(int)"
   ]
  },
  {
   "cell_type": "markdown",
   "metadata": {},
   "source": [
    "<img src=\"diagrama2.PNG\"/>"
   ]
  },
  {
   "cell_type": "code",
   "execution_count": 190,
   "metadata": {},
   "outputs": [
    {
     "name": "stdout",
     "output_type": "stream",
     "text": [
      "(6, 2)\n",
      "(3, 2)\n",
      "(6, 3)\n",
      "(1, 3)\n"
     ]
    },
    {
     "data": {
      "text/plain": [
       "array([[0.78815037],\n",
       "       [0.70056714],\n",
       "       [0.74661477],\n",
       "       [0.75329089],\n",
       "       [0.50700419],\n",
       "       [0.50000685]])"
      ]
     },
     "execution_count": 190,
     "metadata": {},
     "output_type": "execute_result"
    }
   ],
   "source": [
    "x2 = np.array([\n",
    " [1, 1],\n",
    " [0, 0],\n",
    " [0, 1],    \n",
    " [1, 0],\n",
    " [-12, 0],    \n",
    " [-3, -19],\n",
    "])\n",
    "\n",
    "w21 = np.array([\n",
    "    [8, 0.2],\n",
    "    [0.4, 0.9],\n",
    "    [0.3, 0.5]\n",
    "])\n",
    "\n",
    "w22 = np.array([[0.3, 0.5, 0.9]])\n",
    "\n",
    "red2  = ForwardProg(w21,w22)\n",
    "y_2 = red2.ite_propagation(x2)\n",
    "y_2"
   ]
  },
  {
   "cell_type": "code",
   "execution_count": 191,
   "metadata": {},
   "outputs": [],
   "source": [
    "color2 = (y_2>0.6).astype(int)"
   ]
  },
  {
   "cell_type": "markdown",
   "metadata": {},
   "source": [
    "<img src=\"diagrama3.PNG\"/>"
   ]
  },
  {
   "cell_type": "code",
   "execution_count": 170,
   "metadata": {},
   "outputs": [
    {
     "name": "stdout",
     "output_type": "stream",
     "text": [
      "(4, 3)\n",
      "(2, 3)\n",
      "(4, 3)\n",
      "(1, 3)\n"
     ]
    },
    {
     "data": {
      "text/plain": [
       "array([[4.54391049e-05],\n",
       "       [4.54391049e-05],\n",
       "       [9.99954520e-01],\n",
       "       [9.99954520e-01]])"
      ]
     },
     "execution_count": 170,
     "metadata": {},
     "output_type": "execute_result"
    }
   ],
   "source": [
    "x3 = np.array([\n",
    " [1, 1, 1],\n",
    " [0, 0, 1],\n",
    " [0, 1, 1],    \n",
    " [1, 0, 1],\n",
    "])\n",
    "\n",
    "w31 = np.array([\n",
    "    [20, 20, -10],\n",
    "    [-20, -20, 30]\n",
    "])\n",
    "\n",
    "w32 = np.array([[20, 20, -30]])\n",
    "\n",
    "red3  = ForwardProg(w31,w32)\n",
    "y_3 = red3.ite_propagation(x3,True)\n",
    "y_3"
   ]
  },
  {
   "cell_type": "code",
   "execution_count": 171,
   "metadata": {},
   "outputs": [
    {
     "data": {
      "text/plain": [
       "array([0, 0, 1, 1])"
      ]
     },
     "execution_count": 171,
     "metadata": {},
     "output_type": "execute_result"
    }
   ],
   "source": [
    "color3 = (y_3>0.5).astype(int)\n",
    "color3.T[0]"
   ]
  },
  {
   "cell_type": "code",
   "execution_count": null,
   "metadata": {},
   "outputs": [],
   "source": []
  },
  {
   "cell_type": "markdown",
   "metadata": {},
   "source": [
    "### Representacion de datos intermedios"
   ]
  },
  {
   "cell_type": "code",
   "execution_count": 172,
   "metadata": {},
   "outputs": [
    {
     "data": {
      "image/png": "[encoded data removed]",
      "text/plain": [
       "<Figure size 432x288 with 1 Axes>"
      ]
     },
     "metadata": {
      "needs_background": "light"
     },
     "output_type": "display_data"
    }
   ],
   "source": [
    "# Grafico 1\n",
    "ax = sb.scatterplot(x=red1.hidden[:,0], y=red1.hidden[:,1],s=75, hue=color1.T[0])"
   ]
  },
  {
   "cell_type": "code",
   "execution_count": 194,
   "metadata": {},
   "outputs": [
    {
     "data": {
      "image/png": "[encoded data removed]",
      "text/plain": [
       "<Figure size 432x288 with 1 Axes>"
      ]
     },
     "metadata": {
      "needs_background": "light"
     },
     "output_type": "display_data"
    }
   ],
   "source": [
    "# Grafico 2\n",
    "ax = sb.scatterplot(x=red2.hidden[:,0], y=red2.hidden[:,1],s=75, hue=color2.T[0])"
   ]
  },
  {
   "cell_type": "markdown",
   "metadata": {},
   "source": [
    "Grafico 3, asociado a la funcion de xor"
   ]
  },
  {
   "cell_type": "code",
   "execution_count": 196,
   "metadata": {},
   "outputs": [
    {
     "data": {
      "image/png": "[encoded data removed]",
      "text/plain": [
       "<Figure size 432x288 with 1 Axes>"
      ]
     },
     "metadata": {
      "needs_background": "light"
     },
     "output_type": "display_data"
    }
   ],
   "source": [
    "# Grafico 3\n",
    "ax = sb.scatterplot(x=red3.hidden[:,0], y=red3.hidden[:,1],s=75, hue=color3.T[0])"
   ]
  },
  {
   "cell_type": "code",
   "execution_count": 163,
   "metadata": {},
   "outputs": [
    {
     "data": {
      "image/png": "[encoded data removed]",
      "text/plain": [
       "<Figure size 432x288 with 1 Axes>"
      ]
     },
     "metadata": {
      "needs_background": "light"
     },
     "output_type": "display_data"
    }
   ],
   "source": [
    "#### Datos originales\n",
    "ax_o = sb.scatterplot(x=x3[:,0], y=x3[:,1],s=75, hue=color3.T[0])\n"
   ]
  },
  {
   "cell_type": "markdown",
   "metadata": {},
   "source": [
    "### Conclusiones"
   ]
  },
  {
   "cell_type": "markdown",
   "metadata": {},
   "source": [
    "El analisis de la ultima grafica en cuanto a sus datos intermedios es que ahora es posible separarlos linealmente.  La trasformacion que sufren los datos durante el proceso los proyecta a un plano distinto al inicial, debido a la cantidad de datos y neuronas es facilmente representable comparado con su ingreso.\n",
    "\n",
    "Debido a que todas las neuronas pasan por su funcion de activacion (sigmoid en este caso), todas estan en un rango de 0 a 1 y es posible separarlas por valores de este rango sin importar la entrada o cantidad de datos."
   ]
  },
  {
   "cell_type": "code",
   "execution_count": null,
   "metadata": {},
   "outputs": [],
   "source": []
  },
  {
   "cell_type": "code",
   "execution_count": null,
   "metadata": {},
   "outputs": [],
   "source": []
  }
 ],
 "metadata": {
  "kernelspec": {
   "display_name": "Python 3",
   "language": "python",
   "name": "python3"
  },
  "language_info": {
   "codemirror_mode": {
    "name": "ipython",
    "version": 3
   },
   "file_extension": ".py",
   "mimetype": "text/x-python",
   "name": "python",
   "nbconvert_exporter": "python",
   "pygments_lexer": "ipython3",
   "version": "3.7.4"
  }
 },
 "nbformat": 4,
 "nbformat_minor": 4
}
