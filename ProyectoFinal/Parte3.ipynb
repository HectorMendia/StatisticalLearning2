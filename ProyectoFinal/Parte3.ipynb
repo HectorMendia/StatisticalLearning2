{
 "cells": [
  {
   "cell_type": "markdown",
   "metadata": {},
   "source": [
    "## Recurrent Neural Network\n",
    "\n",
    "\n",
    "Clasificacion de FakeNews de si son reales o falsas\n",
    "\n",
    "Dataset:\n",
    "\n",
    "https://www.kaggle.com/c/fake-news/overview\n",
    "\n",
    "Se esta trabajando con todo el dataset, en la parte incial realizando una tokenizacion del texto, posteriormente se realiza el modelo utilizando word2vec preentrenado de una base de datos de GoogleNews\n",
    "\n",
    "https://code.google.com/archive/p/word2vec/   (The model contains 300-dimensional vectors for 3 million words and phrases), con un peso de mas de 3.3Gb en disco\n",
    "\n"
   ]
  },
  {
   "cell_type": "code",
   "execution_count": 68,
   "metadata": {},
   "outputs": [],
   "source": [
    "import os\n",
    "import numpy as np\n",
    "import pandas as pd\n",
    "import datetime\n",
    "import numpy as np\n",
    "from datetime import datetime\n",
    "import matplotlib.pyplot as plt\n",
    "\n",
    "import tensorflow as tf\n",
    "import keras as keras\n",
    "from keras import backend as K\n",
    "from tensorflow.keras.preprocessing.text import Tokenizer\n",
    "from tensorflow.keras.preprocessing.sequence import pad_sequences\n",
    "\n",
    "from tensorflow.keras.layers import Dense,BatchNormalization\n",
    "from tensorflow.keras.layers import Dropout\n",
    "from tensorflow.keras.layers import Bidirectional\n",
    "from tensorflow.keras.layers import Embedding\n",
    "from tensorflow.keras.layers import LSTM\n",
    "from tensorflow.keras.layers import Input\n",
    "from tensorflow.keras.models import Sequential\n",
    "from tensorflow.keras import optimizers\n",
    "from tensorflow.python.keras.optimizers import TFOptimizer\n",
    "from tensorflow.keras.callbacks import ModelCheckpoint\n",
    "\n",
    "from sklearn.model_selection import train_test_split\n",
    "from sklearn.metrics import confusion_matrix\n",
    "from sklearn.metrics import accuracy_score"
   ]
  },
  {
   "cell_type": "code",
   "execution_count": 45,
   "metadata": {},
   "outputs": [
    {
     "name": "stdout",
     "output_type": "stream",
     "text": [
      "2.1.0\n",
      "2.3.1\n"
     ]
    }
   ],
   "source": [
    "print(tf.__version__)\n",
    "print(keras.__version__)"
   ]
  },
  {
   "cell_type": "markdown",
   "metadata": {},
   "source": [
    "### Carga de datos y exploracion de datos"
   ]
  },
  {
   "cell_type": "code",
   "execution_count": 2,
   "metadata": {},
   "outputs": [
    {
     "data": {
      "text/html": [
       "<div>\n",
       "<style scoped>\n",
       "    .dataframe tbody tr th:only-of-type {\n",
       "        vertical-align: middle;\n",
       "    }\n",
       "\n",
       "    .dataframe tbody tr th {\n",
       "        vertical-align: top;\n",
       "    }\n",
       "\n",
       "    .dataframe thead th {\n",
       "        text-align: right;\n",
       "    }\n",
       "</style>\n",
       "<table border=\"1\" class=\"dataframe\">\n",
       "  <thead>\n",
       "    <tr style=\"text-align: right;\">\n",
       "      <th></th>\n",
       "      <th>id</th>\n",
       "      <th>title</th>\n",
       "      <th>author</th>\n",
       "      <th>text</th>\n",
       "      <th>label</th>\n",
       "    </tr>\n",
       "  </thead>\n",
       "  <tbody>\n",
       "    <tr>\n",
       "      <th>0</th>\n",
       "      <td>0</td>\n",
       "      <td>House Dem Aide: We Didn’t Even See Comey’s Let...</td>\n",
       "      <td>Darrell Lucus</td>\n",
       "      <td>House Dem Aide: We Didn’t Even See Comey’s Let...</td>\n",
       "      <td>1</td>\n",
       "    </tr>\n",
       "    <tr>\n",
       "      <th>1</th>\n",
       "      <td>1</td>\n",
       "      <td>FLYNN: Hillary Clinton, Big Woman on Campus - ...</td>\n",
       "      <td>Daniel J. Flynn</td>\n",
       "      <td>Ever get the feeling your life circles the rou...</td>\n",
       "      <td>0</td>\n",
       "    </tr>\n",
       "    <tr>\n",
       "      <th>2</th>\n",
       "      <td>2</td>\n",
       "      <td>Why the Truth Might Get You Fired</td>\n",
       "      <td>Consortiumnews.com</td>\n",
       "      <td>Why the Truth Might Get You Fired October 29, ...</td>\n",
       "      <td>1</td>\n",
       "    </tr>\n",
       "    <tr>\n",
       "      <th>3</th>\n",
       "      <td>3</td>\n",
       "      <td>15 Civilians Killed In Single US Airstrike Hav...</td>\n",
       "      <td>Jessica Purkiss</td>\n",
       "      <td>Videos 15 Civilians Killed In Single US Airstr...</td>\n",
       "      <td>1</td>\n",
       "    </tr>\n",
       "    <tr>\n",
       "      <th>4</th>\n",
       "      <td>4</td>\n",
       "      <td>Iranian woman jailed for fictional unpublished...</td>\n",
       "      <td>Howard Portnoy</td>\n",
       "      <td>Print \\nAn Iranian woman has been sentenced to...</td>\n",
       "      <td>1</td>\n",
       "    </tr>\n",
       "  </tbody>\n",
       "</table>\n",
       "</div>"
      ],
      "text/plain": [
       "   id                                              title              author  \\\n",
       "0   0  House Dem Aide: We Didn’t Even See Comey’s Let...       Darrell Lucus   \n",
       "1   1  FLYNN: Hillary Clinton, Big Woman on Campus - ...     Daniel J. Flynn   \n",
       "2   2                  Why the Truth Might Get You Fired  Consortiumnews.com   \n",
       "3   3  15 Civilians Killed In Single US Airstrike Hav...     Jessica Purkiss   \n",
       "4   4  Iranian woman jailed for fictional unpublished...      Howard Portnoy   \n",
       "\n",
       "                                                text  label  \n",
       "0  House Dem Aide: We Didn’t Even See Comey’s Let...      1  \n",
       "1  Ever get the feeling your life circles the rou...      0  \n",
       "2  Why the Truth Might Get You Fired October 29, ...      1  \n",
       "3  Videos 15 Civilians Killed In Single US Airstr...      1  \n",
       "4  Print \\nAn Iranian woman has been sentenced to...      1  "
      ]
     },
     "execution_count": 2,
     "metadata": {},
     "output_type": "execute_result"
    }
   ],
   "source": [
    "df=pd.read_csv('train.csv')\n",
    "df.head(5)"
   ]
  },
  {
   "cell_type": "code",
   "execution_count": 3,
   "metadata": {},
   "outputs": [],
   "source": [
    "#remover vacios\n",
    "df=df.dropna()"
   ]
  },
  {
   "cell_type": "code",
   "execution_count": 4,
   "metadata": {},
   "outputs": [
    {
     "data": {
      "text/plain": [
       "(18285,)"
      ]
     },
     "execution_count": 4,
     "metadata": {},
     "output_type": "execute_result"
    }
   ],
   "source": [
    "y = df['label']\n",
    "y.shape"
   ]
  },
  {
   "cell_type": "code",
   "execution_count": 5,
   "metadata": {},
   "outputs": [
    {
     "name": "stdout",
     "output_type": "stream",
     "text": [
      "(18285,)\n"
     ]
    },
    {
     "data": {
      "text/plain": [
       "'House Dem Aide: We Didn’t Even See Comey’s Letter Until Jason Chaffetz Tweeted It'"
      ]
     },
     "execution_count": 5,
     "metadata": {},
     "output_type": "execute_result"
    }
   ],
   "source": [
    "x = df['title']\n",
    "print(x.shape)\n",
    "x[0]"
   ]
  },
  {
   "cell_type": "code",
   "execution_count": 6,
   "metadata": {},
   "outputs": [],
   "source": [
    "length = []\n",
    "[length.append(len(str(text))) for text in df['title']]\n",
    "df['largo'] = length\n"
   ]
  },
  {
   "cell_type": "code",
   "execution_count": 7,
   "metadata": {},
   "outputs": [],
   "source": [
    "#df[df['largo']<10]"
   ]
  },
  {
   "cell_type": "code",
   "execution_count": 8,
   "metadata": {},
   "outputs": [
    {
     "data": {
      "text/plain": [
       "75"
      ]
     },
     "execution_count": 8,
     "metadata": {},
     "output_type": "execute_result"
    }
   ],
   "source": [
    "round(sum(df['largo'])/len(df['largo']))"
   ]
  },
  {
   "cell_type": "markdown",
   "metadata": {},
   "source": [
    "### Tokenizacion"
   ]
  },
  {
   "cell_type": "code",
   "execution_count": 9,
   "metadata": {},
   "outputs": [],
   "source": [
    "max_features = 1000\n",
    "\n",
    "tokenizer = Tokenizer(num_words = max_features, filters='!\"#$%&()*+,-./:;<=>?@[\\\\]^_`{|}~\\t\\n', lower = True, split = ' ')\n",
    "tokenizer.fit_on_texts(texts = x)\n",
    "X = tokenizer.texts_to_sequences(texts = x)"
   ]
  },
  {
   "cell_type": "code",
   "execution_count": 10,
   "metadata": {},
   "outputs": [
    {
     "name": "stdout",
     "output_type": "stream",
     "text": [
      "Total de tokens: 25794 \n"
     ]
    }
   ],
   "source": [
    "word_index = tokenizer.word_index\n",
    "print('Total de tokens: {} '.format(len(word_index)))"
   ]
  },
  {
   "cell_type": "code",
   "execution_count": 11,
   "metadata": {},
   "outputs": [],
   "source": [
    "X = pad_sequences(sequences = X, maxlen = max_features, padding = 'pre')"
   ]
  },
  {
   "cell_type": "code",
   "execution_count": 12,
   "metadata": {},
   "outputs": [
    {
     "data": {
      "text/plain": [
       "'House Dem Aide: We Didn’t Even See Comey’s Letter Until Jason Chaffetz Tweeted It'"
      ]
     },
     "execution_count": 12,
     "metadata": {},
     "output_type": "execute_result"
    }
   ],
   "source": [
    "x[0]"
   ]
  },
  {
   "cell_type": "code",
   "execution_count": 13,
   "metadata": {},
   "outputs": [
    {
     "data": {
      "text/plain": [
       "(18285, 1000)"
      ]
     },
     "execution_count": 13,
     "metadata": {},
     "output_type": "execute_result"
    }
   ],
   "source": [
    "X.shape\n",
    "#X[0]"
   ]
  },
  {
   "cell_type": "code",
   "execution_count": 14,
   "metadata": {},
   "outputs": [
    {
     "data": {
      "text/plain": [
       "1000"
      ]
     },
     "execution_count": 14,
     "metadata": {},
     "output_type": "execute_result"
    }
   ],
   "source": [
    "vocabulary_size=min(len(word_index)+1,max_features)\n",
    "vocabulary_size"
   ]
  },
  {
   "cell_type": "code",
   "execution_count": 59,
   "metadata": {},
   "outputs": [],
   "source": [
    "# Fucniones adicionales\n",
    "def recall_m(y_true, y_pred):\n",
    "    true_positives = K.sum(K.round(K.clip(y_true * y_pred, 0, 1)))\n",
    "    possible_positives = K.sum(K.round(K.clip(y_true, 0, 1)))\n",
    "    recall = true_positives / (possible_positives + K.epsilon())\n",
    "    return recall\n",
    "\n",
    "def precision_m(y_true, y_pred):\n",
    "    true_positives = K.sum(K.round(K.clip(y_true * y_pred, 0, 1)))\n",
    "    predicted_positives = K.sum(K.round(K.clip(y_pred, 0, 1)))\n",
    "    precision = true_positives / (predicted_positives + K.epsilon())\n",
    "    return precision\n",
    "\n",
    "def f1_m(y_true, y_pred):\n",
    "    precision = precision_m(y_true, y_pred)\n",
    "    recall = recall_m(y_true, y_pred)\n",
    "    return 2*((precision*recall)/(precision+recall+K.epsilon()))\n",
    "\n",
    "checkpoint_path = 'cnn.ckpt'\n",
    "checkpoint_dir = os.path.dirname(checkpoint_path)\n",
    "\n",
    "save_prog = ModelCheckpoint(\n",
    "    filepath = checkpoint_path,\n",
    "    verbose = 1,\n",
    "    save_weights_only =True,\n",
    "    save_freq=5\n",
    ")"
   ]
  },
  {
   "cell_type": "markdown",
   "metadata": {},
   "source": [
    "#### Modelo 1 LSTM"
   ]
  },
  {
   "cell_type": "code",
   "execution_count": 19,
   "metadata": {},
   "outputs": [],
   "source": [
    "lstm1 = Sequential(name='lstm')\n",
    "lstm1.add(Embedding(input_dim = max_features, output_dim =  32))\n",
    "lstm1.add(Bidirectional(tf.keras.layers.LSTM(32)))\n",
    "lstm1.add(Dense(32, activation='relu'))\n",
    "lstm1.add(Dense(1))"
   ]
  },
  {
   "cell_type": "code",
   "execution_count": 20,
   "metadata": {},
   "outputs": [
    {
     "name": "stdout",
     "output_type": "stream",
     "text": [
      "Model: \"lstm\"\n",
      "_________________________________________________________________\n",
      "Layer (type)                 Output Shape              Param #   \n",
      "=================================================================\n",
      "embedding_2 (Embedding)      (None, None, 32)          32000     \n",
      "_________________________________________________________________\n",
      "bidirectional_2 (Bidirection (None, 64)                16640     \n",
      "_________________________________________________________________\n",
      "dense_4 (Dense)              (None, 32)                2080      \n",
      "_________________________________________________________________\n",
      "dense_5 (Dense)              (None, 1)                 33        \n",
      "=================================================================\n",
      "Total params: 50,753\n",
      "Trainable params: 50,753\n",
      "Non-trainable params: 0\n",
      "_________________________________________________________________\n"
     ]
    }
   ],
   "source": [
    "lstm1.summary()"
   ]
  },
  {
   "cell_type": "code",
   "execution_count": 21,
   "metadata": {},
   "outputs": [],
   "source": [
    "lstm1.compile(loss='binary_crossentropy', optimizer='adam',metrics=['accuracy'])"
   ]
  },
  {
   "cell_type": "code",
   "execution_count": 22,
   "metadata": {},
   "outputs": [
    {
     "name": "stdout",
     "output_type": "stream",
     "text": [
      "Train on 18285 samples\n",
      "Epoch 1/3\n",
      "18285/18285 [==============================] - 52s 3ms/sample - loss: 0.3079 - accuracy: 0.8870\n",
      "Epoch 2/3\n",
      "18285/18285 [==============================] - 48s 3ms/sample - loss: 0.2581 - accuracy: 0.8946\n",
      "Epoch 3/3\n",
      "18285/18285 [==============================] - 48s 3ms/sample - loss: 0.1926 - accuracy: 0.9289\n"
     ]
    }
   ],
   "source": [
    "history = lstm1.fit(X,y, epochs=3,\n",
    "                    #validation_split=0.2,\n",
    "                    #validation_steps=30,\n",
    "                    verbose=1)"
   ]
  },
  {
   "cell_type": "markdown",
   "metadata": {},
   "source": [
    "#### Modelo 2 LSTM"
   ]
  },
  {
   "cell_type": "code",
   "execution_count": 15,
   "metadata": {},
   "outputs": [
    {
     "name": "stdout",
     "output_type": "stream",
     "text": [
      "Model: \"lstm2\"\n",
      "_________________________________________________________________\n",
      "Layer (type)                 Output Shape              Param #   \n",
      "=================================================================\n",
      "embedding (Embedding)        (None, None, 32)          32000     \n",
      "_________________________________________________________________\n",
      "bidirectional (Bidirectional (None, None, 64)          16640     \n",
      "_________________________________________________________________\n",
      "bidirectional_1 (Bidirection (None, 64)                24832     \n",
      "_________________________________________________________________\n",
      "dense (Dense)                (None, 32)                2080      \n",
      "_________________________________________________________________\n",
      "dropout (Dropout)            (None, 32)                0         \n",
      "_________________________________________________________________\n",
      "dense_1 (Dense)              (None, 1)                 33        \n",
      "=================================================================\n",
      "Total params: 75,585\n",
      "Trainable params: 75,585\n",
      "Non-trainable params: 0\n",
      "_________________________________________________________________\n"
     ]
    }
   ],
   "source": [
    "lstm2 = Sequential(name='lstm2')\n",
    "lstm2.add(Embedding(input_dim = max_features, output_dim =  32))\n",
    "lstm2.add(Bidirectional(tf.keras.layers.LSTM(32,  return_sequences=True)))\n",
    "lstm2.add(Bidirectional(tf.keras.layers.LSTM(32))),\n",
    "lstm2.add(Dense(32, activation='relu'))\n",
    "lstm2.add(Dropout(0.5))\n",
    "lstm2.add(Dense(1))\n",
    "lstm2.summary()"
   ]
  },
  {
   "cell_type": "code",
   "execution_count": 16,
   "metadata": {},
   "outputs": [],
   "source": [
    "lstm2.compile(loss='binary_crossentropy', optimizer=optimizers.Adam(lr=1e-3),metrics=['accuracy'])"
   ]
  },
  {
   "cell_type": "code",
   "execution_count": 17,
   "metadata": {},
   "outputs": [
    {
     "name": "stdout",
     "output_type": "stream",
     "text": [
      "Train on 14628 samples, validate on 3657 samples\n",
      "Epoch 1/5\n",
      "14628/14628 [==============================] - 87s 6ms/sample - loss: 0.5289 - accuracy: 0.8081 - val_loss: 0.3070 - val_accuracy: 0.9169\n",
      "Epoch 2/5\n",
      "14628/14628 [==============================] - 82s 6ms/sample - loss: 0.4108 - accuracy: 0.8360 - val_loss: 0.3245 - val_accuracy: 0.9155\n",
      "Epoch 3/5\n",
      "14628/14628 [==============================] - 82s 6ms/sample - loss: 0.3120 - accuracy: 0.8867 - val_loss: 0.2851 - val_accuracy: 0.8969\n",
      "Epoch 4/5\n",
      "14628/14628 [==============================] - 81s 6ms/sample - loss: 0.3150 - accuracy: 0.9076 - val_loss: 0.2819 - val_accuracy: 0.9177\n",
      "Epoch 5/5\n",
      "14628/14628 [==============================] - 81s 6ms/sample - loss: 0.2761 - accuracy: 0.9005 - val_loss: 0.3421 - val_accuracy: 0.9218\n"
     ]
    }
   ],
   "source": [
    "history = lstm2.fit(X,y, epochs=5,\n",
    "                    validation_split=0.2,\n",
    "                    verbose=1)"
   ]
  },
  {
   "cell_type": "code",
   "execution_count": null,
   "metadata": {},
   "outputs": [],
   "source": []
  },
  {
   "cell_type": "code",
   "execution_count": 66,
   "metadata": {},
   "outputs": [],
   "source": [
    "X_train, X_test, y_train, y_test = train_test_split(X, y, test_size = 0.2, random_state = 101)"
   ]
  },
  {
   "cell_type": "markdown",
   "metadata": {},
   "source": [
    "### Carga de word2vec"
   ]
  },
  {
   "cell_type": "code",
   "execution_count": 41,
   "metadata": {},
   "outputs": [],
   "source": [
    "import gensim\n",
    "from gensim.models import Word2Vec\n",
    "from gensim.utils import simple_preprocess\n",
    "\n",
    "from gensim.models.keyedvectors import KeyedVectors"
   ]
  },
  {
   "cell_type": "code",
   "execution_count": 46,
   "metadata": {},
   "outputs": [],
   "source": [
    "word_vectors = KeyedVectors.load_word2vec_format('GoogleNews-vectors-negative300.bin', binary=True)"
   ]
  },
  {
   "cell_type": "code",
   "execution_count": 48,
   "metadata": {},
   "outputs": [],
   "source": [
    "EMBEDDING_DIM=300\n",
    "vocabulary_size=min(len(word_index)+1,max_features)\n",
    "embedding_matrix = np.zeros((vocabulary_size, EMBEDDING_DIM))\n",
    "for word, i in word_index.items():\n",
    "    if i>=max_features:\n",
    "        continue\n",
    "    try:\n",
    "        embedding_vector = word_vectors[word]\n",
    "        embedding_matrix[i] = embedding_vector\n",
    "    except KeyError:\n",
    "        embedding_matrix[i]=np.random.normal(0,np.sqrt(0.25),EMBEDDING_DIM)\n"
   ]
  },
  {
   "cell_type": "code",
   "execution_count": 49,
   "metadata": {},
   "outputs": [],
   "source": [
    "# vaciado para optimizar memoria\n",
    "del(word_vectors)"
   ]
  },
  {
   "cell_type": "code",
   "execution_count": 51,
   "metadata": {},
   "outputs": [],
   "source": [
    "EmbeddingLayer = Embedding(vocabulary_size,\n",
    "                            EMBEDDING_DIM,\n",
    "                            weights=[embedding_matrix],\n",
    "                            trainable=True)"
   ]
  },
  {
   "cell_type": "code",
   "execution_count": 56,
   "metadata": {},
   "outputs": [
    {
     "name": "stdout",
     "output_type": "stream",
     "text": [
      "Model: \"lstm2\"\n",
      "_________________________________________________________________\n",
      "Layer (type)                 Output Shape              Param #   \n",
      "=================================================================\n",
      "embedding_3 (Embedding)      (None, None, 300)         300000    \n",
      "_________________________________________________________________\n",
      "bidirectional_2 (Bidirection (None, None, 64)          85248     \n",
      "_________________________________________________________________\n",
      "bidirectional_3 (Bidirection (None, 64)                24832     \n",
      "_________________________________________________________________\n",
      "dense_2 (Dense)              (None, 32)                2080      \n",
      "_________________________________________________________________\n",
      "dropout_1 (Dropout)          (None, 32)                0         \n",
      "_________________________________________________________________\n",
      "dense_3 (Dense)              (None, 1)                 33        \n",
      "=================================================================\n",
      "Total params: 412,193\n",
      "Trainable params: 412,193\n",
      "Non-trainable params: 0\n",
      "_________________________________________________________________\n"
     ]
    }
   ],
   "source": [
    "## Modelo utilizando word2vec\n",
    "inputs = Input(shape=(X.shape[1],))\n",
    "\n",
    "lstm3 = Sequential(name='lstm2')\n",
    "lstm3.add(Embedding(vocabulary_size,\n",
    "                            EMBEDDING_DIM,\n",
    "                            weights=[embedding_matrix],\n",
    "                            trainable=True))\n",
    "lstm3.add(Bidirectional(tf.keras.layers.LSTM(32,  return_sequences=True)))\n",
    "lstm3.add(Bidirectional(tf.keras.layers.LSTM(32))),\n",
    "lstm3.add(Dense(32, activation='relu'))\n",
    "lstm3.add(Dropout(0.5))\n",
    "lstm3.add(Dense(1))\n",
    "lstm3.summary()"
   ]
  },
  {
   "cell_type": "code",
   "execution_count": 60,
   "metadata": {},
   "outputs": [],
   "source": [
    "lstm3.compile(loss='binary_crossentropy', optimizer=optimizers.Adam(lr=1e-3),metrics=['accuracy',f1_m,precision_m, recall_m])"
   ]
  },
  {
   "cell_type": "code",
   "execution_count": 61,
   "metadata": {},
   "outputs": [
    {
     "name": "stdout",
     "output_type": "stream",
     "text": [
      "Train on 14628 samples, validate on 3657 samples\n",
      "Epoch 1/10\n",
      "14628/14628 [==============================] - 104s 7ms/sample - loss: 0.4307 - accuracy: 0.8482 - f1_m: 0.7939 - precision_m: 0.8461 - recall_m: 0.7728 - val_loss: 0.6589 - val_accuracy: 0.6494 - val_f1_m: 0.3358 - val_precision_m: 0.9059 - val_recall_m: 0.2145- f1_m: 0.7591 - - ETA: 39s - loss: 0.4609 - accuracy: 0.8329 - f1_m: 0.7723 - precision_m: 0.8119 - recall_m: 0 - ETA: 38s - loss: 0.4608 - accuracy: 0.8314 - f1_m: 0.7677 - precision_m: 0.8148 - r - ETA: 35s - loss: 0.4548 - accuracy: 0.8322 - f1_m: 0.7698 -  - ETA: 27s - loss: 0.4396 - accuracy: 0.8332  - ETA: 15s - loss: 0.4377 - accuracy: 0.8409 - f1_m: 0.7854 - precision_m: 0.8395 - rec - ETA: 13s - loss: 0.4373 - accuracy: 0.8437 - f1_m: 0.7894 - precision_m: 0.8414 - re\n",
      "Epoch 2/10\n",
      "14628/14628 [==============================] - 101s 7ms/sample - loss: 0.3685 - accuracy: 0.8817 - f1_m: 0.8418 - precision_m: 0.8970 - recall_m: 0.8189 - val_loss: 0.3405 - val_accuracy: 0.9182 - val_f1_m: 0.9086 - val_precision_m: 0.8787 - val_recall_m: 0.9456m: - ETA: 46s - loss: 0.4122 - accuracy: 0.8663 - f1_m: 0.812 - ETA: 38s - loss: 0.3947 - accuracy: 0.8738 - f - ETA:\n",
      "Epoch 3/10\n",
      "14628/14628 [==============================] - 101s 7ms/sample - loss: 0.3090 - accuracy: 0.9068 - f1_m: 0.8834 - precision_m: 0.9123 - recall_m: 0.8686 - val_loss: 0.3213 - val_accuracy: 0.8439 - val_f1_m: 0.7927 - val_precision_m: 0.9467 - val_recall_m: 0.6921\n",
      "Epoch 4/10\n",
      "14628/14628 [==============================] - 101s 7ms/sample - loss: 0.3107 - accuracy: 0.9061 - f1_m: 0.8784 - precision_m: 0.9212 - recall_m: 0.8534 - val_loss: 0.3324 - val_accuracy: 0.8903 - val_f1_m: 0.8666 - val_precision_m: 0.9262 - val_recall_m: 0.8221\n",
      "Epoch 5/10\n",
      "14628/14628 [==============================] - 101s 7ms/sample - loss: 0.2848 - accuracy: 0.9251 - f1_m: 0.9069 - precision_m: 0.9221 - recall_m: 0.8997 - val_loss: 0.3620 - val_accuracy: 0.8996 - val_f1_m: 0.8759 - val_precision_m: 0.9365 - val_recall_m: 0.8309\n",
      "Epoch 6/10\n",
      "14628/14628 [==============================] - 101s 7ms/sample - loss: 0.2664 - accuracy: 0.9365 - f1_m: 0.9226 - precision_m: 0.9380 - recall_m: 0.9140 - val_loss: 0.3994 - val_accuracy: 0.9196 - val_f1_m: 0.9070 - val_precision_m: 0.9202 - val_recall_m: 0.8991\n",
      "Epoch 7/10\n",
      "14628/14628 [==============================] - 101s 7ms/sample - loss: 0.2474 - accuracy: 0.9374 - f1_m: 0.9230 - precision_m: 0.9312 - recall_m: 0.9215 - val_loss: 0.3527 - val_accuracy: 0.9264 - val_f1_m: 0.9150 - val_precision_m: 0.9102 - val_recall_m: 0.9251\n",
      "Epoch 8/10\n",
      "14628/14628 [==============================] - 101s 7ms/sample - loss: 0.2413 - accuracy: 0.9515 - f1_m: 0.9406 - precision_m: 0.9422 - recall_m: 0.9436 - val_loss: 0.4035 - val_accuracy: 0.9117 - val_f1_m: 0.8921 - val_precision_m: 0.9343 - val_recall_m: 0.8597\n",
      "Epoch 9/10\n",
      "14628/14628 [==============================] - 101s 7ms/sample - loss: 0.2408 - accuracy: 0.9530 - f1_m: 0.9434 - precision_m: 0.9521 - recall_m: 0.9392 - val_loss: 0.4762 - val_accuracy: 0.9270 - val_f1_m: 0.9166 - val_precision_m: 0.9151 - val_recall_m: 0.9224\n",
      "Epoch 10/10\n",
      "14628/14628 [==============================] - 101s 7ms/sample - loss: 0.2674 - accuracy: 0.9396 - f1_m: 0.9239 - precision_m: 0.9509 - recall_m: 0.9063 - val_loss: 0.4301 - val_accuracy: 0.9193 - val_f1_m: 0.9059 - val_precision_m: 0.9166 - val_recall_m: 0.9001\n"
     ]
    }
   ],
   "source": [
    "history3 = lstm3.fit(X,y, epochs=10,\n",
    "                    validation_split=0.2,\n",
    "                    verbose=1)"
   ]
  },
  {
   "cell_type": "code",
   "execution_count": 65,
   "metadata": {},
   "outputs": [
    {
     "data": {
      "image/png": "[encoded data removed]",
      "text/plain": [
       "<Figure size 432x288 with 1 Axes>"
      ]
     },
     "metadata": {
      "needs_background": "light"
     },
     "output_type": "display_data"
    },
    {
     "data": {
      "image/png": "[encoded data removed]",
      "text/plain": [
       "<Figure size 432x288 with 1 Axes>"
      ]
     },
     "metadata": {
      "needs_background": "light"
     },
     "output_type": "display_data"
    }
   ],
   "source": [
    "def plot_graphs(history, string):\n",
    "    plt.plot(history.history[string])\n",
    "    plt.plot(history.history['val_'+string])\n",
    "    plt.xlabel(\"Epochs\")\n",
    "    plt.ylabel(string)\n",
    "    plt.legend([string, 'val_'+string])\n",
    "    plt.show()\n",
    "\n",
    "plot_graphs(history3, 'accuracy')\n",
    "plot_graphs(history3, 'loss')"
   ]
  },
  {
   "cell_type": "code",
   "execution_count": null,
   "metadata": {},
   "outputs": [],
   "source": []
  },
  {
   "cell_type": "code",
   "execution_count": 62,
   "metadata": {},
   "outputs": [
    {
     "name": "stdout",
     "output_type": "stream",
     "text": [
      "WARNING:tensorflow:From C:\\Users\\hecto\\AppData\\Local\\Programs\\Anaconda3\\lib\\site-packages\\tensorflow_core\\python\\ops\\resource_variable_ops.py:1786: calling BaseResourceVariable.__init__ (from tensorflow.python.ops.resource_variable_ops) with constraint is deprecated and will be removed in a future version.\n",
      "Instructions for updating:\n",
      "If using Keras pass *_constraint arguments to layers.\n",
      "INFO:tensorflow:Assets written to: rnn_20200918-233536\\assets\n"
     ]
    }
   ],
   "source": [
    "fechaHora = datetime.now().strftime(\"%Y%m%d-%H%M%S\")\n",
    "fechaHora\n",
    "try:\n",
    "    lstm3.save('rnn_' + fechaHora)\n",
    "except:\n",
    "    print(\"Genera una excepcion pero guarda el archivo\")"
   ]
  },
  {
   "cell_type": "markdown",
   "metadata": {},
   "source": [
    "#### Matriz de confusion y resultado final de accuracy de word2vec"
   ]
  },
  {
   "cell_type": "code",
   "execution_count": 73,
   "metadata": {},
   "outputs": [],
   "source": [
    "y_pred=lstm3.predict_classes(X_test)"
   ]
  },
  {
   "cell_type": "code",
   "execution_count": 74,
   "metadata": {},
   "outputs": [
    {
     "data": {
      "text/plain": [
       "array([[1937,   89],\n",
       "       [  92, 1539]], dtype=int64)"
      ]
     },
     "execution_count": 74,
     "metadata": {},
     "output_type": "execute_result"
    }
   ],
   "source": [
    "confusion_matrix(y_test,y_pred)"
   ]
  },
  {
   "cell_type": "code",
   "execution_count": 75,
   "metadata": {},
   "outputs": [
    {
     "data": {
      "text/plain": [
       "0.9505058791359038"
      ]
     },
     "execution_count": 75,
     "metadata": {},
     "output_type": "execute_result"
    }
   ],
   "source": [
    "accuracy_score(y_test,y_pred)"
   ]
  },
  {
   "cell_type": "code",
   "execution_count": null,
   "metadata": {},
   "outputs": [],
   "source": []
  },
  {
   "cell_type": "code",
   "execution_count": null,
   "metadata": {},
   "outputs": [],
   "source": []
  },
  {
   "cell_type": "markdown",
   "metadata": {},
   "source": [
    "## Conclusiones\n",
    "\n",
    "Para lograr un buen procesamiento de la parte textual es necesario contar con librerias y/o modelos que faciliten este proceso, que resultaria en un esfuerzo demasiado complejo para una persona individual o incluso organizaciones pequeñas\n",
    "\n",
    "Constantemente sufren actualizaciones los modelos, por lo que es importante revisar continuamente las mejoras o nuevos modelos que resultan de esfuerzos mas grandes para lograr tener una base mas solida en la que se pueda trabajar y analizar la informacion"
   ]
  }
 ],
 "metadata": {
  "kernelspec": {
   "display_name": "Python 3",
   "language": "python",
   "name": "python3"
  },
  "language_info": {
   "codemirror_mode": {
    "name": "ipython",
    "version": 3
   },
   "file_extension": ".py",
   "mimetype": "text/x-python",
   "name": "python",
   "nbconvert_exporter": "python",
   "pygments_lexer": "ipython3",
   "version": "3.7.4"
  }
 },
 "nbformat": 4,
 "nbformat_minor": 4
}
