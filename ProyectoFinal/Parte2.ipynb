{
 "cells": [
  {
   "cell_type": "markdown",
   "metadata": {},
   "source": [
    "# Red Neuronal Convolucional\n",
    "\n",
    "Se esta utilizando un dataset privado y etiquetado para este proyecto\n",
    "\n",
    "Se esta utilizando **VGG16**\n",
    "\n",
    "*VERY DEEP CONVOLUTIONAL NETWORKS FOR LARGE-SCALE IMAGE RECOGNITION*\n",
    "\n",
    "\n",
    "\n",
    "*<font size=\"2\">your_text_here</font>*"
   ]
  },
  {
   "cell_type": "code",
   "execution_count": 1,
   "metadata": {},
   "outputs": [
    {
     "name": "stderr",
     "output_type": "stream",
     "text": [
      "Using TensorFlow backend.\n"
     ]
    }
   ],
   "source": [
    "import os\n",
    "import numpy as np\n",
    "import pandas as pd\n",
    "from datetime import datetime\n",
    "import tensorflow as tf\n",
    "import matplotlib.pyplot as plt\n",
    "import matplotlib.image as mpimg\n",
    "import matplotlib.patches as patches\n",
    "import keras as keras\n",
    "from keras.models import Sequential\n",
    "from keras.layers import Dense\n",
    "from keras.layers import Conv2D\n",
    "from keras.layers import MaxPooling2D\n",
    "from keras.layers import Flatten\n",
    "from keras.preprocessing import image\n",
    "from keras.preprocessing.image import ImageDataGenerator\n",
    "from keras import optimizers\n",
    "from tensorflow.python.keras.optimizers import TFOptimizer\n",
    "from keras.callbacks import ModelCheckpoint\n",
    "from keras.layers import Dense,BatchNormalization\n",
    "from tensorflow.keras import models\n",
    "from keras import initializers\n",
    "from keras import backend as K\n",
    "from PIL import Image"
   ]
  },
  {
   "cell_type": "code",
   "execution_count": null,
   "metadata": {},
   "outputs": [],
   "source": []
  },
  {
   "cell_type": "code",
   "execution_count": 36,
   "metadata": {},
   "outputs": [
    {
     "data": {
      "text/html": [
       "<div>\n",
       "<style scoped>\n",
       "    .dataframe tbody tr th:only-of-type {\n",
       "        vertical-align: middle;\n",
       "    }\n",
       "\n",
       "    .dataframe tbody tr th {\n",
       "        vertical-align: top;\n",
       "    }\n",
       "\n",
       "    .dataframe thead th {\n",
       "        text-align: right;\n",
       "    }\n",
       "</style>\n",
       "<table border=\"1\" class=\"dataframe\">\n",
       "  <thead>\n",
       "    <tr style=\"text-align: right;\">\n",
       "      <th></th>\n",
       "      <th>id</th>\n",
       "      <th>idn</th>\n",
       "      <th>Dataset Name</th>\n",
       "      <th>top</th>\n",
       "      <th>left</th>\n",
       "      <th>height</th>\n",
       "      <th>width</th>\n",
       "      <th>ancho</th>\n",
       "      <th>alto</th>\n",
       "      <th>y1</th>\n",
       "      <th>x1</th>\n",
       "      <th>y2</th>\n",
       "      <th>x2</th>\n",
       "    </tr>\n",
       "  </thead>\n",
       "  <tbody>\n",
       "    <tr>\n",
       "      <th>0</th>\n",
       "      <td>0</td>\n",
       "      <td>100000101967.jpeg</td>\n",
       "      <td>parte1</td>\n",
       "      <td>69</td>\n",
       "      <td>81</td>\n",
       "      <td>118</td>\n",
       "      <td>270</td>\n",
       "      <td>1419</td>\n",
       "      <td>1419</td>\n",
       "      <td>0.048626</td>\n",
       "      <td>0.057082</td>\n",
       "      <td>0.083157</td>\n",
       "      <td>0.190275</td>\n",
       "    </tr>\n",
       "    <tr>\n",
       "      <th>1</th>\n",
       "      <td>1</td>\n",
       "      <td>100000321966.jpeg</td>\n",
       "      <td>parte1</td>\n",
       "      <td>1268</td>\n",
       "      <td>224</td>\n",
       "      <td>225</td>\n",
       "      <td>281</td>\n",
       "      <td>1731</td>\n",
       "      <td>1731</td>\n",
       "      <td>0.732525</td>\n",
       "      <td>0.129405</td>\n",
       "      <td>0.129983</td>\n",
       "      <td>0.162334</td>\n",
       "    </tr>\n",
       "    <tr>\n",
       "      <th>2</th>\n",
       "      <td>2</td>\n",
       "      <td>100000581968.jpeg</td>\n",
       "      <td>parte1</td>\n",
       "      <td>49</td>\n",
       "      <td>1127</td>\n",
       "      <td>196</td>\n",
       "      <td>256</td>\n",
       "      <td>1014</td>\n",
       "      <td>1014</td>\n",
       "      <td>0.048323</td>\n",
       "      <td>1.111440</td>\n",
       "      <td>0.193294</td>\n",
       "      <td>0.252465</td>\n",
       "    </tr>\n",
       "    <tr>\n",
       "      <th>3</th>\n",
       "      <td>3</td>\n",
       "      <td>100000111966.jpeg</td>\n",
       "      <td>parte1</td>\n",
       "      <td>148</td>\n",
       "      <td>720</td>\n",
       "      <td>149</td>\n",
       "      <td>353</td>\n",
       "      <td>1241</td>\n",
       "      <td>1241</td>\n",
       "      <td>0.119259</td>\n",
       "      <td>0.580177</td>\n",
       "      <td>0.120064</td>\n",
       "      <td>0.284448</td>\n",
       "    </tr>\n",
       "    <tr>\n",
       "      <th>4</th>\n",
       "      <td>4</td>\n",
       "      <td>100000351975.jpeg</td>\n",
       "      <td>parte1</td>\n",
       "      <td>57</td>\n",
       "      <td>1123</td>\n",
       "      <td>115</td>\n",
       "      <td>260</td>\n",
       "      <td>1051</td>\n",
       "      <td>1051</td>\n",
       "      <td>0.054234</td>\n",
       "      <td>1.068506</td>\n",
       "      <td>0.109420</td>\n",
       "      <td>0.247383</td>\n",
       "    </tr>\n",
       "    <tr>\n",
       "      <th>...</th>\n",
       "      <td>...</td>\n",
       "      <td>...</td>\n",
       "      <td>...</td>\n",
       "      <td>...</td>\n",
       "      <td>...</td>\n",
       "      <td>...</td>\n",
       "      <td>...</td>\n",
       "      <td>...</td>\n",
       "      <td>...</td>\n",
       "      <td>...</td>\n",
       "      <td>...</td>\n",
       "      <td>...</td>\n",
       "      <td>...</td>\n",
       "    </tr>\n",
       "    <tr>\n",
       "      <th>2043</th>\n",
       "      <td>2043</td>\n",
       "      <td>622069252020.jpeg</td>\n",
       "      <td>parte22</td>\n",
       "      <td>813</td>\n",
       "      <td>1873</td>\n",
       "      <td>303</td>\n",
       "      <td>862</td>\n",
       "      <td>4017</td>\n",
       "      <td>4017</td>\n",
       "      <td>0.202390</td>\n",
       "      <td>0.466268</td>\n",
       "      <td>0.075429</td>\n",
       "      <td>0.214588</td>\n",
       "    </tr>\n",
       "    <tr>\n",
       "      <th>2044</th>\n",
       "      <td>2044</td>\n",
       "      <td>621899412020.jpeg</td>\n",
       "      <td>parte22</td>\n",
       "      <td>815</td>\n",
       "      <td>1881</td>\n",
       "      <td>441</td>\n",
       "      <td>850</td>\n",
       "      <td>4017</td>\n",
       "      <td>4017</td>\n",
       "      <td>0.202888</td>\n",
       "      <td>0.468260</td>\n",
       "      <td>0.109783</td>\n",
       "      <td>0.211601</td>\n",
       "    </tr>\n",
       "    <tr>\n",
       "      <th>2045</th>\n",
       "      <td>2045</td>\n",
       "      <td>621936492020.jpeg</td>\n",
       "      <td>parte22</td>\n",
       "      <td>805</td>\n",
       "      <td>4465</td>\n",
       "      <td>1197</td>\n",
       "      <td>883</td>\n",
       "      <td>7796</td>\n",
       "      <td>7796</td>\n",
       "      <td>0.103258</td>\n",
       "      <td>0.572730</td>\n",
       "      <td>0.153540</td>\n",
       "      <td>0.113263</td>\n",
       "    </tr>\n",
       "    <tr>\n",
       "      <th>2046</th>\n",
       "      <td>2046</td>\n",
       "      <td>622006012020.jpeg</td>\n",
       "      <td>parte22</td>\n",
       "      <td>764</td>\n",
       "      <td>1884</td>\n",
       "      <td>438</td>\n",
       "      <td>906</td>\n",
       "      <td>4017</td>\n",
       "      <td>4017</td>\n",
       "      <td>0.190192</td>\n",
       "      <td>0.469007</td>\n",
       "      <td>0.109037</td>\n",
       "      <td>0.225541</td>\n",
       "    </tr>\n",
       "    <tr>\n",
       "      <th>2047</th>\n",
       "      <td>2047</td>\n",
       "      <td>622072492020.jpeg</td>\n",
       "      <td>parte22</td>\n",
       "      <td>814</td>\n",
       "      <td>1870</td>\n",
       "      <td>313</td>\n",
       "      <td>858</td>\n",
       "      <td>4017</td>\n",
       "      <td>4017</td>\n",
       "      <td>0.202639</td>\n",
       "      <td>0.465522</td>\n",
       "      <td>0.077919</td>\n",
       "      <td>0.213592</td>\n",
       "    </tr>\n",
       "  </tbody>\n",
       "</table>\n",
       "<p>2048 rows × 13 columns</p>\n",
       "</div>"
      ],
      "text/plain": [
       "        id                idn Dataset Name   top  left  height  width  ancho  \\\n",
       "0        0  100000101967.jpeg       parte1    69    81     118    270   1419   \n",
       "1        1  100000321966.jpeg       parte1  1268   224     225    281   1731   \n",
       "2        2  100000581968.jpeg       parte1    49  1127     196    256   1014   \n",
       "3        3  100000111966.jpeg       parte1   148   720     149    353   1241   \n",
       "4        4  100000351975.jpeg       parte1    57  1123     115    260   1051   \n",
       "...    ...                ...          ...   ...   ...     ...    ...    ...   \n",
       "2043  2043  622069252020.jpeg      parte22   813  1873     303    862   4017   \n",
       "2044  2044  621899412020.jpeg      parte22   815  1881     441    850   4017   \n",
       "2045  2045  621936492020.jpeg      parte22   805  4465    1197    883   7796   \n",
       "2046  2046  622006012020.jpeg      parte22   764  1884     438    906   4017   \n",
       "2047  2047  622072492020.jpeg      parte22   814  1870     313    858   4017   \n",
       "\n",
       "      alto        y1        x1        y2        x2  \n",
       "0     1419  0.048626  0.057082  0.083157  0.190275  \n",
       "1     1731  0.732525  0.129405  0.129983  0.162334  \n",
       "2     1014  0.048323  1.111440  0.193294  0.252465  \n",
       "3     1241  0.119259  0.580177  0.120064  0.284448  \n",
       "4     1051  0.054234  1.068506  0.109420  0.247383  \n",
       "...    ...       ...       ...       ...       ...  \n",
       "2043  4017  0.202390  0.466268  0.075429  0.214588  \n",
       "2044  4017  0.202888  0.468260  0.109783  0.211601  \n",
       "2045  7796  0.103258  0.572730  0.153540  0.113263  \n",
       "2046  4017  0.190192  0.469007  0.109037  0.225541  \n",
       "2047  4017  0.202639  0.465522  0.077919  0.213592  \n",
       "\n",
       "[2048 rows x 13 columns]"
      ]
     },
     "execution_count": 36,
     "metadata": {},
     "output_type": "execute_result"
    }
   ],
   "source": [
    "labels = pd.read_csv(r'../bbox_data.csv')\n",
    "labels"
   ]
  },
  {
   "cell_type": "code",
   "execution_count": 46,
   "metadata": {},
   "outputs": [],
   "source": [
    "def displayOne(id):\n",
    "    img = mpimg.imread(r'../derimg/' + labels.iloc[id]['idn'])\n",
    "\n",
    "    #plt.imshow(img)\n",
    "    #plt.show()\n",
    "\n",
    "    figure, ax = plt.subplots(1)\n",
    "    bbox = patches.Rectangle((labels.iloc[id]['left'],labels.iloc[id]['top']),labels.iloc[id]['width'],labels.iloc[id]['height'], edgecolor='r', facecolor=\"none\")\n",
    "    ax.imshow(img)\n",
    "    ax.add_patch(bbox)\n",
    "\n",
    "    plt.figure(figsize=(30,30))\n",
    "    plt.show()"
   ]
  },
  {
   "cell_type": "code",
   "execution_count": 47,
   "metadata": {},
   "outputs": [
    {
     "data": {
      "image/png": "[encoded data removed]",
      "text/plain": [
       "<Figure size 432x288 with 1 Axes>"
      ]
     },
     "metadata": {
      "needs_background": "light"
     },
     "output_type": "display_data"
    },
    {
     "data": {
      "text/plain": [
       "<Figure size 2160x2160 with 0 Axes>"
      ]
     },
     "metadata": {},
     "output_type": "display_data"
    }
   ],
   "source": [
    "displayOne(2000)"
   ]
  },
  {
   "cell_type": "code",
   "execution_count": 42,
   "metadata": {},
   "outputs": [
    {
     "data": {
      "text/plain": [
       "External ID     100000101967.jpeg\n",
       "Dataset Name               parte1\n",
       "top                            69\n",
       "left                           81\n",
       "height                        118\n",
       "width                         270\n",
       "Name: 0, dtype: object"
      ]
     },
     "execution_count": 42,
     "metadata": {},
     "output_type": "execute_result"
    }
   ],
   "source": [
    "labels.iloc[0]"
   ]
  },
  {
   "cell_type": "code",
   "execution_count": 24,
   "metadata": {},
   "outputs": [
    {
     "data": {
      "text/plain": [
       "((1268, 224), 225, 281)"
      ]
     },
     "execution_count": 24,
     "metadata": {},
     "output_type": "execute_result"
    }
   ],
   "source": [
    "(labels.iloc[0]['top'],labels.iloc[0]['left']),labels.iloc[0]['height'],labels.iloc[0]['width']"
   ]
  },
  {
   "cell_type": "code",
   "execution_count": 257,
   "metadata": {},
   "outputs": [],
   "source": [
    "# Carga de bboxes\n",
    "boxes = labels[['y1','x1','y2','x2']]\n",
    "boxes = boxes.values"
   ]
  },
  {
   "cell_type": "code",
   "execution_count": 259,
   "metadata": {},
   "outputs": [
    {
     "data": {
      "text/plain": [
       "(2048, 4)"
      ]
     },
     "execution_count": 259,
     "metadata": {},
     "output_type": "execute_result"
    }
   ],
   "source": [
    "boxes.shape"
   ]
  },
  {
   "cell_type": "code",
   "execution_count": 2,
   "metadata": {},
   "outputs": [
    {
     "data": {
      "text/plain": [
       "2048"
      ]
     },
     "execution_count": 2,
     "metadata": {},
     "output_type": "execute_result"
    }
   ],
   "source": [
    "def read_img(path, shape):\n",
    "    img = Image.open(r\"../train_img/derimg/\" + path)\n",
    "    img_size = img.size\n",
    "    img = img.resize(shape, Image.ANTIALIAS)\n",
    "    img = np.asarray(img)\n",
    "    return img, img_size\n",
    "\n",
    "#t = read_img(r'../train_img/derimg/100000101967.jpeg',(224,224))\n",
    "#type(t)\n",
    "\n",
    "\n",
    "#for traj in os.listdir(r\"../train_img/derimg\"):\n",
    "#    cont += 1\n",
    "trX = []\n",
    "trName = []\n",
    "trSize = []\n",
    "cont = 0\n",
    "for file in os.listdir(r\"../train_img/derimg\"):\n",
    "    cont +=1\n",
    "    print('Procesando: {};  \\r'.format(cont), end=\"\")\n",
    "    #filename = os.path.basename(file_n)\n",
    "    trName.append(file)\n",
    "    img, img_size = read_img(file, (224, 224))\n",
    "    trX.append(img)\n",
    "    trSize.append(img_size)\n",
    "len(trX)"
   ]
  },
  {
   "cell_type": "code",
   "execution_count": 20,
   "metadata": {},
   "outputs": [
    {
     "data": {
      "text/plain": [
       "(2048, 224, 224, 3)"
      ]
     },
     "execution_count": 20,
     "metadata": {},
     "output_type": "execute_result"
    }
   ],
   "source": [
    "#len(trX[0])\n",
    "#trX[0]\n",
    "trX = np.array(trX, dtype=np.uint8)\n",
    "trX.shape"
   ]
  },
  {
   "cell_type": "code",
   "execution_count": 27,
   "metadata": {},
   "outputs": [
    {
     "data": {
      "text/plain": [
       "<matplotlib.image.AxesImage at 0x287b1189648>"
      ]
     },
     "execution_count": 27,
     "metadata": {},
     "output_type": "execute_result"
    },
    {
     "data": {
      "image/png": "[encoded data removed]",
      "text/plain": [
       "<Figure size 432x288 with 1 Axes>"
      ]
     },
     "metadata": {
      "needs_background": "light"
     },
     "output_type": "display_data"
    }
   ],
   "source": [
    "plt.imshow(trX[110])"
   ]
  },
  {
   "cell_type": "code",
   "execution_count": 29,
   "metadata": {},
   "outputs": [
    {
     "data": {
      "text/plain": [
       "array([[235, 235, 235],\n",
       "       [235, 237, 236],\n",
       "       [234, 238, 236],\n",
       "       [231, 236, 237],\n",
       "       [229, 226, 220],\n",
       "       [230, 219, 196],\n",
       "       [234, 223, 195],\n",
       "       [233, 221, 195],\n",
       "       [234, 222, 196],\n",
       "       [233, 221, 195]], dtype=uint8)"
      ]
     },
     "execution_count": 29,
     "metadata": {},
     "output_type": "execute_result"
    }
   ],
   "source": [
    "len(trX[0][100])\n",
    "trX[0][100][0:10]"
   ]
  },
  {
   "cell_type": "code",
   "execution_count": 30,
   "metadata": {},
   "outputs": [],
   "source": [
    "#print(trX[0].shape)\n",
    "trX = trX/255.\n"
   ]
  },
  {
   "cell_type": "code",
   "execution_count": 31,
   "metadata": {},
   "outputs": [
    {
     "data": {
      "text/plain": [
       "array([[0.92156863, 0.92156863, 0.92156863],\n",
       "       [0.92156863, 0.92941176, 0.9254902 ],\n",
       "       [0.91764706, 0.93333333, 0.9254902 ],\n",
       "       [0.90588235, 0.9254902 , 0.92941176],\n",
       "       [0.89803922, 0.88627451, 0.8627451 ],\n",
       "       [0.90196078, 0.85882353, 0.76862745],\n",
       "       [0.91764706, 0.8745098 , 0.76470588],\n",
       "       [0.91372549, 0.86666667, 0.76470588],\n",
       "       [0.91764706, 0.87058824, 0.76862745],\n",
       "       [0.91372549, 0.86666667, 0.76470588]])"
      ]
     },
     "execution_count": 31,
     "metadata": {},
     "output_type": "execute_result"
    }
   ],
   "source": [
    "trX[0][100][0:10]"
   ]
  },
  {
   "cell_type": "code",
   "execution_count": null,
   "metadata": {},
   "outputs": [],
   "source": []
  },
  {
   "cell_type": "code",
   "execution_count": 8,
   "metadata": {},
   "outputs": [],
   "source": [
    "# save image reduction\n",
    "#with open('img_values.npy', 'wb') as f:\n",
    "#    np.save(f, trX)\n",
    "# save numpy array as npz file\n",
    "from numpy import asarray\n",
    "from numpy import savez_compressed\n",
    "# define data\n",
    "# save to npy file\n",
    "savez_compressed('img_values.npz', trX)\n",
    "savez_compressed('names.npz', trName)\n",
    "savez_compressed('sizes.npz', trSize)"
   ]
  },
  {
   "cell_type": "code",
   "execution_count": 3,
   "metadata": {},
   "outputs": [
    {
     "name": "stdout",
     "output_type": "stream",
     "text": [
      "2048\n"
     ]
    }
   ],
   "source": [
    "#carga\n",
    "from numpy import load\n",
    "dict_data = load('img_values.npz')\n",
    "trX = dict_data['arr_0']\n",
    "\n",
    "dict_data = load('names.npz')\n",
    "trName = dict_data['arr_0']\n",
    "\n",
    "dict_data = load('sizes.npz')\n",
    "trSize = dict_data['arr_0']\n",
    "\n",
    "# print the array\n",
    "print(len(trX))"
   ]
  },
  {
   "cell_type": "code",
   "execution_count": 33,
   "metadata": {},
   "outputs": [
    {
     "data": {
      "text/plain": [
       "array([[[0.91372549, 0.92941176, 0.9254902 ],\n",
       "        [0.92156863, 0.92941176, 0.92941176],\n",
       "        [0.92156863, 0.93333333, 0.92941176],\n",
       "        [0.92156863, 0.9372549 , 0.9254902 ],\n",
       "        [0.92156863, 0.9372549 , 0.92941176]],\n",
       "\n",
       "       [[0.8745098 , 0.8745098 , 0.84705882],\n",
       "        [0.85490196, 0.85490196, 0.81960784],\n",
       "        [0.87058824, 0.8745098 , 0.83529412],\n",
       "        [0.8745098 , 0.86666667, 0.83529412],\n",
       "        [0.87843137, 0.85882353, 0.83137255]],\n",
       "\n",
       "       [[1.        , 1.        , 1.        ],\n",
       "        [1.        , 1.        , 1.        ],\n",
       "        [1.        , 1.        , 1.        ],\n",
       "        [1.        , 1.        , 1.        ],\n",
       "        [1.        , 1.        , 1.        ]],\n",
       "\n",
       "       [[0.27843137, 0.2627451 , 0.28235294],\n",
       "        [0.26666667, 0.25490196, 0.27058824],\n",
       "        [0.25490196, 0.25490196, 0.26666667],\n",
       "        [0.24705882, 0.25098039, 0.2745098 ],\n",
       "        [0.24705882, 0.24705882, 0.27843137]],\n",
       "\n",
       "       [[0.94117647, 0.96078431, 0.94509804],\n",
       "        [0.9372549 , 0.96078431, 0.94509804],\n",
       "        [0.94117647, 0.96078431, 0.94509804],\n",
       "        [0.9372549 , 0.96078431, 0.94509804],\n",
       "        [0.9372549 , 0.96078431, 0.94509804]]])"
      ]
     },
     "execution_count": 33,
     "metadata": {},
     "output_type": "execute_result"
    }
   ],
   "source": [
    "trX[20:25,20:25,1]"
   ]
  },
  {
   "cell_type": "code",
   "execution_count": 34,
   "metadata": {},
   "outputs": [
    {
     "data": {
      "text/plain": [
       "['100000011971.jpeg',\n",
       " '100000011973.jpeg',\n",
       " '100000021966.jpeg',\n",
       " '100000021968.jpeg',\n",
       " '100000021969.jpeg',\n",
       " '100000021971.jpeg',\n",
       " '100000021977.jpeg',\n",
       " '100000031968.jpeg',\n",
       " '100000031971.jpeg',\n",
       " '100000041977.jpeg']"
      ]
     },
     "execution_count": 34,
     "metadata": {},
     "output_type": "execute_result"
    }
   ],
   "source": [
    "trName[0:10]"
   ]
  },
  {
   "cell_type": "code",
   "execution_count": 42,
   "metadata": {},
   "outputs": [
    {
     "name": "stdout",
     "output_type": "stream",
     "text": [
      "[[12 '100000011971.jpeg' 'parte1' 104 594 131 273 1394 1394 0.074605452\n",
      "  0.426111908 0.093974175 0.19583931100000002]]\n",
      "0.074605452\n"
     ]
    }
   ],
   "source": [
    "fila = labels.loc[labels['idn'] == '100000011971.jpeg']\n",
    "print(fila.values)\n",
    "print(fila.values[0][9])\n",
    "#yTrain.append([fila['y1'],fila['x1'],fila['y2'],fila['x2']])"
   ]
  },
  {
   "cell_type": "code",
   "execution_count": 37,
   "metadata": {},
   "outputs": [
    {
     "data": {
      "text/plain": [
       "array([[0.07460545, 0.42611191, 0.09397417, 0.19583931],\n",
       "       [0.09025641, 0.83282051, 0.31692308, 0.2625641 ],\n",
       "       [0.07872175, 0.36944661, 0.1441933 , 0.20654716],\n",
       "       [0.26199262, 0.39621771, 0.10055351, 0.18588561],\n",
       "       [0.33304348, 0.88956522, 0.1773913 , 0.22608696],\n",
       "       [0.04385965, 1.08089669, 0.11500975, 0.2582846 ],\n",
       "       [0.8184699 , 0.14440923, 0.10774106, 0.12947035],\n",
       "       [0.06774809, 1.05343512, 0.11068702, 0.24713741],\n",
       "       [0.02931596, 1.18892508, 0.10162866, 0.1732899 ],\n",
       "       [0.70700637, 0.14194723, 0.16014559, 0.24021838]])"
      ]
     },
     "execution_count": 37,
     "metadata": {},
     "output_type": "execute_result"
    }
   ],
   "source": [
    "yTrain = []\n",
    "for item in trName:\n",
    "    fila = labels.loc[labels['idn'] == item]\n",
    "    t = fila.values[0]\n",
    "    yTrain.append([t[9],t[10],t[11],t[12]])\n",
    "yTrain = np.array(yTrain)\n",
    "yTrain[0:10]"
   ]
  },
  {
   "cell_type": "code",
   "execution_count": 12,
   "metadata": {},
   "outputs": [],
   "source": []
  },
  {
   "cell_type": "code",
   "execution_count": 261,
   "metadata": {},
   "outputs": [
    {
     "name": "stdout",
     "output_type": "stream",
     "text": [
      "Found 4 images belonging to 1 classes.\n"
     ]
    }
   ],
   "source": [
    "train_datagen = ImageDataGenerator(\n",
    "    rescale=1./255.,\n",
    "    #zoom_range=0.2,\n",
    ")\n",
    "\n",
    "# configuracion de imagenes de entrada para train\n",
    "train_data = train_datagen.flow_from_directory(\n",
    "    r'../small',\n",
    "    target_size=(224,224), \n",
    "    batch_size=128,\n",
    "    classes=None,\n",
    "    class_mode=None,\n",
    "    #interpolation='bicubic'\n",
    ")"
   ]
  },
  {
   "cell_type": "code",
   "execution_count": 5,
   "metadata": {},
   "outputs": [
    {
     "data": {
      "text/html": [
       "<div>\n",
       "<style scoped>\n",
       "    .dataframe tbody tr th:only-of-type {\n",
       "        vertical-align: middle;\n",
       "    }\n",
       "\n",
       "    .dataframe tbody tr th {\n",
       "        vertical-align: top;\n",
       "    }\n",
       "\n",
       "    .dataframe thead th {\n",
       "        text-align: right;\n",
       "    }\n",
       "</style>\n",
       "<table border=\"1\" class=\"dataframe\">\n",
       "  <thead>\n",
       "    <tr style=\"text-align: right;\">\n",
       "      <th></th>\n",
       "      <th>imagenes</th>\n",
       "      <th>boxes</th>\n",
       "    </tr>\n",
       "  </thead>\n",
       "  <tbody>\n",
       "    <tr>\n",
       "      <th>0</th>\n",
       "      <td>100000101967.jpeg</td>\n",
       "      <td>[0.048625793, 0.057082452, 0.083157153, 0.1902...</td>\n",
       "    </tr>\n",
       "    <tr>\n",
       "      <th>1</th>\n",
       "      <td>100000321966.jpeg</td>\n",
       "      <td>[0.732524552, 0.129404968, 0.129982669, 0.1623...</td>\n",
       "    </tr>\n",
       "    <tr>\n",
       "      <th>2</th>\n",
       "      <td>100000581968.jpeg</td>\n",
       "      <td>[0.048323471, 1.111439842, 0.193293886, 0.2524...</td>\n",
       "    </tr>\n",
       "    <tr>\n",
       "      <th>3</th>\n",
       "      <td>100000111966.jpeg</td>\n",
       "      <td>[0.119258662, 0.580177276, 0.120064464, 0.2844...</td>\n",
       "    </tr>\n",
       "  </tbody>\n",
       "</table>\n",
       "</div>"
      ],
      "text/plain": [
       "            imagenes                                              boxes\n",
       "0  100000101967.jpeg  [0.048625793, 0.057082452, 0.083157153, 0.1902...\n",
       "1  100000321966.jpeg  [0.732524552, 0.129404968, 0.129982669, 0.1623...\n",
       "2  100000581968.jpeg  [0.048323471, 1.111439842, 0.193293886, 0.2524...\n",
       "3  100000111966.jpeg  [0.119258662, 0.580177276, 0.120064464, 0.2844..."
      ]
     },
     "execution_count": 5,
     "metadata": {},
     "output_type": "execute_result"
    }
   ],
   "source": [
    "files = ['100000101967.jpeg','100000321966.jpeg','100000581968.jpeg','100000111966.jpeg']\n",
    "#files = ['derimg/100000101967.jpeg','derimg/100000321966.jpeg','derimg/100000581968.jpeg','derimg/100000111966.jpeg']\n",
    "lb = [[0.048625793,0.057082452,0.083157153,0.190274841],\n",
    "    [0.732524552,0.129404968,0.129982669,0.162333911],\n",
    "    [0.048323471,1.111439842,0.193293886,0.252465483],\n",
    "    [0.119258662,0.580177276,0.120064464,0.284448026]]\n",
    "#lb = ['a','b','a','b']\n",
    "\n",
    "'''\n",
    "lb = np.array([[[0.048625793],[0.057082452],[0.083157153],[0.190274841]],\n",
    "    [[0.732524552],[0.129404968],[0.129982669],[0.162333911]],\n",
    "    [[0.048323471],[1.111439842],[0.193293886],[0.252465483]],\n",
    "    [[0.119258662],[0.580177276],[0.120064464],[0.284448026]]])\n",
    "'''\n",
    "'''\n",
    "lb = np.array([[0.048625793],\n",
    "    [0.732524552],\n",
    "    [0.048323471],\n",
    "    [0.119258662],\n",
    "    [0.048625793],\n",
    "    [0.732524552],\n",
    "    [0.048323471],\n",
    "    [0.119258662]])\n",
    "    '''\n",
    "\n",
    "'''\n",
    "lb = [[(0.048625793,0.057082452),(0.083157153,0.190274841)],\n",
    "    [(0.732524552,0.129404968),(0.129982669,0.162333911)],\n",
    "    [(0.048323471,1.111439842),(0.193293886,0.252465483)],\n",
    "    [(0.119258662,0.580177276),(0.120064464,0.284448026)],\n",
    "    [(0.048625793,0.057082452),(0.083157153,0.190274841)],\n",
    "    [(0.732524552,0.129404968),(0.129982669,0.162333911)],\n",
    "    [(0.048323471,1.111439842),(0.193293886,0.252465483)],\n",
    "    [(0.119258662,0.580177276),(0.120064464,0.284448026)],\n",
    "    ]\n",
    "'''\n",
    "y1 =[0.048625793,0.732524552,0.048323471,0.119258662]\n",
    "x1 =[0.057082452,0.129404968,1.111439842,0.580177276]\n",
    "y2 =[0.083157153,0.129982669,0.193293886,0.120064464]\n",
    "x2 =[0.190274841,0.162333911,0.252465483,0.284448026]\n",
    "\n",
    "#frame_data = pd.DataFrame(list(zip(files, y1,x1,y2,x2)), \n",
    "#               columns =['imagenes', 'y1','x1','y2','x2']) \n",
    "frame_data = pd.DataFrame(list(zip(files, lb)), \n",
    "               columns =['imagenes', 'boxes']) \n",
    "\n",
    "frame_data"
   ]
  },
  {
   "cell_type": "code",
   "execution_count": 265,
   "metadata": {},
   "outputs": [
    {
     "data": {
      "text/plain": [
       "[0.048625793, 0.057082452, 0.083157153, 0.190274841]"
      ]
     },
     "execution_count": 265,
     "metadata": {},
     "output_type": "execute_result"
    }
   ],
   "source": [
    "lb[0]"
   ]
  },
  {
   "cell_type": "code",
   "execution_count": 253,
   "metadata": {},
   "outputs": [
    {
     "name": "stdout",
     "output_type": "stream",
     "text": [
      "Found 4 validated image filenames belonging to 2 classes.\n"
     ]
    }
   ],
   "source": [
    "train_datagen = ImageDataGenerator(\n",
    "    rescale=1./255.)\n",
    "\n",
    "train_data = train_datagen.flow_from_dataframe(\n",
    "    frame_data,\n",
    "    directory='../train_img/derimg',\n",
    "    x_col=\"imagenes\",\n",
    "    #y_col=list(map(tf.feature_column.numeric_column,['y1','x1','y2','x2'])),\n",
    "    y_col='boxes',\n",
    "    #classes=None,\n",
    "    class_mode= 'categorical'\n",
    "    # func\n",
    "    #class_mode= 'multi_output', #None,\n",
    "    #y_col=['y1','x1','y2','x2'],\n",
    "    \n",
    "    #y_col='asdf2',\n",
    ")"
   ]
  },
  {
   "cell_type": "code",
   "execution_count": 226,
   "metadata": {},
   "outputs": [],
   "source": [
    "#train_data[0][1]"
   ]
  },
  {
   "cell_type": "code",
   "execution_count": 6,
   "metadata": {},
   "outputs": [],
   "source": [
    "cnn = Sequential()\n",
    "\n",
    "cnn.add(Conv2D(filters=16, kernel_size=(3,3), input_shape=(224,224,3), activation='relu', name='uno')) \n",
    "cnn.add(MaxPooling2D(pool_size=(2,2)))\n",
    "\n",
    "cnn.add(Conv2D(filters=32, kernel_size=(3,3), activation='relu', name='dos')) \n",
    "cnn.add(MaxPooling2D(pool_size=(2,2)))\n",
    "\n",
    "cnn.add(Conv2D(filters=64, kernel_size=(3,3), activation='relu', name='tres')) \n",
    "cnn.add(MaxPooling2D(pool_size=(2,2)))\n",
    "\n",
    "cnn.add(Conv2D(filters=64, kernel_size=(3,3), activation='relu', name='cuatro')) \n",
    "cnn.add(MaxPooling2D(pool_size=(2,2)))\n",
    "\n",
    "cnn.add(Conv2D(filters=64, kernel_size=(3,3), activation='relu', name='cinco')) \n",
    "cnn.add(MaxPooling2D(pool_size=(2,2)))\n",
    "\n",
    "cnn.add(Flatten())\n",
    "\n",
    "cnn.add(Dense(units=512, activation = 'relu', name='dense_uno'))\n",
    "\n",
    "cnn.add(Dense(units=4, activation='softmax', name='dense_dos'))"
   ]
  },
  {
   "cell_type": "code",
   "execution_count": 7,
   "metadata": {},
   "outputs": [],
   "source": [
    "# Compilador de la red\n",
    "cnn.compile(optimizer='adam', loss='binary_crossentropy', metrics=['accuracy'])"
   ]
  },
  {
   "cell_type": "code",
   "execution_count": 8,
   "metadata": {},
   "outputs": [
    {
     "name": "stdout",
     "output_type": "stream",
     "text": [
      "Model: \"sequential_1\"\n",
      "_________________________________________________________________\n",
      "Layer (type)                 Output Shape              Param #   \n",
      "=================================================================\n",
      "uno (Conv2D)                 (None, 222, 222, 16)      448       \n",
      "_________________________________________________________________\n",
      "max_pooling2d_1 (MaxPooling2 (None, 111, 111, 16)      0         \n",
      "_________________________________________________________________\n",
      "dos (Conv2D)                 (None, 109, 109, 32)      4640      \n",
      "_________________________________________________________________\n",
      "max_pooling2d_2 (MaxPooling2 (None, 54, 54, 32)        0         \n",
      "_________________________________________________________________\n",
      "tres (Conv2D)                (None, 52, 52, 64)        18496     \n",
      "_________________________________________________________________\n",
      "max_pooling2d_3 (MaxPooling2 (None, 26, 26, 64)        0         \n",
      "_________________________________________________________________\n",
      "cuatro (Conv2D)              (None, 24, 24, 64)        36928     \n",
      "_________________________________________________________________\n",
      "max_pooling2d_4 (MaxPooling2 (None, 12, 12, 64)        0         \n",
      "_________________________________________________________________\n",
      "cinco (Conv2D)               (None, 10, 10, 64)        36928     \n",
      "_________________________________________________________________\n",
      "max_pooling2d_5 (MaxPooling2 (None, 5, 5, 64)          0         \n",
      "_________________________________________________________________\n",
      "flatten_1 (Flatten)          (None, 1600)              0         \n",
      "_________________________________________________________________\n",
      "dense_uno (Dense)            (None, 512)               819712    \n",
      "_________________________________________________________________\n",
      "dense_dos (Dense)            (None, 4)                 2052      \n",
      "=================================================================\n",
      "Total params: 919,204\n",
      "Trainable params: 919,204\n",
      "Non-trainable params: 0\n",
      "_________________________________________________________________\n"
     ]
    }
   ],
   "source": [
    "cnn.summary()"
   ]
  },
  {
   "cell_type": "code",
   "execution_count": 9,
   "metadata": {},
   "outputs": [
    {
     "name": "stdout",
     "output_type": "stream",
     "text": [
      "(4, 224, 224, 3)\n"
     ]
    },
    {
     "data": {
      "text/plain": [
       "(4, 4)"
      ]
     },
     "execution_count": 9,
     "metadata": {},
     "output_type": "execute_result"
    }
   ],
   "source": [
    "print(trX.shape)\n",
    "#print(lb.shape)\n",
    "lb = np.array([[0.048625793,0.057082452,0.083157153,0.190274841],\n",
    "    [0.732524552,0.129404968,0.129982669,0.162333911],\n",
    "    [0.048323471,1.111439842,0.193293886,0.252465483],\n",
    "    [0.119258662,0.580177276,0.120064464,0.284448026]])\n",
    "lb.shape"
   ]
  },
  {
   "cell_type": "code",
   "execution_count": 38,
   "metadata": {},
   "outputs": [],
   "source": [
    "vgg16 = Sequential(name='vgg16')\n",
    "\n",
    "# Block1\n",
    "vgg16.add(Conv2D(filters=64, kernel_size=(3,3), input_shape=(224,224,3), activation='relu', padding='same', name='block1_conv1')) \n",
    "vgg16.add(Conv2D(filters=64, kernel_size=(3,3), activation='relu', padding='same', name='block1_conv2')) \n",
    "vgg16.add(MaxPooling2D(pool_size=(2,2), strides=(2, 2), name='block1_pool'))\n",
    "\n",
    "# Block 2\n",
    "vgg16.add(Conv2D(128, (3, 3), activation='relu', padding='same', name='block2_conv1')) \n",
    "vgg16.add(Conv2D(128, (3, 3), activation='relu', padding='same', name='block2_conv2'))\n",
    "vgg16.add(MaxPooling2D((2, 2), strides=(2, 2), name='block2_pool'))\n",
    "\n",
    "# Block 3\n",
    "vgg16.add(Conv2D(256, (3, 3), activation='relu', padding='same', name='block3_conv1'))\n",
    "vgg16.add(Conv2D(256, (3, 3), activation='relu', padding='same', name='block3_conv2'))\n",
    "vgg16.add(Conv2D(256, (3, 3), activation='relu', padding='same', name='block3_conv3'))\n",
    "vgg16.add(MaxPooling2D((2, 2), strides=(2, 2), name='block3_pool'))\n",
    "\n",
    "# Block 4\n",
    "vgg16.add(Conv2D(512, (3, 3), activation='relu', padding='same', name='block4_conv1'))\n",
    "vgg16.add(Conv2D(512, (3, 3), activation='relu', padding='same', name='block4_conv2'))\n",
    "vgg16.add(Conv2D(512, (3, 3), activation='relu', padding='same', name='block4_conv3'))\n",
    "vgg16.add(MaxPooling2D((2, 2), strides=(2, 2), name='block4_pool'))\n",
    "\n",
    "# Block 5\n",
    "vgg16.add(Conv2D(512, (3, 3), activation='relu', padding='same', name='block5_conv1'))\n",
    "vgg16.add(Conv2D(512, (3, 3), activation='relu', padding='same', name='block5_conv2'))\n",
    "vgg16.add(Conv2D(512, (3, 3), activation='relu', padding='same', name='block5_conv3'))\n",
    "vgg16.add(MaxPooling2D((2, 2), strides=(2, 2), name='block5_pool'))\n",
    "\n",
    "# Classification block\n",
    "vgg16.add(Flatten(name='flatten'))\n",
    "vgg16.add(Dense(4096, activation='relu', name='fc1'))\n",
    "vgg16.add(Dense(4096, activation='relu', name='fc2'))\n",
    "vgg16.add(Dense(4, activation='softmax', name='predictions'))\n",
    "\n",
    "    "
   ]
  },
  {
   "cell_type": "code",
   "execution_count": 39,
   "metadata": {},
   "outputs": [],
   "source": [
    "vgg16.compile(optimizer='adam', loss='mse', metrics=['accuracy'])"
   ]
  },
  {
   "cell_type": "code",
   "execution_count": 40,
   "metadata": {},
   "outputs": [
    {
     "name": "stdout",
     "output_type": "stream",
     "text": [
      "Model: \"vgg16\"\n",
      "_________________________________________________________________\n",
      "Layer (type)                 Output Shape              Param #   \n",
      "=================================================================\n",
      "block1_conv1 (Conv2D)        (None, 224, 224, 64)      1792      \n",
      "_________________________________________________________________\n",
      "block1_conv2 (Conv2D)        (None, 224, 224, 64)      36928     \n",
      "_________________________________________________________________\n",
      "block1_pool (MaxPooling2D)   (None, 112, 112, 64)      0         \n",
      "_________________________________________________________________\n",
      "block2_conv1 (Conv2D)        (None, 112, 112, 128)     73856     \n",
      "_________________________________________________________________\n",
      "block2_conv2 (Conv2D)        (None, 112, 112, 128)     147584    \n",
      "_________________________________________________________________\n",
      "block2_pool (MaxPooling2D)   (None, 56, 56, 128)       0         \n",
      "_________________________________________________________________\n",
      "block3_conv1 (Conv2D)        (None, 56, 56, 256)       295168    \n",
      "_________________________________________________________________\n",
      "block3_conv2 (Conv2D)        (None, 56, 56, 256)       590080    \n",
      "_________________________________________________________________\n",
      "block3_conv3 (Conv2D)        (None, 56, 56, 256)       590080    \n",
      "_________________________________________________________________\n",
      "block3_pool (MaxPooling2D)   (None, 28, 28, 256)       0         \n",
      "_________________________________________________________________\n",
      "block4_conv1 (Conv2D)        (None, 28, 28, 512)       1180160   \n",
      "_________________________________________________________________\n",
      "block4_conv2 (Conv2D)        (None, 28, 28, 512)       2359808   \n",
      "_________________________________________________________________\n",
      "block4_conv3 (Conv2D)        (None, 28, 28, 512)       2359808   \n",
      "_________________________________________________________________\n",
      "block4_pool (MaxPooling2D)   (None, 14, 14, 512)       0         \n",
      "_________________________________________________________________\n",
      "block5_conv1 (Conv2D)        (None, 14, 14, 512)       2359808   \n",
      "_________________________________________________________________\n",
      "block5_conv2 (Conv2D)        (None, 14, 14, 512)       2359808   \n",
      "_________________________________________________________________\n",
      "block5_conv3 (Conv2D)        (None, 14, 14, 512)       2359808   \n",
      "_________________________________________________________________\n",
      "block5_pool (MaxPooling2D)   (None, 7, 7, 512)         0         \n",
      "_________________________________________________________________\n",
      "flatten (Flatten)            (None, 25088)             0         \n",
      "_________________________________________________________________\n",
      "fc1 (Dense)                  (None, 4096)              102764544 \n",
      "_________________________________________________________________\n",
      "fc2 (Dense)                  (None, 4096)              16781312  \n",
      "_________________________________________________________________\n",
      "predictions (Dense)          (None, 4)                 16388     \n",
      "=================================================================\n",
      "Total params: 134,276,932\n",
      "Trainable params: 134,276,932\n",
      "Non-trainable params: 0\n",
      "_________________________________________________________________\n"
     ]
    }
   ],
   "source": [
    "vgg16.summary()"
   ]
  },
  {
   "cell_type": "code",
   "execution_count": 41,
   "metadata": {},
   "outputs": [
    {
     "data": {
      "text/plain": [
       "((10, 224, 224, 3), (2048, 4))"
      ]
     },
     "execution_count": 41,
     "metadata": {},
     "output_type": "execute_result"
    }
   ],
   "source": [
    "trX[0:10].shape, yTrain.shape"
   ]
  },
  {
   "cell_type": "code",
   "execution_count": 42,
   "metadata": {},
   "outputs": [
    {
     "name": "stdout",
     "output_type": "stream",
     "text": [
      "Train on 1638 samples, validate on 410 samples\n",
      "Epoch 1/5\n",
      "1638/1638 [==============================] - 71s 43ms/step - loss: 0.1016 - accuracy: 0.8010 - val_loss: 0.0812 - val_accuracy: 0.9951\n",
      "Epoch 2/5\n",
      "1638/1638 [==============================] - 60s 37ms/step - loss: 0.1024 - accuracy: 0.8089 - val_loss: 0.0812 - val_accuracy: 0.9951\n",
      "Epoch 3/5\n",
      "1638/1638 [==============================] - 60s 37ms/step - loss: 0.1024 - accuracy: 0.8089 - val_loss: 0.0812 - val_accuracy: 0.9951\n",
      "Epoch 4/5\n",
      "1638/1638 [==============================] - 61s 37ms/step - loss: 0.1024 - accuracy: 0.8089 - val_loss: 0.0812 - val_accuracy: 0.9951\n",
      "Epoch 5/5\n",
      "1638/1638 [==============================] - 61s 37ms/step - loss: 0.1024 - accuracy: 0.8089 - val_loss: 0.0812 - val_accuracy: 0.9951\n"
     ]
    }
   ],
   "source": [
    "resultado = vgg16.fit(trX, yTrain,\n",
    "                batch_size=16,\n",
    "                #steps_per_epoch=16, \n",
    "                #validation_steps=16,\n",
    "                #validation_steps=200,\n",
    "                validation_split=0.2,\n",
    "                #steps_per_epoch=25,\n",
    "                #validation_steps=200,\n",
    "                epochs=5,\n",
    "                verbose=1)"
   ]
  },
  {
   "cell_type": "code",
   "execution_count": 40,
   "metadata": {},
   "outputs": [
    {
     "data": {
      "text/plain": [
       "array([[0.14839792, 0.6062484 , 0.08792367, 0.15743002],\n",
       "       [0.14839792, 0.6062484 , 0.08792367, 0.15743002],\n",
       "       [0.14839792, 0.6062484 , 0.08792367, 0.15743002],\n",
       "       [0.14839792, 0.6062484 , 0.08792367, 0.15743002],\n",
       "       [0.14839792, 0.6062484 , 0.08792367, 0.15743002]], dtype=float32)"
      ]
     },
     "execution_count": 40,
     "metadata": {},
     "output_type": "execute_result"
    }
   ],
   "source": [
    "b_aprox = vgg16.predict(trX[50:55])\n",
    "b_aprox"
   ]
  },
  {
   "cell_type": "code",
   "execution_count": 32,
   "metadata": {},
   "outputs": [
    {
     "data": {
      "text/plain": [
       "(2, 224, 224, 3)"
      ]
     },
     "execution_count": 32,
     "metadata": {},
     "output_type": "execute_result"
    }
   ],
   "source": [
    "trX[1000:1002].shape"
   ]
  },
  {
   "cell_type": "code",
   "execution_count": 110,
   "metadata": {},
   "outputs": [
    {
     "data": {
      "text/plain": [
       "[NumericColumn(key='y1', shape=(1,), default_value=None, dtype=tf.float32, normalizer_fn=None),\n",
       " NumericColumn(key='x1', shape=(1,), default_value=None, dtype=tf.float32, normalizer_fn=None),\n",
       " NumericColumn(key='y2', shape=(1,), default_value=None, dtype=tf.float32, normalizer_fn=None),\n",
       " NumericColumn(key='x2', shape=(1,), default_value=None, dtype=tf.float32, normalizer_fn=None)]"
      ]
     },
     "execution_count": 110,
     "metadata": {},
     "output_type": "execute_result"
    }
   ],
   "source": [
    "list(map(tf.feature_column.numeric_column,['y1','x1','y2','x2']))"
   ]
  },
  {
   "cell_type": "markdown",
   "metadata": {},
   "source": [
    "# Conclusiones\n",
    "\n"
   ]
  }
 ],
 "metadata": {
  "kernelspec": {
   "display_name": "Python 3",
   "language": "python",
   "name": "python3"
  },
  "language_info": {
   "codemirror_mode": {
    "name": "ipython",
    "version": 3
   },
   "file_extension": ".py",
   "mimetype": "text/x-python",
   "name": "python",
   "nbconvert_exporter": "python",
   "pygments_lexer": "ipython3",
   "version": "3.7.4"
  }
 },
 "nbformat": 4,
 "nbformat_minor": 4
}
