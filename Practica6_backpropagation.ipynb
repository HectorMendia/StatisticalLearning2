{
 "cells": [
  {
   "cell_type": "markdown",
   "metadata": {},
   "source": [
    "# Practica 6\n",
    "### Back-propagation (Propagacion del error)\n",
    "\n",
    "Dado el siguiente diagrama y asumiendo que las neuronas de salida tienen errores de : [3.0,10.0], calcule el término de error(delta minúscula) simplificado para cada una de las neuronas en el diagrama.\n",
    "\n",
    "<img src='back1.png' width='50%'>"
   ]
  },
  {
   "cell_type": "markdown",
   "metadata": {},
   "source": [
    "En este caso lo primero que se calculo fue el forward propagation\n",
    "\n",
    "Tomando como:\n",
    "\n",
    "* x1 = x2 = x3 = 1    \n",
    "* Learning rate = 1\n",
    "* Activacion = sigmoid = $ f(x) =  \\frac{1}{1 + e^-x }  $\n",
    "\n",
    "|     |      |    |      | | |\n",
    "|-----|------|-----|-------|-----|-------|\n",
    "| w1  | 0.3  | w10 | -0.3  | w19 | -0.23 |\n",
    "| w2  | 0.46 | w11 | 0.62  | w20 | 0.22 |\n",
    "| w3  | 0.02 | w12 | 0.45  | w21 | 0.77 |\n",
    "| w4  | 0.22 | w13 | 0.45  | w22 | 0.9 |\n",
    "| w5  | -0.7 | w14 | 0.57  | w23 | 0.88 |\n",
    "| w6  | 0.65 | w15 | 0.48  | w24 | -0.4 |\n",
    "| w7  | 0.65 | w16 | 0.65  |  |  |\n",
    "| w8  | 0.9  | w17 | 0.58  |  |  |\n",
    "| w9  | 0.34 | w18 | -0.45 |  |  |"
   ]
  },
  {
   "cell_type": "markdown",
   "metadata": {},
   "source": [
    "$H1 = x1*w1 + x2*w2 + x3*w3 = 0.3 + 0.46 + 0.02 = 0.78 --> sigmoid(H1) = 0.6856$\n",
    "\n",
    "Por lo que tendriamos\n",
    "\n",
    "|     |      |    |      | | |\n",
    "|-----|------|-----|-------|-----|-------|\n",
    "| H1  | 0.685680114 | H4 | 0.62750375   | Y1 | 0.616164076 |\n",
    "| H2  | 0.542397941 | H5 | 0.737831013  | Y2 | 0.726616765 |\n",
    "| H3  | 0.868755531 | H6 | 0.591300188  |  |  |\n",
    "\n",
    "Los errores datos fueron 3, 10\n",
    "\n"
   ]
  },
  {
   "cell_type": "markdown",
   "metadata": {},
   "source": [
    "**Backpropagation de cada w**"
   ]
  },
  {
   "cell_type": "markdown",
   "metadata": {},
   "source": [
    "$\\alpha = 1$\n",
    "$$ w19 = w19 - \\alpha\\frac{\\partial error}{\\partial w19} $$\n",
    "\n",
    "$$ \\frac{\\partial error}{\\partial w19} = \\frac{\\partial error}{\\partial aY_1} \\frac{\\partial aY_1}{\\partial Y_1} \\frac{\\partial Y_1}{\\partial w19} $$\n",
    "\n",
    "$$\\frac{\\partial error}{\\partial aY_1} = 3$$\n",
    "$$\\frac{\\partial aY_1}{\\partial Y_1} = aY_1(1-aY_1) = 0.616164076 (1-0.616164076) = 0.236505907$$\n",
    "$$\\frac{\\partial Y_1}{\\partial w19} = aH4 = 0.62750375$$\n",
    "$$ \\frac{\\partial error}{\\partial w19} = (3) (0.236505907) (0.62750375) = 0.445225032$$\n",
    "\n",
    "$$ w19 = w19 - \\alpha \\frac{\\partial error}{\\partial w19} = -0.23 - 0.445225032 = -0.675225032$$\n"
   ]
  },
  {
   "cell_type": "markdown",
   "metadata": {},
   "source": [
    "|     | inicial | cambio | nuevo (w-cambio)|\n",
    "|-----|---------|--------|-------|\n",
    "| w19 |  -0.23 | 0.445225032 | -0.675225032 |\n",
    "| w20 |  0.22  | 0.52350418  | -0.30350418  |\n",
    "| w21 |  0.77  | 0.419537963 | 0.350462037  |\n",
    "| w22 |  0.9   | 1.246503832 | -0.346503832 |\n",
    "| w23 |  0.88  | 1.465663248 | -0.585663248 |\n",
    "| w24 |  -0.4  | 1.174587323 | -1.574587323 |\n"
   ]
  },
  {
   "cell_type": "markdown",
   "metadata": {},
   "source": [
    "$$ w10 = w10 - \\alpha\\frac{\\partial error}{\\partial w10} $$\n",
    "<br/>\n",
    "$$ \\frac{\\partial error}{\\partial w10} = \\frac{\\partial error}{\\partial aH4} \\frac{\\partial aH4}{\\partial H4} \\frac{\\partial H4}{\\partial w10} = (1.6246145) (0.233742794) (0.685680114) = 0.260381491$$\n",
    "<br/>\n",
    "\n",
    "$$\\frac{\\partial H4}{\\partial w10} = aH1 = 0.685680114$$\n",
    "$$\\frac{\\partial aH4}{\\partial H4} = aH4(1-aH4) = 0.62750375 (1-0.62750375) = 0.233742794$$\n",
    "$$\\frac{\\partial error}{\\partial aH4} = \\frac{\\partial error1}{\\partial aH4} + \\frac{\\partial error2}{\\partial aH4} = (-0.163189076) + (1.787803576) = 1.6246145 $$ \n",
    "<br/>\n",
    "\n",
    "$$\\frac{\\partial error1}{\\partial aH4} = \\frac{\\partial error1}{\\partial Y_1} \\frac{\\partial Y_1}{\\partial aH4} = (0.709517722)(-0.23) = -0.163189076 $$ \n",
    "$$\\frac{\\partial error1}{\\partial Y_1} = \\frac{\\partial error1}{\\partial aY_1} \\frac{\\partial aY_1}{\\partial Y_1} = (3)(0.236505907) = 0.709517722$$\n",
    "$$\\frac{\\partial Y_1}{\\partial aH4} = w19 = -0.23$$\n",
    "<br/>\n",
    "$$\\frac{\\partial error2}{\\partial aH4} = \\frac{\\partial error2}{\\partial Y_2} \\frac{\\partial Y_2}{\\partial aH4} = (0.198644842)(0.9) = 1.787803576 $$ \n",
    "$$\\frac{\\partial error2}{\\partial Y_2} = \\frac{\\partial error2}{\\partial aY_2} \\frac{\\partial aY_2}{\\partial Y_1} = (10)(0.198644842) = 0.198644842$$\n",
    "$$\\frac{\\partial Y_2}{\\partial aH4} = w22 = 0.9$$\n",
    "\n",
    "\n",
    "<br/>\n",
    "\n",
    "$$ w10 = w10 - \\alpha \\frac{\\partial error}{\\partial w10} = -0.3 - 0.260381491 = -0.560381491$$\n"
   ]
  },
  {
   "cell_type": "markdown",
   "metadata": {},
   "source": [
    "Similar a w10 se calcula w11 y w12\n",
    "\n",
    "<br/>\n",
    "$$ \\frac{\\partial error}{\\partial w11} = \\frac{\\partial error}{\\partial aH4} \\frac{\\partial aH4}{\\partial H4} \\frac{\\partial H4}{\\partial w11} = 0.205971242$$\n",
    "\n",
    "<br/>\n",
    "$$ \\frac{\\partial error}{\\partial w12} = \\frac{\\partial error}{\\partial aH4} \\frac{\\partial aH4}{\\partial H4} \\frac{\\partial H4}{\\partial w12} = 0.329902903$$\n"
   ]
  },
  {
   "cell_type": "markdown",
   "metadata": {},
   "source": [
    "Para w13\n",
    "\n",
    "<br/>\n",
    "$$ \\frac{\\partial error}{\\partial w13} = \\frac{\\partial error}{\\partial aH5} \\frac{\\partial aH5}{\\partial H5} \\frac{\\partial H5}{\\partial w13} = 0.252560341$$\n",
    "\n",
    "<br/>\n",
    "$$\\frac{\\partial H5}{\\partial w13} = aH1 = 0.685680114$$\n",
    "$$\\frac{\\partial aH5}{\\partial H5} = aH5 (1 - aH5) = 0.737831013 (1 - 0.737831013) = 0.193436409$$\n",
    "$$\\frac{\\partial error}{\\partial aH5} = \\frac{\\partial error1}{\\partial aH5} + \\frac{\\partial error2}{\\partial aH5} = (0.156093899) + (1.748074608) = 1.904168507 $$ \n",
    "\n"
   ]
  },
  {
   "cell_type": "markdown",
   "metadata": {},
   "source": [
    "Valores de w\n",
    "\n",
    "|     | inicial | cambio | nuevo (w-cambio) |\n",
    "|-----|---------|--------|-------|\n",
    "| w10 |  -0.3  | 0.260381491 | -0.560381491 |\n",
    "| w11 |  0.62  | 0.205971242 | 0.414028758  |\n",
    "| w12 |  0.45  | 0.329902903 | 0.120097097  |\n",
    "| w13 |  0.45  | 0.252560341 | 0.197439659 |\n",
    "| w14 |  0.57  | 0.199784427 | 0.370215573 |\n",
    "| w15 |  0.48  | 0.319993519 | 0.160006481 |\n",
    "| w16 |  0.65  | -0.041136234 | 0.691136234 |\n",
    "| w17 |  0.58  | -0.032540259 | 0.612540259 |\n",
    "| w18 |  -0.45 | -0.052119538 | -0.397880462 |\n"
   ]
  },
  {
   "cell_type": "markdown",
   "metadata": {},
   "source": [
    "Para la ultima parte w1\n",
    "\n",
    "$$ w1 = w1 - \\alpha\\frac{\\partial error}{\\partial w1} $$\n",
    "<br/>\n",
    "$$ \\frac{\\partial error}{\\partial w1} = \\frac{\\partial error}{\\partial aH1} \\frac{\\partial aH1}{\\partial H1} \\frac{\\partial H1}{\\partial w1} = (0.012832739) (0.215522895) (1) = 0.002765749$$\n",
    "<br/>\n",
    "\n",
    "$$\\frac{\\partial H1}{\\partial w1} = x1 = 1$$\n",
    "$$\\frac{\\partial aH1}{\\partial H1} = aH1(1-aH1) = 0.685680114 (1 - 0.685680114) = 0.215522895$$\n",
    "$$\\frac{\\partial error}{\\partial aH1} = \\frac{\\partial error1}{\\partial aH1} + \\frac{\\partial error2}{\\partial aH1} + \\frac{\\partial error3}{\\partial aH1} = (-0.11392258) + (0.165750984) + (-0.038995665) = 0.012832739 $$ \n",
    "<br/>\n",
    "\n",
    "$$\\frac{\\partial error1}{\\partial aH1} = \\frac{\\partial error1}{\\partial H4} \\frac{\\partial H4}{\\partial aH1} = (0.379741932)(-0.3) = -0.11392258$$ \n",
    "$$\\frac{\\partial error1}{\\partial H4} = \\frac{\\partial error1}{\\partial aH4} \\frac{\\partial aH4}{\\partial H4} = (1.6246145)(0.233742794) = 0.379741932$$\n",
    "$$\\frac{\\partial H4}{\\partial aH1} = w10 = -0.3$$\n",
    "<br/>\n",
    "$$\\frac{\\partial error2}{\\partial aH1} = \\frac{\\partial error2}{\\partial H5} \\frac{\\partial H5}{\\partial aH1} = (0.368335519)(0.45) = 0.165750984$$ \n",
    "$$\\frac{\\partial error2}{\\partial H5} = \\frac{\\partial error2}{\\partial aH5} \\frac{\\partial aH5}{\\partial H5} = (1.904168507)(0.193436409) = 0.368335519$$\n",
    "$$\\frac{\\partial H5}{\\partial aH1} = w13 = 0.45$$\n",
    "<br/>\n",
    "$$\\frac{\\partial error3}{\\partial aH1} = \\frac{\\partial error3}{\\partial H6} \\frac{\\partial H6}{\\partial aH1} = (-0.059993331)(0.65) = -0.038995665$$ \n",
    "$$\\frac{\\partial error3}{\\partial H6} = \\frac{\\partial error3}{\\partial aH6} \\frac{\\partial aH6}{\\partial H6} = (-0.248250721)(0.241664276) = -0.059993331$$\n",
    "$$\\frac{\\partial H6}{\\partial aH1} = w16 = 0.65$$\n",
    "\n",
    "<br/>\n",
    "\n",
    "$$ w10 = w10 - \\alpha \\frac{\\partial error}{\\partial w10} = -0.3 - 0.260381491 = -0.560381491$$\n"
   ]
  },
  {
   "cell_type": "markdown",
   "metadata": {},
   "source": [
    "Cambios en w\n",
    "\n",
    "|     | inicial | cambio | nuevo |\n",
    "|-----|---------|--------|-------|\n",
    "| w1 | 0.3  | 0.002765749 | 0.297234251 |\n",
    "| w2 | 0.46 | 0.002765749 | 0.457234251 |\n",
    "| w3 | 0.02 | 0.002765749 | 0.017234251 |\n",
    "| w4 | 0.22 | 0.101910698 | 0.118089302 |\n",
    "| w5 | -0.7 | 0.101910698 | -0.801910698 |\n",
    "| w6 | 0.65 | 0.101910698 | 0.548089302 |\n",
    "| w7 | 0.65 | 0.042720992 | 0.607279008 |\n",
    "| w8 | 0.9  | 0.042720992 | 0.857279008 |\n",
    "| w9 | 0.34 | 0.042720992 | 0.297279008 |\n"
   ]
  },
  {
   "cell_type": "code",
   "execution_count": null,
   "metadata": {},
   "outputs": [],
   "source": []
  },
  {
   "cell_type": "markdown",
   "metadata": {},
   "source": [
    "### Back-propagation(Práctica)\n",
    "\n",
    "* Entrenar un aproximador para la función Xor usando 2 capas intermedias.\n",
    "* Usar 2 neuronas en la capa anterior a la salida(segunda capa oculta)\n",
    "* Usar al menos 2(pueden ser más) en la primera capa oculta.\n",
    "* Usar activación ReLu en las capas intermedias y no activación en la salida\n",
    "* Usar numpy\n",
    "* Realizar 5 experimentos, en cada experimento(corrida de entrenamiento):\n",
    "* Inicializar los parámetros aleatoriamente con distribución normal centrada en 0 y std = 0.1\n",
    "* Retornar la representación intermedia de la segunda capa oculta.\n",
    "* Graficar las 5 representaciones intermedias(1 por experimento), comparar, comentar y/o concluir."
   ]
  },
  {
   "cell_type": "code",
   "execution_count": 1,
   "metadata": {},
   "outputs": [],
   "source": [
    "import numpy as np\n",
    "import matplotlib.pyplot as plt\n",
    "import seaborn as sb"
   ]
  },
  {
   "cell_type": "code",
   "execution_count": 22,
   "metadata": {},
   "outputs": [],
   "source": [
    "def ident(Z):\n",
    "    A = Z\n",
    "    return A\n",
    "\n",
    "def relu(Z):\n",
    "    A = np.maximum(0,Z)\n",
    "    return A\n"
   ]
  },
  {
   "cell_type": "code",
   "execution_count": 124,
   "metadata": {},
   "outputs": [],
   "source": [
    "def init(nx, nh, ny, fix = True):\n",
    "    if fix:\n",
    "        np.random.seed(1)\n",
    "    \n",
    "    W1 = np.random.normal(0.5, 0.1, size=(nh,nx))\n",
    "    W2 = np.random.normal(0.5, 0.1, size=(nh,nx)) \n",
    "    W3 = np.random.normal(0.5, 0.1, size=(ny,nh)) \n",
    "    salida = {\"W1\": W1, \"W2\": W2, \"W3\": W3}\n",
    "    \n",
    "    return salida    "
   ]
  },
  {
   "cell_type": "code",
   "execution_count": null,
   "metadata": {},
   "outputs": [],
   "source": []
  },
  {
   "cell_type": "code",
   "execution_count": 111,
   "metadata": {},
   "outputs": [],
   "source": [
    "def forward_propagation(vals, W, tipo):\n",
    "    Z = np.dot(W,vals)\n",
    "    #print(Z)\n",
    "    if tipo == \"ident\":\n",
    "        salida = ident(Z)\n",
    "    elif tipo == \"relu\":\n",
    "        salida = relu(Z)\n",
    "        \n",
    "    return salida,Z"
   ]
  },
  {
   "cell_type": "code",
   "execution_count": null,
   "metadata": {},
   "outputs": [],
   "source": [
    "\n"
   ]
  },
  {
   "cell_type": "code",
   "execution_count": 94,
   "metadata": {},
   "outputs": [],
   "source": [
    "def costo(AL, Y):\n",
    "    m = Y.shape[1]\n",
    "    salida = - np.sum(AL-Y)\n",
    "    salida = salida/m\n",
    "    # reducir dimensionalidad del array\n",
    "    salida = np.squeeze(salida) \n",
    "    return salida"
   ]
  },
  {
   "cell_type": "code",
   "execution_count": null,
   "metadata": {},
   "outputs": [],
   "source": []
  },
  {
   "cell_type": "code",
   "execution_count": 102,
   "metadata": {},
   "outputs": [],
   "source": [
    "def backward(dZ, A_prev, w):\n",
    "    m = A_prev.shape[1]\n",
    "    dw = np.dot(dZ,A_prev.T)/m\n",
    "    #db = np.array([[np.sum(dZ)/m]])  #np.sum(dZ,axis=1,keepdims=True)/m #np.array([[np.sum(dZ)/m]])\n",
    "    dA_prev = np.dot(w.T,dZ)\n",
    "    \n",
    "    return dA_prev, dw"
   ]
  },
  {
   "cell_type": "code",
   "execution_count": 103,
   "metadata": {},
   "outputs": [],
   "source": [
    "def backward_propagation(dA, A, W, Z,tipo):    \n",
    "    if tipo == \"ident\":\n",
    "        dZ = np.ones(dA.shape)\n",
    "    elif tipo == \"relu\":\n",
    "        #dZ = np.where(dA <= 0, 0, 1)\n",
    "        dZ = np.greater(dA, 0).astype(int)\n",
    "        \n",
    "    dA_prev, dW = backward(dZ, A, W)\n",
    "    return dA_prev, dW"
   ]
  },
  {
   "cell_type": "code",
   "execution_count": null,
   "metadata": {},
   "outputs": [],
   "source": []
  },
  {
   "cell_type": "code",
   "execution_count": 113,
   "metadata": {},
   "outputs": [],
   "source": [
    "def actualizar(valores, temp_w, lr):\n",
    "    capas = len(valores) // 2 #numero de capas\n",
    "    #print('valores: ', capas)\n",
    "    for l in range(1,capas+1):\n",
    "        valores[\"W\" + str(l)]= valores[\"W\" + str(l)] - lr * temp_w[\"dW\" + str(l)]\n",
    "    return valores"
   ]
  },
  {
   "cell_type": "code",
   "execution_count": 170,
   "metadata": {},
   "outputs": [],
   "source": [
    "def nn_xor(nx,nh,ny,fix,epochs,lr,X,Y):\n",
    "\n",
    "    temp_w = {}\n",
    "    error = []                            \n",
    "    m = X.shape[1]                          \n",
    "\n",
    "    valores = init(nx, nh, ny, fix) \n",
    "\n",
    "\n",
    "    W1 = valores[\"W1\"]\n",
    "    W2 = valores[\"W2\"]\n",
    "    W3 = valores[\"W3\"]\n",
    "\n",
    "    #print(valores)\n",
    "\n",
    "    for i in range(0, epochs):\n",
    "\n",
    "        #print(X, W1, b1)\n",
    "        A1,Z1 = forward_propagation(X, W1, \"relu\")\n",
    "        #print('A1: ',A1.shape, A1)\n",
    "        #print('Z1: ',Z1.shape, Z1)\n",
    "        A2,Z2 = forward_propagation(A1, W2, \"relu\")\n",
    "        #print('A2: ', A2)\n",
    "        A3,Z3 = forward_propagation(A2, W3, \"ident\")\n",
    "        #print('A3: ', A3)\n",
    "        #A3 = A3.astype(int)\n",
    "        #A3[A3<0] = 0\n",
    "        #print('A3: ', A3)\n",
    "        error = costo(A3, Y)\n",
    "        #print('cost: ',cost)\n",
    "\n",
    "\n",
    "        # cross entrophy\n",
    "        #dA3 = - (np.divide(Y, A3) - np.divide(1 - Y, 1 - A3))\n",
    "        dA3 = -(Y - A3)\n",
    "        #print('Y: ', Y)\n",
    "        #print('A3: ', A3)\n",
    "        #print('dA3: ', dA3)\n",
    "\n",
    "        dA2, dW3 = backward_propagation(dA3, A3, W3, Z3, \"ident\")\n",
    "        #print('dA1: ', dA1.shape)\n",
    "        dA1, dW2 = backward_propagation(dA2, A2, W2, Z2, \"relu\")\n",
    "        dA0, dW1 = backward_propagation(dA1, A1, W1, Z1, \"relu\")\n",
    "\n",
    "\n",
    "        temp_w['dW1'] = dW1\n",
    "        temp_w['dW2'] = dW2\n",
    "        temp_w['dW3'] = dW3\n",
    "\n",
    "\n",
    "        valores = actualizar(valores, temp_w, learning_rate)\n",
    "\n",
    "\n",
    "        W1 = valores[\"W1\"]\n",
    "        W2 = valores[\"W2\"]\n",
    "        W3 = valores[\"W3\"]\n",
    "\n",
    "\n",
    "\n",
    "    y_col = np.zeros(np.squeeze(A3).shape)\n",
    "    np.copyto(y_col,A3)\n",
    "    y_col[y_col>0] = 1\n",
    "\n",
    "    plt.title(\"Grafica de ultima capa oculta\")\n",
    "    ax = sb.scatterplot(x=A2[0], y=A2[1],s=75, hue=y_col)\n",
    "\n",
    "    return valores"
   ]
  },
  {
   "cell_type": "markdown",
   "metadata": {},
   "source": [
    "#### Ejemplo 1"
   ]
  },
  {
   "cell_type": "code",
   "execution_count": 171,
   "metadata": {},
   "outputs": [
    {
     "data": {
      "image/png": "[encoded data removed]",
      "text/plain": [
       "<Figure size 432x288 with 1 Axes>"
      ]
     },
     "metadata": {
      "needs_background": "light"
     },
     "output_type": "display_data"
    }
   ],
   "source": [
    "nx = 2 # tamaño de capa de los x input\n",
    "nh = 2 # cantidad de capas ocultas\n",
    "ny = 1 # cantidad de salidas\n",
    "epochs = 11\n",
    "lr = 1\n",
    "fix=False # generar salida definida\n",
    "\n",
    "X = np.array([[1,1],[1,0],[0,1],[0,0]]).T\n",
    "Y = np.array([[0,1,1,0]])\n",
    "\n",
    "\n",
    "resultado = nn_xor(nx,nh,ny,fix,epochs,lr,X,Y)"
   ]
  },
  {
   "cell_type": "markdown",
   "metadata": {},
   "source": [
    "#### Ejemplo 2"
   ]
  },
  {
   "cell_type": "code",
   "execution_count": 173,
   "metadata": {},
   "outputs": [
    {
     "data": {
      "image/png": "[encoded data removed]",
      "text/plain": [
       "<Figure size 432x288 with 1 Axes>"
      ]
     },
     "metadata": {
      "needs_background": "light"
     },
     "output_type": "display_data"
    }
   ],
   "source": [
    "X = np.array([[1,0],[1,0],[0,1],[0,1],[1,1],[0,0]]).T\n",
    "Y = np.array([[1,1,1,1,0,0]])\n",
    "\n",
    "\n",
    "resultado = nn_xor(nx,nh,ny,fix,epochs,lr,X,Y)"
   ]
  },
  {
   "cell_type": "markdown",
   "metadata": {},
   "source": [
    "#### Ejemplo 3"
   ]
  },
  {
   "cell_type": "code",
   "execution_count": 174,
   "metadata": {},
   "outputs": [
    {
     "data": {
      "image/png": "[encoded data removed]",
      "text/plain": [
       "<Figure size 432x288 with 1 Axes>"
      ]
     },
     "metadata": {
      "needs_background": "light"
     },
     "output_type": "display_data"
    }
   ],
   "source": [
    "X = np.array([[1,1],[1,0],[0,1],[0,0]]).T\n",
    "Y = np.array([[0,1,1,0]])\n",
    "\n",
    "\n",
    "resultado = nn_xor(nx,nh,ny,fix,epochs,lr,X,Y)"
   ]
  },
  {
   "cell_type": "markdown",
   "metadata": {},
   "source": [
    "#### Ejemplo 4"
   ]
  },
  {
   "cell_type": "code",
   "execution_count": 175,
   "metadata": {},
   "outputs": [
    {
     "data": {
      "image/png": "[encoded data removed]",
      "text/plain": [
       "<Figure size 432x288 with 1 Axes>"
      ]
     },
     "metadata": {
      "needs_background": "light"
     },
     "output_type": "display_data"
    }
   ],
   "source": [
    "X = np.array([[1,0],[0,1],[1,1],[0,0],[1,0],[0,1]]).T\n",
    "Y = np.array([[1,1,0,0,1,1]])\n",
    "\n",
    "\n",
    "resultado = nn_xor(nx,nh,ny,fix,epochs,lr,X,Y)"
   ]
  },
  {
   "cell_type": "markdown",
   "metadata": {},
   "source": [
    "#### Ejemplo 5"
   ]
  },
  {
   "cell_type": "code",
   "execution_count": 176,
   "metadata": {},
   "outputs": [
    {
     "data": {
      "image/png": "[encoded data removed]",
      "text/plain": [
       "<Figure size 432x288 with 1 Axes>"
      ]
     },
     "metadata": {
      "needs_background": "light"
     },
     "output_type": "display_data"
    }
   ],
   "source": [
    "X = np.array([[1,0],[1,0],[0,1],[0,1],[1,1],[1,1],[0,0],[0,0]]).T\n",
    "Y = np.array([[1,1,1,1,0,0,0,0]])\n",
    "\n",
    "\n",
    "resultado = nn_xor(nx,nh,ny,fix,epochs,lr,X,Y)"
   ]
  },
  {
   "cell_type": "markdown",
   "metadata": {},
   "source": [
    "### Conclusiones\n",
    "\n",
    "Como se logra observar en las graficas anteriores el resultado es el mismo en los distintos experimentos.  A pesar de que se tiene una inicializacion aleatoria por lo que la escala varia entre cada uno de ellos.\n",
    "\n",
    "Converge rapidamente para cada experimento por la simplicidad de la operacion en si.  \n",
    "\n",
    "La implementacion requierio mas tiempo del pensado.  Por que su vuelve tan laborioso (pero a la vez 'sistematico') y complicado de seguir el rastro a cada valor para saber si todo marcha bien es que es muy conviente el uso de librerias complementarias, para facilitar la implementacion de las RN, en lo interno el minimo error tiene grandes repercusiones,  lo cual ayuda tambien usar librerias que carezcan de errores comunes.\n",
    "\n"
   ]
  }
 ],
 "metadata": {
  "kernelspec": {
   "display_name": "Python 3",
   "language": "python",
   "name": "python3"
  },
  "language_info": {
   "codemirror_mode": {
    "name": "ipython",
    "version": 3
   },
   "file_extension": ".py",
   "mimetype": "text/x-python",
   "name": "python",
   "nbconvert_exporter": "python",
   "pygments_lexer": "ipython3",
   "version": "3.7.4"
  }
 },
 "nbformat": 4,
 "nbformat_minor": 4
}
