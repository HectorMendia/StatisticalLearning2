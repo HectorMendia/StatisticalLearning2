{
 "cells": [
  {
   "cell_type": "markdown",
   "metadata": {},
   "source": [
    "Procesamiento de datos para parte 1 de proyecto\n",
    "\n",
    "Geolife Trajectories 1.3\n",
    "\n",
    "\n"
   ]
  },
  {
   "cell_type": "code",
   "execution_count": 3,
   "metadata": {},
   "outputs": [],
   "source": [
    "import re\n",
    "import os\n",
    "import numpy as np\n",
    "import pandas as pd\n",
    "import datetime"
   ]
  },
  {
   "cell_type": "code",
   "execution_count": null,
   "metadata": {},
   "outputs": [],
   "source": [
    "Start Time\tEnd Time\tTransportation Mode\n",
    "2007/06/26 11:32:29\t2007/06/26 11:40:29\tbus\n",
    "2008/03/28 14:52:54\t2008/03/28 15:59:59\ttrain\n",
    "2008/03/28 16:00:00\t2008/03/28 22:02:00\ttrain\n",
    "2008/03/29 01:27:50\t2008/03/29 15:59:59\ttrain"
   ]
  },
  {
   "cell_type": "code",
   "execution_count": 4,
   "metadata": {},
   "outputs": [
    {
     "name": "stdout",
     "output_type": "stream",
     "text": [
      "folder: 010\n",
      "   Segunda parte\n",
      "   Total traj: 161   Grd Total: 935576\n",
      "    Tercera parte 434 434\n"
     ]
    },
    {
     "ename": "KeyboardInterrupt",
     "evalue": "",
     "output_type": "error",
     "traceback": [
      "\u001b[1;31m---------------------------------------------------------------------------\u001b[0m",
      "\u001b[1;31mKeyboardInterrupt\u001b[0m                         Traceback (most recent call last)",
      "\u001b[1;32m<ipython-input-4-956903b44e95>\u001b[0m in \u001b[0;36m<module>\u001b[1;34m\u001b[0m\n\u001b[0;32m     66\u001b[0m                 \u001b[0mstrPunto\u001b[0m \u001b[1;33m=\u001b[0m \u001b[0mpunto\u001b[0m\u001b[1;33m.\u001b[0m\u001b[0mreplace\u001b[0m\u001b[1;33m(\u001b[0m\u001b[1;34m'\\n'\u001b[0m\u001b[1;33m,\u001b[0m\u001b[1;34m''\u001b[0m\u001b[1;33m)\u001b[0m\u001b[1;33m.\u001b[0m\u001b[0msplit\u001b[0m\u001b[1;33m(\u001b[0m\u001b[1;34m','\u001b[0m\u001b[1;33m)\u001b[0m\u001b[1;33m\u001b[0m\u001b[1;33m\u001b[0m\u001b[0m\n\u001b[0;32m     67\u001b[0m                 \u001b[1;31m#print(strPunto)\u001b[0m\u001b[1;33m\u001b[0m\u001b[1;33m\u001b[0m\u001b[1;33m\u001b[0m\u001b[0m\n\u001b[1;32m---> 68\u001b[1;33m                 \u001b[0mfechaPun\u001b[0m \u001b[1;33m=\u001b[0m \u001b[0mdatetime\u001b[0m\u001b[1;33m.\u001b[0m\u001b[0mdatetime\u001b[0m\u001b[1;33m.\u001b[0m\u001b[0mstrptime\u001b[0m\u001b[1;33m(\u001b[0m\u001b[0mstrPunto\u001b[0m\u001b[1;33m[\u001b[0m\u001b[1;36m5\u001b[0m\u001b[1;33m]\u001b[0m \u001b[1;33m+\u001b[0m \u001b[1;34m' '\u001b[0m \u001b[1;33m+\u001b[0m \u001b[0mstrPunto\u001b[0m\u001b[1;33m[\u001b[0m\u001b[1;36m6\u001b[0m\u001b[1;33m]\u001b[0m\u001b[1;33m,\u001b[0m \u001b[1;34m'%Y-%m-%d %H:%M:%S'\u001b[0m \u001b[1;33m)\u001b[0m \u001b[1;31m#'%Y-%m-%d %H:%M:%S'\u001b[0m\u001b[1;33m\u001b[0m\u001b[1;33m\u001b[0m\u001b[0m\n\u001b[0m\u001b[0;32m     69\u001b[0m \u001b[1;33m\u001b[0m\u001b[0m\n\u001b[0;32m     70\u001b[0m                 \u001b[0mdif1\u001b[0m \u001b[1;33m=\u001b[0m \u001b[0mabs\u001b[0m\u001b[1;33m(\u001b[0m\u001b[0ma\u001b[0m \u001b[1;33m-\u001b[0m \u001b[0mfechaPun\u001b[0m\u001b[1;33m)\u001b[0m\u001b[1;33m\u001b[0m\u001b[1;33m\u001b[0m\u001b[0m\n",
      "\u001b[1;32m~\\AppData\\Local\\Programs\\Anaconda3\\lib\\_strptime.py\u001b[0m in \u001b[0;36m_strptime_datetime\u001b[1;34m(cls, data_string, format)\u001b[0m\n\u001b[0;32m    575\u001b[0m     \"\"\"Return a class cls instance based on the input string and the\n\u001b[0;32m    576\u001b[0m     format string.\"\"\"\n\u001b[1;32m--> 577\u001b[1;33m     \u001b[0mtt\u001b[0m\u001b[1;33m,\u001b[0m \u001b[0mfraction\u001b[0m\u001b[1;33m,\u001b[0m \u001b[0mgmtoff_fraction\u001b[0m \u001b[1;33m=\u001b[0m \u001b[0m_strptime\u001b[0m\u001b[1;33m(\u001b[0m\u001b[0mdata_string\u001b[0m\u001b[1;33m,\u001b[0m \u001b[0mformat\u001b[0m\u001b[1;33m)\u001b[0m\u001b[1;33m\u001b[0m\u001b[1;33m\u001b[0m\u001b[0m\n\u001b[0m\u001b[0;32m    578\u001b[0m     \u001b[0mtzname\u001b[0m\u001b[1;33m,\u001b[0m \u001b[0mgmtoff\u001b[0m \u001b[1;33m=\u001b[0m \u001b[0mtt\u001b[0m\u001b[1;33m[\u001b[0m\u001b[1;33m-\u001b[0m\u001b[1;36m2\u001b[0m\u001b[1;33m:\u001b[0m\u001b[1;33m]\u001b[0m\u001b[1;33m\u001b[0m\u001b[1;33m\u001b[0m\u001b[0m\n\u001b[0;32m    579\u001b[0m     \u001b[0margs\u001b[0m \u001b[1;33m=\u001b[0m \u001b[0mtt\u001b[0m\u001b[1;33m[\u001b[0m\u001b[1;33m:\u001b[0m\u001b[1;36m6\u001b[0m\u001b[1;33m]\u001b[0m \u001b[1;33m+\u001b[0m \u001b[1;33m(\u001b[0m\u001b[0mfraction\u001b[0m\u001b[1;33m,\u001b[0m\u001b[1;33m)\u001b[0m\u001b[1;33m\u001b[0m\u001b[1;33m\u001b[0m\u001b[0m\n",
      "\u001b[1;32m~\\AppData\\Local\\Programs\\Anaconda3\\lib\\_strptime.py\u001b[0m in \u001b[0;36m_strptime\u001b[1;34m(data_string, format)\u001b[0m\n\u001b[0;32m    338\u001b[0m             \u001b[0m_regex_cache\u001b[0m\u001b[1;33m.\u001b[0m\u001b[0mclear\u001b[0m\u001b[1;33m(\u001b[0m\u001b[1;33m)\u001b[0m\u001b[1;33m\u001b[0m\u001b[1;33m\u001b[0m\u001b[0m\n\u001b[0;32m    339\u001b[0m         \u001b[0mformat_regex\u001b[0m \u001b[1;33m=\u001b[0m \u001b[0m_regex_cache\u001b[0m\u001b[1;33m.\u001b[0m\u001b[0mget\u001b[0m\u001b[1;33m(\u001b[0m\u001b[0mformat\u001b[0m\u001b[1;33m)\u001b[0m\u001b[1;33m\u001b[0m\u001b[1;33m\u001b[0m\u001b[0m\n\u001b[1;32m--> 340\u001b[1;33m         \u001b[1;32mif\u001b[0m \u001b[1;32mnot\u001b[0m \u001b[0mformat_regex\u001b[0m\u001b[1;33m:\u001b[0m\u001b[1;33m\u001b[0m\u001b[1;33m\u001b[0m\u001b[0m\n\u001b[0m\u001b[0;32m    341\u001b[0m             \u001b[1;32mtry\u001b[0m\u001b[1;33m:\u001b[0m\u001b[1;33m\u001b[0m\u001b[1;33m\u001b[0m\u001b[0m\n\u001b[0;32m    342\u001b[0m                 \u001b[0mformat_regex\u001b[0m \u001b[1;33m=\u001b[0m \u001b[0m_TimeRE_cache\u001b[0m\u001b[1;33m.\u001b[0m\u001b[0mcompile\u001b[0m\u001b[1;33m(\u001b[0m\u001b[0mformat\u001b[0m\u001b[1;33m)\u001b[0m\u001b[1;33m\u001b[0m\u001b[1;33m\u001b[0m\u001b[0m\n",
      "\u001b[1;31mKeyboardInterrupt\u001b[0m: "
     ]
    }
   ],
   "source": [
    "inicioPts = []\n",
    "finPts = []\n",
    "tmode = []\n",
    "x1 = []\n",
    "y1 = []\n",
    "x2 = []\n",
    "y2 = []\n",
    "tiempo_min = []\n",
    "trajectorias = []\n",
    "for folder in os.listdir(r\"Geolife1.3/Data\"):\n",
    "    #print(folder)\n",
    "    if os.path.isfile(r\"Geolife1.3/Data/\" + folder + '/labels.txt'):\n",
    "        print('folder:', folder)\n",
    "        file = open(r\"Geolife1.3/Data/\" + folder + '/labels.txt', 'r')\n",
    "        Lines = file.readlines()\n",
    "        for idx, line in enumerate(Lines):\n",
    "            if idx>0:\n",
    "                #print(line.split())\n",
    "                valores = line.split()\n",
    "                # datetime.timedelta(minutes=1)\n",
    "                d1 = valores[1].split(':')\n",
    "\n",
    "                #print(d1)\n",
    "                date1 = datetime.datetime.strptime(valores[0] + ' ' + valores[1], '%Y/%m/%d %H:%M:%S')\n",
    "                #datetime.timedelta(hours = int(d1[0]),minutes = int(d1[1]), seconds = int(d1[2]))\n",
    "                date2 = datetime.datetime.strptime(valores[2] + ' ' + valores[3], '%Y/%m/%d %H:%M:%S')\n",
    "                minutos = (date2 - date1).seconds/60\n",
    "                inicioPts.append(date1)\n",
    "                finPts.append(date2)\n",
    "                tiempo_min.append(minutos)\n",
    "                tmode.append(valores[4])\n",
    "        print('   Segunda parte')\n",
    "        ## Segunda parte\n",
    "        listFiles = []\n",
    "        linesDetalle = []\n",
    "        for traj in os.listdir(r\"Geolife1.3/Data/\" + folder + \"/Trajectory\"):\n",
    "            listFiles.append(traj)\n",
    "            detalle = open(r\"Geolife1.3/Data/\" + folder + \"/Trajectory/\" +traj, 'r')\n",
    "            lineDet = detalle.readlines()\n",
    "            for idx, det in enumerate(lineDet):\n",
    "                if idx>5:\n",
    "                    linesDetalle.append(det)\n",
    "                    #print(len(lineDet))\n",
    "        print('   Total traj:', len(listFiles) , '  Grd Total:',  len(linesDetalle))\n",
    "        trajStr = \" \".join(listFiles)\n",
    "        #print(linesDetalle[0:5])\n",
    "        #print(trajStr)\n",
    "        #print(type(trajectorias))\n",
    "        xinicio = []\n",
    "        xfinal = []\n",
    "        yinicio = []\n",
    "        yfinal = []\n",
    "        print('    Tercera parte', len(inicioPts),len(finPts))\n",
    "        for a,b in zip(inicioPts,finPts):\n",
    "            #print(a,b)\n",
    "            inicio = datetime.datetime.strptime('2020-01-01 10:10:10', '%Y-%m-%d %H:%M:%S')\n",
    "            final = datetime.datetime.strptime('2000-01-01 10:10:10', '%Y-%m-%d %H:%M:%S')\n",
    "            fecInicio = 500\n",
    "            fecFinal = 500\n",
    "            contador = 0\n",
    "            tempx1 = 0\n",
    "            tempx2 = 0\n",
    "            tempy1 = 0\n",
    "            tempy2 = 0\n",
    "            for punto in linesDetalle:\n",
    "                strPunto = punto.replace('\\n','').split(',')\n",
    "                #print(strPunto)\n",
    "                fechaPun = datetime.datetime.strptime(strPunto[5] + ' ' + strPunto[6], '%Y-%m-%d %H:%M:%S' ) #'%Y-%m-%d %H:%M:%S'\n",
    "\n",
    "                dif1 = abs(a - fechaPun)\n",
    "                dif2 = abs(fechaPun - b)\n",
    "\n",
    "                iniActual = dif1.seconds/60\n",
    "                finActual = dif2.seconds/60\n",
    "                if dif1.days==0 and fechaPun< inicio and iniActual<10 and iniActual<fecInicio:\n",
    "                    #print('==',iniActual,a, fechaPun)\n",
    "                    inicio = fechaPun\n",
    "                    fecInicio = iniActual\n",
    "                    tempx1 = strPunto[0]\n",
    "                    tempy1 = strPunto[1]\n",
    "                #print(fechaPun> final,finActual, fechaPun, final)\n",
    "                if dif2.days==0 and fechaPun> final and finActual<10 and finActual<fecFinal:\n",
    "                    #print('==',finActual,b, fechaPun)\n",
    "                    final = fechaPun\n",
    "                    fecFinal = finActual\n",
    "                    tempx2 = strPunto[0]\n",
    "                    tempy2 = strPunto[1]\n",
    "                #tempDet = det.replace('\\n','').split(',')\n",
    "                #fechaDet = datetime.datetime.strptime(tempDet[5] + ' ' + tempDet[6], '%Y-%m-%d %H:%M:%S')\n",
    "                if fecInicio == 0 and fecFinal == 0:\n",
    "                    break\n",
    "\n",
    "            #print('    ',contador,fecInicio, fecFinal, inicio, final)\n",
    "            xinicio.append(tempx1)\n",
    "            yinicio.append(tempy1)\n",
    "            xfinal.append(tempx2)\n",
    "            yfinal.append(tempy2)\n",
    "        \n",
    "        #print(final)\n",
    "        #for primer in os.listdir(r\"Geolife1.3/Data/\" + folder):\n",
    "        #print('   ' + primer)\n",
    "        file.close()\n",
    "print(len(inicio), len(fin))\n",
    "print(len(xinicio), len(yinicio))\n",
    "print(len(xfinal), len(yfinal))\n",
    "\n"
   ]
  },
  {
   "cell_type": "code",
   "execution_count": 5,
   "metadata": {},
   "outputs": [
    {
     "name": "stdout",
     "output_type": "stream",
     "text": [
      "69 69\n"
     ]
    },
    {
     "data": {
      "text/plain": [
       "[434, 223, 18, 425, 20]"
      ]
     },
     "execution_count": 5,
     "metadata": {},
     "output_type": "execute_result"
    }
   ],
   "source": [
    "inicioPts = []\n",
    "finPts = []\n",
    "tmode = []\n",
    "x1 = []\n",
    "y1 = []\n",
    "x2 = []\n",
    "y2 = []\n",
    "tiempo_min = []\n",
    "trajectorias = []\n",
    "rutas = []\n",
    "cantidadXRuta = []\n",
    "for folder in os.listdir(r\"Geolife1.3/Data\"):\n",
    "    #print(folder)\n",
    "    if os.path.isfile(r\"Geolife1.3/Data/\" + folder + '/labels.txt'):\n",
    "        #print('folder:', folder)\n",
    "        rutas.append(folder)\n",
    "        file = open(r\"Geolife1.3/Data/\" + folder + '/labels.txt', 'r')\n",
    "        Lines = file.readlines()\n",
    "        cantidadXRuta.append(len(Lines) -1)\n",
    "        for idx, line in enumerate(Lines):\n",
    "            if idx>0:\n",
    "                #print(line.split())\n",
    "                valores = line.split()\n",
    "                # datetime.timedelta(minutes=1)\n",
    "                d1 = valores[1].split(':')\n",
    "\n",
    "                #print(d1)\n",
    "                date1 = datetime.datetime.strptime(valores[0] + ' ' + valores[1], '%Y/%m/%d %H:%M:%S')\n",
    "                #datetime.timedelta(hours = int(d1[0]),minutes = int(d1[1]), seconds = int(d1[2]))\n",
    "                date2 = datetime.datetime.strptime(valores[2] + ' ' + valores[3], '%Y/%m/%d %H:%M:%S')\n",
    "                minutos = (date2 - date1).seconds/60\n",
    "                inicioPts.append(date1)\n",
    "                finPts.append(date2)\n",
    "                tiempo_min.append(minutos)\n",
    "                tmode.append(valores[4])\n",
    "print(len(rutas),len(cantidadXRuta))\n",
    "cantidadXRuta[0:5]"
   ]
  },
  {
   "cell_type": "code",
   "execution_count": 6,
   "metadata": {},
   "outputs": [
    {
     "name": "stdout",
     "output_type": "stream",
     "text": [
      "14718\n"
     ]
    },
    {
     "data": {
      "text/plain": [
       "[datetime.datetime(2007, 4, 29, 12, 34, 24),\n",
       " datetime.datetime(2007, 4, 29, 22, 27, 11),\n",
       " datetime.datetime(2007, 4, 30, 4, 28, 3),\n",
       " datetime.datetime(2007, 4, 30, 7, 21, 1),\n",
       " datetime.datetime(2007, 5, 1, 1, 3, 11),\n",
       " datetime.datetime(2007, 5, 1, 2, 31, 23),\n",
       " datetime.datetime(2007, 5, 1, 6, 4, 45),\n",
       " datetime.datetime(2007, 5, 1, 6, 9, 24),\n",
       " datetime.datetime(2007, 5, 1, 10, 27, 34),\n",
       " datetime.datetime(2007, 5, 1, 12, 32, 19),\n",
       " datetime.datetime(2007, 5, 2, 0, 9, 24),\n",
       " datetime.datetime(2007, 5, 2, 1, 32, 10),\n",
       " datetime.datetime(2007, 5, 2, 2, 41, 58),\n",
       " datetime.datetime(2007, 5, 2, 3, 12, 25),\n",
       " datetime.datetime(2007, 5, 2, 4, 0, 24),\n",
       " datetime.datetime(2007, 5, 3, 0, 59, 8),\n",
       " datetime.datetime(2007, 5, 3, 4, 0),\n",
       " datetime.datetime(2007, 5, 3, 23, 50, 21)]"
      ]
     },
     "execution_count": 6,
     "metadata": {},
     "output_type": "execute_result"
    }
   ],
   "source": [
    "print(len(inicioPts))\n",
    "inicioPts[0:5]\n",
    "#rutas[2:3]\n",
    "inicioPts[657:675]"
   ]
  },
  {
   "cell_type": "code",
   "execution_count": 15,
   "metadata": {},
   "outputs": [
    {
     "name": "stdout",
     "output_type": "stream",
     "text": [
      "   Segunda parte\n",
      "   Total traj: 809   Grd Total: 969100\n",
      "          externo: 31; cont: 338126;  \r"
     ]
    },
    {
     "ename": "KeyboardInterrupt",
     "evalue": "",
     "output_type": "error",
     "traceback": [
      "\u001b[1;31m---------------------------------------------------------------------------\u001b[0m",
      "\u001b[1;31mKeyboardInterrupt\u001b[0m                         Traceback (most recent call last)",
      "\u001b[1;32m<ipython-input-15-f77998f4c31c>\u001b[0m in \u001b[0;36m<module>\u001b[1;34m\u001b[0m\n\u001b[0;32m     54\u001b[0m             \u001b[0mcontador\u001b[0m \u001b[1;33m+=\u001b[0m\u001b[1;36m1\u001b[0m\u001b[1;33m\u001b[0m\u001b[1;33m\u001b[0m\u001b[0m\n\u001b[0;32m     55\u001b[0m             \u001b[0mstrPunto\u001b[0m \u001b[1;33m=\u001b[0m \u001b[0mpunto\u001b[0m\u001b[1;33m.\u001b[0m\u001b[0mreplace\u001b[0m\u001b[1;33m(\u001b[0m\u001b[1;34m'\\n'\u001b[0m\u001b[1;33m,\u001b[0m\u001b[1;34m''\u001b[0m\u001b[1;33m)\u001b[0m\u001b[1;33m.\u001b[0m\u001b[0msplit\u001b[0m\u001b[1;33m(\u001b[0m\u001b[1;34m','\u001b[0m\u001b[1;33m)\u001b[0m\u001b[1;33m\u001b[0m\u001b[1;33m\u001b[0m\u001b[0m\n\u001b[1;32m---> 56\u001b[1;33m             \u001b[0mprint\u001b[0m\u001b[1;33m(\u001b[0m\u001b[1;34m'          externo: {}; cont: {};  \\r'\u001b[0m\u001b[1;33m.\u001b[0m\u001b[0mformat\u001b[0m\u001b[1;33m(\u001b[0m\u001b[0mexterno\u001b[0m\u001b[1;33m,\u001b[0m \u001b[0mcontador\u001b[0m\u001b[1;33m)\u001b[0m\u001b[1;33m,\u001b[0m \u001b[0mend\u001b[0m\u001b[1;33m=\u001b[0m\u001b[1;34m\"\"\u001b[0m\u001b[1;33m)\u001b[0m\u001b[1;33m\u001b[0m\u001b[1;33m\u001b[0m\u001b[0m\n\u001b[0m\u001b[0;32m     57\u001b[0m             \u001b[1;31m#print(strPunto)\u001b[0m\u001b[1;33m\u001b[0m\u001b[1;33m\u001b[0m\u001b[1;33m\u001b[0m\u001b[0m\n\u001b[0;32m     58\u001b[0m             \u001b[0mfechaPun\u001b[0m \u001b[1;33m=\u001b[0m \u001b[0mdatetime\u001b[0m\u001b[1;33m.\u001b[0m\u001b[0mdatetime\u001b[0m\u001b[1;33m.\u001b[0m\u001b[0mstrptime\u001b[0m\u001b[1;33m(\u001b[0m\u001b[0mstrPunto\u001b[0m\u001b[1;33m[\u001b[0m\u001b[1;36m5\u001b[0m\u001b[1;33m]\u001b[0m \u001b[1;33m+\u001b[0m \u001b[1;34m' '\u001b[0m \u001b[1;33m+\u001b[0m \u001b[0mstrPunto\u001b[0m\u001b[1;33m[\u001b[0m\u001b[1;36m6\u001b[0m\u001b[1;33m]\u001b[0m\u001b[1;33m,\u001b[0m \u001b[1;34m'%Y-%m-%d %H:%M:%S'\u001b[0m \u001b[1;33m)\u001b[0m \u001b[1;31m#'%Y-%m-%d %H:%M:%S'\u001b[0m\u001b[1;33m\u001b[0m\u001b[1;33m\u001b[0m\u001b[0m\n",
      "\u001b[1;32m~\\AppData\\Local\\Programs\\Anaconda3\\lib\\site-packages\\ipykernel\\iostream.py\u001b[0m in \u001b[0;36mwrite\u001b[1;34m(self, string)\u001b[0m\n\u001b[0;32m    400\u001b[0m             \u001b[0mis_child\u001b[0m \u001b[1;33m=\u001b[0m \u001b[1;33m(\u001b[0m\u001b[1;32mnot\u001b[0m \u001b[0mself\u001b[0m\u001b[1;33m.\u001b[0m\u001b[0m_is_master_process\u001b[0m\u001b[1;33m(\u001b[0m\u001b[1;33m)\u001b[0m\u001b[1;33m)\u001b[0m\u001b[1;33m\u001b[0m\u001b[1;33m\u001b[0m\u001b[0m\n\u001b[0;32m    401\u001b[0m             \u001b[1;31m# only touch the buffer in the IO thread to avoid races\u001b[0m\u001b[1;33m\u001b[0m\u001b[1;33m\u001b[0m\u001b[1;33m\u001b[0m\u001b[0m\n\u001b[1;32m--> 402\u001b[1;33m             \u001b[0mself\u001b[0m\u001b[1;33m.\u001b[0m\u001b[0mpub_thread\u001b[0m\u001b[1;33m.\u001b[0m\u001b[0mschedule\u001b[0m\u001b[1;33m(\u001b[0m\u001b[1;32mlambda\u001b[0m \u001b[1;33m:\u001b[0m \u001b[0mself\u001b[0m\u001b[1;33m.\u001b[0m\u001b[0m_buffer\u001b[0m\u001b[1;33m.\u001b[0m\u001b[0mwrite\u001b[0m\u001b[1;33m(\u001b[0m\u001b[0mstring\u001b[0m\u001b[1;33m)\u001b[0m\u001b[1;33m)\u001b[0m\u001b[1;33m\u001b[0m\u001b[1;33m\u001b[0m\u001b[0m\n\u001b[0m\u001b[0;32m    403\u001b[0m             \u001b[1;32mif\u001b[0m \u001b[0mis_child\u001b[0m\u001b[1;33m:\u001b[0m\u001b[1;33m\u001b[0m\u001b[1;33m\u001b[0m\u001b[0m\n\u001b[0;32m    404\u001b[0m                 \u001b[1;31m# newlines imply flush in subprocesses\u001b[0m\u001b[1;33m\u001b[0m\u001b[1;33m\u001b[0m\u001b[1;33m\u001b[0m\u001b[0m\n",
      "\u001b[1;32m~\\AppData\\Local\\Programs\\Anaconda3\\lib\\site-packages\\ipykernel\\iostream.py\u001b[0m in \u001b[0;36mschedule\u001b[1;34m(self, f)\u001b[0m\n\u001b[0;32m    203\u001b[0m             \u001b[0mself\u001b[0m\u001b[1;33m.\u001b[0m\u001b[0m_events\u001b[0m\u001b[1;33m.\u001b[0m\u001b[0mappend\u001b[0m\u001b[1;33m(\u001b[0m\u001b[0mf\u001b[0m\u001b[1;33m)\u001b[0m\u001b[1;33m\u001b[0m\u001b[1;33m\u001b[0m\u001b[0m\n\u001b[0;32m    204\u001b[0m             \u001b[1;31m# wake event thread (message content is ignored)\u001b[0m\u001b[1;33m\u001b[0m\u001b[1;33m\u001b[0m\u001b[1;33m\u001b[0m\u001b[0m\n\u001b[1;32m--> 205\u001b[1;33m             \u001b[0mself\u001b[0m\u001b[1;33m.\u001b[0m\u001b[0m_event_pipe\u001b[0m\u001b[1;33m.\u001b[0m\u001b[0msend\u001b[0m\u001b[1;33m(\u001b[0m\u001b[1;34mb''\u001b[0m\u001b[1;33m)\u001b[0m\u001b[1;33m\u001b[0m\u001b[1;33m\u001b[0m\u001b[0m\n\u001b[0m\u001b[0;32m    206\u001b[0m         \u001b[1;32melse\u001b[0m\u001b[1;33m:\u001b[0m\u001b[1;33m\u001b[0m\u001b[1;33m\u001b[0m\u001b[0m\n\u001b[0;32m    207\u001b[0m             \u001b[0mf\u001b[0m\u001b[1;33m(\u001b[0m\u001b[1;33m)\u001b[0m\u001b[1;33m\u001b[0m\u001b[1;33m\u001b[0m\u001b[0m\n",
      "\u001b[1;32m~\\AppData\\Local\\Programs\\Anaconda3\\lib\\site-packages\\zmq\\sugar\\socket.py\u001b[0m in \u001b[0;36msend\u001b[1;34m(self, data, flags, copy, track, routing_id, group)\u001b[0m\n\u001b[0;32m    398\u001b[0m                                  copy_threshold=self.copy_threshold)\n\u001b[0;32m    399\u001b[0m             \u001b[0mdata\u001b[0m\u001b[1;33m.\u001b[0m\u001b[0mgroup\u001b[0m \u001b[1;33m=\u001b[0m \u001b[0mgroup\u001b[0m\u001b[1;33m\u001b[0m\u001b[1;33m\u001b[0m\u001b[0m\n\u001b[1;32m--> 400\u001b[1;33m         \u001b[1;32mreturn\u001b[0m \u001b[0msuper\u001b[0m\u001b[1;33m(\u001b[0m\u001b[0mSocket\u001b[0m\u001b[1;33m,\u001b[0m \u001b[0mself\u001b[0m\u001b[1;33m)\u001b[0m\u001b[1;33m.\u001b[0m\u001b[0msend\u001b[0m\u001b[1;33m(\u001b[0m\u001b[0mdata\u001b[0m\u001b[1;33m,\u001b[0m \u001b[0mflags\u001b[0m\u001b[1;33m=\u001b[0m\u001b[0mflags\u001b[0m\u001b[1;33m,\u001b[0m \u001b[0mcopy\u001b[0m\u001b[1;33m=\u001b[0m\u001b[0mcopy\u001b[0m\u001b[1;33m,\u001b[0m \u001b[0mtrack\u001b[0m\u001b[1;33m=\u001b[0m\u001b[0mtrack\u001b[0m\u001b[1;33m)\u001b[0m\u001b[1;33m\u001b[0m\u001b[1;33m\u001b[0m\u001b[0m\n\u001b[0m\u001b[0;32m    401\u001b[0m \u001b[1;33m\u001b[0m\u001b[0m\n\u001b[0;32m    402\u001b[0m     \u001b[1;32mdef\u001b[0m \u001b[0msend_multipart\u001b[0m\u001b[1;33m(\u001b[0m\u001b[0mself\u001b[0m\u001b[1;33m,\u001b[0m \u001b[0mmsg_parts\u001b[0m\u001b[1;33m,\u001b[0m \u001b[0mflags\u001b[0m\u001b[1;33m=\u001b[0m\u001b[1;36m0\u001b[0m\u001b[1;33m,\u001b[0m \u001b[0mcopy\u001b[0m\u001b[1;33m=\u001b[0m\u001b[1;32mTrue\u001b[0m\u001b[1;33m,\u001b[0m \u001b[0mtrack\u001b[0m\u001b[1;33m=\u001b[0m\u001b[1;32mFalse\u001b[0m\u001b[1;33m,\u001b[0m \u001b[1;33m**\u001b[0m\u001b[0mkwargs\u001b[0m\u001b[1;33m)\u001b[0m\u001b[1;33m:\u001b[0m\u001b[1;33m\u001b[0m\u001b[1;33m\u001b[0m\u001b[0m\n",
      "\u001b[1;32mzmq/backend/cython/socket.pyx\u001b[0m in \u001b[0;36mzmq.backend.cython.socket.Socket.send\u001b[1;34m()\u001b[0m\n",
      "\u001b[1;32mzmq/backend/cython/socket.pyx\u001b[0m in \u001b[0;36mzmq.backend.cython.socket.Socket.send\u001b[1;34m()\u001b[0m\n",
      "\u001b[1;32mzmq/backend/cython/socket.pyx\u001b[0m in \u001b[0;36mzmq.backend.cython.socket._send_copy\u001b[1;34m()\u001b[0m\n",
      "\u001b[1;32m~\\AppData\\Local\\Programs\\Anaconda3\\lib\\site-packages\\zmq\\backend\\cython\\checkrc.pxd\u001b[0m in \u001b[0;36mzmq.backend.cython.checkrc._check_rc\u001b[1;34m()\u001b[0m\n",
      "\u001b[1;31mKeyboardInterrupt\u001b[0m: "
     ]
    }
   ],
   "source": [
    "print('   Segunda parte')\n",
    "#trut = ['021','056']\n",
    "acum = 9792\n",
    "numArch = 63\n",
    "\n",
    "xinicio = []\n",
    "xfinal = []\n",
    "yinicio = []\n",
    "yfinal = []\n",
    "tiempoInicio = []\n",
    "tiempoFinal =[]\n",
    "for folder in rutas[63:64]:\n",
    "    ## Segunda parte\n",
    "    listFiles = []\n",
    "    linesDetalle = []\n",
    "    for traj in os.listdir(r\"Geolife1.3/Data/\" + folder + \"/Trajectory\"):\n",
    "        listFiles.append(traj)\n",
    "        detalle = open(r\"Geolife1.3/Data/\" + folder + \"/Trajectory/\" +traj, 'r')\n",
    "        lineDet = detalle.readlines()\n",
    "        for idx, det in enumerate(lineDet):\n",
    "            if idx>5:\n",
    "                linesDetalle.append(det)\n",
    "                #print(len(lineDet))\n",
    "    print('   Total traj:', len(listFiles) , '  Grd Total:',  len(linesDetalle))\n",
    "    trajStr = \" \".join(listFiles)\n",
    "    #print(linesDetalle[0:5])\n",
    "    #print(trajStr)\n",
    "    #print(type(trajectorias))\n",
    "\n",
    "    \n",
    "    #print('    Tercera parte', len(inicioPts[acum:acum+ cantidadXRuta[numArch]]),len(finPts[acum:acum+ cantidadXRuta[numArch]]))\n",
    "    buscandoInicio = 0\n",
    "    buscandoFin = 0\n",
    "    externo = 0\n",
    "    for a,b in zip(inicioPts[acum:acum+ cantidadXRuta[numArch]],finPts[acum:acum+ cantidadXRuta[numArch]]):\n",
    "        externo += 1\n",
    "        #break\n",
    "        #print(a,b)\n",
    "        inicio = datetime.datetime.strptime('2020-01-01 10:10:10', '%Y-%m-%d %H:%M:%S')\n",
    "        final = datetime.datetime.strptime('2000-01-01 10:10:10', '%Y-%m-%d %H:%M:%S')\n",
    "        fecInicio = 500\n",
    "        fecFinal = 500\n",
    "        contador = 0\n",
    "        tempx1 = 0\n",
    "        tempx2 = 0\n",
    "        tempy1 = 0\n",
    "        tempy2 = 0\n",
    "        print('      buscando...: {} \\r'.format(len(linesDetalle[buscandoInicio:])), end=\"\")\n",
    "\n",
    "        contador = buscandoInicio\n",
    "        \n",
    "        flagFin = False\n",
    "        for punto in linesDetalle[buscandoInicio:]:\n",
    "            contador +=1\n",
    "            strPunto = punto.replace('\\n','').split(',')\n",
    "            print('          externo: {}; cont: {};  \\r'.format(externo, contador), end=\"\")\n",
    "            #print(strPunto)\n",
    "            fechaPun = datetime.datetime.strptime(strPunto[5] + ' ' + strPunto[6], '%Y-%m-%d %H:%M:%S' ) #'%Y-%m-%d %H:%M:%S'\n",
    "\n",
    "            dif1 = abs(a - fechaPun)\n",
    "            dif2 = abs(fechaPun - b)\n",
    "\n",
    "            iniActual = dif1.seconds/60\n",
    "            finActual = dif2.seconds/60\n",
    "            if dif1.days==0 and fechaPun< inicio and iniActual<10 and iniActual<fecInicio:\n",
    "                #print('==',iniActual,a, fechaPun)\n",
    "                inicio = fechaPun\n",
    "                fecInicio = iniActual\n",
    "                tempx1 = strPunto[0]\n",
    "                tempy1 = strPunto[1]\n",
    "                #print('Inicio ',contador)\n",
    "            #print(fechaPun> final,finActual, fechaPun, final)\n",
    "            if dif2.days==0 and fechaPun> final and finActual<10 and finActual<fecFinal:\n",
    "                #print('==',finActual,b, fechaPun)\n",
    "                final = fechaPun\n",
    "                fecFinal = finActual\n",
    "                tempx2 = strPunto[0]\n",
    "                tempy2 = strPunto[1]\n",
    "                #print('Final ',contador)\n",
    "                flagFin = True\n",
    "            \n",
    "                \n",
    "            #tempDet = det.replace('\\n','').split(',')\n",
    "            #fechaDet = datetime.datetime.strptime(tempDet[5] + ' ' + tempDet[6], '%Y-%m-%d %H:%M:%S')\n",
    "            if fecInicio == 0 and fecFinal == 0:\n",
    "                #print('--------------', contador)\n",
    "                buscandoInicio = contador\n",
    "                break\n",
    "            if flagFin and fechaPun> final:\n",
    "                #print('----------early stoping')\n",
    "                buscandoInicio = contador\n",
    "                break\n",
    "            \n",
    "                \n",
    "        #print('    ',contador,fecInicio, fecFinal, inicio, final)\n",
    "        tiempoInicio.append(fecInicio)\n",
    "        tiempoFinal.append(fecFinal)\n",
    "        xinicio.append(tempx1)\n",
    "        yinicio.append(tempy1)\n",
    "        xfinal.append(tempx2)\n",
    "        yfinal.append(tempy2)\n",
    "    acum += cantidadXRuta[numArch]\n",
    "    numArch += 1\n",
    "print(len(xinicio))"
   ]
  },
  {
   "cell_type": "code",
   "execution_count": 10,
   "metadata": {},
   "outputs": [
    {
     "data": {
      "text/plain": [
       "['163']"
      ]
     },
     "execution_count": 10,
     "metadata": {},
     "output_type": "execute_result"
    }
   ],
   "source": [
    "xinicio[0:5]\n",
    "#tiempoFinal[0:15]\n",
    "#len(xinicio),len(tiempoFinal)\n",
    "rutas[63:64]"
   ]
  },
  {
   "cell_type": "code",
   "execution_count": 257,
   "metadata": {},
   "outputs": [
    {
     "data": {
      "text/html": [
       "<div>\n",
       "<style scoped>\n",
       "    .dataframe tbody tr th:only-of-type {\n",
       "        vertical-align: middle;\n",
       "    }\n",
       "\n",
       "    .dataframe tbody tr th {\n",
       "        vertical-align: top;\n",
       "    }\n",
       "\n",
       "    .dataframe thead th {\n",
       "        text-align: right;\n",
       "    }\n",
       "</style>\n",
       "<table border=\"1\" class=\"dataframe\">\n",
       "  <thead>\n",
       "    <tr style=\"text-align: right;\">\n",
       "      <th></th>\n",
       "      <th>StartDate</th>\n",
       "      <th>EndDate</th>\n",
       "      <th>Type</th>\n",
       "      <th>StarDifAprox</th>\n",
       "      <th>EndDifAprox</th>\n",
       "      <th>xStart</th>\n",
       "      <th>yStart</th>\n",
       "      <th>xEnd</th>\n",
       "      <th>yEnd</th>\n",
       "    </tr>\n",
       "  </thead>\n",
       "  <tbody>\n",
       "    <tr>\n",
       "      <td>0</td>\n",
       "      <td>2007-06-26 11:32:29</td>\n",
       "      <td>2007-06-26 11:40:29</td>\n",
       "      <td>bus</td>\n",
       "      <td>500.000000</td>\n",
       "      <td>500.000000</td>\n",
       "      <td>0</td>\n",
       "      <td>0</td>\n",
       "      <td>0</td>\n",
       "      <td>0</td>\n",
       "    </tr>\n",
       "    <tr>\n",
       "      <td>1</td>\n",
       "      <td>2008-03-28 14:52:54</td>\n",
       "      <td>2008-03-28 15:59:59</td>\n",
       "      <td>train</td>\n",
       "      <td>4.500000</td>\n",
       "      <td>0.033333</td>\n",
       "      <td>39.893397</td>\n",
       "      <td>116.313677</td>\n",
       "      <td>39.50293</td>\n",
       "      <td>116.714948</td>\n",
       "    </tr>\n",
       "    <tr>\n",
       "      <td>2</td>\n",
       "      <td>2008-03-28 16:00:00</td>\n",
       "      <td>2008-03-28 22:02:00</td>\n",
       "      <td>train</td>\n",
       "      <td>1.983333</td>\n",
       "      <td>0.683333</td>\n",
       "      <td>39.489695</td>\n",
       "      <td>116.740047</td>\n",
       "      <td>36.671463</td>\n",
       "      <td>116.988268</td>\n",
       "    </tr>\n",
       "    <tr>\n",
       "      <td>3</td>\n",
       "      <td>2008-03-29 01:27:50</td>\n",
       "      <td>2008-03-29 15:59:59</td>\n",
       "      <td>train</td>\n",
       "      <td>5.383333</td>\n",
       "      <td>0.183333</td>\n",
       "      <td>36.661265</td>\n",
       "      <td>116.956267</td>\n",
       "      <td>34.490502</td>\n",
       "      <td>109.629697</td>\n",
       "    </tr>\n",
       "    <tr>\n",
       "      <td>4</td>\n",
       "      <td>2008-03-29 16:00:00</td>\n",
       "      <td>2008-03-30 15:59:59</td>\n",
       "      <td>train</td>\n",
       "      <td>1.783333</td>\n",
       "      <td>0.316667</td>\n",
       "      <td>34.495633</td>\n",
       "      <td>109.6054</td>\n",
       "      <td>41.137635</td>\n",
       "      <td>95.465557</td>\n",
       "    </tr>\n",
       "    <tr>\n",
       "      <td>...</td>\n",
       "      <td>...</td>\n",
       "      <td>...</td>\n",
       "      <td>...</td>\n",
       "      <td>...</td>\n",
       "      <td>...</td>\n",
       "      <td>...</td>\n",
       "      <td>...</td>\n",
       "      <td>...</td>\n",
       "      <td>...</td>\n",
       "    </tr>\n",
       "    <tr>\n",
       "      <td>10693</td>\n",
       "      <td>2007-10-06 00:56:12</td>\n",
       "      <td>2007-10-06 01:40:56</td>\n",
       "      <td>walk</td>\n",
       "      <td>500.000000</td>\n",
       "      <td>500.000000</td>\n",
       "      <td>0</td>\n",
       "      <td>0</td>\n",
       "      <td>0</td>\n",
       "      <td>0</td>\n",
       "    </tr>\n",
       "    <tr>\n",
       "      <td>10694</td>\n",
       "      <td>2007-10-06 01:41:02</td>\n",
       "      <td>2007-10-06 08:05:16</td>\n",
       "      <td>train</td>\n",
       "      <td>500.000000</td>\n",
       "      <td>500.000000</td>\n",
       "      <td>0</td>\n",
       "      <td>0</td>\n",
       "      <td>0</td>\n",
       "      <td>0</td>\n",
       "    </tr>\n",
       "    <tr>\n",
       "      <td>10695</td>\n",
       "      <td>2007-10-06 08:05:22</td>\n",
       "      <td>2007-10-06 08:24:22</td>\n",
       "      <td>walk</td>\n",
       "      <td>500.000000</td>\n",
       "      <td>500.000000</td>\n",
       "      <td>0</td>\n",
       "      <td>0</td>\n",
       "      <td>0</td>\n",
       "      <td>0</td>\n",
       "    </tr>\n",
       "    <tr>\n",
       "      <td>10696</td>\n",
       "      <td>2007-10-06 08:24:28</td>\n",
       "      <td>2007-10-06 09:00:26</td>\n",
       "      <td>taxi</td>\n",
       "      <td>500.000000</td>\n",
       "      <td>500.000000</td>\n",
       "      <td>0</td>\n",
       "      <td>0</td>\n",
       "      <td>0</td>\n",
       "      <td>0</td>\n",
       "    </tr>\n",
       "    <tr>\n",
       "      <td>10697</td>\n",
       "      <td>2007-10-06 09:00:51</td>\n",
       "      <td>2007-10-06 09:19:01</td>\n",
       "      <td>walk</td>\n",
       "      <td>500.000000</td>\n",
       "      <td>500.000000</td>\n",
       "      <td>0</td>\n",
       "      <td>0</td>\n",
       "      <td>0</td>\n",
       "      <td>0</td>\n",
       "    </tr>\n",
       "  </tbody>\n",
       "</table>\n",
       "<p>10698 rows × 9 columns</p>\n",
       "</div>"
      ],
      "text/plain": [
       "                StartDate             EndDate   Type  StarDifAprox  \\\n",
       "0     2007-06-26 11:32:29 2007-06-26 11:40:29    bus    500.000000   \n",
       "1     2008-03-28 14:52:54 2008-03-28 15:59:59  train      4.500000   \n",
       "2     2008-03-28 16:00:00 2008-03-28 22:02:00  train      1.983333   \n",
       "3     2008-03-29 01:27:50 2008-03-29 15:59:59  train      5.383333   \n",
       "4     2008-03-29 16:00:00 2008-03-30 15:59:59  train      1.783333   \n",
       "...                   ...                 ...    ...           ...   \n",
       "10693 2007-10-06 00:56:12 2007-10-06 01:40:56   walk    500.000000   \n",
       "10694 2007-10-06 01:41:02 2007-10-06 08:05:16  train    500.000000   \n",
       "10695 2007-10-06 08:05:22 2007-10-06 08:24:22   walk    500.000000   \n",
       "10696 2007-10-06 08:24:28 2007-10-06 09:00:26   taxi    500.000000   \n",
       "10697 2007-10-06 09:00:51 2007-10-06 09:19:01   walk    500.000000   \n",
       "\n",
       "       EndDifAprox     xStart      yStart       xEnd        yEnd  \n",
       "0       500.000000          0           0          0           0  \n",
       "1         0.033333  39.893397  116.313677   39.50293  116.714948  \n",
       "2         0.683333  39.489695  116.740047  36.671463  116.988268  \n",
       "3         0.183333  36.661265  116.956267  34.490502  109.629697  \n",
       "4         0.316667  34.495633    109.6054  41.137635   95.465557  \n",
       "...            ...        ...         ...        ...         ...  \n",
       "10693   500.000000          0           0          0           0  \n",
       "10694   500.000000          0           0          0           0  \n",
       "10695   500.000000          0           0          0           0  \n",
       "10696   500.000000          0           0          0           0  \n",
       "10697   500.000000          0           0          0           0  \n",
       "\n",
       "[10698 rows x 9 columns]"
      ]
     },
     "execution_count": 257,
     "metadata": {},
     "output_type": "execute_result"
    }
   ],
   "source": [
    "'''\n",
    "Los archivos de label no coinciden exactamente con los datos de rutas; por lo que se realizo una aproximacion \n",
    "en base al tiempo para asignar la coordenada mas cercana en una ventana de 10 minutos; si no hay coincidencia en el punto inicial tendra 500,\n",
    "si no hay coincidencia en el punto final EndDifAprox tendra 500.  En cualquier otro caso tendra la menor diferencia entre la marca de label y\n",
    "el punto de ruta mas cercano.\n",
    "\n",
    "\n",
    "StartDate: start date of path\n",
    "EndDate: end date of path\n",
    "Type: car, bus, taxi, etc\n",
    "StarDifAprox: Diference time aproximation (start ponit)\n",
    "EndDifAprox: Diference time aproximation (start ponit)\n",
    "xStart: X start coordinate WGS84 \n",
    "yStart: Y start coordinate WGS84 \n",
    "xEnd: X end coordinate WGS84 \n",
    "yEnd: Y end coordinate WGS84 \n",
    "'''\n",
    "\n",
    "\n",
    "df = pd.DataFrame(list(zip(inicioPts[0:10698], finPts[0:10698], tmode[0:10698], tiempoInicio, tiempoFinal, xinicio, yinicio, xfinal, yfinal)), \n",
    "               columns =['StartDate', 'EndDate','Type','StarDifAprox','EndDifAprox','xStart','yStart','xEnd','yEnd']) \n",
    "'''\n",
    "inicioPts = []\n",
    "finPts = []\n",
    "tmode = []\n",
    " tiempoInicio.append(fecInicio)\n",
    "        tiempoFinal.append(fecFinal)\n",
    "        xinicio.append(tempx1)\n",
    "        yinicio.append(tempy1)\n",
    "        xfinal.append(tempx2)\n",
    "        yfinal.append(tempy2)\n",
    "'''\n",
    "df"
   ]
  },
  {
   "cell_type": "code",
   "execution_count": 261,
   "metadata": {},
   "outputs": [
    {
     "data": {
      "text/html": [
       "<div>\n",
       "<style scoped>\n",
       "    .dataframe tbody tr th:only-of-type {\n",
       "        vertical-align: middle;\n",
       "    }\n",
       "\n",
       "    .dataframe tbody tr th {\n",
       "        vertical-align: top;\n",
       "    }\n",
       "\n",
       "    .dataframe thead th {\n",
       "        text-align: right;\n",
       "    }\n",
       "</style>\n",
       "<table border=\"1\" class=\"dataframe\">\n",
       "  <thead>\n",
       "    <tr style=\"text-align: right;\">\n",
       "      <th></th>\n",
       "      <th>StartDate</th>\n",
       "      <th>EndDate</th>\n",
       "      <th>Type</th>\n",
       "      <th>StarDifAprox</th>\n",
       "      <th>EndDifAprox</th>\n",
       "      <th>xStart</th>\n",
       "      <th>yStart</th>\n",
       "      <th>xEnd</th>\n",
       "      <th>yEnd</th>\n",
       "    </tr>\n",
       "  </thead>\n",
       "  <tbody>\n",
       "    <tr>\n",
       "      <td>0</td>\n",
       "      <td>2007-06-26 11:32:29</td>\n",
       "      <td>2007-06-26 11:40:29</td>\n",
       "      <td>bus</td>\n",
       "      <td>500.000000</td>\n",
       "      <td>500.000000</td>\n",
       "      <td>0</td>\n",
       "      <td>0</td>\n",
       "      <td>0</td>\n",
       "      <td>0</td>\n",
       "    </tr>\n",
       "    <tr>\n",
       "      <td>1</td>\n",
       "      <td>2008-03-28 14:52:54</td>\n",
       "      <td>2008-03-28 15:59:59</td>\n",
       "      <td>train</td>\n",
       "      <td>4.500000</td>\n",
       "      <td>0.033333</td>\n",
       "      <td>39.893397</td>\n",
       "      <td>116.313677</td>\n",
       "      <td>39.50293</td>\n",
       "      <td>116.714948</td>\n",
       "    </tr>\n",
       "    <tr>\n",
       "      <td>2</td>\n",
       "      <td>2008-03-28 16:00:00</td>\n",
       "      <td>2008-03-28 22:02:00</td>\n",
       "      <td>train</td>\n",
       "      <td>1.983333</td>\n",
       "      <td>0.683333</td>\n",
       "      <td>39.489695</td>\n",
       "      <td>116.740047</td>\n",
       "      <td>36.671463</td>\n",
       "      <td>116.988268</td>\n",
       "    </tr>\n",
       "    <tr>\n",
       "      <td>3</td>\n",
       "      <td>2008-03-29 01:27:50</td>\n",
       "      <td>2008-03-29 15:59:59</td>\n",
       "      <td>train</td>\n",
       "      <td>5.383333</td>\n",
       "      <td>0.183333</td>\n",
       "      <td>36.661265</td>\n",
       "      <td>116.956267</td>\n",
       "      <td>34.490502</td>\n",
       "      <td>109.629697</td>\n",
       "    </tr>\n",
       "    <tr>\n",
       "      <td>4</td>\n",
       "      <td>2008-03-29 16:00:00</td>\n",
       "      <td>2008-03-30 15:59:59</td>\n",
       "      <td>train</td>\n",
       "      <td>1.783333</td>\n",
       "      <td>0.316667</td>\n",
       "      <td>34.495633</td>\n",
       "      <td>109.6054</td>\n",
       "      <td>41.137635</td>\n",
       "      <td>95.465557</td>\n",
       "    </tr>\n",
       "    <tr>\n",
       "      <td>...</td>\n",
       "      <td>...</td>\n",
       "      <td>...</td>\n",
       "      <td>...</td>\n",
       "      <td>...</td>\n",
       "      <td>...</td>\n",
       "      <td>...</td>\n",
       "      <td>...</td>\n",
       "      <td>...</td>\n",
       "      <td>...</td>\n",
       "    </tr>\n",
       "    <tr>\n",
       "      <td>95</td>\n",
       "      <td>2008-08-01 07:17:08</td>\n",
       "      <td>2008-08-01 08:06:26</td>\n",
       "      <td>bus</td>\n",
       "      <td>0.033333</td>\n",
       "      <td>0.000000</td>\n",
       "      <td>34.440604</td>\n",
       "      <td>108.756226</td>\n",
       "      <td>34.275076</td>\n",
       "      <td>108.959161</td>\n",
       "    </tr>\n",
       "    <tr>\n",
       "      <td>96</td>\n",
       "      <td>2008-08-01 08:08:16</td>\n",
       "      <td>2008-08-01 08:13:18</td>\n",
       "      <td>walk</td>\n",
       "      <td>0.016667</td>\n",
       "      <td>0.000000</td>\n",
       "      <td>34.2753</td>\n",
       "      <td>108.958343</td>\n",
       "      <td>34.278615</td>\n",
       "      <td>108.959214</td>\n",
       "    </tr>\n",
       "    <tr>\n",
       "      <td>97</td>\n",
       "      <td>2008-08-01 08:16:35</td>\n",
       "      <td>2008-08-01 08:20:54</td>\n",
       "      <td>walk</td>\n",
       "      <td>0.016667</td>\n",
       "      <td>0.000000</td>\n",
       "      <td>34.278466</td>\n",
       "      <td>108.959256</td>\n",
       "      <td>34.278556</td>\n",
       "      <td>108.958049</td>\n",
       "    </tr>\n",
       "    <tr>\n",
       "      <td>98</td>\n",
       "      <td>2008-08-01 08:29:26</td>\n",
       "      <td>2008-08-01 10:03:10</td>\n",
       "      <td>train</td>\n",
       "      <td>0.466667</td>\n",
       "      <td>0.116667</td>\n",
       "      <td>34.27941</td>\n",
       "      <td>108.957548</td>\n",
       "      <td>34.555913</td>\n",
       "      <td>110.134551</td>\n",
       "    </tr>\n",
       "    <tr>\n",
       "      <td>99</td>\n",
       "      <td>2008-08-01 10:03:22</td>\n",
       "      <td>2008-08-01 10:09:12</td>\n",
       "      <td>walk</td>\n",
       "      <td>0.716667</td>\n",
       "      <td>0.000000</td>\n",
       "      <td>34.556043</td>\n",
       "      <td>110.134845</td>\n",
       "      <td>34.555626</td>\n",
       "      <td>110.135506</td>\n",
       "    </tr>\n",
       "  </tbody>\n",
       "</table>\n",
       "<p>100 rows × 9 columns</p>\n",
       "</div>"
      ],
      "text/plain": [
       "             StartDate             EndDate   Type  StarDifAprox  EndDifAprox  \\\n",
       "0  2007-06-26 11:32:29 2007-06-26 11:40:29    bus    500.000000   500.000000   \n",
       "1  2008-03-28 14:52:54 2008-03-28 15:59:59  train      4.500000     0.033333   \n",
       "2  2008-03-28 16:00:00 2008-03-28 22:02:00  train      1.983333     0.683333   \n",
       "3  2008-03-29 01:27:50 2008-03-29 15:59:59  train      5.383333     0.183333   \n",
       "4  2008-03-29 16:00:00 2008-03-30 15:59:59  train      1.783333     0.316667   \n",
       "..                 ...                 ...    ...           ...          ...   \n",
       "95 2008-08-01 07:17:08 2008-08-01 08:06:26    bus      0.033333     0.000000   \n",
       "96 2008-08-01 08:08:16 2008-08-01 08:13:18   walk      0.016667     0.000000   \n",
       "97 2008-08-01 08:16:35 2008-08-01 08:20:54   walk      0.016667     0.000000   \n",
       "98 2008-08-01 08:29:26 2008-08-01 10:03:10  train      0.466667     0.116667   \n",
       "99 2008-08-01 10:03:22 2008-08-01 10:09:12   walk      0.716667     0.000000   \n",
       "\n",
       "       xStart      yStart       xEnd        yEnd  \n",
       "0           0           0          0           0  \n",
       "1   39.893397  116.313677   39.50293  116.714948  \n",
       "2   39.489695  116.740047  36.671463  116.988268  \n",
       "3   36.661265  116.956267  34.490502  109.629697  \n",
       "4   34.495633    109.6054  41.137635   95.465557  \n",
       "..        ...         ...        ...         ...  \n",
       "95  34.440604  108.756226  34.275076  108.959161  \n",
       "96    34.2753  108.958343  34.278615  108.959214  \n",
       "97  34.278466  108.959256  34.278556  108.958049  \n",
       "98   34.27941  108.957548  34.555913  110.134551  \n",
       "99  34.556043  110.134845  34.555626  110.135506  \n",
       "\n",
       "[100 rows x 9 columns]"
      ]
     },
     "execution_count": 261,
     "metadata": {},
     "output_type": "execute_result"
    }
   ],
   "source": [
    "df.head(100)"
   ]
  },
  {
   "cell_type": "code",
   "execution_count": 255,
   "metadata": {},
   "outputs": [
    {
     "data": {
      "text/plain": [
       "14718"
      ]
     },
     "execution_count": 255,
     "metadata": {},
     "output_type": "execute_result"
    }
   ],
   "source": [
    "len(tmode)"
   ]
  },
  {
   "cell_type": "code",
   "execution_count": 262,
   "metadata": {},
   "outputs": [],
   "source": [
    "df.to_csv('data.csv')"
   ]
  },
  {
   "cell_type": "code",
   "execution_count": null,
   "metadata": {},
   "outputs": [],
   "source": []
  },
  {
   "cell_type": "code",
   "execution_count": null,
   "metadata": {},
   "outputs": [],
   "source": []
  },
  {
   "cell_type": "code",
   "execution_count": null,
   "metadata": {},
   "outputs": [],
   "source": [
    "file = open(\"Datos/\" + filename, 'r')\n",
    "    Lines = file.readlines() \n",
    "    for idx, line in enumerate(Lines): \n",
    "        if idx % 1000 == 0:\n",
    "            fechas.append(tipoFecha(line[3:14].strip())) # inicio de archivo\n",
    "        else:\n",
    "            fechas.append(tipoFecha(line.strip()))\n",
    "    file.close()\n"
   ]
  },
  {
   "cell_type": "code",
   "execution_count": null,
   "metadata": {},
   "outputs": [],
   "source": []
  },
  {
   "cell_type": "code",
   "execution_count": null,
   "metadata": {},
   "outputs": [],
   "source": []
  },
  {
   "cell_type": "code",
   "execution_count": null,
   "metadata": {},
   "outputs": [],
   "source": []
  },
  {
   "cell_type": "code",
   "execution_count": 186,
   "metadata": {},
   "outputs": [
    {
     "name": "stdout",
     "output_type": "stream",
     "text": [
      "   Total traj: 8   Grd Total: 2385\n"
     ]
    }
   ],
   "source": [
    "trajectorias = []\n",
    "inicio = []\n",
    "fin = []\n",
    "tmode = []\n",
    "tiempo_min = []\n",
    "file = open(r\"Geolife1.3/Data/021/labels.txt\", 'r')\n",
    "Lines = file.readlines()\n",
    "for idx, line in enumerate(Lines):\n",
    "    if idx>0:\n",
    "        #print(line.split())\n",
    "        valores = line.split()\n",
    "        # datetime.timedelta(minutes=1)\n",
    "        d1 = valores[1].split(':')\n",
    "        \n",
    "        #print(d1)\n",
    "        date1 = datetime.datetime.strptime(valores[0] + ' ' + valores[1], '%Y/%m/%d %H:%M:%S')\n",
    "        #datetime.timedelta(hours = int(d1[0]),minutes = int(d1[1]), seconds = int(d1[2]))\n",
    "        date2 = datetime.datetime.strptime(valores[2] + ' ' + valores[3], '%Y/%m/%d %H:%M:%S')\n",
    "        minutos = (date2 - date1).seconds/60\n",
    "        inicio.append(date1)\n",
    "        fin.append(date2)\n",
    "        tiempo_min.append(minutos)\n",
    "        \n",
    "        #print(final)\n",
    "    if idx>20:\n",
    "        break\n",
    "listFiles = []\n",
    "linesDetalle = []\n",
    "for traj in os.listdir(r\"Geolife1.3/Data/021/Trajectory\"):\n",
    "    listFiles.append(traj)\n",
    "    detalle = open(r\"Geolife1.3/Data/021/Trajectory/\" +traj, 'r')\n",
    "    lineDet = detalle.readlines()\n",
    "    for idx, det in enumerate(lineDet):\n",
    "        if idx>5:\n",
    "            linesDetalle.append(det)\n",
    "            #print(len(lineDet))\n",
    "print('   Total traj:', len(listFiles) , '  Grd Total:',  len(linesDetalle))\n",
    "trajStr = \" \".join(listFiles)\n",
    "#print(linesDetalle[0:5])\n",
    "#print(trajStr)\n",
    "#print(type(trajectorias))\n",
    "xinicio = []\n",
    "xfinal = []\n",
    "yinicio = []\n",
    "yfinal = []\n",
    "\n",
    "for a,b in zip(inicio[0:10],fin[0:10]):\n",
    "    #print(a,b)\n",
    "    inicio = datetime.datetime.strptime('2020-01-01 10:10:10', '%Y-%m-%d %H:%M:%S')\n",
    "    final = datetime.datetime.strptime('2000-01-01 10:10:10', '%Y-%m-%d %H:%M:%S')\n",
    "    fecInicio = 500\n",
    "    fecFinal = 500\n",
    "    contador = 0\n",
    "    for punto in linesDetalle:\n",
    "        strPunto = punto.replace('\\n','').split(',')\n",
    "        #print(strPunto)\n",
    "        fechaPun = datetime.datetime.strptime(strPunto[5] + ' ' + strPunto[6], '%Y-%m-%d %H:%M:%S' ) #'%Y-%m-%d %H:%M:%S'\n",
    "        \n",
    "        dif1 = abs(a - fechaPun)\n",
    "        dif2 = abs(fechaPun - b)\n",
    "        \n",
    "        iniActual = dif1.seconds/60\n",
    "        finActual = dif2.seconds/60\n",
    "        if dif1.days==0 and fechaPun< inicio and iniActual<10 and iniActual<fecInicio:\n",
    "            #print('==',iniActual,a, fechaPun)\n",
    "            inicio = fechaPun\n",
    "            fecInicio = iniActual\n",
    "        #print(fechaPun> final,finActual, fechaPun, final)\n",
    "        if dif2.days==0 and fechaPun> final and finActual<10 and finActual<fecFinal:\n",
    "            #print('==',finActual,b, fechaPun)\n",
    "            final = fechaPun\n",
    "            fecFinal = finActual\n",
    "        \n",
    "        #tempDet = det.replace('\\n','').split(',')\n",
    "        #fechaDet = datetime.datetime.strptime(tempDet[5] + ' ' + tempDet[6], '%Y-%m-%d %H:%M:%S')\n",
    "        \n",
    "    #print('    ',contador,fecInicio, fecFinal, inicio, final)\n",
    "    \n",
    "#for primer in os.listdir(r\"Geolife1.3/Data/\" + folder):"
   ]
  },
  {
   "cell_type": "code",
   "execution_count": null,
   "metadata": {},
   "outputs": [],
   "source": []
  },
  {
   "cell_type": "code",
   "execution_count": null,
   "metadata": {},
   "outputs": [],
   "source": [
    "for fi in inicio:\n",
    "    mes = '0' if fi.month<10 else '' \n",
    "    dia = '0' if fi.day<10 else '' \n",
    "    hora = '0' if fi.hour<10 else '' \n",
    "    minuto = '0' if fi.minute<10 else '' \n",
    "    name = str(fi.year)+mes+str(fi.month)+dia+str(fi.day)+hora+str(fi.hour)+minuto+str(fi.minute)\n",
    "    print(name, '-->', trajStr)\n",
    "    #print(name)\n",
    "    r1 = re.findall(name + \"\\w{2}.plt\",trajStr)\n",
    "    #print(r1)\n",
    "    if len(r1)==1:\n",
    "        print(r1)\n",
    "        detalle = open(r\"Geolife1.3/Data/021/Trajectory/\" + r1[0], 'r')\n",
    "        lineDet = detalle.readlines()\n",
    "        for idx, det in enumerate(lineDet):\n",
    "            if idx>5:\n",
    "                print(det)\n",
    "                tempDet = det.replace('\\n','').split(',')\n",
    "                fechaDet = datetime.datetime.strptime(tempDet[5] + ' ' + tempDet[6], '%Y-%m-%d %H:%M:%S')\n",
    "                print(fechaDet)\n",
    "            if idx>15:\n",
    "                break\n",
    "        detalle.close()\n",
    "    elif len(r1)>1:\n",
    "        print('REVISAR')"
   ]
  },
  {
   "cell_type": "code",
   "execution_count": null,
   "metadata": {},
   "outputs": [],
   "source": []
  },
  {
   "cell_type": "code",
   "execution_count": null,
   "metadata": {},
   "outputs": [],
   "source": []
  },
  {
   "cell_type": "code",
   "execution_count": null,
   "metadata": {},
   "outputs": [],
   "source": []
  },
  {
   "cell_type": "code",
   "execution_count": 118,
   "metadata": {},
   "outputs": [
    {
     "name": "stdout",
     "output_type": "stream",
     "text": [
      "a x\n",
      "b y\n",
      "c z\n"
     ]
    }
   ],
   "source": [
    "x  = ['a','b','c']\n",
    "y  = ['x','y','z']\n",
    "for a,b in zip(x,y):\n",
    "    print(a,b)"
   ]
  },
  {
   "cell_type": "code",
   "execution_count": 95,
   "metadata": {},
   "outputs": [
    {
     "data": {
      "text/plain": [
       "['20070429083432.plt', '20070429083424.plt']"
      ]
     },
     "execution_count": 95,
     "metadata": {},
     "output_type": "execute_result"
    }
   ],
   "source": [
    "re.findall(\"200704290834\\w{2}.plt\",'20070429083432.plt 20070429222711.plt 20070501010311.plt 20070429083424.plt ')"
   ]
  },
  {
   "cell_type": "code",
   "execution_count": 180,
   "metadata": {},
   "outputs": [
    {
     "data": {
      "text/plain": [
       "0"
      ]
     },
     "execution_count": 180,
     "metadata": {},
     "output_type": "execute_result"
    }
   ],
   "source": [
    "#datetime.datetime('2008/04/03 11:47:14')\n",
    "x = datetime.datetime.strptime('2007-04-30 04:28:00', '%Y-%m-%d %H:%M:%S')\n",
    "y = datetime.datetime.strptime('2007-04-30 04:28:37', '%Y-%m-%d %H:%M:%S')\n",
    " \n",
    "z = abs(x-y)\n",
    "z.days"
   ]
  },
  {
   "cell_type": "code",
   "execution_count": 75,
   "metadata": {},
   "outputs": [
    {
     "name": "stdout",
     "output_type": "stream",
     "text": [
      "0\n"
     ]
    },
    {
     "data": {
      "text/plain": [
       "27"
      ]
     },
     "execution_count": 75,
     "metadata": {},
     "output_type": "execute_result"
    }
   ],
   "source": [
    "mes = '0' if x.month<10 else '' \n",
    "print(mes)\n",
    "#str(x.year)+str(x.month)+str(x.day)\n",
    "x.minute"
   ]
  },
  {
   "cell_type": "code",
   "execution_count": 88,
   "metadata": {},
   "outputs": [
    {
     "data": {
      "text/plain": [
       "str"
      ]
     },
     "execution_count": 88,
     "metadata": {},
     "output_type": "execute_result"
    }
   ],
   "source": [
    "type(' '.join(['a','b']))"
   ]
  },
  {
   "cell_type": "code",
   "execution_count": 89,
   "metadata": {},
   "outputs": [
    {
     "ename": "NameError",
     "evalue": "name 'trajectoria' is not defined",
     "output_type": "error",
     "traceback": [
      "\u001b[1;31m---------------------------------------------------------------------------\u001b[0m",
      "\u001b[1;31mNameError\u001b[0m                                 Traceback (most recent call last)",
      "\u001b[1;32m<ipython-input-89-9107fe28b11f>\u001b[0m in \u001b[0;36m<module>\u001b[1;34m\u001b[0m\n\u001b[1;32m----> 1\u001b[1;33m \u001b[0mtrajectoria\u001b[0m\u001b[1;33m\u001b[0m\u001b[1;33m\u001b[0m\u001b[0m\n\u001b[0m",
      "\u001b[1;31mNameError\u001b[0m: name 'trajectoria' is not defined"
     ]
    }
   ],
   "source": [
    "trajectoria"
   ]
  },
  {
   "cell_type": "code",
   "execution_count": null,
   "metadata": {},
   "outputs": [],
   "source": []
  },
  {
   "cell_type": "markdown",
   "metadata": {},
   "source": [
    "# Depuracion de imagenes"
   ]
  },
  {
   "cell_type": "code",
   "execution_count": 13,
   "metadata": {},
   "outputs": [
    {
     "name": "stdout",
     "output_type": "stream",
     "text": [
      "4069 1860\n"
     ]
    }
   ],
   "source": [
    "cont = 0\n",
    "contB = 0\n",
    "for traj in os.listdir(r\"derimg\"):\n",
    "    cont += 1\n",
    "    if traj[-6]=='B':\n",
    "        contB += 1\n",
    "        os.remove(r\"derimg/\"+traj)\n",
    "print(cont,contB)"
   ]
  },
  {
   "cell_type": "code",
   "execution_count": 16,
   "metadata": {},
   "outputs": [
    {
     "name": "stdout",
     "output_type": "stream",
     "text": [
      "True\n",
      "False\n"
     ]
    }
   ],
   "source": [
    "x = {\n",
    "    '100000101967.jpeg':1,\n",
    "    '100000321966.jpeg':1,\n",
    "    '100000581968.jpeg':1,\n",
    "    '100000111966.jpeg':1,\n",
    "}\n",
    "\n",
    "print('100000101967.jpeg' in x)\n",
    "print('100000101960.jpeg' in x)"
   ]
  },
  {
   "cell_type": "code",
   "execution_count": 17,
   "metadata": {},
   "outputs": [
    {
     "data": {
      "text/plain": [
       "2048"
      ]
     },
     "execution_count": 17,
     "metadata": {},
     "output_type": "execute_result"
    }
   ],
   "source": [
    "existen = {'100000101967.jpeg':1,'100000321966.jpeg':1,'100000581968.jpeg':1,'100000111966.jpeg':1,'100000351975.jpeg':1,'100000601967.jpeg':1,'100000131964.jpeg':1,'100000371964.jpeg':1,'100000611970.jpeg':1,'100000171972.jpeg':1,'100000401964.jpeg':1,'100000641967.jpeg':1,'100000011971.jpeg':1,'100000191968.jpeg':1,'100000421964.jpeg':1,'100000681967.jpeg':1,'100000021968.jpeg':1,'100000201975.jpeg':1,'100000431971.jpeg':1,'100000711967.jpeg':1,'100000021977.jpeg':1,'100000231970.jpeg':1,'100000501973.jpeg':1,'100000041977.jpeg':1,'100000261966.jpeg':1,'100000511973.jpeg':1,'100000061977.jpeg':1,'100000271963.jpeg':1,'100000531971.jpeg':1,'100000071977.jpeg':1,'100000271968.jpeg':1,'100000561969.jpeg':1,'100000091970.jpeg':1,'100000311969.jpeg':1,'100000571968.jpeg':1,'100000101968.jpeg':1,'100000341968.jpeg':1,'100000591967.jpeg':1,'100000111972.jpeg':1,'100000361963.jpeg':1,'100000601968.jpeg':1,'100000131968.jpeg':1,'100000381964.jpeg':1,'100000621968.jpeg':1,'100000411964.jpeg':1,'100000641968.jpeg':1,'100000011973.jpeg':1,'100000201968.jpeg':1,'100000421968.jpeg':1,'100000681974.jpeg':1,'100000021969.jpeg':1,'100000211970.jpeg':1,'100000481966.jpeg':1,'100000031968.jpeg':1,'100000251966.jpeg':1,'100000511964.jpeg':1,'100000051977.jpeg':1,'100000261968.jpeg':1,'100000531968.jpeg':1,'100000071964.jpeg':1,'100000271966.jpeg':1,'100000551971.jpeg':1,'100000081969.jpeg':1,'100000291973.jpeg':1,'100000571965.jpeg':1,'100000101964.jpeg':1,'100000311975.jpeg':1,'100000581965.jpeg':1,'100000101978.jpeg':1,'100000351965.jpeg':1,'100000591969.jpeg':1,'100000121967.jpeg':1,'100000361967.jpeg':1,'100000601969.jpeg':1,'100000141968.jpeg':1,'100000381965.jpeg':1,'100000631970.jpeg':1,'100000181969.jpeg':1,'100000411969.jpeg':1,'100000681964.jpeg':1,'100000021966.jpeg':1,'100000201969.jpeg':1,'100000421971.jpeg':1,'100000701963.jpeg':1,'100000021971.jpeg':1,'100000221975.jpeg':1,'100000501966.jpeg':1,'100000031971.jpeg':1,'100000251970.jpeg':1,'100000511968.jpeg':1,'100000061964.jpeg':1,'100000261970.jpeg':1,'100000531969.jpeg':1,'100000071972.jpeg':1,'100000271967.jpeg':1,'100000561967.jpeg':1,'100000081977.jpeg':1,'100000301973.jpeg':1,'100000571966.jpeg':1,'100000871975.jpeg':1,\n",
    "'100001041972.jpeg':1,'100001191963.jpeg':1,'100000881975.jpeg':1,'100001051973.jpeg':1,'100001201970.jpeg':1,'100000891969.jpeg':1,'100001061972.jpeg':1,'100001211964.jpeg':1,'100000921967.jpeg':1,'100001071972.jpeg':1,'100001221974.jpeg':1,'100000941966.jpeg':1,'100001091972.jpeg':1,'100001231976.jpeg':1,'100000961969.jpeg':1,'100001101972.jpeg':1,'100001241991.jpeg':1,'100000761970.jpeg':1,'100000981982.jpeg':1,'100001111972.jpeg':1,'100001251976.jpeg':1,'100000791970.jpeg':1,'100001001963.jpeg':1,'100001121967.jpeg':1,'100000811965.jpeg':1,'100001011965.jpeg':1,'100001131967.jpeg':1,'100000831965.jpeg':1,'100001021964.jpeg':1,'100001151972.jpeg':1,'100000851991.jpeg':1,'100001031972.jpeg':1,'100001171963.jpeg':1,'100000881966.jpeg':1,'100001051968.jpeg':1,'100001191968.jpeg':1,'100000891966.jpeg':1,'100001061966.jpeg':1,'100001201974.jpeg':1,'100000911967.jpeg':1,'100001071965.jpeg':1,'100001211968.jpeg':1,'100000921976.jpeg':1,'100001081968.jpeg':1,'100001231974.jpeg':1,'100000951976.jpeg':1,'100001101964.jpeg':1,'100001241974.jpeg':1,'100000751966.jpeg':1,'100000971971.jpeg':1,'100001111968.jpeg':1,'100001251967.jpeg':1,'100000771970.jpeg':1,'100000991967.jpeg':1,'100001111974.jpeg':1,'100001261967.jpeg':1,'100000791971.jpeg':1,'100001001972.jpeg':1,'100001121972.jpeg':1,'100000821970.jpeg':1,'100001011972.jpeg':1,'100001141972.jpeg':1,'100000831971.jpeg':1,'100001021969.jpeg':1,'100001161972.jpeg':1,'100000861991.jpeg':1,'100001041968.jpeg':1,'100001181974.jpeg':1,'100000881969.jpeg':1,'100001051972.jpeg':1,'100001191974.jpeg':1,'100000891967.jpeg':1,'100001061968.jpeg':1,'100000911969.jpeg':1,'100001071966.jpeg':1,'100001211974.jpeg':1,'100000931967.jpeg':1,'100001081972.jpeg':1,'100001231975.jpeg':1,'100000961968.jpeg':1,'100001101965.jpeg':1,'100001241976.jpeg':1,'100000761963.jpeg':1,'100000981967.jpeg':1,'100001111969.jpeg':1,'100001251974.jpeg':1,'100000781982.jpeg':1,'100000991991.jpeg':1,'100001121966.jpeg':1,'100000801963.jpeg':1,'100001001991.jpeg':1,'100001131966.jpeg':1,'100000821982.jpeg':1,'100001011983.jpeg':1,'100001151968.jpeg':1,'100000851975.jpeg':1,'100001021972.jpeg':1,'100001161976.jpeg':1,'100001301969.jpeg':1,'100002611967.jpeg':1,\n",
    "'100002791965.jpeg':1,'100001311976.jpeg':1,'100002631966.jpeg':1,'100002801969.jpeg':1,'100001331967.jpeg':1,'100002661969.jpeg':1,'100002811970.jpeg':1,'100001341965.jpeg':1,'100002671974.jpeg':1,'100002851966.jpeg':1,'100001351970.jpeg':1,'100002681974.jpeg':1,'100002901969.jpeg':1,'100001361976.jpeg':1,'100002721964.jpeg':1,'100002911966.jpeg':1,'100001381974.jpeg':1,'100002731967.jpeg':1,'100002921966.jpeg':1,'100001261976.jpeg':1,'100002731974.jpeg':1,'100002941964.jpeg':1,'100001271974.jpeg':1,'100002561967.jpeg':1,'100002741969.jpeg':1,'100001281976.jpeg':1,'100002571967.jpeg':1,'100002751970.jpeg':1,'100001291974.jpeg':1,'100002581974.jpeg':1,'100002781968.jpeg':1,'100001301976.jpeg':1,'100002611970.jpeg':1,'100002791968.jpeg':1,'100001321968.jpeg':1,'100002641966.jpeg':1,'100002801973.jpeg':1,'100001331976.jpeg':1,'100002661991.jpeg':1,'100002821965.jpeg':1,'100001341967.jpeg':1,'100002671991.jpeg':1,'100002871964.jpeg':1,'100001351976.jpeg':1,'100002711974.jpeg':1,'100002901970.jpeg':1,'100002721970.jpeg':1,'100002911973.jpeg':1,'100001381976.jpeg':1,'100002731970.jpeg':1,'100002921974.jpeg':1,'100001261983.jpeg':1,'100002531966.jpeg':1,'100002741963.jpeg':1,'100002941969.jpeg':1,'100001281968.jpeg':1,'100002561969.jpeg':1,'100002751963.jpeg':1,'100001291963.jpeg':1,'100002581966.jpeg':1,'100002771968.jpeg':1,'100001291976.jpeg':1,'100002601969.jpeg':1,'100002781984.jpeg':1,'100002621968.jpeg':1,'100002791984.jpeg':1,'100001321976.jpeg':1,'100002651963.jpeg':1,'100002811968.jpeg':1,'100001331983.jpeg':1,'100002671966.jpeg':1,'100002841970.jpeg':1,'100001341976.jpeg':1,'100002681972.jpeg':1,'100002891974.jpeg':1,'100001361967.jpeg':1,'100002721963.jpeg':1,'100002901974.jpeg':1,'100001371976.jpeg':1,'100002721974.jpeg':1,'100002921964.jpeg':1,'100001261974.jpeg':1,'100001391966.jpeg':1,'100002731971.jpeg':1,'100002931964.jpeg':1,'100001261991.jpeg':1,'100002551991.jpeg':1,'100002741967.jpeg':1,'100001281971.jpeg':1,'100002561991.jpeg':1,'100002751967.jpeg':1,'100001291972.jpeg':1,'100002581969.jpeg':1,'100002771984.jpeg':1,'100003031969.jpeg':1,'100003241967.jpeg':1,'100003521966.jpeg':1,'100003071976.jpeg':1,'100003271968.jpeg':1,'100003531968.jpeg':1,\n",
    "'100003091974.jpeg':1,'100003281973.jpeg':1,'100003561963.jpeg':1,'100003101967.jpeg':1,'100003311969.jpeg':1,'100003111967.jpeg':1,'100003341971.jpeg':1,'100003591985.jpeg':1,'100003121969.jpeg':1,'100003361975.jpeg':1,'100003631966.jpeg':1,'100003141973.jpeg':1,'100003391969.jpeg':1,'100006481975.jpeg':1,'100003151976.jpeg':1,'100003451963.jpeg':1,'100006491969.jpeg':1,'100002951984.jpeg':1,'100003171976.jpeg':1,'100003461966.jpeg':1,'100006491975.jpeg':1,'100002981969.jpeg':1,'100003201976.jpeg':1,'100003481966.jpeg':1,'100003011963.jpeg':1,'100003221969.jpeg':1,'100003491972.jpeg':1,'100003071965.jpeg':1,'100003251965.jpeg':1,'100003521968.jpeg':1,'100003081974.jpeg':1,'100003271969.jpeg':1,'100003541968.jpeg':1,'100003091976.jpeg':1,'100003301967.jpeg':1,'100003561965.jpeg':1,'100003101974.jpeg':1,'100003331969.jpeg':1,'100003591968.jpeg':1,'100003111976.jpeg':1,'100003351985.jpeg':1,'100003601971.jpeg':1,'100003121976.jpeg':1,'100003371965.jpeg':1,'100003641971.jpeg':1,'100003141976.jpeg':1,'100003441965.jpeg':1,'100006491964.jpeg':1,'100003161973.jpeg':1,'100003451965.jpeg':1,'100006491971.jpeg':1,'100002961969.jpeg':1,'100003181976.jpeg':1,'100003471966.jpeg':1,'100006501966.jpeg':1,'100002991963.jpeg':1,'100003481972.jpeg':1,'100003031965.jpeg':1,'100003241965.jpeg':1,'100003511968.jpeg':1,'100003071966.jpeg':1,'100003251967.jpeg':1,'100003521972.jpeg':1,'100003081976.jpeg':1,'100003281969.jpeg':1,'100003551968.jpeg':1,'100003091984.jpeg':1,'100003311967.jpeg':1,'100003561966.jpeg':1,'100003101976.jpeg':1,'100003331974.jpeg':1,'100003591976.jpeg':1,'100003111984.jpeg':1,'100003361967.jpeg':1,'100003631965.jpeg':1,'100006561975.jpeg':1,'100012091973.jpeg':1,'100012241967.jpeg':1,'100007081972.jpeg':1,'100012101975.jpeg':1,'100012261966.jpeg':1,'100007091969.jpeg':1,'100012111973.jpeg':1,'100012271969.jpeg':1,'100011971970.jpeg':1,'100012121972.jpeg':1,'100012271973.jpeg':1,'100011981970.jpeg':1,'100012141968.jpeg':1,'100012151969.jpeg':1,'100012011970.jpeg':1,'100012171969.jpeg':1,'100012321969.jpeg':1,'100012021970.jpeg':1,'100012181973.jpeg':1,'100012351967.jpeg':1,'100007001976.jpeg':1,'100012041970.jpeg':1,'100012201969.jpeg':1,'100007021966.jpeg':1,\n",
    "'100012051971.jpeg':1,'100012211969.jpeg':1,'100007031974.jpeg':1,'100012071969.jpeg':1,'100012221965.jpeg':1,'100007061974.jpeg':1,'100012091966.jpeg':1,'100012231965.jpeg':1,'100007071974.jpeg':1,'100012101969.jpeg':1,'100012241971.jpeg':1,'100007081973.jpeg':1,'100012111969.jpeg':1,'100012261967.jpeg':1,'100007091974.jpeg':1,'100012111975.jpeg':1,'100012271971.jpeg':1,'100011971972.jpeg':1,'100012131969.jpeg':1,'100012281967.jpeg':1,'100011991966.jpeg':1,'100012141969.jpeg':1,'100012151970.jpeg':1,'100012301972.jpeg':1,'100012021964.jpeg':1,'100012181967.jpeg':1,'100012341969.jpeg':1,'100007001970.jpeg':1,'100012021975.jpeg':1,'100012191969.jpeg':1,'100012361967.jpeg':1,'100007011970.jpeg':1,'100012041974.jpeg':1,'100012201971.jpeg':1,'100012051975.jpeg':1,'100012211971.jpeg':1,'100007041974.jpeg':1,'100012081969.jpeg':1,'100012221969.jpeg':1,'100007071971.jpeg':1,'100012091969.jpeg':1,'100012231968.jpeg':1,'100007081971.jpeg':1,'100012101970.jpeg':1,'100012251966.jpeg':1,'100007091967.jpeg':1,'100012111970.jpeg':1,'100012271967.jpeg':1,'100011971969.jpeg':1,'100012121969.jpeg':1,'100012271972.jpeg':1,'100011981969.jpeg':1,'100012141966.jpeg':1,'100012011965.jpeg':1,'100012151968.jpeg':1,'100012161969.jpeg':1,'100012311972.jpeg':1,'100012021967.jpeg':1,'100021601972.jpeg':1,'100021801972.jpeg':1,'100021901970.jpeg':1,'100012371963.jpeg':1,'100021621971.jpeg':1,'100021811975.jpeg':1,'100021911964.jpeg':1,'100012381964.jpeg':1,'100021641973.jpeg':1,'100021831971.jpeg':1,'100021911974.jpeg':1,'100012401969.jpeg':1,'100021651970.jpeg':1,'100021841966.jpeg':1,'100012411971.jpeg':1,'100021671971.jpeg':1,'100021851976.jpeg':1,'100012421976.jpeg':1,'100021701965.jpeg':1,'100021861976.jpeg':1,'100012461967.jpeg':1,'100021711966.jpeg':1,'100021871976.jpeg':1,'100021551965.jpeg':1,'100021731975.jpeg':1,'100021881972.jpeg':1,'100021561973.jpeg':1,'100021751967.jpeg':1,'100021891966.jpeg':1,'100021761967.jpeg':1,'100021891972.jpeg':1,'100021591970.jpeg':1,'100021771971.jpeg':1,'100021901964.jpeg':1,'100021611965.jpeg':1,'100021801976.jpeg':1,'100021901972.jpeg':1,'100012371966.jpeg':1,'100021631964.jpeg':1,'100021821966.jpeg':1,'100021911965.jpeg':1,'100012391964.jpeg':1,\n",
    "'100021651966.jpeg':1,'100021831974.jpeg':1,'100012401971.jpeg':1,'100021651975.jpeg':1,'100021841976.jpeg':1,'100012411976.jpeg':1,'100021691965.jpeg':1,'100021861967.jpeg':1,'100012441964.jpeg':1,'100021701967.jpeg':1,'100021871967.jpeg':1,'100021541964.jpeg':1,'100021711971.jpeg':1,'100021881970.jpeg':1,'100021551973.jpeg':1,'100021741972.jpeg':1,'100021881974.jpeg':1,'100021571970.jpeg':1,'100021751969.jpeg':1,'100021891969.jpeg':1,'100021581970.jpeg':1,'100021771966.jpeg':1,'100021891973.jpeg':1,'100021601970.jpeg':1,'100021791967.jpeg':1,'100021901968.jpeg':1,'100021611970.jpeg':1,'100021811965.jpeg':1,'100021901974.jpeg':1,'100012371967.jpeg':1,'100021641966.jpeg':1,'100021831966.jpeg':1,'100021911970.jpeg':1,'100012391971.jpeg':1,'100021651967.jpeg':1,'100012411965.jpeg':1,'100021661974.jpeg':1,'100021851964.jpeg':1,'100012421972.jpeg':1,'100021691971.jpeg':1,'100021861969.jpeg':1,'100012451964.jpeg':1,'100021701971.jpeg':1,'100021871971.jpeg':1,'100021551964.jpeg':1,'100021721971.jpeg':1,'100021881971.jpeg':1,'100021561964.jpeg':1,'100021741975.jpeg':1,'100021881976.jpeg':1,'100021581965.jpeg':1,'100021751972.jpeg':1,'100021891970.jpeg':1,'100021591965.jpeg':1,'100021771970.jpeg':1,'100021891974.jpeg':1,'100030151974.jpeg':1,'100030331966.jpeg':1,'100030431970.jpeg':1,'100030161970.jpeg':1,'100030341968.jpeg':1,'100030461965.jpeg':1,'100030191975.jpeg':1,'100030351968.jpeg':1,'100030461969.jpeg':1,'100021921971.jpeg':1,'100030221969.jpeg':1,'100030361969.jpeg':1,'100030471968.jpeg':1,'100021931976.jpeg':1,'100030231971.jpeg':1,'100030381965.jpeg':1,'100021941973.jpeg':1,'100030241969.jpeg':1,'100030381975.jpeg':1,'100030051976.jpeg':1,'100030261965.jpeg':1,'100030391969.jpeg':1,'100030071976.jpeg':1,'100030261971.jpeg':1,'100030401965.jpeg':1,'100030091967.jpeg':1,'100030281969.jpeg':1,'100030401973.jpeg':1,'100030101974.jpeg':1,'100030301973.jpeg':1,'100030411973.jpeg':1,'100030141970.jpeg':1,'100030311969.jpeg':1,'100030431965.jpeg':1,'100030151975.jpeg':1,'100030331969.jpeg':1,'100030441966.jpeg':1,'100030171970.jpeg':1,'100030341969.jpeg':1,'100030461966.jpeg':1,'100021921969.jpeg':1,'100030201975.jpeg':1,'100030351969.jpeg':1,'100030471965.jpeg':1,\n",
    "'100021931970.jpeg':1,'100030221991.jpeg':1,'100030371968.jpeg':1,'100030481966.jpeg':1,'100021941964.jpeg':1,'100030231991.jpeg':1,'100030381968.jpeg':1,'100030051969.jpeg':1,'100030251969.jpeg':1,'100030391965.jpeg':1,'100030061976.jpeg':1,'100030261966.jpeg':1,'100030391973.jpeg':1,'100030081976.jpeg':1,'100030271966.jpeg':1,'100030401966.jpeg':1,'100030091969.jpeg':1,'100030291969.jpeg':1,'100030401975.jpeg':1,'100030121974.jpeg':1,'100030311966.jpeg':1,'100030411976.jpeg':1,'100030151970.jpeg':1,'100030321969.jpeg':1,'100030431966.jpeg':1,'100030161966.jpeg':1,'100030331976.jpeg':1,'100030451966.jpeg':1,'100030181966.jpeg':1,'100030351965.jpeg':1,'100030461968.jpeg':1,'100021921970.jpeg':1,'100030221967.jpeg':1,'100030361968.jpeg':1,'100030471966.jpeg':1,'100021931973.jpeg':1,'100030231969.jpeg':1,'100030371969.jpeg':1,'100021941970.jpeg':1,'100030241967.jpeg':1,'100030381969.jpeg':1,'100030051971.jpeg':1,'100030251971.jpeg':1,'100030391968.jpeg':1,'100030071965.jpeg':1,'100030261969.jpeg':1,'100030391975.jpeg':1,'100030091964.jpeg':1,'100030271969.jpeg':1,'100030401969.jpeg':1,'100030101969.jpeg':1,'100030301969.jpeg':1,'100030411969.jpeg':1,'100030131970.jpeg':1,'100030311967.jpeg':1,'100030421976.jpeg':1,'100030571966.jpeg':1,'100030781967.jpeg':1,'100035171971.jpeg':1,'100030601966.jpeg':1,'100030811966.jpeg':1,'100035191966.jpeg':1,'100030621966.jpeg':1,'100034991973.jpeg':1,'100035201967.jpeg':1,'100030641971.jpeg':1,'100035021964.jpeg':1,'100035211975.jpeg':1,'100030491973.jpeg':1,'100030661966.jpeg':1,'100035061975.jpeg':1,'100035251968.jpeg':1,'100030501968.jpeg':1,'100030681966.jpeg':1,'100035071973.jpeg':1,'100030511971.jpeg':1,'100030701975.jpeg':1,'100035091965.jpeg':1,'100030521970.jpeg':1,'100030711975.jpeg':1,'100035101968.jpeg':1,'100030531970.jpeg':1,'100030731966.jpeg':1,'100035111972.jpeg':1,'100030551966.jpeg':1,'100030751966.jpeg':1,'100035131966.jpeg':1,'100030561966.jpeg':1,'100030771966.jpeg':1,'100035151967.jpeg':1,'100030581966.jpeg':1,'100030791966.jpeg':1,'100035181972.jpeg':1,'100030601971.jpeg':1,'100030821966.jpeg':1,'100035191969.jpeg':1,'100030631966.jpeg':1,'100035001973.jpeg':1,'100035201975.jpeg':1,'100030651966.jpeg':1,\n",
    "'100035051965.jpeg':1,'100035231966.jpeg':1,'100030501966.jpeg':1,'100030671966.jpeg':1,'100035071967.jpeg':1,'100035251970.jpeg':1,'100030511966.jpeg':1,'100030691966.jpeg':1,'100035081964.jpeg':1,'100030521966.jpeg':1,'100030711966.jpeg':1,'100035091973.jpeg':1,'100030531966.jpeg':1,'100030721966.jpeg':1,'100035101971.jpeg':1,'100030541966.jpeg':1,'100030731973.jpeg':1,'100035121966.jpeg':1,'100030551969.jpeg':1,'100030751970.jpeg':1,'100035141974.jpeg':1,'100030561969.jpeg':1,'100030781966.jpeg':1,'100035151974.jpeg':1,'100030591966.jpeg':1,'100030801966.jpeg':1,'100030611966.jpeg':1,'100034981971.jpeg':1,'100030641966.jpeg':1,'100035011973.jpeg':1,'100035211971.jpeg':1,'100030491966.jpeg':1,'100030661965.jpeg':1,'100035061971.jpeg':1,'100035241968.jpeg':1,'100030501967.jpeg':1,'100035071971.jpeg':1,'100035271974.jpeg':1,'100030511968.jpeg':1,'100030701966.jpeg':1,'100035081973.jpeg':1,'100030521968.jpeg':1,'100030711971.jpeg':1,'100035091976.jpeg':1,'100030531968.jpeg':1,'100030731964.jpeg':1,'100035111968.jpeg':1,'100030541967.jpeg':1,'100030741966.jpeg':1,'100035121972.jpeg':1,'100030551975.jpeg':1,'100030761966.jpeg':1,'100035151966.jpeg':1,'100035391975.jpeg':1,'100042621972.jpeg':1,'100042841968.jpeg':1,'100035411975.jpeg':1,'100042661968.jpeg':1,'100042851971.jpeg':1,'100035441971.jpeg':1,'100042681968.jpeg':1,'100042861976.jpeg':1,'100035461968.jpeg':1,'100042701967.jpeg':1,'100042881968.jpeg':1,'100035471967.jpeg':1,'100042711970.jpeg':1,'100042901976.jpeg':1,'100035281973.jpeg':1,'100035481974.jpeg':1,'100042741969.jpeg':1,'100042921966.jpeg':1,'100035301964.jpeg':1,'100035501965.jpeg':1,'100042771967.jpeg':1,'100042921975.jpeg':1,'100035311969.jpeg':1,'100042551971.jpeg':1,'100042781969.jpeg':1,'100035331964.jpeg':1,'100042571973.jpeg':1,'100042801968.jpeg':1,'100035351964.jpeg':1,'100042591974.jpeg':1,'100042821966.jpeg':1,'100035381966.jpeg':1,'100042611971.jpeg':1,'100042831968.jpeg':1,'100035401975.jpeg':1,'100042641974.jpeg':1,'100042841969.jpeg':1,'100035431971.jpeg':1,'100042661970.jpeg':1,'100042851976.jpeg':1,'100035451966.jpeg':1,'100042681970.jpeg':1,'100042871968.jpeg':1,'100035461976.jpeg':1,'100042701970.jpeg':1,'100042881976.jpeg':1,\n",
    "'100035471976.jpeg':1,'100042721970.jpeg':1,'100042911966.jpeg':1,'100035291964.jpeg':1,'100035481976.jpeg':1,'100042751969.jpeg':1,'100042921969.jpeg':1,'100035301976.jpeg':1,'100035501971.jpeg':1,'100042771969.jpeg':1,'100035321964.jpeg':1,'100042561971.jpeg':1,'100042781972.jpeg':1,'100035331975.jpeg':1,'100042581971.jpeg':1,'100042801969.jpeg':1,'100035361964.jpeg':1,'100042601968.jpeg':1,'100042821967.jpeg':1,'100035391972.jpeg':1,'100042621966.jpeg':1,'100042841966.jpeg':1,'100035411973.jpeg':1,'100042651970.jpeg':1,'100042851968.jpeg':1,'100035441969.jpeg':1,'100042671970.jpeg':1,'100042861968.jpeg':1,'100035451976.jpeg':1,'100042691974.jpeg':1,'100042871976.jpeg':1,'100035471966.jpeg':1,'100042711968.jpeg':1,'100042891976.jpeg':1,'100035481968.jpeg':1,'100042731969.jpeg':1,'100042911976.jpeg':1,'100035291973.jpeg':1,'100035501964.jpeg':1,'100042761969.jpeg':1,'100035311964.jpeg':1,'100035501976.jpeg':1,'100042781968.jpeg':1,'100035321970.jpeg':1,'100042571971.jpeg':1,'100042791970.jpeg':1,'100035341964.jpeg':1,'100042811968.jpeg':1,'100035381964.jpeg':1,'100042601971.jpeg':1,'100042821968.jpeg':1,'100042961976.jpeg':1,'117516582014.jpeg':1,'117519132014.jpeg':1,'100042981964.jpeg':1,'117516642014.jpeg':1,'117519162014.jpeg':1,'100042991976.jpeg':1,'117517122014.jpeg':1,'117519202014.jpeg':1,'100043001971.jpeg':1,'117517522014.jpeg':1,'117519232014.jpeg':1,'100043011971.jpeg':1,'117518712014.jpeg':1,'117522662014.jpeg':1,'100043031976.jpeg':1,'117518932014.jpeg':1,'117522792014.jpeg':1,'100043051967.jpeg':1,'117518972014.jpeg':1,'117528732014.jpeg':1,'100042931972.jpeg':1,'103556701996.jpeg':1,'117519012014.jpeg':1,'117531132014.jpeg':1,'100042941969.jpeg':1,'117516372014.jpeg':1,'117519052014.jpeg':1,'100042951970.jpeg':1,'117516462014.jpeg':1,'117519082014.jpeg':1,'100042961970.jpeg':1,'117516562014.jpeg':1,'117519112014.jpeg':1,'100042971974.jpeg':1,'117516592014.jpeg':1,'117519142014.jpeg':1,'100042981976.jpeg':1,'117516662014.jpeg':1,'117519182014.jpeg':1,'100043001966.jpeg':1,'117517142014.jpeg':1,'117519212014.jpeg':1,'100043001972.jpeg':1,'117517542014.jpeg':1,'117519242014.jpeg':1,'100043011976.jpeg':1,'117518902014.jpeg':1,'117522712014.jpeg':1,\n",
    "'100043041976.jpeg':1,'117518942014.jpeg':1,'117522852014.jpeg':1,'100042921976.jpeg':1,'103412911979.jpeg':1,'117518992014.jpeg':1,'117529512014.jpeg':1,'100042931975.jpeg':1,'109340781990.jpeg':1,'117519022014.jpeg':1,'117531142014.jpeg':1,'100042941976.jpeg':1,'117516402014.jpeg':1,'117519062014.jpeg':1,'100042951976.jpeg':1,'117516542014.jpeg':1,'117519092014.jpeg':1,'100042961974.jpeg':1,'117516572014.jpeg':1,'117519122014.jpeg':1,'100042971976.jpeg':1,'117516622014.jpeg':1,'117519152014.jpeg':1,'100042991971.jpeg':1,'117516682014.jpeg':1,'117519192014.jpeg':1,'100043001969.jpeg':1,'117517502014.jpeg':1,'117519222014.jpeg':1,'100043001976.jpeg':1,'117517562014.jpeg':1,'117522622014.jpeg':1,'100043021976.jpeg':1,'117518912014.jpeg':1,'117522752014.jpeg':1,'100043051966.jpeg':1,'117518962014.jpeg':1,'117522892014.jpeg':1,'103456141996.jpeg':1,'117519002014.jpeg':1,'117529782014.jpeg':1,'100042931976.jpeg':1,'117516322014.jpeg':1,'117519032014.jpeg':1,'100042951967.jpeg':1,'117516432014.jpeg':1,'117519072014.jpeg':1,'117516552014.jpeg':1,'117519102014.jpeg':1,'117541032014.jpeg':1,'117565832014.jpeg':1,'117595962014.jpeg':1,'117544892014.jpeg':1,'117566692014.jpeg':1,'117598292014.jpeg':1,'117550902014.jpeg':1,'117567752014.jpeg':1,'117601552014.jpeg':1,'117552142014.jpeg':1,'117572682014.jpeg':1,'117603912014.jpeg':1,'117555182014.jpeg':1,'117594882014.jpeg':1,'117604572014.jpeg':1,'117559122014.jpeg':1,'117594952014.jpeg':1,'117608092014.jpeg':1,'117560712014.jpeg':1,'117595062014.jpeg':1,'117609142014.jpeg':1,'117560982014.jpeg':1,'117595792014.jpeg':1,'117609592014.jpeg':1,'117531892014.jpeg':1,'117563142014.jpeg':1,'117595872014.jpeg':1,'117609622014.jpeg':1,'117533682014.jpeg':1,'117563262014.jpeg':1,'117595912014.jpeg':1,'117536182014.jpeg':1,'117565512014.jpeg':1,'117595942014.jpeg':1,'117541042014.jpeg':1,'117565992014.jpeg':1,'117598182014.jpeg':1,'117548112014.jpeg':1,'117566932014.jpeg':1,'117599302014.jpeg':1,'117551242014.jpeg':1,'117569792014.jpeg':1,'117601592014.jpeg':1,'117552382014.jpeg':1,'117572702014.jpeg':1,'117604322014.jpeg':1,'117556222014.jpeg':1,'117594892014.jpeg':1,'117604582014.jpeg':1,'117559172014.jpeg':1,'117594992014.jpeg':1,\n",
    "'117608582014.jpeg':1,'117560822014.jpeg':1,'117595762014.jpeg':1,'117609572014.jpeg':1,'117562532014.jpeg':1,'117595802014.jpeg':1,'117609602014.jpeg':1,'117533412014.jpeg':1,'117563232014.jpeg':1,'117595882014.jpeg':1,'117609632014.jpeg':1,'117533702014.jpeg':1,'117563472014.jpeg':1,'117595922014.jpeg':1,'117537982014.jpeg':1,'117565732014.jpeg':1,'117595952014.jpeg':1,'117543662014.jpeg':1,'117566052014.jpeg':1,'117598272014.jpeg':1,'117548252014.jpeg':1,'117567742014.jpeg':1,'117601332014.jpeg':1,'117552132014.jpeg':1,'117572422014.jpeg':1,'117602512014.jpeg':1,'117552392014.jpeg':1,'117573922014.jpeg':1,'117604332014.jpeg':1,'117558812014.jpeg':1,'117594912014.jpeg':1,'117605152014.jpeg':1,'117560292014.jpeg':1,'117595032014.jpeg':1,'117609132014.jpeg':1,'117560892014.jpeg':1,'117595772014.jpeg':1,'117609582014.jpeg':1,'117531872014.jpeg':1,'117562922014.jpeg':1,'117595832014.jpeg':1,'117609612014.jpeg':1,'117533652014.jpeg':1,'117563252014.jpeg':1,'117595892014.jpeg':1,'117609642014.jpeg':1,'117535342014.jpeg':1,'117565502014.jpeg':1,'117595932014.jpeg':1,'117611862014.jpeg':1,'117631902014.jpeg':1,'117645302014.jpeg':1,'117613462014.jpeg':1,'117633922014.jpeg':1,'117645632014.jpeg':1,'117615582014.jpeg':1,'117633992014.jpeg':1,'117646002014.jpeg':1,'117616962014.jpeg':1,'117635692014.jpeg':1,'117650592014.jpeg':1,'117623112014.jpeg':1,'117635822014.jpeg':1,'117655002014.jpeg':1,'117623142014.jpeg':1,'117636732014.jpeg':1,'613023782008.jpeg':1,'117624992014.jpeg':1,'117638012014.jpeg':1,'613023812008.jpeg':1,'117625902014.jpeg':1,'117640972014.jpeg':1,'613025442008.jpeg':1,'117629072014.jpeg':1,'117641062014.jpeg':1,'613036722008.jpeg':1,'117609952014.jpeg':1,'117630812014.jpeg':1,'117641092014.jpeg':1,'613045972008.jpeg':1,'117611822014.jpeg':1,'117630842014.jpeg':1,'117643742014.jpeg':1,'613051142008.jpeg':1,'117612242014.jpeg':1,'117645372014.jpeg':1,'117614372014.jpeg':1,'117633952014.jpeg':1,'117645772014.jpeg':1,'117615592014.jpeg':1,'117634002014.jpeg':1,'117646012014.jpeg':1,'117619152014.jpeg':1,'117635782014.jpeg':1,'117651472014.jpeg':1,'117623122014.jpeg':1,'117635842014.jpeg':1,'613023762008.jpeg':1,'117623552014.jpeg':1,'117636862014.jpeg':1,\n",
    "'613023792008.jpeg':1,'117625842014.jpeg':1,'117640212014.jpeg':1,'613023822008.jpeg':1,'117627742014.jpeg':1,'117640982014.jpeg':1,'613025452008.jpeg':1,'117629242014.jpeg':1,'117641072014.jpeg':1,'613038902008.jpeg':1,'117610822014.jpeg':1,'117630822014.jpeg':1,'117642532014.jpeg':1,'613046832008.jpeg':1,'117611842014.jpeg':1,'117630852014.jpeg':1,'117644812014.jpeg':1,'117613322014.jpeg':1,'117633902014.jpeg':1,'117645482014.jpeg':1,'117614632014.jpeg':1,'117633982014.jpeg':1,'117645992014.jpeg':1,'117615612014.jpeg':1,'117634012014.jpeg':1,'117648342014.jpeg':1,'117621752014.jpeg':1,'117635812014.jpeg':1,'117652822014.jpeg':1,'117623132014.jpeg':1,'117635862014.jpeg':1,'613023772008.jpeg':1,'117623802014.jpeg':1,'117637162014.jpeg':1,'613023802008.jpeg':1,'117625892014.jpeg':1,'117640912014.jpeg':1,'613023832008.jpeg':1,'117628772014.jpeg':1,'117640992014.jpeg':1,'613026132008.jpeg':1,'117630802014.jpeg':1,'117641082014.jpeg':1,'613044092008.jpeg':1,'117611222014.jpeg':1,'117630832014.jpeg':1,'117643222014.jpeg':1,'613047242008.jpeg':1,'613082282008.jpeg':1,'613092352008.jpeg':1,'613107172008.jpeg':1,'613055292008.jpeg':1,'613055832008.jpeg':1,'613082312008.jpeg':1,'613097742008.jpeg':1,'613065592008.jpeg':1,'613083452008.jpeg':1,'613097872008.jpeg':1,'613069272008.jpeg':1,'613086912008.jpeg':1,'613097942008.jpeg':1,'613073182008.jpeg':1,'613086962008.jpeg':1,'613100382008.jpeg':1,'613081732008.jpeg':1,'613086992008.jpeg':1,'613100442008.jpeg':1,'613081762008.jpeg':1,'613087022008.jpeg':1,'613102302008.jpeg':1,'613081972008.jpeg':1,'613087812008.jpeg':1,'613102332008.jpeg':1,'613082022008.jpeg':1,'613087842008.jpeg':1,'613104262008.jpeg':1,'613082232008.jpeg':1,'613089812008.jpeg':1,'613104782008.jpeg':1,'613082262008.jpeg':1,'613090652008.jpeg':1,'613107142008.jpeg':1,'613082292008.jpeg':1,'613107192008.jpeg':1,'613055302008.jpeg':1,'613057572008.jpeg':1,'613082322008.jpeg':1,'613097762008.jpeg':1,'613065602008.jpeg':1,'613086392008.jpeg':1,'613097902008.jpeg':1,'613070082008.jpeg':1,'613086942008.jpeg':1,'613097952008.jpeg':1,'613081712008.jpeg':1,'613086972008.jpeg':1,'613100412008.jpeg':1,'613081742008.jpeg':1,'613087002008.jpeg':1,'613102002008.jpeg':1,'613081942008.jpeg':1,'613087042008.jpeg':1,'613102312008.jpeg':1,'613081982008.jpeg':1,'613087822008.jpeg':1,'613102662008.jpeg':1,'613082212008.jpeg':1,'613087852008.jpeg':1,'613104272008.jpeg':1,'613082242008.jpeg':1,'613090512008.jpeg':1,'613104842008.jpeg':1,'613082272008.jpeg':1,'613092342008.jpeg':1,'613107152008.jpeg':1,'613054042008.jpeg':1,'613082302008.jpeg':1,'613094862008.jpeg':1,'613107212008.jpeg':1,'613055312008.jpeg':1,'613057892008.jpeg':1,'613083122008.jpeg':1,'613097772008.jpeg':1,'613065962008.jpeg':1,'613086412008.jpeg':1,'613097912008.jpeg':1,'613072462008.jpeg':1,'613086952008.jpeg':1,'613100362008.jpeg':1,'613081722008.jpeg':1,'613086982008.jpeg':1,'613100422008.jpeg':1,'613081752008.jpeg':1,'613087012008.jpeg':1,'613102032008.jpeg':1,'613081952008.jpeg':1,'613087252008.jpeg':1,'613102322008.jpeg':1,'613082002008.jpeg':1,'613087832008.jpeg':1,'613102772008.jpeg':1,'613082222008.jpeg':1,'613089262008.jpeg':1,'613104772008.jpeg':1,'613082252008.jpeg':1,'613090522008.jpeg':1,'613107122008.jpeg':1,'613590122009.jpeg':1,'613614652009.jpeg':1,'613682292009.jpeg':1,'613107222008.jpeg':1,'613591592009.jpeg':1,'613623312009.jpeg':1,'613692482009.jpeg':1,'613436042009.jpeg':1,'613592172009.jpeg':1,'613623392009.jpeg':1,'613561562009.jpeg':1,'613594932009.jpeg':1,'613634262009.jpeg':1,'613565182009.jpeg':1,'613606242009.jpeg':1,'613607122009.jpeg':1,'613641662009.jpeg':1,'613565272009.jpeg':1,'613609992009.jpeg':1,'613645602009.jpeg':1,'613567032009.jpeg':1,'613610022009.jpeg':1,'613646122009.jpeg':1,'613567682009.jpeg':1,'613610432009.jpeg':1,'613649022009.jpeg':1,'613572432009.jpeg':1,'613610462009.jpeg':1,'613658762009.jpeg':1,'613575722009.jpeg':1,'613614532009.jpeg':1,'613665852009.jpeg':1,'613583762009.jpeg':1,'613614582009.jpeg':1,'613681822009.jpeg':1,'613590132009.jpeg':1,'613614672009.jpeg':1,'613683312009.jpeg':1,'613107232008.jpeg':1,'613592152009.jpeg':1,'613623342009.jpeg':1,'613561472009.jpeg':1,'613592182009.jpeg':1,'613623402009.jpeg':1,'613561582009.jpeg':1,'613604212009.jpeg':1,'613637312009.jpeg':1,'613565212009.jpeg':1,'613606252009.jpeg':1,'613607302009.jpeg':1,'613643552009.jpeg':1,'613565342009.jpeg':1,'613610002009.jpeg':1,'613646092009.jpeg':1,'613567042009.jpeg':1,'613610032009.jpeg':1,'613646132009.jpeg':1,'613568382009.jpeg':1,'613610442009.jpeg':1,'613654612009.jpeg':1,'613572462009.jpeg':1,'613613792009.jpeg':1,'613658772009.jpeg':1,'613580312009.jpeg':1,'613614542009.jpeg':1,'613670992009.jpeg':1,'613589802009.jpeg':1,'613614642009.jpeg':1,'613682032009.jpeg':1,'613590142009.jpeg':1,'613616272009.jpeg':1,'613687412009.jpeg':1,'613107372008.jpeg':1,'613592162009.jpeg':1,'613623362009.jpeg':1,'613561552009.jpeg':1,'613632452009.jpeg':1,'613561612009.jpeg':1,'613605112009.jpeg':1,'613641622009.jpeg':1,'613565252009.jpeg':1,'613606262009.jpeg':1,'613607312009.jpeg':1,'613645592009.jpeg':1,'613567022009.jpeg':1,'613610012009.jpeg':1,'613646112009.jpeg':1,'613567072009.jpeg':1,'613610422009.jpeg':1,'613646782009.jpeg':1,'613572172009.jpeg':1,'613610452009.jpeg':1,'613658532009.jpeg':1,'613574072009.jpeg':1,'613613802009.jpeg':1,'613665072009.jpeg':1,'613581222009.jpeg':1,'613614552009.jpeg':1,'613681812009.jpeg':1,'614074752010.jpeg':1,'614095842010.jpeg':1,'614111192010.jpeg':1,'614077792010.jpeg':1,'614100242010.jpeg':1,'614111222010.jpeg':1,'613696452009.jpeg':1,'614077822010.jpeg':1,'614110562010.jpeg':1,'614111252010.jpeg':1,'613698922009.jpeg':1,'614077852010.jpeg':1,'614110592010.jpeg':1,'613705512009.jpeg':1,'614077882010.jpeg':1,'614110632010.jpeg':1,'613719532009.jpeg':1,'614077912010.jpeg':1,'614110662010.jpeg':1,'613726042009.jpeg':1,'614077942010.jpeg':1,'614110692010.jpeg':1,'613753222009.jpeg':1,'614082172010.jpeg':1,'614110732010.jpeg':1,'613753252009.jpeg':1,'614082232010.jpeg':1,'614111112010.jpeg':1,'614070682010.jpeg':1,'614082272010.jpeg':1,'614111142010.jpeg':1,'614072262010.jpeg':1,'614087972010.jpeg':1,'614111172010.jpeg':1,'614077532010.jpeg':1,'614100212010.jpeg':1,'614111202010.jpeg':1,'613695132009.jpeg':1,'614077802010.jpeg':1,'614110542010.jpeg':1,'614111232010.jpeg':1,'613697202009.jpeg':1,'614077832010.jpeg':1,'614110572010.jpeg':1,'614111262010.jpeg':1,'613703772009.jpeg':1,'614077862010.jpeg':1,'614110602010.jpeg':1,'613717722009.jpeg':1,'614077892010.jpeg':1,'614110642010.jpeg':1,'613724422009.jpeg':1,'614077922010.jpeg':1,'614110672010.jpeg':1,'613747082009.jpeg':1,'614077952010.jpeg':1,'614110702010.jpeg':1,'613753232009.jpeg':1,'614082192010.jpeg':1,'614111032010.jpeg':1,'613753712009.jpeg':1,'614082252010.jpeg':1,'614111122010.jpeg':1,'614070712010.jpeg':1,'614083722010.jpeg':1,'614111152010.jpeg':1,'614073902010.jpeg':1,'614090352010.jpeg':1,'614111182010.jpeg':1,'614077782010.jpeg':1,'614100222010.jpeg':1,'614111212010.jpeg':1,'613695962009.jpeg':1,'614077812010.jpeg':1,'614110552010.jpeg':1,'614111242010.jpeg':1,'613697212009.jpeg':1,'614077842010.jpeg':1,'614110582010.jpeg':1,'613704052009.jpeg':1,'614077872010.jpeg':1,'614110622010.jpeg':1,'613717742009.jpeg':1,'614077902010.jpeg':1,'614110652010.jpeg':1,'613724442009.jpeg':1,'614077932010.jpeg':1,'614110682010.jpeg':1,'613753212009.jpeg':1,'614077962010.jpeg':1,'614110722010.jpeg':1,'613753242009.jpeg':1,'614082212010.jpeg':1,'614111102010.jpeg':1,'613753972009.jpeg':1,'614082262010.jpeg':1,'614111132010.jpeg':1,'614071172010.jpeg':1,'614087952010.jpeg':1,'614111162010.jpeg':1,'614112162010.jpeg':1,'614116252010.jpeg':1,'614838812011.jpeg':1,'614112192010.jpeg':1,'614116702010.jpeg':1,'614841072011.jpeg':1,'614112682010.jpeg':1,'614116822010.jpeg':1,'614848142011.jpeg':1,'614111282010.jpeg':1,'614112832010.jpeg':1,'614120752010.jpeg':1,'614852272011.jpeg':1,'614111312010.jpeg':1,'614114002010.jpeg':1,'614120862010.jpeg':1,'614111342010.jpeg':1,'614114032010.jpeg':1,'614120892010.jpeg':1,'614111372010.jpeg':1,'614114062010.jpeg':1,'614120922010.jpeg':1,'614111802010.jpeg':1,'614114742010.jpeg':1,'614123662010.jpeg':1,'614112042010.jpeg':1,'614115172010.jpeg':1,'614827632011.jpeg':1,'614112082010.jpeg':1,'614115902010.jpeg':1,'614831262011.jpeg':1,'614112112010.jpeg':1,'614115932010.jpeg':1,'614837512011.jpeg':1,'614112172010.jpeg':1,'614116282010.jpeg':1,'614840692011.jpeg':1,'614112362010.jpeg':1,'614116712010.jpeg':1,'614842362011.jpeg':1,'614112802010.jpeg':1,'614120032010.jpeg':1,'614848542011.jpeg':1,'614111292010.jpeg':1,'614113422010.jpeg':1,'614120842010.jpeg':1,'614852292011.jpeg':1,'614111322010.jpeg':1,'614114012010.jpeg':1,'614120872010.jpeg':1,'614111352010.jpeg':1,'614114042010.jpeg':1,'614120902010.jpeg':1,'614111382010.jpeg':1,'614114072010.jpeg':1,'614120932010.jpeg':1,'614111812010.jpeg':1,'614114752010.jpeg':1,'614826952011.jpeg':1,'614112052010.jpeg':1,'614115882010.jpeg':1,'614827952011.jpeg':1,'614112092010.jpeg':1,'614115912010.jpeg':1,'614834872011.jpeg':1,'614112132010.jpeg':1,'614115942010.jpeg':1,'614837522011.jpeg':1,'614112182010.jpeg':1,'614116292010.jpeg':1,'614840832011.jpeg':1,'614112672010.jpeg':1,'614116722010.jpeg':1,'614843382011.jpeg':1,'614111272010.jpeg':1,'614112822010.jpeg':1,'614120742010.jpeg':1,'614850822011.jpeg':1,'614111302010.jpeg':1,'614113992010.jpeg':1,'614120852010.jpeg':1,'614852312011.jpeg':1,'614111332010.jpeg':1,'614114022010.jpeg':1,'614120882010.jpeg':1,'614111362010.jpeg':1,'614114052010.jpeg':1,'614120912010.jpeg':1,'614111792010.jpeg':1,'614114082010.jpeg':1,'614120942010.jpeg':1,'614112032010.jpeg':1,'614115132010.jpeg':1,'614827072011.jpeg':1,'614112062010.jpeg':1,'614115892010.jpeg':1,'614828452011.jpeg':1,'614112102010.jpeg':1,'614115922010.jpeg':1,'614836612011.jpeg':1,'614897602011.jpeg':1,'614983842011.jpeg':1,'615025342011.jpeg':1,'614903162011.jpeg':1,'614991722011.jpeg':1,'615032002011.jpeg':1,'614923992011.jpeg':1,'614993872011.jpeg':1,'615036132011.jpeg':1,'614936052011.jpeg':1,'614994502011.jpeg':1,'615037222011.jpeg':1,'614936102011.jpeg':1,'615000242011.jpeg':1,'615038772011.jpeg':1,'614852342011.jpeg':1,'614936192011.jpeg':1,'615008242011.jpeg':1,'618614112015.jpeg':1,'614853022011.jpeg':1,'614956962011.jpeg':1,'615008992011.jpeg':1,'614865622011.jpeg':1,'614958962011.jpeg':1,'615013612011.jpeg':1,'614878752011.jpeg':1,'614889762011.jpeg':1,'614968522011.jpeg':1,'615017802011.jpeg':1,'614892352011.jpeg':1,'614972102011.jpeg':1,'615018382011.jpeg':1,'614897542011.jpeg':1,'614981652011.jpeg':1,'615023902011.jpeg':1,'614897622011.jpeg':1,'614990042011.jpeg':1,'615025392011.jpeg':1,'614904052011.jpeg':1,'614992262011.jpeg':1,'615036112011.jpeg':1,'614929532011.jpeg':1,'614993892011.jpeg':1,'615036142011.jpeg':1,'614936072011.jpeg':1,'614996822011.jpeg':1,'615037442011.jpeg':1,'614936112011.jpeg':1,'615004262011.jpeg':1,'615039292011.jpeg':1,'614852372011.jpeg':1,'614947502011.jpeg':1,'615008482011.jpeg':1,'614853032011.jpeg':1,'614957232011.jpeg':1,'615009002011.jpeg':1,'614877482011.jpeg':1,'614963182011.jpeg':1,'615015592011.jpeg':1,'614885032011.jpeg':1,'614889832011.jpeg':1,'614968642011.jpeg':1,'615018332011.jpeg':1,'614893722011.jpeg':1,'614974212011.jpeg':1,'615021962011.jpeg':1,'614897582011.jpeg':1,'614981662011.jpeg':1,'615025262011.jpeg':1,'614900782011.jpeg':1,'614991552011.jpeg':1,'615027742011.jpeg':1,'614916172011.jpeg':1,'614993462011.jpeg':1,'615036122011.jpeg':1,'614935492011.jpeg':1,'614993912011.jpeg':1,'615036152011.jpeg':1,'614936092011.jpeg':1,'614997742011.jpeg':1,'615038762011.jpeg':1,'614936182011.jpeg':1,'615005052011.jpeg':1,'615040202011.jpeg':1,'614852392011.jpeg':1,'614956942011.jpeg':1,'615008512011.jpeg':1,'614861812011.jpeg':1,'614958952011.jpeg':1,'615010512011.jpeg':1,'614878722011.jpeg':1,'614967992011.jpeg':1,'615017002011.jpeg':1,'614885172011.jpeg':1,'614890652011.jpeg':1,'614969222011.jpeg':1,'615018362011.jpeg':1,'614897382011.jpeg':1,'614979612011.jpeg':1,'615022632011.jpeg':1,'618665592015.jpeg':1,'618710482016.jpeg':1,'618780812016.jpeg':1,'618667762015.jpeg':1,'618716172016.jpeg':1,'618784732016.jpeg':1,'618675142015.jpeg':1,'618726392016.jpeg':1,'618797412016.jpeg':1,'618676902015.jpeg':1,'618809082016.jpeg':1,'618684122015.jpeg':1,'618735542016.jpeg':1,'618814812016.jpeg':1,'618693832015.jpeg':1,'618817052016.jpeg':1,'618620042015.jpeg':1,'618697782015.jpeg':1,'618750552016.jpeg':1,'621694852019.jpeg':1,'618625902015.jpeg':1,'618698512015.jpeg':1,'618750582016.jpeg':1,'618638692015.jpeg':1,'618700322015.jpeg':1,'618754182016.jpeg':1,'618651422015.jpeg':1,'618704742015.jpeg':1,'618772272016.jpeg':1,'618657932015.jpeg':1,'618707852015.jpeg':1,'618775662016.jpeg':1,'618666192015.jpeg':1,'618716122016.jpeg':1,'618780882016.jpeg':1,'618668152015.jpeg':1,'618716182016.jpeg':1,'618784982016.jpeg':1,'618676082015.jpeg':1,'618727682016.jpeg':1,'618807442016.jpeg':1,'618679432015.jpeg':1,'618728682016.jpeg':1,'618809632016.jpeg':1,'618692022015.jpeg':1,'618735552016.jpeg':1,'618816802016.jpeg':1,'618618942015.jpeg':1,'618693842015.jpeg':1,'618742632016.jpeg':1,'621694812019.jpeg':1,'618622712015.jpeg':1,'618697792015.jpeg':1,'618750562016.jpeg':1,'621694872019.jpeg':1,'618625912015.jpeg':1,'618698552015.jpeg':1,'618751522016.jpeg':1,'618645222015.jpeg':1,'618703992015.jpeg':1,'618762612016.jpeg':1,'618651432015.jpeg':1,'618774322016.jpeg':1,'618665482015.jpeg':1,'618709742016.jpeg':1,'618778392016.jpeg':1,'618666842015.jpeg':1,'618716152016.jpeg':1,'618781202016.jpeg':1,'618675092015.jpeg':1,'618717582016.jpeg':1,'618785062016.jpeg':1,'618676122015.jpeg':1,'618728562016.jpeg':1,'618808952016.jpeg':1,'618681792015.jpeg':1,'618729162016.jpeg':1,'618812702016.jpeg':1,'618693822015.jpeg':1,'618737522016.jpeg':1,'618816982016.jpeg':1,'618618952015.jpeg':1,'618697772015.jpeg':1,'618742972016.jpeg':1,'621694832019.jpeg':1,'618623332015.jpeg':1,'618698192015.jpeg':1,'618750572016.jpeg':1,'618628852015.jpeg':1,'618698682015.jpeg':1,'618753212016.jpeg':1,'618648052015.jpeg':1,'618704312015.jpeg':1,'618767722016.jpeg':1,'618656452015.jpeg':1,'618705352015.jpeg':1,'618775462016.jpeg':1,'621707602019.jpeg':1,'621725412019.jpeg':1,'621764062020.jpeg':1,'621707632019.jpeg':1,'621726302019.jpeg':1,'621767142020.jpeg':1,'621707702019.jpeg':1,'621731572019.jpeg':1,'621770032020.jpeg':1,'621707752019.jpeg':1,'621734182019.jpeg':1,'621793322020.jpeg':1,'621707782019.jpeg':1,'621736132019.jpeg':1,'621797062020.jpeg':1,'621707812019.jpeg':1,'621742402019.jpeg':1,'621797092020.jpeg':1,'621712382019.jpeg':1,'621743272019.jpeg':1,'621797122020.jpeg':1,'621695512019.jpeg':1,'621712622019.jpeg':1,'621746242019.jpeg':1,'621797152020.jpeg':1,'621701592019.jpeg':1,'621714382019.jpeg':1,'621746722019.jpeg':1,'621704632019.jpeg':1,'621714412019.jpeg':1,'621753612019.jpeg':1,'621707582019.jpeg':1,'621721212019.jpeg':1,'621759022020.jpeg':1,'621707612019.jpeg':1,'621725922019.jpeg':1,'621764312020.jpeg':1,'621707642019.jpeg':1,'621726312019.jpeg':1,'621769032020.jpeg':1,'621707732019.jpeg':1,'621733522019.jpeg':1,'621774182020.jpeg':1,'621707762019.jpeg':1,'621734372019.jpeg':1,'621797042020.jpeg':1,'621707792019.jpeg':1,'621736142019.jpeg':1,'621797072020.jpeg':1,'621710042019.jpeg':1,'621742582019.jpeg':1,'621797102020.jpeg':1,'621712582019.jpeg':1,'621743332019.jpeg':1,'621797132020.jpeg':1,'621695672019.jpeg':1,'621712632019.jpeg':1,'621746252019.jpeg':1,'621797162020.jpeg':1,'621701602019.jpeg':1,'621714392019.jpeg':1,'621748112019.jpeg':1,'621707562019.jpeg':1,'621714422019.jpeg':1,'621753712020.jpeg':1,'621707592019.jpeg':1,'621725402019.jpeg':1,'621759372020.jpeg':1,'621707622019.jpeg':1,'621726272019.jpeg':1,'621766662020.jpeg':1,'621707672019.jpeg':1,'621729132019.jpeg':1,'621769172020.jpeg':1,'621707742019.jpeg':1,'621733752019.jpeg':1,'621793112020.jpeg':1,'621707772019.jpeg':1,'621735172019.jpeg':1,'621797052020.jpeg':1,'621707802019.jpeg':1,'621742392019.jpeg':1,'621797082020.jpeg':1,'621712162019.jpeg':1,'621743262019.jpeg':1,'621797112020.jpeg':1,'621695492019.jpeg':1,'621712612019.jpeg':1,'621745302019.jpeg':1,'621797142020.jpeg':1,'621701582019.jpeg':1,'621713412019.jpeg':1,'621746262019.jpeg':1,'621797172020.jpeg':1,'621702422019.jpeg':1,'621714402019.jpeg':1,'621752782019.jpeg':1,'621707572019.jpeg':1,'621716192019.jpeg':1,'621753762020.jpeg':1,'621797992020.jpeg':1,'621822302020.jpeg':1,'621851782020.jpeg':1,'621798032020.jpeg':1,'621827962020.jpeg':1,'621853362020.jpeg':1,'621798062020.jpeg':1,'621827992020.jpeg':1,'621854872020.jpeg':1,'621798102020.jpeg':1,'621830492020.jpeg':1,'621863292020.jpeg':1,'621798132020.jpeg':1,'621833332020.jpeg':1,'621869842020.jpeg':1,'621798162020.jpeg':1,'621837272020.jpeg':1,'621876822020.jpeg':1,'621801122020.jpeg':1,'621841602020.jpeg':1,'621884672020.jpeg':1,'621803472020.jpeg':1,'621841632020.jpeg':1,'621891142020.jpeg':1,'621797882020.jpeg':1,'621808692020.jpeg':1,'621845332020.jpeg':1,'621891412020.jpeg':1,'621797942020.jpeg':1,'621815792020.jpeg':1,'621847342020.jpeg':1,'621895832020.jpeg':1,'621797972020.jpeg':1,'621822282020.jpeg':1,'621850212020.jpeg':1,'621798002020.jpeg':1,'621822312020.jpeg':1,'621851792020.jpeg':1,'621798042020.jpeg':1,'621827972020.jpeg':1,'621854852020.jpeg':1,'621798072020.jpeg':1,'621828002020.jpeg':1,'621854882020.jpeg':1,'621798112020.jpeg':1,'621830522020.jpeg':1,'621866862020.jpeg':1,'621798142020.jpeg':1,'621836382020.jpeg':1,'621869872020.jpeg':1,'621798172020.jpeg':1,'621841492020.jpeg':1,'621877912020.jpeg':1,'621801132020.jpeg':1,'621841612020.jpeg':1,'621885632020.jpeg':1,'621806592020.jpeg':1,'621841812020.jpeg':1,'621891152020.jpeg':1,'621797922020.jpeg':1,'621812582020.jpeg':1,'621845522020.jpeg':1,'621893082020.jpeg':1,'621797952020.jpeg':1,'621816632020.jpeg':1,'621848522020.jpeg':1,'621797982020.jpeg':1,'621822292020.jpeg':1,'621850922020.jpeg':1,'621798012020.jpeg':1,'621823732020.jpeg':1,'621853282020.jpeg':1,'621798052020.jpeg':1,'621827982020.jpeg':1,'621854862020.jpeg':1,'621798082020.jpeg':1,'621829742020.jpeg':1,'621854902020.jpeg':1,'621798122020.jpeg':1,'621831332020.jpeg':1,'621868202020.jpeg':1,'621798152020.jpeg':1,'621837052020.jpeg':1,'621876172020.jpeg':1,'621801112020.jpeg':1,'621841592020.jpeg':1,'621884632020.jpeg':1,'621801472020.jpeg':1,'621841622020.jpeg':1,'621891132020.jpeg':1,'621808182020.jpeg':1,'621842892020.jpeg':1,'621891162020.jpeg':1,'621797932020.jpeg':1,'621815782020.jpeg':1,'621846122020.jpeg':1,'621895552020.jpeg':1,'621797962020.jpeg':1,'621822272020.jpeg':1,'621849912020.jpeg':1,'621901392020.jpeg':1,'621936522020.jpeg':1,'622008442020.jpeg':1,'622077332020.jpeg':1,'621902482020.jpeg':1,'621936552020.jpeg':1,'622014012020.jpeg':1,'622082362020.jpeg':1,'621915452020.jpeg':1,'621942442020.jpeg':1,'622085692020.jpeg':1,'621917402020.jpeg':1,'621947782020.jpeg':1,'622029232020.jpeg':1,'621917432020.jpeg':1,'622029832020.jpeg':1,'621919612020.jpeg':1,'621951442020.jpeg':1,'622039602020.jpeg':1,'621926342020.jpeg':1,'621952622020.jpeg':1,'622067592020.jpeg':1,'621929932020.jpeg':1,'621970212020.jpeg':1,'622069202020.jpeg':1,'621936442020.jpeg':1,'621985542020.jpeg':1,'622069232020.jpeg':1,'621936472020.jpeg':1,'622004932020.jpeg':1,'622069262020.jpeg':1,'621899572020.jpeg':1,'621936502020.jpeg':1,'622007562020.jpeg':1,'622072502020.jpeg':1,'621901662020.jpeg':1,'621936532020.jpeg':1,'622008742020.jpeg':1,'622080592020.jpeg':1,'621909772020.jpeg':1,'621938952020.jpeg':1,'622014132020.jpeg':1,'622084772020.jpeg':1,'621916662020.jpeg':1,'621944132020.jpeg':1,'622027082020.jpeg':1,'622085702020.jpeg':1,'621917412020.jpeg':1,'621947972020.jpeg':1,'622029252020.jpeg':1,'621917442020.jpeg':1,'622034832020.jpeg':1,'621923782020.jpeg':1,'621951952020.jpeg':1,'622041342020.jpeg':1,'621928332020.jpeg':1,'621955482020.jpeg':1,'622068292020.jpeg':1,'621932372020.jpeg':1,'621980212020.jpeg':1,'622069212020.jpeg':1,'621936452020.jpeg':1,'621996762020.jpeg':1,'622069242020.jpeg':1,'621896052020.jpeg':1,'621936482020.jpeg':1,'622005892020.jpeg':1,'622069272020.jpeg':1,'621899582020.jpeg':1,'621936512020.jpeg':1,'622008432020.jpeg':1,'622072782020.jpeg':1,'621901962020.jpeg':1,'621936542020.jpeg':1,'622008752020.jpeg':1,'622081332020.jpeg':1,'621942432020.jpeg':1,'622017892020.jpeg':1,'622084862020.jpeg':1,'621917392020.jpeg':1,'621945302020.jpeg':1,'622028632020.jpeg':1,'622085712020.jpeg':1,'621917422020.jpeg':1,'621948882020.jpeg':1,'622029822020.jpeg':1,'621917452020.jpeg':1,'621951102020.jpeg':1,'622038832020.jpeg':1,'621924852020.jpeg':1,'621952012020.jpeg':1,'622065302020.jpeg':1,'621929902020.jpeg':1,'621966382020.jpeg':1,'622069192020.jpeg':1,'621934632020.jpeg':1,'621980842020.jpeg':1,'622069222020.jpeg':1,'621936462020.jpeg':1,'622001632020.jpeg':1,'622069252020.jpeg':1,'621899412020.jpeg':1,'621936492020.jpeg':1,'622006012020.jpeg':1,'622072492020.jpeg':1,\n",
    "'100000101967.jpeg':1,'100000321966.jpeg':1,'100000581968.jpeg':1,'100000111966.jpeg':1,'100000351975.jpeg':1,'100000601967.jpeg':1,'100000131964.jpeg':1,'100000371964.jpeg':1,'100000611970.jpeg':1,'100000171972.jpeg':1,'100000401964.jpeg':1,'100000641967.jpeg':1,'100000011971.jpeg':1,'100000191968.jpeg':1,'100000421964.jpeg':1,'100000681967.jpeg':1,'100000021968.jpeg':1,'100000201975.jpeg':1,'100000431971.jpeg':1,'100000711967.jpeg':1,'100000021977.jpeg':1,'100000231970.jpeg':1,'100000501973.jpeg':1,'100000041977.jpeg':1,'100000261966.jpeg':1,'100000511973.jpeg':1,'100000061977.jpeg':1,'100000271963.jpeg':1,'100000531971.jpeg':1,'100000071977.jpeg':1,'100000271968.jpeg':1,'100000561969.jpeg':1,'100000091970.jpeg':1,'100000311969.jpeg':1,'100000571968.jpeg':1,'100000101968.jpeg':1,'100000341968.jpeg':1,'100000591967.jpeg':1,'100000111972.jpeg':1,'100000361963.jpeg':1,'100000601968.jpeg':1,'100000131968.jpeg':1,'100000381964.jpeg':1,'100000621968.jpeg':1,'100000411964.jpeg':1,'100000641968.jpeg':1,'100000011973.jpeg':1,'100000201968.jpeg':1,'100000421968.jpeg':1,'100000681974.jpeg':1,'100000021969.jpeg':1,'100000211970.jpeg':1,'100000481966.jpeg':1,'100000031968.jpeg':1,'100000251966.jpeg':1,'100000511964.jpeg':1,'100000051977.jpeg':1,'100000261968.jpeg':1,'100000531968.jpeg':1,'100000071964.jpeg':1,'100000271966.jpeg':1,'100000551971.jpeg':1,'100000081969.jpeg':1,'100000291973.jpeg':1,'100000571965.jpeg':1,'100000101964.jpeg':1,'100000311975.jpeg':1,'100000581965.jpeg':1,'100000101978.jpeg':1,'100000351965.jpeg':1,'100000591969.jpeg':1,'100000121967.jpeg':1,'100000361967.jpeg':1,'100000601969.jpeg':1,'100000141968.jpeg':1,'100000381965.jpeg':1,'100000631970.jpeg':1,'100000181969.jpeg':1,'100000411969.jpeg':1,'100000681964.jpeg':1,'100000021966.jpeg':1,'100000201969.jpeg':1,'100000421971.jpeg':1,'100000701963.jpeg':1,'100000021971.jpeg':1,'100000221975.jpeg':1,'100000501966.jpeg':1,'100000031971.jpeg':1,'100000251970.jpeg':1,'100000511968.jpeg':1,'100000061964.jpeg':1,'100000261970.jpeg':1,'100000531969.jpeg':1,'100000071972.jpeg':1,'100000271967.jpeg':1,'100000561967.jpeg':1,'100000081977.jpeg':1,'100000301973.jpeg':1,'100000571966.jpeg':1,'100000871975.jpeg':1,\n",
    "'100001041972.jpeg':1,'100001191963.jpeg':1,'100000881975.jpeg':1,'100001051973.jpeg':1,'100001201970.jpeg':1,'100000891969.jpeg':1,'100001061972.jpeg':1,'100001211964.jpeg':1,'100000921967.jpeg':1,'100001071972.jpeg':1,'100001221974.jpeg':1,'100000941966.jpeg':1,'100001091972.jpeg':1,'100001231976.jpeg':1,'100000961969.jpeg':1,'100001101972.jpeg':1,'100001241991.jpeg':1,'100000761970.jpeg':1,'100000981982.jpeg':1,'100001111972.jpeg':1,'100001251976.jpeg':1,'100000791970.jpeg':1,'100001001963.jpeg':1,'100001121967.jpeg':1,'100000811965.jpeg':1,'100001011965.jpeg':1,'100001131967.jpeg':1,'100000831965.jpeg':1,'100001021964.jpeg':1,'100001151972.jpeg':1,'100000851991.jpeg':1,'100001031972.jpeg':1,'100001171963.jpeg':1,'100000881966.jpeg':1,'100001051968.jpeg':1,'100001191968.jpeg':1,'100000891966.jpeg':1,'100001061966.jpeg':1,'100001201974.jpeg':1,'100000911967.jpeg':1,'100001071965.jpeg':1,'100001211968.jpeg':1,'100000921976.jpeg':1,'100001081968.jpeg':1,'100001231974.jpeg':1,'100000951976.jpeg':1,'100001101964.jpeg':1,'100001241974.jpeg':1,'100000751966.jpeg':1,'100000971971.jpeg':1,'100001111968.jpeg':1,'100001251967.jpeg':1,'100000771970.jpeg':1,'100000991967.jpeg':1,'100001111974.jpeg':1,'100001261967.jpeg':1,'100000791971.jpeg':1,'100001001972.jpeg':1,'100001121972.jpeg':1,'100000821970.jpeg':1,'100001011972.jpeg':1,'100001141972.jpeg':1,'100000831971.jpeg':1,'100001021969.jpeg':1,'100001161972.jpeg':1,'100000861991.jpeg':1,'100001041968.jpeg':1,'100001181974.jpeg':1,'100000881969.jpeg':1,'100001051972.jpeg':1,'100001191974.jpeg':1,'100000891967.jpeg':1,'100001061968.jpeg':1,'100000911969.jpeg':1,'100001071966.jpeg':1,'100001211974.jpeg':1,'100000931967.jpeg':1,'100001081972.jpeg':1,'100001231975.jpeg':1,'100000961968.jpeg':1,'100001101965.jpeg':1,'100001241976.jpeg':1,'100000761963.jpeg':1,'100000981967.jpeg':1,'100001111969.jpeg':1,'100001251974.jpeg':1,'100000781982.jpeg':1,'100000991991.jpeg':1,'100001121966.jpeg':1,'100000801963.jpeg':1,'100001001991.jpeg':1,'100001131966.jpeg':1,'100000821982.jpeg':1,'100001011983.jpeg':1,'100001151968.jpeg':1,'100000851975.jpeg':1,'100001021972.jpeg':1,'100001161976.jpeg':1,'100001301969.jpeg':1,'100002611967.jpeg':1,\n",
    "'100002791965.jpeg':1,'100001311976.jpeg':1,'100002631966.jpeg':1,'100002801969.jpeg':1,'100001331967.jpeg':1,'100002661969.jpeg':1,'100002811970.jpeg':1,'100001341965.jpeg':1,'100002671974.jpeg':1,'100002851966.jpeg':1,'100001351970.jpeg':1,'100002681974.jpeg':1,'100002901969.jpeg':1,'100001361976.jpeg':1,'100002721964.jpeg':1,'100002911966.jpeg':1,'100001381974.jpeg':1,'100002731967.jpeg':1,'100002921966.jpeg':1,'100001261976.jpeg':1,'100002731974.jpeg':1,'100002941964.jpeg':1,'100001271974.jpeg':1,'100002561967.jpeg':1,'100002741969.jpeg':1,'100001281976.jpeg':1,'100002571967.jpeg':1,'100002751970.jpeg':1,'100001291974.jpeg':1,'100002581974.jpeg':1,'100002781968.jpeg':1,'100001301976.jpeg':1,'100002611970.jpeg':1,'100002791968.jpeg':1,'100001321968.jpeg':1,'100002641966.jpeg':1,'100002801973.jpeg':1,'100001331976.jpeg':1,'100002661991.jpeg':1,'100002821965.jpeg':1,'100001341967.jpeg':1,'100002671991.jpeg':1,'100002871964.jpeg':1,'100001351976.jpeg':1,'100002711974.jpeg':1,'100002901970.jpeg':1,'100002721970.jpeg':1,'100002911973.jpeg':1,'100001381976.jpeg':1,'100002731970.jpeg':1,'100002921974.jpeg':1,'100001261983.jpeg':1,'100002531966.jpeg':1,'100002741963.jpeg':1,'100002941969.jpeg':1,'100001281968.jpeg':1,'100002561969.jpeg':1,'100002751963.jpeg':1,'100001291963.jpeg':1,'100002581966.jpeg':1,'100002771968.jpeg':1,'100001291976.jpeg':1,'100002601969.jpeg':1,'100002781984.jpeg':1,'100002621968.jpeg':1,'100002791984.jpeg':1,'100001321976.jpeg':1,'100002651963.jpeg':1,'100002811968.jpeg':1,'100001331983.jpeg':1,'100002671966.jpeg':1,'100002841970.jpeg':1,'100001341976.jpeg':1,'100002681972.jpeg':1,'100002891974.jpeg':1,'100001361967.jpeg':1,'100002721963.jpeg':1,'100002901974.jpeg':1,'100001371976.jpeg':1,'100002721974.jpeg':1,'100002921964.jpeg':1,'100001261974.jpeg':1,'100001391966.jpeg':1,'100002731971.jpeg':1,'100002931964.jpeg':1,'100001261991.jpeg':1,'100002551991.jpeg':1,'100002741967.jpeg':1,'100001281971.jpeg':1,'100002561991.jpeg':1,'100002751967.jpeg':1,'100001291972.jpeg':1,'100002581969.jpeg':1,'100002771984.jpeg':1,'100003031969.jpeg':1,'100003241967.jpeg':1,'100003521966.jpeg':1,'100003071976.jpeg':1,'100003271968.jpeg':1,'100003531968.jpeg':1,\n",
    "'100003091974.jpeg':1,'100003281973.jpeg':1,'100003561963.jpeg':1,'100003101967.jpeg':1,'100003311969.jpeg':1,'100003111967.jpeg':1,'100003341971.jpeg':1,'100003591985.jpeg':1,'100003121969.jpeg':1,'100003361975.jpeg':1,'100003631966.jpeg':1,'100003141973.jpeg':1,'100003391969.jpeg':1,'100006481975.jpeg':1,'100003151976.jpeg':1,'100003451963.jpeg':1,'100006491969.jpeg':1,'100002951984.jpeg':1,'100003171976.jpeg':1,'100003461966.jpeg':1,'100006491975.jpeg':1,'100002981969.jpeg':1,'100003201976.jpeg':1,'100003481966.jpeg':1,'100003011963.jpeg':1,'100003221969.jpeg':1,'100003491972.jpeg':1,'100003071965.jpeg':1,'100003251965.jpeg':1,'100003521968.jpeg':1,'100003081974.jpeg':1,'100003271969.jpeg':1,'100003541968.jpeg':1,'100003091976.jpeg':1,'100003301967.jpeg':1,'100003561965.jpeg':1,'100003101974.jpeg':1,'100003331969.jpeg':1,'100003591968.jpeg':1,'100003111976.jpeg':1,'100003351985.jpeg':1,'100003601971.jpeg':1,'100003121976.jpeg':1,'100003371965.jpeg':1,'100003641971.jpeg':1,'100003141976.jpeg':1,'100003441965.jpeg':1,'100006491964.jpeg':1,'100003161973.jpeg':1,'100003451965.jpeg':1,'100006491971.jpeg':1,'100002961969.jpeg':1,'100003181976.jpeg':1,'100003471966.jpeg':1,'100006501966.jpeg':1,'100002991963.jpeg':1,'100003481972.jpeg':1,'100003031965.jpeg':1,'100003241965.jpeg':1,'100003511968.jpeg':1,'100003071966.jpeg':1,'100003251967.jpeg':1,'100003521972.jpeg':1,'100003081976.jpeg':1,'100003281969.jpeg':1,'100003551968.jpeg':1,'100003091984.jpeg':1,'100003311967.jpeg':1,'100003561966.jpeg':1,'100003101976.jpeg':1,'100003331974.jpeg':1,'100003591976.jpeg':1,'100003111984.jpeg':1,'100003361967.jpeg':1,'100003631965.jpeg':1,'100006561975.jpeg':1,'100012091973.jpeg':1,'100012241967.jpeg':1,'100007081972.jpeg':1,'100012101975.jpeg':1,'100012261966.jpeg':1,'100007091969.jpeg':1,'100012111973.jpeg':1,'100012271969.jpeg':1,'100011971970.jpeg':1,'100012121972.jpeg':1,'100012271973.jpeg':1,'100011981970.jpeg':1,'100012141968.jpeg':1,'100012151969.jpeg':1,'100012011970.jpeg':1,'100012171969.jpeg':1,'100012321969.jpeg':1,'100012021970.jpeg':1,'100012181973.jpeg':1,'100012351967.jpeg':1,'100007001976.jpeg':1,'100012041970.jpeg':1,'100012201969.jpeg':1,'100007021966.jpeg':1,\n",
    "'100012051971.jpeg':1,'100012211969.jpeg':1,'100007031974.jpeg':1,'100012071969.jpeg':1,'100012221965.jpeg':1,'100007061974.jpeg':1,'100012091966.jpeg':1,'100012231965.jpeg':1,'100007071974.jpeg':1,'100012101969.jpeg':1,'100012241971.jpeg':1,'100007081973.jpeg':1,'100012111969.jpeg':1,'100012261967.jpeg':1,'100007091974.jpeg':1,'100012111975.jpeg':1,'100012271971.jpeg':1,'100011971972.jpeg':1,'100012131969.jpeg':1,'100012281967.jpeg':1,'100011991966.jpeg':1,'100012141969.jpeg':1,'100012151970.jpeg':1,'100012301972.jpeg':1,'100012021964.jpeg':1,'100012181967.jpeg':1,'100012341969.jpeg':1,'100007001970.jpeg':1,'100012021975.jpeg':1,'100012191969.jpeg':1,'100012361967.jpeg':1,'100007011970.jpeg':1,'100012041974.jpeg':1,'100012201971.jpeg':1,'100012051975.jpeg':1,'100012211971.jpeg':1,'100007041974.jpeg':1,'100012081969.jpeg':1,'100012221969.jpeg':1,'100007071971.jpeg':1,'100012091969.jpeg':1,'100012231968.jpeg':1,'100007081971.jpeg':1,'100012101970.jpeg':1,'100012251966.jpeg':1,'100007091967.jpeg':1,'100012111970.jpeg':1,'100012271967.jpeg':1,'100011971969.jpeg':1,'100012121969.jpeg':1,'100012271972.jpeg':1,'100011981969.jpeg':1,'100012141966.jpeg':1,'100012011965.jpeg':1,'100012151968.jpeg':1,'100012161969.jpeg':1,'100012311972.jpeg':1,'100012021967.jpeg':1,'100021601972.jpeg':1,'100021801972.jpeg':1,'100021901970.jpeg':1,'100012371963.jpeg':1,'100021621971.jpeg':1,'100021811975.jpeg':1,'100021911964.jpeg':1,'100012381964.jpeg':1,'100021641973.jpeg':1,'100021831971.jpeg':1,'100021911974.jpeg':1,'100012401969.jpeg':1,'100021651970.jpeg':1,'100021841966.jpeg':1,'100012411971.jpeg':1,'100021671971.jpeg':1,'100021851976.jpeg':1,'100012421976.jpeg':1,'100021701965.jpeg':1,'100021861976.jpeg':1,'100012461967.jpeg':1,'100021711966.jpeg':1,'100021871976.jpeg':1,'100021551965.jpeg':1,'100021731975.jpeg':1,'100021881972.jpeg':1,'100021561973.jpeg':1,'100021751967.jpeg':1,'100021891966.jpeg':1,'100021761967.jpeg':1,'100021891972.jpeg':1,'100021591970.jpeg':1,'100021771971.jpeg':1,'100021901964.jpeg':1,'100021611965.jpeg':1,'100021801976.jpeg':1,'100021901972.jpeg':1,'100012371966.jpeg':1,'100021631964.jpeg':1,'100021821966.jpeg':1,'100021911965.jpeg':1,'100012391964.jpeg':1,\n",
    "'100021651966.jpeg':1,'100021831974.jpeg':1,'100012401971.jpeg':1,'100021651975.jpeg':1,'100021841976.jpeg':1,'100012411976.jpeg':1,'100021691965.jpeg':1,'100021861967.jpeg':1,'100012441964.jpeg':1,'100021701967.jpeg':1,'100021871967.jpeg':1,'100021541964.jpeg':1,'100021711971.jpeg':1,'100021881970.jpeg':1,'100021551973.jpeg':1,'100021741972.jpeg':1,'100021881974.jpeg':1,'100021571970.jpeg':1,'100021751969.jpeg':1,'100021891969.jpeg':1,'100021581970.jpeg':1,'100021771966.jpeg':1,'100021891973.jpeg':1,'100021601970.jpeg':1,'100021791967.jpeg':1,'100021901968.jpeg':1,'100021611970.jpeg':1,'100021811965.jpeg':1,'100021901974.jpeg':1,'100012371967.jpeg':1,'100021641966.jpeg':1,'100021831966.jpeg':1,'100021911970.jpeg':1,'100012391971.jpeg':1,'100021651967.jpeg':1,'100012411965.jpeg':1,'100021661974.jpeg':1,'100021851964.jpeg':1,'100012421972.jpeg':1,'100021691971.jpeg':1,'100021861969.jpeg':1,'100012451964.jpeg':1,'100021701971.jpeg':1,'100021871971.jpeg':1,'100021551964.jpeg':1,'100021721971.jpeg':1,'100021881971.jpeg':1,'100021561964.jpeg':1,'100021741975.jpeg':1,'100021881976.jpeg':1,'100021581965.jpeg':1,'100021751972.jpeg':1,'100021891970.jpeg':1,'100021591965.jpeg':1,'100021771970.jpeg':1,'100021891974.jpeg':1,'100030151974.jpeg':1,'100030331966.jpeg':1,'100030431970.jpeg':1,'100030161970.jpeg':1,'100030341968.jpeg':1,'100030461965.jpeg':1,'100030191975.jpeg':1,'100030351968.jpeg':1,'100030461969.jpeg':1,'100021921971.jpeg':1,'100030221969.jpeg':1,'100030361969.jpeg':1,'100030471968.jpeg':1,'100021931976.jpeg':1,'100030231971.jpeg':1,'100030381965.jpeg':1,'100021941973.jpeg':1,'100030241969.jpeg':1,'100030381975.jpeg':1,'100030051976.jpeg':1,'100030261965.jpeg':1,'100030391969.jpeg':1,'100030071976.jpeg':1,'100030261971.jpeg':1,'100030401965.jpeg':1,'100030091967.jpeg':1,'100030281969.jpeg':1,'100030401973.jpeg':1,'100030101974.jpeg':1,'100030301973.jpeg':1,'100030411973.jpeg':1,'100030141970.jpeg':1,'100030311969.jpeg':1,'100030431965.jpeg':1,'100030151975.jpeg':1,'100030331969.jpeg':1,'100030441966.jpeg':1,'100030171970.jpeg':1,'100030341969.jpeg':1,'100030461966.jpeg':1,'100021921969.jpeg':1,'100030201975.jpeg':1,'100030351969.jpeg':1,'100030471965.jpeg':1,\n",
    "'100021931970.jpeg':1,'100030221991.jpeg':1,'100030371968.jpeg':1,'100030481966.jpeg':1,'100021941964.jpeg':1,'100030231991.jpeg':1,'100030381968.jpeg':1,'100030051969.jpeg':1,'100030251969.jpeg':1,'100030391965.jpeg':1,'100030061976.jpeg':1,'100030261966.jpeg':1,'100030391973.jpeg':1,'100030081976.jpeg':1,'100030271966.jpeg':1,'100030401966.jpeg':1,'100030091969.jpeg':1,'100030291969.jpeg':1,'100030401975.jpeg':1,'100030121974.jpeg':1,'100030311966.jpeg':1,'100030411976.jpeg':1,'100030151970.jpeg':1,'100030321969.jpeg':1,'100030431966.jpeg':1,'100030161966.jpeg':1,'100030331976.jpeg':1,'100030451966.jpeg':1,'100030181966.jpeg':1,'100030351965.jpeg':1,'100030461968.jpeg':1,'100021921970.jpeg':1,'100030221967.jpeg':1,'100030361968.jpeg':1,'100030471966.jpeg':1,'100021931973.jpeg':1,'100030231969.jpeg':1,'100030371969.jpeg':1,'100021941970.jpeg':1,'100030241967.jpeg':1,'100030381969.jpeg':1,'100030051971.jpeg':1,'100030251971.jpeg':1,'100030391968.jpeg':1,'100030071965.jpeg':1,'100030261969.jpeg':1,'100030391975.jpeg':1,'100030091964.jpeg':1,'100030271969.jpeg':1,'100030401969.jpeg':1,'100030101969.jpeg':1,'100030301969.jpeg':1,'100030411969.jpeg':1,'100030131970.jpeg':1,'100030311967.jpeg':1,'100030421976.jpeg':1,'100030571966.jpeg':1,'100030781967.jpeg':1,'100035171971.jpeg':1,'100030601966.jpeg':1,'100030811966.jpeg':1,'100035191966.jpeg':1,'100030621966.jpeg':1,'100034991973.jpeg':1,'100035201967.jpeg':1,'100030641971.jpeg':1,'100035021964.jpeg':1,'100035211975.jpeg':1,'100030491973.jpeg':1,'100030661966.jpeg':1,'100035061975.jpeg':1,'100035251968.jpeg':1,'100030501968.jpeg':1,'100030681966.jpeg':1,'100035071973.jpeg':1,'100030511971.jpeg':1,'100030701975.jpeg':1,'100035091965.jpeg':1,'100030521970.jpeg':1,'100030711975.jpeg':1,'100035101968.jpeg':1,'100030531970.jpeg':1,'100030731966.jpeg':1,'100035111972.jpeg':1,'100030551966.jpeg':1,'100030751966.jpeg':1,'100035131966.jpeg':1,'100030561966.jpeg':1,'100030771966.jpeg':1,'100035151967.jpeg':1,'100030581966.jpeg':1,'100030791966.jpeg':1,'100035181972.jpeg':1,'100030601971.jpeg':1,'100030821966.jpeg':1,'100035191969.jpeg':1,'100030631966.jpeg':1,'100035001973.jpeg':1,'100035201975.jpeg':1,'100030651966.jpeg':1,\n",
    "'100035051965.jpeg':1,'100035231966.jpeg':1,'100030501966.jpeg':1,'100030671966.jpeg':1,'100035071967.jpeg':1,'100035251970.jpeg':1,'100030511966.jpeg':1,'100030691966.jpeg':1,'100035081964.jpeg':1,'100030521966.jpeg':1,'100030711966.jpeg':1,'100035091973.jpeg':1,'100030531966.jpeg':1,'100030721966.jpeg':1,'100035101971.jpeg':1,'100030541966.jpeg':1,'100030731973.jpeg':1,'100035121966.jpeg':1,'100030551969.jpeg':1,'100030751970.jpeg':1,'100035141974.jpeg':1,'100030561969.jpeg':1,'100030781966.jpeg':1,'100035151974.jpeg':1,'100030591966.jpeg':1,'100030801966.jpeg':1,'100030611966.jpeg':1,'100034981971.jpeg':1,'100030641966.jpeg':1,'100035011973.jpeg':1,'100035211971.jpeg':1,'100030491966.jpeg':1,'100030661965.jpeg':1,'100035061971.jpeg':1,'100035241968.jpeg':1,'100030501967.jpeg':1,'100035071971.jpeg':1,'100035271974.jpeg':1,'100030511968.jpeg':1,'100030701966.jpeg':1,'100035081973.jpeg':1,'100030521968.jpeg':1,'100030711971.jpeg':1,'100035091976.jpeg':1,'100030531968.jpeg':1,'100030731964.jpeg':1,'100035111968.jpeg':1,'100030541967.jpeg':1,'100030741966.jpeg':1,'100035121972.jpeg':1,'100030551975.jpeg':1,'100030761966.jpeg':1,'100035151966.jpeg':1,'100035391975.jpeg':1,'100042621972.jpeg':1,'100042841968.jpeg':1,'100035411975.jpeg':1,'100042661968.jpeg':1,'100042851971.jpeg':1,'100035441971.jpeg':1,'100042681968.jpeg':1,'100042861976.jpeg':1,'100035461968.jpeg':1,'100042701967.jpeg':1,'100042881968.jpeg':1,'100035471967.jpeg':1,'100042711970.jpeg':1,'100042901976.jpeg':1,'100035281973.jpeg':1,'100035481974.jpeg':1,'100042741969.jpeg':1,'100042921966.jpeg':1,'100035301964.jpeg':1,'100035501965.jpeg':1,'100042771967.jpeg':1,'100042921975.jpeg':1,'100035311969.jpeg':1,'100042551971.jpeg':1,'100042781969.jpeg':1,'100035331964.jpeg':1,'100042571973.jpeg':1,'100042801968.jpeg':1,'100035351964.jpeg':1,'100042591974.jpeg':1,'100042821966.jpeg':1,'100035381966.jpeg':1,'100042611971.jpeg':1,'100042831968.jpeg':1,'100035401975.jpeg':1,'100042641974.jpeg':1,'100042841969.jpeg':1,'100035431971.jpeg':1,'100042661970.jpeg':1,'100042851976.jpeg':1,'100035451966.jpeg':1,'100042681970.jpeg':1,'100042871968.jpeg':1,'100035461976.jpeg':1,'100042701970.jpeg':1,'100042881976.jpeg':1,'100035471976.jpeg':1,'100042721970.jpeg':1,'100042911966.jpeg':1,'100035291964.jpeg':1,'100035481976.jpeg':1,'100042751969.jpeg':1,'100042921969.jpeg':1,'100035301976.jpeg':1,'100035501971.jpeg':1,'100042771969.jpeg':1,'100035321964.jpeg':1,'100042561971.jpeg':1,'100042781972.jpeg':1,'100035331975.jpeg':1,'100042581971.jpeg':1,'100042801969.jpeg':1,'100035361964.jpeg':1,'100042601968.jpeg':1,'100042821967.jpeg':1,'100035391972.jpeg':1,'100042621966.jpeg':1,'100042841966.jpeg':1,'100035411973.jpeg':1,'100042651970.jpeg':1,'100042851968.jpeg':1,'100035441969.jpeg':1,'100042671970.jpeg':1,'100042861968.jpeg':1,'100035451976.jpeg':1,'100042691974.jpeg':1,'100042871976.jpeg':1,'100035471966.jpeg':1,'100042711968.jpeg':1,'100042891976.jpeg':1,'100035481968.jpeg':1,'100042731969.jpeg':1,'100042911976.jpeg':1,'100035291973.jpeg':1,'100035501964.jpeg':1,'100042761969.jpeg':1,'100035311964.jpeg':1,'100035501976.jpeg':1,'100042781968.jpeg':1,'100035321970.jpeg':1,'100042571971.jpeg':1,'100042791970.jpeg':1,'100035341964.jpeg':1,'100042811968.jpeg':1,'100035381964.jpeg':1,'100042601971.jpeg':1,'100042821968.jpeg':1,'100042961976.jpeg':1,'117516582014.jpeg':1,'117519132014.jpeg':1,'100042981964.jpeg':1,'117516642014.jpeg':1,'117519162014.jpeg':1,'100042991976.jpeg':1,'117517122014.jpeg':1,'117519202014.jpeg':1,'100043001971.jpeg':1,'117517522014.jpeg':1,'117519232014.jpeg':1,'100043011971.jpeg':1,'117518712014.jpeg':1,'117522662014.jpeg':1,'100043031976.jpeg':1,'117518932014.jpeg':1,'117522792014.jpeg':1,'100043051967.jpeg':1,'117518972014.jpeg':1,'117528732014.jpeg':1,'100042931972.jpeg':1,'103556701996.jpeg':1,'117519012014.jpeg':1,'117531132014.jpeg':1,'100042941969.jpeg':1,'117516372014.jpeg':1,'117519052014.jpeg':1,'100042951970.jpeg':1,'117516462014.jpeg':1,'117519082014.jpeg':1,'100042961970.jpeg':1,'117516562014.jpeg':1,'117519112014.jpeg':1,'100042971974.jpeg':1,'117516592014.jpeg':1,'117519142014.jpeg':1,'100042981976.jpeg':1,'117516662014.jpeg':1,'117519182014.jpeg':1,'100043001966.jpeg':1,'117517142014.jpeg':1,'117519212014.jpeg':1,'100043001972.jpeg':1,'117517542014.jpeg':1,'117519242014.jpeg':1,'100043011976.jpeg':1,'117518902014.jpeg':1,'117522712014.jpeg':1,'100043041976.jpeg':1,'117518942014.jpeg':1,'117522852014.jpeg':1,'100042921976.jpeg':1,'103412911979.jpeg':1,'117518992014.jpeg':1,'117529512014.jpeg':1,'100042931975.jpeg':1,'109340781990.jpeg':1,'117519022014.jpeg':1,'117531142014.jpeg':1,'100042941976.jpeg':1,'117516402014.jpeg':1,'117519062014.jpeg':1,'100042951976.jpeg':1,'117516542014.jpeg':1,'117519092014.jpeg':1,'100042961974.jpeg':1,'117516572014.jpeg':1,'117519122014.jpeg':1,'100042971976.jpeg':1,'117516622014.jpeg':1,'117519152014.jpeg':1,'100042991971.jpeg':1,'117516682014.jpeg':1,'117519192014.jpeg':1,'100043001969.jpeg':1,'117517502014.jpeg':1,'117519222014.jpeg':1,'100043001976.jpeg':1,'117517562014.jpeg':1,'117522622014.jpeg':1,'100043021976.jpeg':1,'117518912014.jpeg':1,'117522752014.jpeg':1,'100043051966.jpeg':1,'117518962014.jpeg':1,'117522892014.jpeg':1,'103456141996.jpeg':1,'117519002014.jpeg':1,'117529782014.jpeg':1,'100042931976.jpeg':1,'117516322014.jpeg':1,'117519032014.jpeg':1,'100042951967.jpeg':1,'117516432014.jpeg':1,'117519072014.jpeg':1,'117516552014.jpeg':1,'117519102014.jpeg':1,'117541032014.jpeg':1,'117565832014.jpeg':1,'117595962014.jpeg':1,'117544892014.jpeg':1,'117566692014.jpeg':1,'117598292014.jpeg':1,'117550902014.jpeg':1,'117567752014.jpeg':1,'117601552014.jpeg':1,'117552142014.jpeg':1,'117572682014.jpeg':1,'117603912014.jpeg':1,'117555182014.jpeg':1,'117594882014.jpeg':1,'117604572014.jpeg':1,'117559122014.jpeg':1,'117594952014.jpeg':1,'117608092014.jpeg':1,'117560712014.jpeg':1,'117595062014.jpeg':1,'117609142014.jpeg':1,'117560982014.jpeg':1,'117595792014.jpeg':1,'117609592014.jpeg':1,'117531892014.jpeg':1,'117563142014.jpeg':1,'117595872014.jpeg':1,'117609622014.jpeg':1,'117533682014.jpeg':1,'117563262014.jpeg':1,'117595912014.jpeg':1,'117536182014.jpeg':1,'117565512014.jpeg':1,'117595942014.jpeg':1,'117541042014.jpeg':1,'117565992014.jpeg':1,'117598182014.jpeg':1,'117548112014.jpeg':1,'117566932014.jpeg':1,'117599302014.jpeg':1,'117551242014.jpeg':1,'117569792014.jpeg':1,'117601592014.jpeg':1,'117552382014.jpeg':1,'117572702014.jpeg':1,'117604322014.jpeg':1,'117556222014.jpeg':1,'117594892014.jpeg':1,'117604582014.jpeg':1,'117559172014.jpeg':1,'117594992014.jpeg':1,'117608582014.jpeg':1,'117560822014.jpeg':1,'117595762014.jpeg':1,'117609572014.jpeg':1,'117562532014.jpeg':1,'117595802014.jpeg':1,'117609602014.jpeg':1,'117533412014.jpeg':1,'117563232014.jpeg':1,'117595882014.jpeg':1,'117609632014.jpeg':1,'117533702014.jpeg':1,'117563472014.jpeg':1,'117595922014.jpeg':1,'117537982014.jpeg':1,'117565732014.jpeg':1,'117595952014.jpeg':1,'117543662014.jpeg':1,'117566052014.jpeg':1,'117598272014.jpeg':1,'117548252014.jpeg':1,'117567742014.jpeg':1,'117601332014.jpeg':1,'117552132014.jpeg':1,'117572422014.jpeg':1,'117602512014.jpeg':1,'117552392014.jpeg':1,'117573922014.jpeg':1,'117604332014.jpeg':1,'117558812014.jpeg':1,'117594912014.jpeg':1,'117605152014.jpeg':1,'117560292014.jpeg':1,'117595032014.jpeg':1,'117609132014.jpeg':1,'117560892014.jpeg':1,'117595772014.jpeg':1,'117609582014.jpeg':1,'117531872014.jpeg':1,'117562922014.jpeg':1,'117595832014.jpeg':1,'117609612014.jpeg':1,'117533652014.jpeg':1,'117563252014.jpeg':1,'117595892014.jpeg':1,'117609642014.jpeg':1,'117535342014.jpeg':1,'117565502014.jpeg':1,'117595932014.jpeg':1,'117611862014.jpeg':1,'117631902014.jpeg':1,'117645302014.jpeg':1,'117613462014.jpeg':1,'117633922014.jpeg':1,'117645632014.jpeg':1,'117615582014.jpeg':1,'117633992014.jpeg':1,'117646002014.jpeg':1,'117616962014.jpeg':1,'117635692014.jpeg':1,'117650592014.jpeg':1,'117623112014.jpeg':1,'117635822014.jpeg':1,'117655002014.jpeg':1,'117623142014.jpeg':1,'117636732014.jpeg':1,'613023782008.jpeg':1,'117624992014.jpeg':1,'117638012014.jpeg':1,'613023812008.jpeg':1,'117625902014.jpeg':1,'117640972014.jpeg':1,'613025442008.jpeg':1,'117629072014.jpeg':1,'117641062014.jpeg':1,'613036722008.jpeg':1,'117609952014.jpeg':1,'117630812014.jpeg':1,'117641092014.jpeg':1,'613045972008.jpeg':1,'117611822014.jpeg':1,'117630842014.jpeg':1,'117643742014.jpeg':1,'613051142008.jpeg':1,'117612242014.jpeg':1,'117645372014.jpeg':1,'117614372014.jpeg':1,'117633952014.jpeg':1,'117645772014.jpeg':1,'117615592014.jpeg':1,'117634002014.jpeg':1,'117646012014.jpeg':1,'117619152014.jpeg':1,'117635782014.jpeg':1,'117651472014.jpeg':1,'117623122014.jpeg':1,'117635842014.jpeg':1,'613023762008.jpeg':1,'117623552014.jpeg':1,'117636862014.jpeg':1,'613023792008.jpeg':1,'117625842014.jpeg':1,'117640212014.jpeg':1,'613023822008.jpeg':1,'117627742014.jpeg':1,'117640982014.jpeg':1,'613025452008.jpeg':1,'117629242014.jpeg':1,'117641072014.jpeg':1,'613038902008.jpeg':1,'117610822014.jpeg':1,'117630822014.jpeg':1,'117642532014.jpeg':1,'613046832008.jpeg':1,'117611842014.jpeg':1,'117630852014.jpeg':1,'117644812014.jpeg':1,'117613322014.jpeg':1,'117633902014.jpeg':1,'117645482014.jpeg':1,'117614632014.jpeg':1,'117633982014.jpeg':1,'117645992014.jpeg':1,'117615612014.jpeg':1,'117634012014.jpeg':1,'117648342014.jpeg':1,'117621752014.jpeg':1,'117635812014.jpeg':1,'117652822014.jpeg':1,'117623132014.jpeg':1,'117635862014.jpeg':1,'613023772008.jpeg':1,'117623802014.jpeg':1,'117637162014.jpeg':1,'613023802008.jpeg':1,'117625892014.jpeg':1,'117640912014.jpeg':1,'613023832008.jpeg':1,'117628772014.jpeg':1,'117640992014.jpeg':1,'613026132008.jpeg':1,'117630802014.jpeg':1,'117641082014.jpeg':1,'613044092008.jpeg':1,'117611222014.jpeg':1,'117630832014.jpeg':1,'117643222014.jpeg':1,'613047242008.jpeg':1,'613082282008.jpeg':1,'613092352008.jpeg':1,'613107172008.jpeg':1,'613055292008.jpeg':1,'613055832008.jpeg':1,'613082312008.jpeg':1,'613097742008.jpeg':1,'613065592008.jpeg':1,'613083452008.jpeg':1,'613097872008.jpeg':1,'613069272008.jpeg':1,'613086912008.jpeg':1,'613097942008.jpeg':1,'613073182008.jpeg':1,'613086962008.jpeg':1,'613100382008.jpeg':1,'613081732008.jpeg':1,'613086992008.jpeg':1,'613100442008.jpeg':1,'613081762008.jpeg':1,'613087022008.jpeg':1,'613102302008.jpeg':1,'613081972008.jpeg':1,'613087812008.jpeg':1,'613102332008.jpeg':1,'613082022008.jpeg':1,'613087842008.jpeg':1,'613104262008.jpeg':1,'613082232008.jpeg':1,'613089812008.jpeg':1,'613104782008.jpeg':1,'613082262008.jpeg':1,'613090652008.jpeg':1,'613107142008.jpeg':1,'613082292008.jpeg':1,'613107192008.jpeg':1,'613055302008.jpeg':1,'613057572008.jpeg':1,'613082322008.jpeg':1,'613097762008.jpeg':1,'613065602008.jpeg':1,'613086392008.jpeg':1,'613097902008.jpeg':1,'613070082008.jpeg':1,'613086942008.jpeg':1,'613097952008.jpeg':1,'613081712008.jpeg':1,'613086972008.jpeg':1,'613100412008.jpeg':1,'613081742008.jpeg':1,'613087002008.jpeg':1,'613102002008.jpeg':1,'613081942008.jpeg':1,'613087042008.jpeg':1,'613102312008.jpeg':1,'613081982008.jpeg':1,'613087822008.jpeg':1,'613102662008.jpeg':1,'613082212008.jpeg':1,'613087852008.jpeg':1,'613104272008.jpeg':1,'613082242008.jpeg':1,'613090512008.jpeg':1,'613104842008.jpeg':1,'613082272008.jpeg':1,'613092342008.jpeg':1,'613107152008.jpeg':1,'613054042008.jpeg':1,'613082302008.jpeg':1,'613094862008.jpeg':1,'613107212008.jpeg':1,'613055312008.jpeg':1,'613057892008.jpeg':1,'613083122008.jpeg':1,'613097772008.jpeg':1,'613065962008.jpeg':1,'613086412008.jpeg':1,'613097912008.jpeg':1,'613072462008.jpeg':1,'613086952008.jpeg':1,'613100362008.jpeg':1,'613081722008.jpeg':1,'613086982008.jpeg':1,'613100422008.jpeg':1,'613081752008.jpeg':1,'613087012008.jpeg':1,'613102032008.jpeg':1,'613081952008.jpeg':1,'613087252008.jpeg':1,'613102322008.jpeg':1,'613082002008.jpeg':1,'613087832008.jpeg':1,'613102772008.jpeg':1,'613082222008.jpeg':1,'613089262008.jpeg':1,'613104772008.jpeg':1,'613082252008.jpeg':1,'613090522008.jpeg':1,'613107122008.jpeg':1,'613590122009.jpeg':1,'613614652009.jpeg':1,'613682292009.jpeg':1,'613107222008.jpeg':1,'613591592009.jpeg':1,'613623312009.jpeg':1,'613692482009.jpeg':1,'613436042009.jpeg':1,'613592172009.jpeg':1,'613623392009.jpeg':1,'613561562009.jpeg':1,'613594932009.jpeg':1,'613634262009.jpeg':1,'613565182009.jpeg':1,'613606242009.jpeg':1,'613607122009.jpeg':1,'613641662009.jpeg':1,'613565272009.jpeg':1,'613609992009.jpeg':1,'613645602009.jpeg':1,'613567032009.jpeg':1,'613610022009.jpeg':1,'613646122009.jpeg':1,'613567682009.jpeg':1,'613610432009.jpeg':1,'613649022009.jpeg':1,'613572432009.jpeg':1,'613610462009.jpeg':1,'613658762009.jpeg':1,'613575722009.jpeg':1,'613614532009.jpeg':1,'613665852009.jpeg':1,'613583762009.jpeg':1,'613614582009.jpeg':1,'613681822009.jpeg':1,'613590132009.jpeg':1,'613614672009.jpeg':1,'613683312009.jpeg':1,'613107232008.jpeg':1,'613592152009.jpeg':1,'613623342009.jpeg':1,'613561472009.jpeg':1,'613592182009.jpeg':1,'613623402009.jpeg':1,'613561582009.jpeg':1,'613604212009.jpeg':1,'613637312009.jpeg':1,'613565212009.jpeg':1,'613606252009.jpeg':1,'613607302009.jpeg':1,'613643552009.jpeg':1,'613565342009.jpeg':1,'613610002009.jpeg':1,'613646092009.jpeg':1,'613567042009.jpeg':1,'613610032009.jpeg':1,'613646132009.jpeg':1,'613568382009.jpeg':1,'613610442009.jpeg':1,'613654612009.jpeg':1,'613572462009.jpeg':1,'613613792009.jpeg':1,'613658772009.jpeg':1,'613580312009.jpeg':1,'613614542009.jpeg':1,'613670992009.jpeg':1,'613589802009.jpeg':1,'613614642009.jpeg':1,'613682032009.jpeg':1,'613590142009.jpeg':1,'613616272009.jpeg':1,'613687412009.jpeg':1,'613107372008.jpeg':1,'613592162009.jpeg':1,'613623362009.jpeg':1,'613561552009.jpeg':1,'613632452009.jpeg':1,'613561612009.jpeg':1,'613605112009.jpeg':1,'613641622009.jpeg':1,'613565252009.jpeg':1,'613606262009.jpeg':1,'613607312009.jpeg':1,'613645592009.jpeg':1,'613567022009.jpeg':1,'613610012009.jpeg':1,'613646112009.jpeg':1,'613567072009.jpeg':1,'613610422009.jpeg':1,'613646782009.jpeg':1,'613572172009.jpeg':1,'613610452009.jpeg':1,'613658532009.jpeg':1,'613574072009.jpeg':1,'613613802009.jpeg':1,'613665072009.jpeg':1,'613581222009.jpeg':1,'613614552009.jpeg':1,'613681812009.jpeg':1,'614074752010.jpeg':1,'614095842010.jpeg':1,'614111192010.jpeg':1,'614077792010.jpeg':1,'614100242010.jpeg':1,'614111222010.jpeg':1,'613696452009.jpeg':1,'614077822010.jpeg':1,'614110562010.jpeg':1,'614111252010.jpeg':1,'613698922009.jpeg':1,'614077852010.jpeg':1,'614110592010.jpeg':1,'613705512009.jpeg':1,'614077882010.jpeg':1,'614110632010.jpeg':1,'613719532009.jpeg':1,'614077912010.jpeg':1,'614110662010.jpeg':1,'613726042009.jpeg':1,'614077942010.jpeg':1,'614110692010.jpeg':1,'613753222009.jpeg':1,'614082172010.jpeg':1,'614110732010.jpeg':1,'613753252009.jpeg':1,'614082232010.jpeg':1,'614111112010.jpeg':1,'614070682010.jpeg':1,'614082272010.jpeg':1,'614111142010.jpeg':1,'614072262010.jpeg':1,'614087972010.jpeg':1,'614111172010.jpeg':1,'614077532010.jpeg':1,'614100212010.jpeg':1,'614111202010.jpeg':1,'613695132009.jpeg':1,'614077802010.jpeg':1,'614110542010.jpeg':1,'614111232010.jpeg':1,'613697202009.jpeg':1,'614077832010.jpeg':1,'614110572010.jpeg':1,'614111262010.jpeg':1,'613703772009.jpeg':1,'614077862010.jpeg':1,'614110602010.jpeg':1,'613717722009.jpeg':1,'614077892010.jpeg':1,'614110642010.jpeg':1,'613724422009.jpeg':1,'614077922010.jpeg':1,'614110672010.jpeg':1,'613747082009.jpeg':1,'614077952010.jpeg':1,'614110702010.jpeg':1,'613753232009.jpeg':1,'614082192010.jpeg':1,'614111032010.jpeg':1,'613753712009.jpeg':1,'614082252010.jpeg':1,'614111122010.jpeg':1,'614070712010.jpeg':1,'614083722010.jpeg':1,'614111152010.jpeg':1,'614073902010.jpeg':1,'614090352010.jpeg':1,'614111182010.jpeg':1,'614077782010.jpeg':1,'614100222010.jpeg':1,'614111212010.jpeg':1,'613695962009.jpeg':1,'614077812010.jpeg':1,'614110552010.jpeg':1,'614111242010.jpeg':1,'613697212009.jpeg':1,'614077842010.jpeg':1,'614110582010.jpeg':1,'613704052009.jpeg':1,'614077872010.jpeg':1,'614110622010.jpeg':1,'613717742009.jpeg':1,'614077902010.jpeg':1,'614110652010.jpeg':1,'613724442009.jpeg':1,'614077932010.jpeg':1,'614110682010.jpeg':1,'613753212009.jpeg':1,'614077962010.jpeg':1,'614110722010.jpeg':1,'613753242009.jpeg':1,'614082212010.jpeg':1,'614111102010.jpeg':1,'613753972009.jpeg':1,'614082262010.jpeg':1,'614111132010.jpeg':1,'614071172010.jpeg':1,'614087952010.jpeg':1,'614111162010.jpeg':1,'614112162010.jpeg':1,'614116252010.jpeg':1,'614838812011.jpeg':1,'614112192010.jpeg':1,'614116702010.jpeg':1,'614841072011.jpeg':1,'614112682010.jpeg':1,'614116822010.jpeg':1,'614848142011.jpeg':1,'614111282010.jpeg':1,'614112832010.jpeg':1,'614120752010.jpeg':1,'614852272011.jpeg':1,'614111312010.jpeg':1,'614114002010.jpeg':1,'614120862010.jpeg':1,'614111342010.jpeg':1,'614114032010.jpeg':1,'614120892010.jpeg':1,'614111372010.jpeg':1,'614114062010.jpeg':1,'614120922010.jpeg':1,'614111802010.jpeg':1,'614114742010.jpeg':1,'614123662010.jpeg':1,'614112042010.jpeg':1,'614115172010.jpeg':1,'614827632011.jpeg':1,'614112082010.jpeg':1,'614115902010.jpeg':1,'614831262011.jpeg':1,'614112112010.jpeg':1,'614115932010.jpeg':1,'614837512011.jpeg':1,'614112172010.jpeg':1,'614116282010.jpeg':1,'614840692011.jpeg':1,'614112362010.jpeg':1,'614116712010.jpeg':1,'614842362011.jpeg':1,'614112802010.jpeg':1,'614120032010.jpeg':1,'614848542011.jpeg':1,'614111292010.jpeg':1,'614113422010.jpeg':1,'614120842010.jpeg':1,'614852292011.jpeg':1,'614111322010.jpeg':1,'614114012010.jpeg':1,'614120872010.jpeg':1,'614111352010.jpeg':1,'614114042010.jpeg':1,'614120902010.jpeg':1,'614111382010.jpeg':1,'614114072010.jpeg':1,'614120932010.jpeg':1,'614111812010.jpeg':1,'614114752010.jpeg':1,'614826952011.jpeg':1,'614112052010.jpeg':1,'614115882010.jpeg':1,'614827952011.jpeg':1,'614112092010.jpeg':1,'614115912010.jpeg':1,'614834872011.jpeg':1,'614112132010.jpeg':1,'614115942010.jpeg':1,'614837522011.jpeg':1,'614112182010.jpeg':1,'614116292010.jpeg':1,'614840832011.jpeg':1,'614112672010.jpeg':1,'614116722010.jpeg':1,'614843382011.jpeg':1,'614111272010.jpeg':1,'614112822010.jpeg':1,'614120742010.jpeg':1,'614850822011.jpeg':1,'614111302010.jpeg':1,'614113992010.jpeg':1,'614120852010.jpeg':1,'614852312011.jpeg':1,'614111332010.jpeg':1,'614114022010.jpeg':1,'614120882010.jpeg':1,'614111362010.jpeg':1,'614114052010.jpeg':1,'614120912010.jpeg':1,'614111792010.jpeg':1,'614114082010.jpeg':1,'614120942010.jpeg':1,'614112032010.jpeg':1,'614115132010.jpeg':1,'614827072011.jpeg':1,'614112062010.jpeg':1,'614115892010.jpeg':1,'614828452011.jpeg':1,'614112102010.jpeg':1,'614115922010.jpeg':1,'614836612011.jpeg':1,'614897602011.jpeg':1,'614983842011.jpeg':1,'615025342011.jpeg':1,'614903162011.jpeg':1,'614991722011.jpeg':1,'615032002011.jpeg':1,'614923992011.jpeg':1,'614993872011.jpeg':1,'615036132011.jpeg':1,'614936052011.jpeg':1,'614994502011.jpeg':1,'615037222011.jpeg':1,'614936102011.jpeg':1,'615000242011.jpeg':1,'615038772011.jpeg':1,'614852342011.jpeg':1,'614936192011.jpeg':1,'615008242011.jpeg':1,'618614112015.jpeg':1,'614853022011.jpeg':1,'614956962011.jpeg':1,'615008992011.jpeg':1,'614865622011.jpeg':1,'614958962011.jpeg':1,'615013612011.jpeg':1,'614878752011.jpeg':1,'614889762011.jpeg':1,'614968522011.jpeg':1,'615017802011.jpeg':1,'614892352011.jpeg':1,'614972102011.jpeg':1,'615018382011.jpeg':1,'614897542011.jpeg':1,'614981652011.jpeg':1,'615023902011.jpeg':1,'614897622011.jpeg':1,'614990042011.jpeg':1,'615025392011.jpeg':1,'614904052011.jpeg':1,'614992262011.jpeg':1,'615036112011.jpeg':1,'614929532011.jpeg':1,'614993892011.jpeg':1,'615036142011.jpeg':1,'614936072011.jpeg':1,'614996822011.jpeg':1,'615037442011.jpeg':1,'614936112011.jpeg':1,'615004262011.jpeg':1,'615039292011.jpeg':1,'614852372011.jpeg':1,'614947502011.jpeg':1,'615008482011.jpeg':1,'614853032011.jpeg':1,'614957232011.jpeg':1,'615009002011.jpeg':1,'614877482011.jpeg':1,'614963182011.jpeg':1,'615015592011.jpeg':1,'614885032011.jpeg':1,'614889832011.jpeg':1,'614968642011.jpeg':1,'615018332011.jpeg':1,'614893722011.jpeg':1,'614974212011.jpeg':1,'615021962011.jpeg':1,'614897582011.jpeg':1,'614981662011.jpeg':1,'615025262011.jpeg':1,'614900782011.jpeg':1,'614991552011.jpeg':1,'615027742011.jpeg':1,'614916172011.jpeg':1,'614993462011.jpeg':1,'615036122011.jpeg':1,'614935492011.jpeg':1,'614993912011.jpeg':1,'615036152011.jpeg':1,'614936092011.jpeg':1,'614997742011.jpeg':1,'615038762011.jpeg':1,'614936182011.jpeg':1,'615005052011.jpeg':1,'615040202011.jpeg':1,'614852392011.jpeg':1,'614956942011.jpeg':1,'615008512011.jpeg':1,'614861812011.jpeg':1,'614958952011.jpeg':1,'615010512011.jpeg':1,'614878722011.jpeg':1,'614967992011.jpeg':1,'615017002011.jpeg':1,'614885172011.jpeg':1,'614890652011.jpeg':1,'614969222011.jpeg':1,'615018362011.jpeg':1,'614897382011.jpeg':1,'614979612011.jpeg':1,'615022632011.jpeg':1,'618665592015.jpeg':1,'618710482016.jpeg':1,'618780812016.jpeg':1,'618667762015.jpeg':1,'618716172016.jpeg':1,'618784732016.jpeg':1,'618675142015.jpeg':1,'618726392016.jpeg':1,'618797412016.jpeg':1,'618676902015.jpeg':1,'618809082016.jpeg':1,'618684122015.jpeg':1,'618735542016.jpeg':1,'618814812016.jpeg':1,'618693832015.jpeg':1,'618817052016.jpeg':1,'618620042015.jpeg':1,'618697782015.jpeg':1,'618750552016.jpeg':1,'621694852019.jpeg':1,'618625902015.jpeg':1,'618698512015.jpeg':1,'618750582016.jpeg':1,'618638692015.jpeg':1,'618700322015.jpeg':1,'618754182016.jpeg':1,'618651422015.jpeg':1,'618704742015.jpeg':1,'618772272016.jpeg':1,'618657932015.jpeg':1,'618707852015.jpeg':1,'618775662016.jpeg':1,'618666192015.jpeg':1,'618716122016.jpeg':1,'618780882016.jpeg':1,'618668152015.jpeg':1,'618716182016.jpeg':1,'618784982016.jpeg':1,'618676082015.jpeg':1,'618727682016.jpeg':1,'618807442016.jpeg':1,'618679432015.jpeg':1,'618728682016.jpeg':1,'618809632016.jpeg':1,'618692022015.jpeg':1,'618735552016.jpeg':1,'618816802016.jpeg':1,'618618942015.jpeg':1,'618693842015.jpeg':1,'618742632016.jpeg':1,'621694812019.jpeg':1,'618622712015.jpeg':1,'618697792015.jpeg':1,'618750562016.jpeg':1,'621694872019.jpeg':1,'618625912015.jpeg':1,'618698552015.jpeg':1,'618751522016.jpeg':1,'618645222015.jpeg':1,'618703992015.jpeg':1,'618762612016.jpeg':1,'618651432015.jpeg':1,'618774322016.jpeg':1,'618665482015.jpeg':1,'618709742016.jpeg':1,'618778392016.jpeg':1,'618666842015.jpeg':1,'618716152016.jpeg':1,'618781202016.jpeg':1,'618675092015.jpeg':1,'618717582016.jpeg':1,'618785062016.jpeg':1,'618676122015.jpeg':1,'618728562016.jpeg':1,'618808952016.jpeg':1,'618681792015.jpeg':1,'618729162016.jpeg':1,'618812702016.jpeg':1,'618693822015.jpeg':1,'618737522016.jpeg':1,'618816982016.jpeg':1,'618618952015.jpeg':1,'618697772015.jpeg':1,'618742972016.jpeg':1,'621694832019.jpeg':1,'618623332015.jpeg':1,'618698192015.jpeg':1,'618750572016.jpeg':1,'618628852015.jpeg':1,'618698682015.jpeg':1,'618753212016.jpeg':1,'618648052015.jpeg':1,'618704312015.jpeg':1,'618767722016.jpeg':1,'618656452015.jpeg':1,'618705352015.jpeg':1,'618775462016.jpeg':1,'621707602019.jpeg':1,'621725412019.jpeg':1,'621764062020.jpeg':1,'621707632019.jpeg':1,'621726302019.jpeg':1,'621767142020.jpeg':1,'621707702019.jpeg':1,'621731572019.jpeg':1,'621770032020.jpeg':1,'621707752019.jpeg':1,'621734182019.jpeg':1,'621793322020.jpeg':1,'621707782019.jpeg':1,'621736132019.jpeg':1,'621797062020.jpeg':1,'621707812019.jpeg':1,'621742402019.jpeg':1,'621797092020.jpeg':1,'621712382019.jpeg':1,'621743272019.jpeg':1,'621797122020.jpeg':1,'621695512019.jpeg':1,'621712622019.jpeg':1,'621746242019.jpeg':1,'621797152020.jpeg':1,'621701592019.jpeg':1,'621714382019.jpeg':1,'621746722019.jpeg':1,'621704632019.jpeg':1,'621714412019.jpeg':1,'621753612019.jpeg':1,'621707582019.jpeg':1,'621721212019.jpeg':1,'621759022020.jpeg':1,'621707612019.jpeg':1,'621725922019.jpeg':1,'621764312020.jpeg':1,'621707642019.jpeg':1,'621726312019.jpeg':1,'621769032020.jpeg':1,'621707732019.jpeg':1,'621733522019.jpeg':1,'621774182020.jpeg':1,'621707762019.jpeg':1,'621734372019.jpeg':1,'621797042020.jpeg':1,'621707792019.jpeg':1,'621736142019.jpeg':1,'621797072020.jpeg':1,'621710042019.jpeg':1,'621742582019.jpeg':1,'621797102020.jpeg':1,'621712582019.jpeg':1,'621743332019.jpeg':1,'621797132020.jpeg':1,'621695672019.jpeg':1,'621712632019.jpeg':1,'621746252019.jpeg':1,'621797162020.jpeg':1,'621701602019.jpeg':1,'621714392019.jpeg':1,'621748112019.jpeg':1,'621707562019.jpeg':1,'621714422019.jpeg':1,'621753712020.jpeg':1,'621707592019.jpeg':1,'621725402019.jpeg':1,'621759372020.jpeg':1,'621707622019.jpeg':1,'621726272019.jpeg':1,'621766662020.jpeg':1,'621707672019.jpeg':1,'621729132019.jpeg':1,'621769172020.jpeg':1,'621707742019.jpeg':1,'621733752019.jpeg':1,'621793112020.jpeg':1,'621707772019.jpeg':1,'621735172019.jpeg':1,'621797052020.jpeg':1,'621707802019.jpeg':1,'621742392019.jpeg':1,'621797082020.jpeg':1,'621712162019.jpeg':1,'621743262019.jpeg':1,'621797112020.jpeg':1,'621695492019.jpeg':1,'621712612019.jpeg':1,'621745302019.jpeg':1,'621797142020.jpeg':1,'621701582019.jpeg':1,'621713412019.jpeg':1,'621746262019.jpeg':1,'621797172020.jpeg':1,'621702422019.jpeg':1,'621714402019.jpeg':1,'621752782019.jpeg':1,'621707572019.jpeg':1,'621716192019.jpeg':1,'621753762020.jpeg':1,'621797992020.jpeg':1,'621822302020.jpeg':1,'621851782020.jpeg':1,'621798032020.jpeg':1,'621827962020.jpeg':1,'621853362020.jpeg':1,'621798062020.jpeg':1,'621827992020.jpeg':1,'621854872020.jpeg':1,'621798102020.jpeg':1,'621830492020.jpeg':1,'621863292020.jpeg':1,'621798132020.jpeg':1,'621833332020.jpeg':1,'621869842020.jpeg':1,'621798162020.jpeg':1,'621837272020.jpeg':1,'621876822020.jpeg':1,'621801122020.jpeg':1,'621841602020.jpeg':1,'621884672020.jpeg':1,'621803472020.jpeg':1,'621841632020.jpeg':1,'621891142020.jpeg':1,'621797882020.jpeg':1,'621808692020.jpeg':1,'621845332020.jpeg':1,'621891412020.jpeg':1,'621797942020.jpeg':1,'621815792020.jpeg':1,'621847342020.jpeg':1,'621895832020.jpeg':1,'621797972020.jpeg':1,'621822282020.jpeg':1,'621850212020.jpeg':1,'621798002020.jpeg':1,'621822312020.jpeg':1,'621851792020.jpeg':1,'621798042020.jpeg':1,'621827972020.jpeg':1,'621854852020.jpeg':1,'621798072020.jpeg':1,'621828002020.jpeg':1,'621854882020.jpeg':1,'621798112020.jpeg':1,'621830522020.jpeg':1,'621866862020.jpeg':1,'621798142020.jpeg':1,'621836382020.jpeg':1,'621869872020.jpeg':1,'621798172020.jpeg':1,'621841492020.jpeg':1,'621877912020.jpeg':1,'621801132020.jpeg':1,'621841612020.jpeg':1,'621885632020.jpeg':1,'621806592020.jpeg':1,'621841812020.jpeg':1,'621891152020.jpeg':1,'621797922020.jpeg':1,'621812582020.jpeg':1,'621845522020.jpeg':1,'621893082020.jpeg':1,'621797952020.jpeg':1,'621816632020.jpeg':1,'621848522020.jpeg':1,'621797982020.jpeg':1,'621822292020.jpeg':1,'621850922020.jpeg':1,'621798012020.jpeg':1,'621823732020.jpeg':1,'621853282020.jpeg':1,'621798052020.jpeg':1,'621827982020.jpeg':1,'621854862020.jpeg':1,'621798082020.jpeg':1,'621829742020.jpeg':1,'621854902020.jpeg':1,'621798122020.jpeg':1,'621831332020.jpeg':1,'621868202020.jpeg':1,'621798152020.jpeg':1,'621837052020.jpeg':1,'621876172020.jpeg':1,'621801112020.jpeg':1,'621841592020.jpeg':1,'621884632020.jpeg':1,'621801472020.jpeg':1,'621841622020.jpeg':1,'621891132020.jpeg':1,'621808182020.jpeg':1,'621842892020.jpeg':1,'621891162020.jpeg':1,'621797932020.jpeg':1,'621815782020.jpeg':1,'621846122020.jpeg':1,'621895552020.jpeg':1,'621797962020.jpeg':1,'621822272020.jpeg':1,'621849912020.jpeg':1,'621901392020.jpeg':1,'621936522020.jpeg':1,'622008442020.jpeg':1,'622077332020.jpeg':1,'621902482020.jpeg':1,'621936552020.jpeg':1,'622014012020.jpeg':1,'622082362020.jpeg':1,'621915452020.jpeg':1,'621942442020.jpeg':1,'622085692020.jpeg':1,'621917402020.jpeg':1,'621947782020.jpeg':1,'622029232020.jpeg':1,'621917432020.jpeg':1,'622029832020.jpeg':1,'621919612020.jpeg':1,'621951442020.jpeg':1,'622039602020.jpeg':1,'621926342020.jpeg':1,'621952622020.jpeg':1,'622067592020.jpeg':1,'621929932020.jpeg':1,'621970212020.jpeg':1,'622069202020.jpeg':1,'621936442020.jpeg':1,'621985542020.jpeg':1,'622069232020.jpeg':1,'621936472020.jpeg':1,'622004932020.jpeg':1,'622069262020.jpeg':1,'621899572020.jpeg':1,'621936502020.jpeg':1,'622007562020.jpeg':1,'622072502020.jpeg':1,'621901662020.jpeg':1,'621936532020.jpeg':1,'622008742020.jpeg':1,'622080592020.jpeg':1,'621909772020.jpeg':1,'621938952020.jpeg':1,'622014132020.jpeg':1,'622084772020.jpeg':1,'621916662020.jpeg':1,'621944132020.jpeg':1,'622027082020.jpeg':1,'622085702020.jpeg':1,'621917412020.jpeg':1,'621947972020.jpeg':1,'622029252020.jpeg':1,'621917442020.jpeg':1,'622034832020.jpeg':1,'621923782020.jpeg':1,'621951952020.jpeg':1,'622041342020.jpeg':1,'621928332020.jpeg':1,'621955482020.jpeg':1,'622068292020.jpeg':1,'621932372020.jpeg':1,'621980212020.jpeg':1,'622069212020.jpeg':1,'621936452020.jpeg':1,'621996762020.jpeg':1,'622069242020.jpeg':1,'621896052020.jpeg':1,'621936482020.jpeg':1,'622005892020.jpeg':1,'622069272020.jpeg':1,'621899582020.jpeg':1,'621936512020.jpeg':1,'622008432020.jpeg':1,'622072782020.jpeg':1,'621901962020.jpeg':1,'621936542020.jpeg':1,'622008752020.jpeg':1,'622081332020.jpeg':1,'621942432020.jpeg':1,'622017892020.jpeg':1,'622084862020.jpeg':1,'621917392020.jpeg':1,'621945302020.jpeg':1,'622028632020.jpeg':1,'622085712020.jpeg':1,'621917422020.jpeg':1,'621948882020.jpeg':1,'622029822020.jpeg':1,'621917452020.jpeg':1,'621951102020.jpeg':1,'622038832020.jpeg':1,'621924852020.jpeg':1,'621952012020.jpeg':1,'622065302020.jpeg':1,'621929902020.jpeg':1,'621966382020.jpeg':1,'622069192020.jpeg':1,'621934632020.jpeg':1,'621980842020.jpeg':1,'622069222020.jpeg':1,'621936462020.jpeg':1,'622001632020.jpeg':1,'622069252020.jpeg':1,'621899412020.jpeg':1,'621936492020.jpeg':1,'622006012020.jpeg':1,'622072492020.jpeg':1,\n",
    "'100000101967.jpeg':1,'100000321966.jpeg':1,'100000581968.jpeg':1,'100000111966.jpeg':1,'100000351975.jpeg':1,'100000601967.jpeg':1,'100000131964.jpeg':1,'100000371964.jpeg':1,'100000611970.jpeg':1,'100000171972.jpeg':1,'100000401964.jpeg':1,'100000641967.jpeg':1,'100000011971.jpeg':1,'100000191968.jpeg':1,'100000421964.jpeg':1,'100000681967.jpeg':1,'100000021968.jpeg':1,'100000201975.jpeg':1,'100000431971.jpeg':1,'100000711967.jpeg':1,'100000021977.jpeg':1,'100000231970.jpeg':1,'100000501973.jpeg':1,'100000041977.jpeg':1,'100000261966.jpeg':1,'100000511973.jpeg':1,'100000061977.jpeg':1,'100000271963.jpeg':1,'100000531971.jpeg':1,'100000071977.jpeg':1,'100000271968.jpeg':1,'100000561969.jpeg':1,'100000091970.jpeg':1,'100000311969.jpeg':1,'100000571968.jpeg':1,'100000101968.jpeg':1,'100000341968.jpeg':1,'100000591967.jpeg':1,'100000111972.jpeg':1,'100000361963.jpeg':1,'100000601968.jpeg':1,'100000131968.jpeg':1,'100000381964.jpeg':1,'100000621968.jpeg':1,'100000411964.jpeg':1,'100000641968.jpeg':1,'100000011973.jpeg':1,'100000201968.jpeg':1,'100000421968.jpeg':1,'100000681974.jpeg':1,'100000021969.jpeg':1,'100000211970.jpeg':1,'100000481966.jpeg':1,'100000031968.jpeg':1,'100000251966.jpeg':1,'100000511964.jpeg':1,'100000051977.jpeg':1,'100000261968.jpeg':1,'100000531968.jpeg':1,'100000071964.jpeg':1,'100000271966.jpeg':1,'100000551971.jpeg':1,'100000081969.jpeg':1,'100000291973.jpeg':1,'100000571965.jpeg':1,'100000101964.jpeg':1,'100000311975.jpeg':1,'100000581965.jpeg':1,'100000101978.jpeg':1,'100000351965.jpeg':1,'100000591969.jpeg':1,'100000121967.jpeg':1,'100000361967.jpeg':1,'100000601969.jpeg':1,'100000141968.jpeg':1,'100000381965.jpeg':1,'100000631970.jpeg':1,'100000181969.jpeg':1,'100000411969.jpeg':1,'100000681964.jpeg':1,'100000021966.jpeg':1,'100000201969.jpeg':1,'100000421971.jpeg':1,'100000701963.jpeg':1,'100000021971.jpeg':1,'100000221975.jpeg':1,'100000501966.jpeg':1,'100000031971.jpeg':1,'100000251970.jpeg':1,'100000511968.jpeg':1,'100000061964.jpeg':1,'100000261970.jpeg':1,'100000531969.jpeg':1,'100000071972.jpeg':1,'100000271967.jpeg':1,'100000561967.jpeg':1,'100000081977.jpeg':1,'100000301973.jpeg':1,'100000571966.jpeg':1,'100000871975.jpeg':1,\n",
    "'100001041972.jpeg':1,'100001191963.jpeg':1,'100000881975.jpeg':1,'100001051973.jpeg':1,'100001201970.jpeg':1,'100000891969.jpeg':1,'100001061972.jpeg':1,'100001211964.jpeg':1,'100000921967.jpeg':1,'100001071972.jpeg':1,'100001221974.jpeg':1,'100000941966.jpeg':1,'100001091972.jpeg':1,'100001231976.jpeg':1,'100000961969.jpeg':1,'100001101972.jpeg':1,'100001241991.jpeg':1,'100000761970.jpeg':1,'100000981982.jpeg':1,'100001111972.jpeg':1,'100001251976.jpeg':1,'100000791970.jpeg':1,'100001001963.jpeg':1,'100001121967.jpeg':1,'100000811965.jpeg':1,'100001011965.jpeg':1,'100001131967.jpeg':1,'100000831965.jpeg':1,'100001021964.jpeg':1,'100001151972.jpeg':1,'100000851991.jpeg':1,'100001031972.jpeg':1,'100001171963.jpeg':1,'100000881966.jpeg':1,'100001051968.jpeg':1,'100001191968.jpeg':1,'100000891966.jpeg':1,'100001061966.jpeg':1,'100001201974.jpeg':1,'100000911967.jpeg':1,'100001071965.jpeg':1,'100001211968.jpeg':1,'100000921976.jpeg':1,'100001081968.jpeg':1,'100001231974.jpeg':1,'100000951976.jpeg':1,'100001101964.jpeg':1,'100001241974.jpeg':1,'100000751966.jpeg':1,'100000971971.jpeg':1,'100001111968.jpeg':1,'100001251967.jpeg':1,'100000771970.jpeg':1,'100000991967.jpeg':1,'100001111974.jpeg':1,'100001261967.jpeg':1,'100000791971.jpeg':1,'100001001972.jpeg':1,'100001121972.jpeg':1,'100000821970.jpeg':1,'100001011972.jpeg':1,'100001141972.jpeg':1,'100000831971.jpeg':1,'100001021969.jpeg':1,'100001161972.jpeg':1,'100000861991.jpeg':1,'100001041968.jpeg':1,'100001181974.jpeg':1,'100000881969.jpeg':1,'100001051972.jpeg':1,'100001191974.jpeg':1,'100000891967.jpeg':1,'100001061968.jpeg':1,'100000911969.jpeg':1,'100001071966.jpeg':1,'100001211974.jpeg':1,'100000931967.jpeg':1,'100001081972.jpeg':1,'100001231975.jpeg':1,'100000961968.jpeg':1,'100001101965.jpeg':1,'100001241976.jpeg':1,'100000761963.jpeg':1,'100000981967.jpeg':1,'100001111969.jpeg':1,'100001251974.jpeg':1,'100000781982.jpeg':1,'100000991991.jpeg':1,'100001121966.jpeg':1,'100000801963.jpeg':1,'100001001991.jpeg':1,'100001131966.jpeg':1,'100000821982.jpeg':1,'100001011983.jpeg':1,'100001151968.jpeg':1,'100000851975.jpeg':1,'100001021972.jpeg':1,'100001161976.jpeg':1,'100001301969.jpeg':1,'100002611967.jpeg':1,\n",
    "'100002791965.jpeg':1,'100001311976.jpeg':1,'100002631966.jpeg':1,'100002801969.jpeg':1,'100001331967.jpeg':1,'100002661969.jpeg':1,'100002811970.jpeg':1,'100001341965.jpeg':1,'100002671974.jpeg':1,'100002851966.jpeg':1,'100001351970.jpeg':1,'100002681974.jpeg':1,'100002901969.jpeg':1,'100001361976.jpeg':1,'100002721964.jpeg':1,'100002911966.jpeg':1,'100001381974.jpeg':1,'100002731967.jpeg':1,'100002921966.jpeg':1,'100001261976.jpeg':1,'100002731974.jpeg':1,'100002941964.jpeg':1,'100001271974.jpeg':1,'100002561967.jpeg':1,'100002741969.jpeg':1,'100001281976.jpeg':1,'100002571967.jpeg':1,'100002751970.jpeg':1,'100001291974.jpeg':1,'100002581974.jpeg':1,'100002781968.jpeg':1,'100001301976.jpeg':1,'100002611970.jpeg':1,'100002791968.jpeg':1,'100001321968.jpeg':1,'100002641966.jpeg':1,'100002801973.jpeg':1,'100001331976.jpeg':1,'100002661991.jpeg':1,'100002821965.jpeg':1,'100001341967.jpeg':1,'100002671991.jpeg':1,'100002871964.jpeg':1,'100001351976.jpeg':1,'100002711974.jpeg':1,'100002901970.jpeg':1,'100002721970.jpeg':1,'100002911973.jpeg':1,'100001381976.jpeg':1,'100002731970.jpeg':1,'100002921974.jpeg':1,'100001261983.jpeg':1,'100002531966.jpeg':1,'100002741963.jpeg':1,'100002941969.jpeg':1,'100001281968.jpeg':1,'100002561969.jpeg':1,'100002751963.jpeg':1,'100001291963.jpeg':1,'100002581966.jpeg':1,'100002771968.jpeg':1,'100001291976.jpeg':1,'100002601969.jpeg':1,'100002781984.jpeg':1,'100002621968.jpeg':1,'100002791984.jpeg':1,'100001321976.jpeg':1,'100002651963.jpeg':1,'100002811968.jpeg':1,'100001331983.jpeg':1,'100002671966.jpeg':1,'100002841970.jpeg':1,'100001341976.jpeg':1,'100002681972.jpeg':1,'100002891974.jpeg':1,'100001361967.jpeg':1,'100002721963.jpeg':1,'100002901974.jpeg':1,'100001371976.jpeg':1,'100002721974.jpeg':1,'100002921964.jpeg':1,'100001261974.jpeg':1,'100001391966.jpeg':1,'100002731971.jpeg':1,'100002931964.jpeg':1,'100001261991.jpeg':1,'100002551991.jpeg':1,'100002741967.jpeg':1,'100001281971.jpeg':1,'100002561991.jpeg':1,'100002751967.jpeg':1,'100001291972.jpeg':1,'100002581969.jpeg':1,'100002771984.jpeg':1,'100003031969.jpeg':1,'100003241967.jpeg':1,'100003521966.jpeg':1,'100003071976.jpeg':1,'100003271968.jpeg':1,'100003531968.jpeg':1,\n",
    "'100003091974.jpeg':1,'100003281973.jpeg':1,'100003561963.jpeg':1,'100003101967.jpeg':1,'100003311969.jpeg':1,'100003111967.jpeg':1,'100003341971.jpeg':1,'100003591985.jpeg':1,'100003121969.jpeg':1,'100003361975.jpeg':1,'100003631966.jpeg':1,'100003141973.jpeg':1,'100003391969.jpeg':1,'100006481975.jpeg':1,'100003151976.jpeg':1,'100003451963.jpeg':1,'100006491969.jpeg':1,'100002951984.jpeg':1,'100003171976.jpeg':1,'100003461966.jpeg':1,'100006491975.jpeg':1,'100002981969.jpeg':1,'100003201976.jpeg':1,'100003481966.jpeg':1,'100003011963.jpeg':1,'100003221969.jpeg':1,'100003491972.jpeg':1,'100003071965.jpeg':1,'100003251965.jpeg':1,'100003521968.jpeg':1,'100003081974.jpeg':1,'100003271969.jpeg':1,'100003541968.jpeg':1,'100003091976.jpeg':1,'100003301967.jpeg':1,'100003561965.jpeg':1,'100003101974.jpeg':1,'100003331969.jpeg':1,'100003591968.jpeg':1,'100003111976.jpeg':1,'100003351985.jpeg':1,'100003601971.jpeg':1,'100003121976.jpeg':1,'100003371965.jpeg':1,'100003641971.jpeg':1,'100003141976.jpeg':1,'100003441965.jpeg':1,'100006491964.jpeg':1,'100003161973.jpeg':1,'100003451965.jpeg':1,'100006491971.jpeg':1,'100002961969.jpeg':1,'100003181976.jpeg':1,'100003471966.jpeg':1,'100006501966.jpeg':1,'100002991963.jpeg':1,'100003481972.jpeg':1,'100003031965.jpeg':1,'100003241965.jpeg':1,'100003511968.jpeg':1,'100003071966.jpeg':1,'100003251967.jpeg':1,'100003521972.jpeg':1,'100003081976.jpeg':1,'100003281969.jpeg':1,'100003551968.jpeg':1,'100003091984.jpeg':1,'100003311967.jpeg':1,'100003561966.jpeg':1,'100003101976.jpeg':1,'100003331974.jpeg':1,'100003591976.jpeg':1,'100003111984.jpeg':1,'100003361967.jpeg':1,'100003631965.jpeg':1,'100006561975.jpeg':1,'100012091973.jpeg':1,'100012241967.jpeg':1,'100007081972.jpeg':1,'100012101975.jpeg':1,'100012261966.jpeg':1,'100007091969.jpeg':1,'100012111973.jpeg':1,'100012271969.jpeg':1,'100011971970.jpeg':1,'100012121972.jpeg':1,'100012271973.jpeg':1,'100011981970.jpeg':1,'100012141968.jpeg':1,'100012151969.jpeg':1,'100012011970.jpeg':1,'100012171969.jpeg':1,'100012321969.jpeg':1,'100012021970.jpeg':1,'100012181973.jpeg':1,'100012351967.jpeg':1,'100007001976.jpeg':1,'100012041970.jpeg':1,'100012201969.jpeg':1,'100007021966.jpeg':1,\n",
    "'100012051971.jpeg':1,'100012211969.jpeg':1,'100007031974.jpeg':1,'100012071969.jpeg':1,'100012221965.jpeg':1,'100007061974.jpeg':1,'100012091966.jpeg':1,'100012231965.jpeg':1,'100007071974.jpeg':1,'100012101969.jpeg':1,'100012241971.jpeg':1,'100007081973.jpeg':1,'100012111969.jpeg':1,'100012261967.jpeg':1,'100007091974.jpeg':1,'100012111975.jpeg':1,'100012271971.jpeg':1,'100011971972.jpeg':1,'100012131969.jpeg':1,'100012281967.jpeg':1,'100011991966.jpeg':1,'100012141969.jpeg':1,'100012151970.jpeg':1,'100012301972.jpeg':1,'100012021964.jpeg':1,'100012181967.jpeg':1,'100012341969.jpeg':1,'100007001970.jpeg':1,'100012021975.jpeg':1,'100012191969.jpeg':1,'100012361967.jpeg':1,'100007011970.jpeg':1,'100012041974.jpeg':1,'100012201971.jpeg':1,'100012051975.jpeg':1,'100012211971.jpeg':1,'100007041974.jpeg':1,'100012081969.jpeg':1,'100012221969.jpeg':1,'100007071971.jpeg':1,'100012091969.jpeg':1,'100012231968.jpeg':1,'100007081971.jpeg':1,'100012101970.jpeg':1,'100012251966.jpeg':1,'100007091967.jpeg':1,'100012111970.jpeg':1,'100012271967.jpeg':1,'100011971969.jpeg':1,'100012121969.jpeg':1,'100012271972.jpeg':1,'100011981969.jpeg':1,'100012141966.jpeg':1,'100012011965.jpeg':1,'100012151968.jpeg':1,'100012161969.jpeg':1,'100012311972.jpeg':1,'100012021967.jpeg':1,'100021601972.jpeg':1,'100021801972.jpeg':1,'100021901970.jpeg':1,'100012371963.jpeg':1,'100021621971.jpeg':1,'100021811975.jpeg':1,'100021911964.jpeg':1,'100012381964.jpeg':1,'100021641973.jpeg':1,'100021831971.jpeg':1,'100021911974.jpeg':1,'100012401969.jpeg':1,'100021651970.jpeg':1,'100021841966.jpeg':1,'100012411971.jpeg':1,'100021671971.jpeg':1,'100021851976.jpeg':1,'100012421976.jpeg':1,'100021701965.jpeg':1,'100021861976.jpeg':1,'100012461967.jpeg':1,'100021711966.jpeg':1,'100021871976.jpeg':1,'100021551965.jpeg':1,'100021731975.jpeg':1,'100021881972.jpeg':1,'100021561973.jpeg':1,'100021751967.jpeg':1,'100021891966.jpeg':1,'100021761967.jpeg':1,'100021891972.jpeg':1,'100021591970.jpeg':1,'100021771971.jpeg':1,'100021901964.jpeg':1,'100021611965.jpeg':1,'100021801976.jpeg':1,'100021901972.jpeg':1,'100012371966.jpeg':1,'100021631964.jpeg':1,'100021821966.jpeg':1,'100021911965.jpeg':1,'100012391964.jpeg':1,\n",
    "'100021651966.jpeg':1,'100021831974.jpeg':1,'100012401971.jpeg':1,'100021651975.jpeg':1,'100021841976.jpeg':1,'100012411976.jpeg':1,'100021691965.jpeg':1,'100021861967.jpeg':1,'100012441964.jpeg':1,'100021701967.jpeg':1,'100021871967.jpeg':1,'100021541964.jpeg':1,'100021711971.jpeg':1,'100021881970.jpeg':1,'100021551973.jpeg':1,'100021741972.jpeg':1,'100021881974.jpeg':1,'100021571970.jpeg':1,'100021751969.jpeg':1,'100021891969.jpeg':1,'100021581970.jpeg':1,'100021771966.jpeg':1,'100021891973.jpeg':1,'100021601970.jpeg':1,'100021791967.jpeg':1,'100021901968.jpeg':1,'100021611970.jpeg':1,'100021811965.jpeg':1,'100021901974.jpeg':1,'100012371967.jpeg':1,'100021641966.jpeg':1,'100021831966.jpeg':1,'100021911970.jpeg':1,'100012391971.jpeg':1,'100021651967.jpeg':1,'100012411965.jpeg':1,'100021661974.jpeg':1,'100021851964.jpeg':1,'100012421972.jpeg':1,'100021691971.jpeg':1,'100021861969.jpeg':1,'100012451964.jpeg':1,'100021701971.jpeg':1,'100021871971.jpeg':1,'100021551964.jpeg':1,'100021721971.jpeg':1,'100021881971.jpeg':1,'100021561964.jpeg':1,'100021741975.jpeg':1,'100021881976.jpeg':1,'100021581965.jpeg':1,'100021751972.jpeg':1,'100021891970.jpeg':1,'100021591965.jpeg':1,'100021771970.jpeg':1,'100021891974.jpeg':1,'100030151974.jpeg':1,'100030331966.jpeg':1,'100030431970.jpeg':1,'100030161970.jpeg':1,'100030341968.jpeg':1,'100030461965.jpeg':1,'100030191975.jpeg':1,'100030351968.jpeg':1,'100030461969.jpeg':1,'100021921971.jpeg':1,'100030221969.jpeg':1,'100030361969.jpeg':1,'100030471968.jpeg':1,'100021931976.jpeg':1,'100030231971.jpeg':1,'100030381965.jpeg':1,'100021941973.jpeg':1,'100030241969.jpeg':1,'100030381975.jpeg':1,'100030051976.jpeg':1,'100030261965.jpeg':1,'100030391969.jpeg':1,'100030071976.jpeg':1,'100030261971.jpeg':1,'100030401965.jpeg':1,'100030091967.jpeg':1,'100030281969.jpeg':1,'100030401973.jpeg':1,'100030101974.jpeg':1,'100030301973.jpeg':1,'100030411973.jpeg':1,'100030141970.jpeg':1,'100030311969.jpeg':1,'100030431965.jpeg':1,'100030151975.jpeg':1,'100030331969.jpeg':1,'100030441966.jpeg':1,'100030171970.jpeg':1,'100030341969.jpeg':1,'100030461966.jpeg':1,'100021921969.jpeg':1,'100030201975.jpeg':1,'100030351969.jpeg':1,'100030471965.jpeg':1,\n",
    "'100021931970.jpeg':1,'100030221991.jpeg':1,'100030371968.jpeg':1,'100030481966.jpeg':1,'100021941964.jpeg':1,'100030231991.jpeg':1,'100030381968.jpeg':1,'100030051969.jpeg':1,'100030251969.jpeg':1,'100030391965.jpeg':1,'100030061976.jpeg':1,'100030261966.jpeg':1,'100030391973.jpeg':1,'100030081976.jpeg':1,'100030271966.jpeg':1,'100030401966.jpeg':1,'100030091969.jpeg':1,'100030291969.jpeg':1,'100030401975.jpeg':1,'100030121974.jpeg':1,'100030311966.jpeg':1,'100030411976.jpeg':1,'100030151970.jpeg':1,'100030321969.jpeg':1,'100030431966.jpeg':1,'100030161966.jpeg':1,'100030331976.jpeg':1,'100030451966.jpeg':1,'100030181966.jpeg':1,'100030351965.jpeg':1,'100030461968.jpeg':1,'100021921970.jpeg':1,'100030221967.jpeg':1,'100030361968.jpeg':1,'100030471966.jpeg':1,'100021931973.jpeg':1,'100030231969.jpeg':1,'100030371969.jpeg':1,'100021941970.jpeg':1,'100030241967.jpeg':1,'100030381969.jpeg':1,'100030051971.jpeg':1,'100030251971.jpeg':1,'100030391968.jpeg':1,'100030071965.jpeg':1,'100030261969.jpeg':1,'100030391975.jpeg':1,'100030091964.jpeg':1,'100030271969.jpeg':1,'100030401969.jpeg':1,'100030101969.jpeg':1,'100030301969.jpeg':1,'100030411969.jpeg':1,'100030131970.jpeg':1,'100030311967.jpeg':1,'100030421976.jpeg':1,'100030571966.jpeg':1,'100030781967.jpeg':1,'100035171971.jpeg':1,'100030601966.jpeg':1,'100030811966.jpeg':1,'100035191966.jpeg':1,'100030621966.jpeg':1,'100034991973.jpeg':1,'100035201967.jpeg':1,'100030641971.jpeg':1,'100035021964.jpeg':1,'100035211975.jpeg':1,'100030491973.jpeg':1,'100030661966.jpeg':1,'100035061975.jpeg':1,'100035251968.jpeg':1,'100030501968.jpeg':1,'100030681966.jpeg':1,'100035071973.jpeg':1,'100030511971.jpeg':1,'100030701975.jpeg':1,'100035091965.jpeg':1,'100030521970.jpeg':1,'100030711975.jpeg':1,'100035101968.jpeg':1,'100030531970.jpeg':1,'100030731966.jpeg':1,'100035111972.jpeg':1,'100030551966.jpeg':1,'100030751966.jpeg':1,'100035131966.jpeg':1,'100030561966.jpeg':1,'100030771966.jpeg':1,'100035151967.jpeg':1,'100030581966.jpeg':1,'100030791966.jpeg':1,'100035181972.jpeg':1,'100030601971.jpeg':1,'100030821966.jpeg':1,'100035191969.jpeg':1,'100030631966.jpeg':1,'100035001973.jpeg':1,'100035201975.jpeg':1,'100030651966.jpeg':1,\n",
    "'100035051965.jpeg':1,'100035231966.jpeg':1,'100030501966.jpeg':1,'100030671966.jpeg':1,'100035071967.jpeg':1,'100035251970.jpeg':1,'100030511966.jpeg':1,'100030691966.jpeg':1,'100035081964.jpeg':1,'100030521966.jpeg':1,'100030711966.jpeg':1,'100035091973.jpeg':1,'100030531966.jpeg':1,'100030721966.jpeg':1,'100035101971.jpeg':1,'100030541966.jpeg':1,'100030731973.jpeg':1,'100035121966.jpeg':1,'100030551969.jpeg':1,'100030751970.jpeg':1,'100035141974.jpeg':1,'100030561969.jpeg':1,'100030781966.jpeg':1,'100035151974.jpeg':1,'100030591966.jpeg':1,'100030801966.jpeg':1,'100030611966.jpeg':1,'100034981971.jpeg':1,'100030641966.jpeg':1,'100035011973.jpeg':1,'100035211971.jpeg':1,'100030491966.jpeg':1,'100030661965.jpeg':1,'100035061971.jpeg':1,'100035241968.jpeg':1,'100030501967.jpeg':1,'100035071971.jpeg':1,'100035271974.jpeg':1,'100030511968.jpeg':1,'100030701966.jpeg':1,'100035081973.jpeg':1,'100030521968.jpeg':1,'100030711971.jpeg':1,'100035091976.jpeg':1,'100030531968.jpeg':1,'100030731964.jpeg':1,'100035111968.jpeg':1,'100030541967.jpeg':1,'100030741966.jpeg':1,'100035121972.jpeg':1,'100030551975.jpeg':1,'100030761966.jpeg':1,'100035151966.jpeg':1,'100035391975.jpeg':1,'100042621972.jpeg':1,'100042841968.jpeg':1,'100035411975.jpeg':1,'100042661968.jpeg':1,'100042851971.jpeg':1,'100035441971.jpeg':1,'100042681968.jpeg':1,'100042861976.jpeg':1,'100035461968.jpeg':1,'100042701967.jpeg':1,'100042881968.jpeg':1,'100035471967.jpeg':1,'100042711970.jpeg':1,'100042901976.jpeg':1,'100035281973.jpeg':1,'100035481974.jpeg':1,'100042741969.jpeg':1,'100042921966.jpeg':1,'100035301964.jpeg':1,'100035501965.jpeg':1,'100042771967.jpeg':1,'100042921975.jpeg':1,'100035311969.jpeg':1,'100042551971.jpeg':1,'100042781969.jpeg':1,'100035331964.jpeg':1,'100042571973.jpeg':1,'100042801968.jpeg':1,'100035351964.jpeg':1,'100042591974.jpeg':1,'100042821966.jpeg':1,'100035381966.jpeg':1,'100042611971.jpeg':1,'100042831968.jpeg':1,'100035401975.jpeg':1,'100042641974.jpeg':1,'100042841969.jpeg':1,'100035431971.jpeg':1,'100042661970.jpeg':1,'100042851976.jpeg':1,'100035451966.jpeg':1,'100042681970.jpeg':1,'100042871968.jpeg':1,'100035461976.jpeg':1,'100042701970.jpeg':1,'100042881976.jpeg':1,'100035471976.jpeg':1,'100042721970.jpeg':1,'100042911966.jpeg':1,'100035291964.jpeg':1,'100035481976.jpeg':1,'100042751969.jpeg':1,'100042921969.jpeg':1,'100035301976.jpeg':1,'100035501971.jpeg':1,'100042771969.jpeg':1,'100035321964.jpeg':1,'100042561971.jpeg':1,'100042781972.jpeg':1,'100035331975.jpeg':1,'100042581971.jpeg':1,'100042801969.jpeg':1,'100035361964.jpeg':1,'100042601968.jpeg':1,'100042821967.jpeg':1,'100035391972.jpeg':1,'100042621966.jpeg':1,'100042841966.jpeg':1,'100035411973.jpeg':1,'100042651970.jpeg':1,'100042851968.jpeg':1,'100035441969.jpeg':1,'100042671970.jpeg':1,'100042861968.jpeg':1,'100035451976.jpeg':1,'100042691974.jpeg':1,'100042871976.jpeg':1,'100035471966.jpeg':1,'100042711968.jpeg':1,'100042891976.jpeg':1,'100035481968.jpeg':1,'100042731969.jpeg':1,'100042911976.jpeg':1,'100035291973.jpeg':1,'100035501964.jpeg':1,'100042761969.jpeg':1,'100035311964.jpeg':1,'100035501976.jpeg':1,'100042781968.jpeg':1,'100035321970.jpeg':1,'100042571971.jpeg':1,'100042791970.jpeg':1,'100035341964.jpeg':1,'100042811968.jpeg':1,'100035381964.jpeg':1,'100042601971.jpeg':1,'100042821968.jpeg':1,'100042961976.jpeg':1,'117516582014.jpeg':1,'117519132014.jpeg':1,'100042981964.jpeg':1,'117516642014.jpeg':1,'117519162014.jpeg':1,'100042991976.jpeg':1,'117517122014.jpeg':1,'117519202014.jpeg':1,'100043001971.jpeg':1,'117517522014.jpeg':1,'117519232014.jpeg':1,'100043011971.jpeg':1,'117518712014.jpeg':1,'117522662014.jpeg':1,'100043031976.jpeg':1,'117518932014.jpeg':1,'117522792014.jpeg':1,'100043051967.jpeg':1,'117518972014.jpeg':1,'117528732014.jpeg':1,'100042931972.jpeg':1,'103556701996.jpeg':1,'117519012014.jpeg':1,'117531132014.jpeg':1,'100042941969.jpeg':1,'117516372014.jpeg':1,'117519052014.jpeg':1,'100042951970.jpeg':1,'117516462014.jpeg':1,'117519082014.jpeg':1,'100042961970.jpeg':1,'117516562014.jpeg':1,'117519112014.jpeg':1,'100042971974.jpeg':1,'117516592014.jpeg':1,'117519142014.jpeg':1,'100042981976.jpeg':1,'117516662014.jpeg':1,'117519182014.jpeg':1,'100043001966.jpeg':1,'117517142014.jpeg':1,'117519212014.jpeg':1,'100043001972.jpeg':1,'117517542014.jpeg':1,'117519242014.jpeg':1,'100043011976.jpeg':1,'117518902014.jpeg':1,'117522712014.jpeg':1,'100043041976.jpeg':1,'117518942014.jpeg':1,'117522852014.jpeg':1,'100042921976.jpeg':1,'103412911979.jpeg':1,'117518992014.jpeg':1,'117529512014.jpeg':1,'100042931975.jpeg':1,'109340781990.jpeg':1,'117519022014.jpeg':1,'117531142014.jpeg':1,'100042941976.jpeg':1,'117516402014.jpeg':1,'117519062014.jpeg':1,'100042951976.jpeg':1,'117516542014.jpeg':1,'117519092014.jpeg':1,'100042961974.jpeg':1,'117516572014.jpeg':1,'117519122014.jpeg':1,'100042971976.jpeg':1,'117516622014.jpeg':1,'117519152014.jpeg':1,'100042991971.jpeg':1,'117516682014.jpeg':1,'117519192014.jpeg':1,'100043001969.jpeg':1,'117517502014.jpeg':1,'117519222014.jpeg':1,'100043001976.jpeg':1,'117517562014.jpeg':1,'117522622014.jpeg':1,'100043021976.jpeg':1,'117518912014.jpeg':1,'117522752014.jpeg':1,'100043051966.jpeg':1,'117518962014.jpeg':1,'117522892014.jpeg':1,'103456141996.jpeg':1,'117519002014.jpeg':1,'117529782014.jpeg':1,'100042931976.jpeg':1,'117516322014.jpeg':1,'117519032014.jpeg':1,'100042951967.jpeg':1,'117516432014.jpeg':1,'117519072014.jpeg':1,'117516552014.jpeg':1,'117519102014.jpeg':1,'117541032014.jpeg':1,'117565832014.jpeg':1,'117595962014.jpeg':1,'117544892014.jpeg':1,'117566692014.jpeg':1,'117598292014.jpeg':1,'117550902014.jpeg':1,'117567752014.jpeg':1,'117601552014.jpeg':1,'117552142014.jpeg':1,'117572682014.jpeg':1,'117603912014.jpeg':1,'117555182014.jpeg':1,'117594882014.jpeg':1,'117604572014.jpeg':1,'117559122014.jpeg':1,'117594952014.jpeg':1,'117608092014.jpeg':1,'117560712014.jpeg':1,'117595062014.jpeg':1,'117609142014.jpeg':1,'117560982014.jpeg':1,'117595792014.jpeg':1,'117609592014.jpeg':1,'117531892014.jpeg':1,'117563142014.jpeg':1,'117595872014.jpeg':1,'117609622014.jpeg':1,'117533682014.jpeg':1,'117563262014.jpeg':1,'117595912014.jpeg':1,'117536182014.jpeg':1,'117565512014.jpeg':1,'117595942014.jpeg':1,'117541042014.jpeg':1,'117565992014.jpeg':1,'117598182014.jpeg':1,'117548112014.jpeg':1,'117566932014.jpeg':1,'117599302014.jpeg':1,'117551242014.jpeg':1,'117569792014.jpeg':1,'117601592014.jpeg':1,'117552382014.jpeg':1,'117572702014.jpeg':1,'117604322014.jpeg':1,'117556222014.jpeg':1,'117594892014.jpeg':1,'117604582014.jpeg':1,'117559172014.jpeg':1,'117594992014.jpeg':1,'117608582014.jpeg':1,'117560822014.jpeg':1,'117595762014.jpeg':1,'117609572014.jpeg':1,'117562532014.jpeg':1,'117595802014.jpeg':1,'117609602014.jpeg':1,'117533412014.jpeg':1,'117563232014.jpeg':1,'117595882014.jpeg':1,'117609632014.jpeg':1,'117533702014.jpeg':1,'117563472014.jpeg':1,'117595922014.jpeg':1,'117537982014.jpeg':1,'117565732014.jpeg':1,'117595952014.jpeg':1,'117543662014.jpeg':1,'117566052014.jpeg':1,'117598272014.jpeg':1,'117548252014.jpeg':1,'117567742014.jpeg':1,'117601332014.jpeg':1,'117552132014.jpeg':1,'117572422014.jpeg':1,'117602512014.jpeg':1,'117552392014.jpeg':1,'117573922014.jpeg':1,'117604332014.jpeg':1,'117558812014.jpeg':1,'117594912014.jpeg':1,'117605152014.jpeg':1,'117560292014.jpeg':1,'117595032014.jpeg':1,'117609132014.jpeg':1,'117560892014.jpeg':1,'117595772014.jpeg':1,'117609582014.jpeg':1,'117531872014.jpeg':1,'117562922014.jpeg':1,'117595832014.jpeg':1,'117609612014.jpeg':1,'117533652014.jpeg':1,'117563252014.jpeg':1,'117595892014.jpeg':1,'117609642014.jpeg':1,'117535342014.jpeg':1,'117565502014.jpeg':1,'117595932014.jpeg':1,'117611862014.jpeg':1,'117631902014.jpeg':1,'117645302014.jpeg':1,'117613462014.jpeg':1,'117633922014.jpeg':1,'117645632014.jpeg':1,'117615582014.jpeg':1,'117633992014.jpeg':1,'117646002014.jpeg':1,'117616962014.jpeg':1,'117635692014.jpeg':1,'117650592014.jpeg':1,'117623112014.jpeg':1,'117635822014.jpeg':1,'117655002014.jpeg':1,'117623142014.jpeg':1,'117636732014.jpeg':1,'613023782008.jpeg':1,'117624992014.jpeg':1,'117638012014.jpeg':1,'613023812008.jpeg':1,'117625902014.jpeg':1,'117640972014.jpeg':1,'613025442008.jpeg':1,'117629072014.jpeg':1,'117641062014.jpeg':1,'613036722008.jpeg':1,'117609952014.jpeg':1,'117630812014.jpeg':1,'117641092014.jpeg':1,'613045972008.jpeg':1,'117611822014.jpeg':1,'117630842014.jpeg':1,'117643742014.jpeg':1,'613051142008.jpeg':1,'117612242014.jpeg':1,'117645372014.jpeg':1,'117614372014.jpeg':1,'117633952014.jpeg':1,'117645772014.jpeg':1,'117615592014.jpeg':1,'117634002014.jpeg':1,'117646012014.jpeg':1,'117619152014.jpeg':1,'117635782014.jpeg':1,'117651472014.jpeg':1,'117623122014.jpeg':1,'117635842014.jpeg':1,'613023762008.jpeg':1,'117623552014.jpeg':1,'117636862014.jpeg':1,'613023792008.jpeg':1,'117625842014.jpeg':1,'117640212014.jpeg':1,'613023822008.jpeg':1,'117627742014.jpeg':1,'117640982014.jpeg':1,'613025452008.jpeg':1,'117629242014.jpeg':1,'117641072014.jpeg':1,'613038902008.jpeg':1,'117610822014.jpeg':1,'117630822014.jpeg':1,'117642532014.jpeg':1,'613046832008.jpeg':1,'117611842014.jpeg':1,'117630852014.jpeg':1,'117644812014.jpeg':1,'117613322014.jpeg':1,'117633902014.jpeg':1,'117645482014.jpeg':1,'117614632014.jpeg':1,'117633982014.jpeg':1,'117645992014.jpeg':1,'117615612014.jpeg':1,'117634012014.jpeg':1,'117648342014.jpeg':1,'117621752014.jpeg':1,'117635812014.jpeg':1,'117652822014.jpeg':1,'117623132014.jpeg':1,'117635862014.jpeg':1,'613023772008.jpeg':1,'117623802014.jpeg':1,'117637162014.jpeg':1,'613023802008.jpeg':1,'117625892014.jpeg':1,'117640912014.jpeg':1,'613023832008.jpeg':1,'117628772014.jpeg':1,'117640992014.jpeg':1,'613026132008.jpeg':1,'117630802014.jpeg':1,'117641082014.jpeg':1,'613044092008.jpeg':1,'117611222014.jpeg':1,'117630832014.jpeg':1,'117643222014.jpeg':1,'613047242008.jpeg':1,'613082282008.jpeg':1,'613092352008.jpeg':1,'613107172008.jpeg':1,'613055292008.jpeg':1,'613055832008.jpeg':1,'613082312008.jpeg':1,'613097742008.jpeg':1,'613065592008.jpeg':1,'613083452008.jpeg':1,'613097872008.jpeg':1,'613069272008.jpeg':1,'613086912008.jpeg':1,'613097942008.jpeg':1,'613073182008.jpeg':1,'613086962008.jpeg':1,'613100382008.jpeg':1,'613081732008.jpeg':1,'613086992008.jpeg':1,'613100442008.jpeg':1,'613081762008.jpeg':1,'613087022008.jpeg':1,'613102302008.jpeg':1,'613081972008.jpeg':1,'613087812008.jpeg':1,'613102332008.jpeg':1,'613082022008.jpeg':1,'613087842008.jpeg':1,'613104262008.jpeg':1,'613082232008.jpeg':1,'613089812008.jpeg':1,'613104782008.jpeg':1,'613082262008.jpeg':1,'613090652008.jpeg':1,'613107142008.jpeg':1,'613082292008.jpeg':1,'613107192008.jpeg':1,'613055302008.jpeg':1,'613057572008.jpeg':1,'613082322008.jpeg':1,'613097762008.jpeg':1,'613065602008.jpeg':1,'613086392008.jpeg':1,'613097902008.jpeg':1,'613070082008.jpeg':1,'613086942008.jpeg':1,'613097952008.jpeg':1,'613081712008.jpeg':1,'613086972008.jpeg':1,'613100412008.jpeg':1,'613081742008.jpeg':1,'613087002008.jpeg':1,'613102002008.jpeg':1,'613081942008.jpeg':1,'613087042008.jpeg':1,'613102312008.jpeg':1,'613081982008.jpeg':1,'613087822008.jpeg':1,'613102662008.jpeg':1,'613082212008.jpeg':1,'613087852008.jpeg':1,'613104272008.jpeg':1,'613082242008.jpeg':1,'613090512008.jpeg':1,'613104842008.jpeg':1,'613082272008.jpeg':1,'613092342008.jpeg':1,'613107152008.jpeg':1,'613054042008.jpeg':1,'613082302008.jpeg':1,'613094862008.jpeg':1,'613107212008.jpeg':1,'613055312008.jpeg':1,'613057892008.jpeg':1,'613083122008.jpeg':1,'613097772008.jpeg':1,'613065962008.jpeg':1,'613086412008.jpeg':1,'613097912008.jpeg':1,'613072462008.jpeg':1,'613086952008.jpeg':1,'613100362008.jpeg':1,'613081722008.jpeg':1,'613086982008.jpeg':1,'613100422008.jpeg':1,'613081752008.jpeg':1,'613087012008.jpeg':1,'613102032008.jpeg':1,'613081952008.jpeg':1,'613087252008.jpeg':1,'613102322008.jpeg':1,'613082002008.jpeg':1,'613087832008.jpeg':1,'613102772008.jpeg':1,'613082222008.jpeg':1,'613089262008.jpeg':1,'613104772008.jpeg':1,'613082252008.jpeg':1,'613090522008.jpeg':1,'613107122008.jpeg':1,'613590122009.jpeg':1,'613614652009.jpeg':1,'613682292009.jpeg':1,'613107222008.jpeg':1,'613591592009.jpeg':1,'613623312009.jpeg':1,'613692482009.jpeg':1,'613436042009.jpeg':1,'613592172009.jpeg':1,'613623392009.jpeg':1,'613561562009.jpeg':1,'613594932009.jpeg':1,'613634262009.jpeg':1,'613565182009.jpeg':1,'613606242009.jpeg':1,'613607122009.jpeg':1,'613641662009.jpeg':1,'613565272009.jpeg':1,'613609992009.jpeg':1,'613645602009.jpeg':1,'613567032009.jpeg':1,'613610022009.jpeg':1,'613646122009.jpeg':1,'613567682009.jpeg':1,'613610432009.jpeg':1,'613649022009.jpeg':1,'613572432009.jpeg':1,'613610462009.jpeg':1,'613658762009.jpeg':1,'613575722009.jpeg':1,'613614532009.jpeg':1,'613665852009.jpeg':1,'613583762009.jpeg':1,'613614582009.jpeg':1,'613681822009.jpeg':1,'613590132009.jpeg':1,'613614672009.jpeg':1,'613683312009.jpeg':1,'613107232008.jpeg':1,'613592152009.jpeg':1,'613623342009.jpeg':1,'613561472009.jpeg':1,'613592182009.jpeg':1,'613623402009.jpeg':1,'613561582009.jpeg':1,'613604212009.jpeg':1,'613637312009.jpeg':1,'613565212009.jpeg':1,'613606252009.jpeg':1,'613607302009.jpeg':1,'613643552009.jpeg':1,'613565342009.jpeg':1,'613610002009.jpeg':1,'613646092009.jpeg':1,'613567042009.jpeg':1,'613610032009.jpeg':1,'613646132009.jpeg':1,'613568382009.jpeg':1,'613610442009.jpeg':1,'613654612009.jpeg':1,'613572462009.jpeg':1,'613613792009.jpeg':1,'613658772009.jpeg':1,'613580312009.jpeg':1,'613614542009.jpeg':1,'613670992009.jpeg':1,'613589802009.jpeg':1,'613614642009.jpeg':1,'613682032009.jpeg':1,'613590142009.jpeg':1,'613616272009.jpeg':1,'613687412009.jpeg':1,'613107372008.jpeg':1,'613592162009.jpeg':1,'613623362009.jpeg':1,'613561552009.jpeg':1,'613632452009.jpeg':1,'613561612009.jpeg':1,'613605112009.jpeg':1,'613641622009.jpeg':1,'613565252009.jpeg':1,'613606262009.jpeg':1,'613607312009.jpeg':1,'613645592009.jpeg':1,'613567022009.jpeg':1,'613610012009.jpeg':1,'613646112009.jpeg':1,'613567072009.jpeg':1,'613610422009.jpeg':1,'613646782009.jpeg':1,'613572172009.jpeg':1,'613610452009.jpeg':1,'613658532009.jpeg':1,'613574072009.jpeg':1,'613613802009.jpeg':1,'613665072009.jpeg':1,'613581222009.jpeg':1,'613614552009.jpeg':1,'613681812009.jpeg':1,'614074752010.jpeg':1,'614095842010.jpeg':1,'614111192010.jpeg':1,'614077792010.jpeg':1,'614100242010.jpeg':1,'614111222010.jpeg':1,'613696452009.jpeg':1,'614077822010.jpeg':1,'614110562010.jpeg':1,'614111252010.jpeg':1,'613698922009.jpeg':1,'614077852010.jpeg':1,'614110592010.jpeg':1,'613705512009.jpeg':1,'614077882010.jpeg':1,'614110632010.jpeg':1,'613719532009.jpeg':1,'614077912010.jpeg':1,'614110662010.jpeg':1,'613726042009.jpeg':1,'614077942010.jpeg':1,'614110692010.jpeg':1,'613753222009.jpeg':1,'614082172010.jpeg':1,'614110732010.jpeg':1,'613753252009.jpeg':1,'614082232010.jpeg':1,'614111112010.jpeg':1,'614070682010.jpeg':1,'614082272010.jpeg':1,'614111142010.jpeg':1,'614072262010.jpeg':1,'614087972010.jpeg':1,'614111172010.jpeg':1,'614077532010.jpeg':1,'614100212010.jpeg':1,'614111202010.jpeg':1,'613695132009.jpeg':1,'614077802010.jpeg':1,'614110542010.jpeg':1,'614111232010.jpeg':1,'613697202009.jpeg':1,'614077832010.jpeg':1,'614110572010.jpeg':1,'614111262010.jpeg':1,'613703772009.jpeg':1,'614077862010.jpeg':1,'614110602010.jpeg':1,'613717722009.jpeg':1,'614077892010.jpeg':1,'614110642010.jpeg':1,'613724422009.jpeg':1,'614077922010.jpeg':1,'614110672010.jpeg':1,'613747082009.jpeg':1,'614077952010.jpeg':1,'614110702010.jpeg':1,'613753232009.jpeg':1,'614082192010.jpeg':1,'614111032010.jpeg':1,'613753712009.jpeg':1,'614082252010.jpeg':1,'614111122010.jpeg':1,'614070712010.jpeg':1,'614083722010.jpeg':1,'614111152010.jpeg':1,'614073902010.jpeg':1,'614090352010.jpeg':1,'614111182010.jpeg':1,'614077782010.jpeg':1,'614100222010.jpeg':1,'614111212010.jpeg':1,'613695962009.jpeg':1,'614077812010.jpeg':1,'614110552010.jpeg':1,'614111242010.jpeg':1,'613697212009.jpeg':1,'614077842010.jpeg':1,'614110582010.jpeg':1,'613704052009.jpeg':1,'614077872010.jpeg':1,'614110622010.jpeg':1,'613717742009.jpeg':1,'614077902010.jpeg':1,'614110652010.jpeg':1,'613724442009.jpeg':1,'614077932010.jpeg':1,'614110682010.jpeg':1,'613753212009.jpeg':1,'614077962010.jpeg':1,'614110722010.jpeg':1,'613753242009.jpeg':1,'614082212010.jpeg':1,'614111102010.jpeg':1,'613753972009.jpeg':1,'614082262010.jpeg':1,'614111132010.jpeg':1,'614071172010.jpeg':1,'614087952010.jpeg':1,'614111162010.jpeg':1,'614112162010.jpeg':1,'614116252010.jpeg':1,'614838812011.jpeg':1,'614112192010.jpeg':1,'614116702010.jpeg':1,'614841072011.jpeg':1,'614112682010.jpeg':1,'614116822010.jpeg':1,'614848142011.jpeg':1,'614111282010.jpeg':1,'614112832010.jpeg':1,'614120752010.jpeg':1,'614852272011.jpeg':1,'614111312010.jpeg':1,'614114002010.jpeg':1,'614120862010.jpeg':1,'614111342010.jpeg':1,'614114032010.jpeg':1,'614120892010.jpeg':1,'614111372010.jpeg':1,'614114062010.jpeg':1,'614120922010.jpeg':1,'614111802010.jpeg':1,'614114742010.jpeg':1,'614123662010.jpeg':1,'614112042010.jpeg':1,'614115172010.jpeg':1,'614827632011.jpeg':1,'614112082010.jpeg':1,'614115902010.jpeg':1,'614831262011.jpeg':1,'614112112010.jpeg':1,'614115932010.jpeg':1,'614837512011.jpeg':1,'614112172010.jpeg':1,'614116282010.jpeg':1,'614840692011.jpeg':1,'614112362010.jpeg':1,'614116712010.jpeg':1,'614842362011.jpeg':1,'614112802010.jpeg':1,'614120032010.jpeg':1,'614848542011.jpeg':1,'614111292010.jpeg':1,'614113422010.jpeg':1,'614120842010.jpeg':1,'614852292011.jpeg':1,'614111322010.jpeg':1,'614114012010.jpeg':1,'614120872010.jpeg':1,'614111352010.jpeg':1,'614114042010.jpeg':1,'614120902010.jpeg':1,'614111382010.jpeg':1,'614114072010.jpeg':1,'614120932010.jpeg':1,'614111812010.jpeg':1,'614114752010.jpeg':1,'614826952011.jpeg':1,'614112052010.jpeg':1,'614115882010.jpeg':1,'614827952011.jpeg':1,'614112092010.jpeg':1,'614115912010.jpeg':1,'614834872011.jpeg':1,'614112132010.jpeg':1,'614115942010.jpeg':1,'614837522011.jpeg':1,'614112182010.jpeg':1,'614116292010.jpeg':1,'614840832011.jpeg':1,'614112672010.jpeg':1,'614116722010.jpeg':1,'614843382011.jpeg':1,'614111272010.jpeg':1,'614112822010.jpeg':1,'614120742010.jpeg':1,'614850822011.jpeg':1,'614111302010.jpeg':1,'614113992010.jpeg':1,'614120852010.jpeg':1,'614852312011.jpeg':1,'614111332010.jpeg':1,'614114022010.jpeg':1,'614120882010.jpeg':1,'614111362010.jpeg':1,'614114052010.jpeg':1,'614120912010.jpeg':1,'614111792010.jpeg':1,'614114082010.jpeg':1,'614120942010.jpeg':1,'614112032010.jpeg':1,'614115132010.jpeg':1,'614827072011.jpeg':1,'614112062010.jpeg':1,'614115892010.jpeg':1,'614828452011.jpeg':1,'614112102010.jpeg':1,'614115922010.jpeg':1,'614836612011.jpeg':1,'614897602011.jpeg':1,'614983842011.jpeg':1,'615025342011.jpeg':1,'614903162011.jpeg':1,'614991722011.jpeg':1,'615032002011.jpeg':1,'614923992011.jpeg':1,'614993872011.jpeg':1,'615036132011.jpeg':1,'614936052011.jpeg':1,'614994502011.jpeg':1,'615037222011.jpeg':1,'614936102011.jpeg':1,'615000242011.jpeg':1,'615038772011.jpeg':1,'614852342011.jpeg':1,'614936192011.jpeg':1,'615008242011.jpeg':1,'618614112015.jpeg':1,'614853022011.jpeg':1,'614956962011.jpeg':1,'615008992011.jpeg':1,'614865622011.jpeg':1,'614958962011.jpeg':1,'615013612011.jpeg':1,'614878752011.jpeg':1,'614889762011.jpeg':1,'614968522011.jpeg':1,'615017802011.jpeg':1,'614892352011.jpeg':1,'614972102011.jpeg':1,'615018382011.jpeg':1,'614897542011.jpeg':1,'614981652011.jpeg':1,'615023902011.jpeg':1,'614897622011.jpeg':1,'614990042011.jpeg':1,'615025392011.jpeg':1,'614904052011.jpeg':1,'614992262011.jpeg':1,'615036112011.jpeg':1,'614929532011.jpeg':1,'614993892011.jpeg':1,'615036142011.jpeg':1,'614936072011.jpeg':1,'614996822011.jpeg':1,'615037442011.jpeg':1,'614936112011.jpeg':1,'615004262011.jpeg':1,'615039292011.jpeg':1,'614852372011.jpeg':1,'614947502011.jpeg':1,'615008482011.jpeg':1,'614853032011.jpeg':1,'614957232011.jpeg':1,'615009002011.jpeg':1,'614877482011.jpeg':1,'614963182011.jpeg':1,'615015592011.jpeg':1,'614885032011.jpeg':1,'614889832011.jpeg':1,'614968642011.jpeg':1,'615018332011.jpeg':1,'614893722011.jpeg':1,'614974212011.jpeg':1,'615021962011.jpeg':1,'614897582011.jpeg':1,'614981662011.jpeg':1,'615025262011.jpeg':1,'614900782011.jpeg':1,'614991552011.jpeg':1,'615027742011.jpeg':1,'614916172011.jpeg':1,'614993462011.jpeg':1,'615036122011.jpeg':1,'614935492011.jpeg':1,'614993912011.jpeg':1,'615036152011.jpeg':1,'614936092011.jpeg':1,'614997742011.jpeg':1,'615038762011.jpeg':1,'614936182011.jpeg':1,'615005052011.jpeg':1,'615040202011.jpeg':1,'614852392011.jpeg':1,'614956942011.jpeg':1,'615008512011.jpeg':1,'614861812011.jpeg':1,'614958952011.jpeg':1,'615010512011.jpeg':1,'614878722011.jpeg':1,'614967992011.jpeg':1,'615017002011.jpeg':1,'614885172011.jpeg':1,'614890652011.jpeg':1,'614969222011.jpeg':1,'615018362011.jpeg':1,'614897382011.jpeg':1,'614979612011.jpeg':1,'615022632011.jpeg':1,'618665592015.jpeg':1,'618710482016.jpeg':1,'618780812016.jpeg':1,'618667762015.jpeg':1,'618716172016.jpeg':1,'618784732016.jpeg':1,'618675142015.jpeg':1,'618726392016.jpeg':1,'618797412016.jpeg':1,'618676902015.jpeg':1,'618809082016.jpeg':1,'618684122015.jpeg':1,'618735542016.jpeg':1,'618814812016.jpeg':1,'618693832015.jpeg':1,'618817052016.jpeg':1,'618620042015.jpeg':1,'618697782015.jpeg':1,'618750552016.jpeg':1,'621694852019.jpeg':1,'618625902015.jpeg':1,'618698512015.jpeg':1,'618750582016.jpeg':1,'618638692015.jpeg':1,'618700322015.jpeg':1,'618754182016.jpeg':1,'618651422015.jpeg':1,'618704742015.jpeg':1,'618772272016.jpeg':1,'618657932015.jpeg':1,'618707852015.jpeg':1,'618775662016.jpeg':1,'618666192015.jpeg':1,'618716122016.jpeg':1,'618780882016.jpeg':1,'618668152015.jpeg':1,'618716182016.jpeg':1,'618784982016.jpeg':1,'618676082015.jpeg':1,'618727682016.jpeg':1,'618807442016.jpeg':1,'618679432015.jpeg':1,'618728682016.jpeg':1,'618809632016.jpeg':1,'618692022015.jpeg':1,'618735552016.jpeg':1,'618816802016.jpeg':1,'618618942015.jpeg':1,'618693842015.jpeg':1,'618742632016.jpeg':1,'621694812019.jpeg':1,'618622712015.jpeg':1,'618697792015.jpeg':1,'618750562016.jpeg':1,'621694872019.jpeg':1,'618625912015.jpeg':1,'618698552015.jpeg':1,'618751522016.jpeg':1,'618645222015.jpeg':1,'618703992015.jpeg':1,'618762612016.jpeg':1,'618651432015.jpeg':1,'618774322016.jpeg':1,'618665482015.jpeg':1,'618709742016.jpeg':1,'618778392016.jpeg':1,'618666842015.jpeg':1,'618716152016.jpeg':1,'618781202016.jpeg':1,'618675092015.jpeg':1,'618717582016.jpeg':1,'618785062016.jpeg':1,'618676122015.jpeg':1,'618728562016.jpeg':1,'618808952016.jpeg':1,'618681792015.jpeg':1,'618729162016.jpeg':1,'618812702016.jpeg':1,'618693822015.jpeg':1,'618737522016.jpeg':1,'618816982016.jpeg':1,'618618952015.jpeg':1,'618697772015.jpeg':1,'618742972016.jpeg':1,'621694832019.jpeg':1,'618623332015.jpeg':1,'618698192015.jpeg':1,'618750572016.jpeg':1,'618628852015.jpeg':1,'618698682015.jpeg':1,'618753212016.jpeg':1,'618648052015.jpeg':1,'618704312015.jpeg':1,'618767722016.jpeg':1,'618656452015.jpeg':1,'618705352015.jpeg':1,'618775462016.jpeg':1,'621707602019.jpeg':1,'621725412019.jpeg':1,'621764062020.jpeg':1,'621707632019.jpeg':1,'621726302019.jpeg':1,'621767142020.jpeg':1,'621707702019.jpeg':1,'621731572019.jpeg':1,'621770032020.jpeg':1,'621707752019.jpeg':1,'621734182019.jpeg':1,'621793322020.jpeg':1,'621707782019.jpeg':1,'621736132019.jpeg':1,'621797062020.jpeg':1,'621707812019.jpeg':1,'621742402019.jpeg':1,'621797092020.jpeg':1,'621712382019.jpeg':1,'621743272019.jpeg':1,'621797122020.jpeg':1,'621695512019.jpeg':1,'621712622019.jpeg':1,'621746242019.jpeg':1,'621797152020.jpeg':1,'621701592019.jpeg':1,'621714382019.jpeg':1,'621746722019.jpeg':1,'621704632019.jpeg':1,'621714412019.jpeg':1,'621753612019.jpeg':1,'621707582019.jpeg':1,'621721212019.jpeg':1,'621759022020.jpeg':1,'621707612019.jpeg':1,'621725922019.jpeg':1,'621764312020.jpeg':1,'621707642019.jpeg':1,'621726312019.jpeg':1,'621769032020.jpeg':1,'621707732019.jpeg':1,'621733522019.jpeg':1,'621774182020.jpeg':1,'621707762019.jpeg':1,'621734372019.jpeg':1,'621797042020.jpeg':1,'621707792019.jpeg':1,'621736142019.jpeg':1,'621797072020.jpeg':1,'621710042019.jpeg':1,'621742582019.jpeg':1,'621797102020.jpeg':1,'621712582019.jpeg':1,'621743332019.jpeg':1,'621797132020.jpeg':1,'621695672019.jpeg':1,'621712632019.jpeg':1,'621746252019.jpeg':1,'621797162020.jpeg':1,'621701602019.jpeg':1,'621714392019.jpeg':1,'621748112019.jpeg':1,'621707562019.jpeg':1,'621714422019.jpeg':1,'621753712020.jpeg':1,'621707592019.jpeg':1,'621725402019.jpeg':1,'621759372020.jpeg':1,'621707622019.jpeg':1,'621726272019.jpeg':1,'621766662020.jpeg':1,'621707672019.jpeg':1,'621729132019.jpeg':1,'621769172020.jpeg':1,'621707742019.jpeg':1,'621733752019.jpeg':1,'621793112020.jpeg':1,'621707772019.jpeg':1,'621735172019.jpeg':1,'621797052020.jpeg':1,'621707802019.jpeg':1,'621742392019.jpeg':1,'621797082020.jpeg':1,'621712162019.jpeg':1,'621743262019.jpeg':1,'621797112020.jpeg':1,'621695492019.jpeg':1,'621712612019.jpeg':1,'621745302019.jpeg':1,'621797142020.jpeg':1,'621701582019.jpeg':1,'621713412019.jpeg':1,'621746262019.jpeg':1,'621797172020.jpeg':1,'621702422019.jpeg':1,'621714402019.jpeg':1,'621752782019.jpeg':1,'621707572019.jpeg':1,'621716192019.jpeg':1,'621753762020.jpeg':1,'621797992020.jpeg':1,'621822302020.jpeg':1,'621851782020.jpeg':1,'621798032020.jpeg':1,'621827962020.jpeg':1,'621853362020.jpeg':1,'621798062020.jpeg':1,'621827992020.jpeg':1,'621854872020.jpeg':1,'621798102020.jpeg':1,'621830492020.jpeg':1,'621863292020.jpeg':1,'621798132020.jpeg':1,'621833332020.jpeg':1,'621869842020.jpeg':1,'621798162020.jpeg':1,'621837272020.jpeg':1,'621876822020.jpeg':1,'621801122020.jpeg':1,'621841602020.jpeg':1,'621884672020.jpeg':1,'621803472020.jpeg':1,'621841632020.jpeg':1,'621891142020.jpeg':1,'621797882020.jpeg':1,'621808692020.jpeg':1,'621845332020.jpeg':1,'621891412020.jpeg':1,'621797942020.jpeg':1,'621815792020.jpeg':1,'621847342020.jpeg':1,'621895832020.jpeg':1,'621797972020.jpeg':1,'621822282020.jpeg':1,'621850212020.jpeg':1,'621798002020.jpeg':1,'621822312020.jpeg':1,'621851792020.jpeg':1,'621798042020.jpeg':1,'621827972020.jpeg':1,'621854852020.jpeg':1,'621798072020.jpeg':1,'621828002020.jpeg':1,'621854882020.jpeg':1,'621798112020.jpeg':1,'621830522020.jpeg':1,'621866862020.jpeg':1,'621798142020.jpeg':1,'621836382020.jpeg':1,'621869872020.jpeg':1,'621798172020.jpeg':1,'621841492020.jpeg':1,'621877912020.jpeg':1,'621801132020.jpeg':1,'621841612020.jpeg':1,'621885632020.jpeg':1,'621806592020.jpeg':1,'621841812020.jpeg':1,'621891152020.jpeg':1,'621797922020.jpeg':1,'621812582020.jpeg':1,'621845522020.jpeg':1,'621893082020.jpeg':1,'621797952020.jpeg':1,'621816632020.jpeg':1,'621848522020.jpeg':1,'621797982020.jpeg':1,'621822292020.jpeg':1,'621850922020.jpeg':1,'621798012020.jpeg':1,'621823732020.jpeg':1,'621853282020.jpeg':1,'621798052020.jpeg':1,'621827982020.jpeg':1,'621854862020.jpeg':1,'621798082020.jpeg':1,'621829742020.jpeg':1,'621854902020.jpeg':1,'621798122020.jpeg':1,'621831332020.jpeg':1,'621868202020.jpeg':1,'621798152020.jpeg':1,'621837052020.jpeg':1,'621876172020.jpeg':1,'621801112020.jpeg':1,'621841592020.jpeg':1,'621884632020.jpeg':1,'621801472020.jpeg':1,'621841622020.jpeg':1,'621891132020.jpeg':1,'621808182020.jpeg':1,'621842892020.jpeg':1,'621891162020.jpeg':1,'621797932020.jpeg':1,'621815782020.jpeg':1,'621846122020.jpeg':1,'621895552020.jpeg':1,'621797962020.jpeg':1,'621822272020.jpeg':1,'621849912020.jpeg':1,'621901392020.jpeg':1,'621936522020.jpeg':1,'622008442020.jpeg':1,'622077332020.jpeg':1,'621902482020.jpeg':1,'621936552020.jpeg':1,'622014012020.jpeg':1,'622082362020.jpeg':1,'621915452020.jpeg':1,'621942442020.jpeg':1,'622085692020.jpeg':1,'621917402020.jpeg':1,'621947782020.jpeg':1,'622029232020.jpeg':1,'621917432020.jpeg':1,'622029832020.jpeg':1,'621919612020.jpeg':1,'621951442020.jpeg':1,'622039602020.jpeg':1,'621926342020.jpeg':1,'621952622020.jpeg':1,'622067592020.jpeg':1,'621929932020.jpeg':1,'621970212020.jpeg':1,'622069202020.jpeg':1,'621936442020.jpeg':1,'621985542020.jpeg':1,'622069232020.jpeg':1,'621936472020.jpeg':1,'622004932020.jpeg':1,'622069262020.jpeg':1,'621899572020.jpeg':1,'621936502020.jpeg':1,'622007562020.jpeg':1,'622072502020.jpeg':1,'621901662020.jpeg':1,'621936532020.jpeg':1,'622008742020.jpeg':1,'622080592020.jpeg':1,'621909772020.jpeg':1,'621938952020.jpeg':1,'622014132020.jpeg':1,'622084772020.jpeg':1,'621916662020.jpeg':1,'621944132020.jpeg':1,'622027082020.jpeg':1,'622085702020.jpeg':1,'621917412020.jpeg':1,'621947972020.jpeg':1,'622029252020.jpeg':1,'621917442020.jpeg':1,'622034832020.jpeg':1,'621923782020.jpeg':1,'621951952020.jpeg':1,'622041342020.jpeg':1,'621928332020.jpeg':1,'621955482020.jpeg':1,'622068292020.jpeg':1,'621932372020.jpeg':1,'621980212020.jpeg':1,'622069212020.jpeg':1,'621936452020.jpeg':1,'621996762020.jpeg':1,'622069242020.jpeg':1,'621896052020.jpeg':1,'621936482020.jpeg':1,'622005892020.jpeg':1,'622069272020.jpeg':1,'621899582020.jpeg':1,'621936512020.jpeg':1,'622008432020.jpeg':1,'622072782020.jpeg':1,'621901962020.jpeg':1,'621936542020.jpeg':1,'622008752020.jpeg':1,'622081332020.jpeg':1,'621942432020.jpeg':1,'622017892020.jpeg':1,'622084862020.jpeg':1,'621917392020.jpeg':1,'621945302020.jpeg':1,'622028632020.jpeg':1,'622085712020.jpeg':1,'621917422020.jpeg':1,'621948882020.jpeg':1,'622029822020.jpeg':1,'621917452020.jpeg':1,'621951102020.jpeg':1,'622038832020.jpeg':1,'621924852020.jpeg':1,'621952012020.jpeg':1,'622065302020.jpeg':1,'621929902020.jpeg':1,'621966382020.jpeg':1,'622069192020.jpeg':1,'621934632020.jpeg':1,'621980842020.jpeg':1,'622069222020.jpeg':1,'621936462020.jpeg':1,'622001632020.jpeg':1,'622069252020.jpeg':1,'621899412020.jpeg':1,'621936492020.jpeg':1,'622006012020.jpeg':1,'622072492020.jpeg':1,\n",
    "'100000101967.jpeg':1,'100000321966.jpeg':1,'100000581968.jpeg':1,'100000111966.jpeg':1,'100000351975.jpeg':1,'100000601967.jpeg':1,'100000131964.jpeg':1,'100000371964.jpeg':1,'100000611970.jpeg':1,'100000171972.jpeg':1,'100000401964.jpeg':1,'100000641967.jpeg':1,'100000011971.jpeg':1,'100000191968.jpeg':1,'100000421964.jpeg':1,'100000681967.jpeg':1,'100000021968.jpeg':1,'100000201975.jpeg':1,'100000431971.jpeg':1,'100000711967.jpeg':1,'100000021977.jpeg':1,'100000231970.jpeg':1,'100000501973.jpeg':1,'100000041977.jpeg':1,'100000261966.jpeg':1,'100000511973.jpeg':1,'100000061977.jpeg':1,'100000271963.jpeg':1,'100000531971.jpeg':1,'100000071977.jpeg':1,'100000271968.jpeg':1,'100000561969.jpeg':1,'100000091970.jpeg':1,'100000311969.jpeg':1,'100000571968.jpeg':1,'100000101968.jpeg':1,'100000341968.jpeg':1,'100000591967.jpeg':1,'100000111972.jpeg':1,'100000361963.jpeg':1,'100000601968.jpeg':1,'100000131968.jpeg':1,'100000381964.jpeg':1,'100000621968.jpeg':1,'100000411964.jpeg':1,'100000641968.jpeg':1,'100000011973.jpeg':1,'100000201968.jpeg':1,'100000421968.jpeg':1,'100000681974.jpeg':1,'100000021969.jpeg':1,'100000211970.jpeg':1,'100000481966.jpeg':1,'100000031968.jpeg':1,'100000251966.jpeg':1,'100000511964.jpeg':1,'100000051977.jpeg':1,'100000261968.jpeg':1,'100000531968.jpeg':1,'100000071964.jpeg':1,'100000271966.jpeg':1,'100000551971.jpeg':1,'100000081969.jpeg':1,'100000291973.jpeg':1,'100000571965.jpeg':1,'100000101964.jpeg':1,'100000311975.jpeg':1,'100000581965.jpeg':1,'100000101978.jpeg':1,'100000351965.jpeg':1,'100000591969.jpeg':1,'100000121967.jpeg':1,'100000361967.jpeg':1,'100000601969.jpeg':1,'100000141968.jpeg':1,'100000381965.jpeg':1,'100000631970.jpeg':1,'100000181969.jpeg':1,'100000411969.jpeg':1,'100000681964.jpeg':1,'100000021966.jpeg':1,'100000201969.jpeg':1,'100000421971.jpeg':1,'100000701963.jpeg':1,'100000021971.jpeg':1,'100000221975.jpeg':1,'100000501966.jpeg':1,'100000031971.jpeg':1,'100000251970.jpeg':1,'100000511968.jpeg':1,'100000061964.jpeg':1,'100000261970.jpeg':1,'100000531969.jpeg':1,'100000071972.jpeg':1,'100000271967.jpeg':1,'100000561967.jpeg':1,'100000081977.jpeg':1,'100000301973.jpeg':1,'100000571966.jpeg':1,'100000871975.jpeg':1,\n",
    "'100001041972.jpeg':1,'100001191963.jpeg':1,'100000881975.jpeg':1,'100001051973.jpeg':1,'100001201970.jpeg':1,'100000891969.jpeg':1,'100001061972.jpeg':1,'100001211964.jpeg':1,'100000921967.jpeg':1,'100001071972.jpeg':1,'100001221974.jpeg':1,'100000941966.jpeg':1,'100001091972.jpeg':1,'100001231976.jpeg':1,'100000961969.jpeg':1,'100001101972.jpeg':1,'100001241991.jpeg':1,'100000761970.jpeg':1,'100000981982.jpeg':1,'100001111972.jpeg':1,'100001251976.jpeg':1,'100000791970.jpeg':1,'100001001963.jpeg':1,'100001121967.jpeg':1,'100000811965.jpeg':1,'100001011965.jpeg':1,'100001131967.jpeg':1,'100000831965.jpeg':1,'100001021964.jpeg':1,'100001151972.jpeg':1,'100000851991.jpeg':1,'100001031972.jpeg':1,'100001171963.jpeg':1,'100000881966.jpeg':1,'100001051968.jpeg':1,'100001191968.jpeg':1,'100000891966.jpeg':1,'100001061966.jpeg':1,'100001201974.jpeg':1,'100000911967.jpeg':1,'100001071965.jpeg':1,'100001211968.jpeg':1,'100000921976.jpeg':1,'100001081968.jpeg':1,'100001231974.jpeg':1,'100000951976.jpeg':1,'100001101964.jpeg':1,'100001241974.jpeg':1,'100000751966.jpeg':1,'100000971971.jpeg':1,'100001111968.jpeg':1,'100001251967.jpeg':1,'100000771970.jpeg':1,'100000991967.jpeg':1,'100001111974.jpeg':1,'100001261967.jpeg':1,'100000791971.jpeg':1,'100001001972.jpeg':1,'100001121972.jpeg':1,'100000821970.jpeg':1,'100001011972.jpeg':1,'100001141972.jpeg':1,'100000831971.jpeg':1,'100001021969.jpeg':1,'100001161972.jpeg':1,'100000861991.jpeg':1,'100001041968.jpeg':1,'100001181974.jpeg':1,'100000881969.jpeg':1,'100001051972.jpeg':1,'100001191974.jpeg':1,'100000891967.jpeg':1,'100001061968.jpeg':1,'100000911969.jpeg':1,'100001071966.jpeg':1,'100001211974.jpeg':1,'100000931967.jpeg':1,'100001081972.jpeg':1,'100001231975.jpeg':1,'100000961968.jpeg':1,'100001101965.jpeg':1,'100001241976.jpeg':1,'100000761963.jpeg':1,'100000981967.jpeg':1,'100001111969.jpeg':1,'100001251974.jpeg':1,'100000781982.jpeg':1,'100000991991.jpeg':1,'100001121966.jpeg':1,'100000801963.jpeg':1,'100001001991.jpeg':1,'100001131966.jpeg':1,'100000821982.jpeg':1,'100001011983.jpeg':1,'100001151968.jpeg':1,'100000851975.jpeg':1,'100001021972.jpeg':1,'100001161976.jpeg':1,'100001301969.jpeg':1,'100002611967.jpeg':1,\n",
    "'100002791965.jpeg':1,'100001311976.jpeg':1,'100002631966.jpeg':1,'100002801969.jpeg':1,'100001331967.jpeg':1,'100002661969.jpeg':1,'100002811970.jpeg':1,'100001341965.jpeg':1,'100002671974.jpeg':1,'100002851966.jpeg':1,'100001351970.jpeg':1,'100002681974.jpeg':1,'100002901969.jpeg':1,'100001361976.jpeg':1,'100002721964.jpeg':1,'100002911966.jpeg':1,'100001381974.jpeg':1,'100002731967.jpeg':1,'100002921966.jpeg':1,'100001261976.jpeg':1,'100002731974.jpeg':1,'100002941964.jpeg':1,'100001271974.jpeg':1,'100002561967.jpeg':1,'100002741969.jpeg':1,'100001281976.jpeg':1,'100002571967.jpeg':1,'100002751970.jpeg':1,'100001291974.jpeg':1,'100002581974.jpeg':1,'100002781968.jpeg':1,'100001301976.jpeg':1,'100002611970.jpeg':1,'100002791968.jpeg':1,'100001321968.jpeg':1,'100002641966.jpeg':1,'100002801973.jpeg':1,'100001331976.jpeg':1,'100002661991.jpeg':1,'100002821965.jpeg':1,'100001341967.jpeg':1,'100002671991.jpeg':1,'100002871964.jpeg':1,'100001351976.jpeg':1,'100002711974.jpeg':1,'100002901970.jpeg':1,'100002721970.jpeg':1,'100002911973.jpeg':1,'100001381976.jpeg':1,'100002731970.jpeg':1,'100002921974.jpeg':1,'100001261983.jpeg':1,'100002531966.jpeg':1,'100002741963.jpeg':1,'100002941969.jpeg':1,'100001281968.jpeg':1,'100002561969.jpeg':1,'100002751963.jpeg':1,'100001291963.jpeg':1,'100002581966.jpeg':1,'100002771968.jpeg':1,'100001291976.jpeg':1,'100002601969.jpeg':1,'100002781984.jpeg':1,'100002621968.jpeg':1,'100002791984.jpeg':1,'100001321976.jpeg':1,'100002651963.jpeg':1,'100002811968.jpeg':1,'100001331983.jpeg':1,'100002671966.jpeg':1,'100002841970.jpeg':1,'100001341976.jpeg':1,'100002681972.jpeg':1,'100002891974.jpeg':1,'100001361967.jpeg':1,'100002721963.jpeg':1,'100002901974.jpeg':1,'100001371976.jpeg':1,'100002721974.jpeg':1,'100002921964.jpeg':1,'100001261974.jpeg':1,'100001391966.jpeg':1,'100002731971.jpeg':1,'100002931964.jpeg':1,'100001261991.jpeg':1,'100002551991.jpeg':1,'100002741967.jpeg':1,'100001281971.jpeg':1,'100002561991.jpeg':1,'100002751967.jpeg':1,'100001291972.jpeg':1,'100002581969.jpeg':1,'100002771984.jpeg':1,'100003031969.jpeg':1,'100003241967.jpeg':1,'100003521966.jpeg':1,'100003071976.jpeg':1,'100003271968.jpeg':1,'100003531968.jpeg':1,\n",
    "'100003091974.jpeg':1,'100003281973.jpeg':1,'100003561963.jpeg':1,'100003101967.jpeg':1,'100003311969.jpeg':1,'100003111967.jpeg':1,'100003341971.jpeg':1,'100003591985.jpeg':1,'100003121969.jpeg':1,'100003361975.jpeg':1,'100003631966.jpeg':1,'100003141973.jpeg':1,'100003391969.jpeg':1,'100006481975.jpeg':1,'100003151976.jpeg':1,'100003451963.jpeg':1,'100006491969.jpeg':1,'100002951984.jpeg':1,'100003171976.jpeg':1,'100003461966.jpeg':1,'100006491975.jpeg':1,'100002981969.jpeg':1,'100003201976.jpeg':1,'100003481966.jpeg':1,'100003011963.jpeg':1,'100003221969.jpeg':1,'100003491972.jpeg':1,'100003071965.jpeg':1,'100003251965.jpeg':1,'100003521968.jpeg':1,'100003081974.jpeg':1,'100003271969.jpeg':1,'100003541968.jpeg':1,'100003091976.jpeg':1,'100003301967.jpeg':1,'100003561965.jpeg':1,'100003101974.jpeg':1,'100003331969.jpeg':1,'100003591968.jpeg':1,'100003111976.jpeg':1,'100003351985.jpeg':1,'100003601971.jpeg':1,'100003121976.jpeg':1,'100003371965.jpeg':1,'100003641971.jpeg':1,'100003141976.jpeg':1,'100003441965.jpeg':1,'100006491964.jpeg':1,'100003161973.jpeg':1,'100003451965.jpeg':1,'100006491971.jpeg':1,'100002961969.jpeg':1,'100003181976.jpeg':1,'100003471966.jpeg':1,'100006501966.jpeg':1,'100002991963.jpeg':1,'100003481972.jpeg':1,'100003031965.jpeg':1,'100003241965.jpeg':1,'100003511968.jpeg':1,'100003071966.jpeg':1,'100003251967.jpeg':1,'100003521972.jpeg':1,'100003081976.jpeg':1,'100003281969.jpeg':1,'100003551968.jpeg':1,'100003091984.jpeg':1,'100003311967.jpeg':1,'100003561966.jpeg':1,'100003101976.jpeg':1,'100003331974.jpeg':1,'100003591976.jpeg':1,'100003111984.jpeg':1,'100003361967.jpeg':1,'100003631965.jpeg':1,'100006561975.jpeg':1,'100012091973.jpeg':1,'100012241967.jpeg':1,'100007081972.jpeg':1,'100012101975.jpeg':1,'100012261966.jpeg':1,'100007091969.jpeg':1,'100012111973.jpeg':1,'100012271969.jpeg':1,'100011971970.jpeg':1,'100012121972.jpeg':1,'100012271973.jpeg':1,'100011981970.jpeg':1,'100012141968.jpeg':1,'100012151969.jpeg':1,'100012011970.jpeg':1,'100012171969.jpeg':1,'100012321969.jpeg':1,'100012021970.jpeg':1,'100012181973.jpeg':1,'100012351967.jpeg':1,'100007001976.jpeg':1,'100012041970.jpeg':1,'100012201969.jpeg':1,'100007021966.jpeg':1,\n",
    "'100012051971.jpeg':1,'100012211969.jpeg':1,'100007031974.jpeg':1,'100012071969.jpeg':1,'100012221965.jpeg':1,'100007061974.jpeg':1,'100012091966.jpeg':1,'100012231965.jpeg':1,'100007071974.jpeg':1,'100012101969.jpeg':1,'100012241971.jpeg':1,'100007081973.jpeg':1,'100012111969.jpeg':1,'100012261967.jpeg':1,'100007091974.jpeg':1,'100012111975.jpeg':1,'100012271971.jpeg':1,'100011971972.jpeg':1,'100012131969.jpeg':1,'100012281967.jpeg':1,'100011991966.jpeg':1,'100012141969.jpeg':1,'100012151970.jpeg':1,'100012301972.jpeg':1,'100012021964.jpeg':1,'100012181967.jpeg':1,'100012341969.jpeg':1,'100007001970.jpeg':1,'100012021975.jpeg':1,'100012191969.jpeg':1,'100012361967.jpeg':1,'100007011970.jpeg':1,'100012041974.jpeg':1,'100012201971.jpeg':1,'100012051975.jpeg':1,'100012211971.jpeg':1,'100007041974.jpeg':1,'100012081969.jpeg':1,'100012221969.jpeg':1,'100007071971.jpeg':1,'100012091969.jpeg':1,'100012231968.jpeg':1,'100007081971.jpeg':1,'100012101970.jpeg':1,'100012251966.jpeg':1,'100007091967.jpeg':1,'100012111970.jpeg':1,'100012271967.jpeg':1,'100011971969.jpeg':1,'100012121969.jpeg':1,'100012271972.jpeg':1,'100011981969.jpeg':1,'100012141966.jpeg':1,'100012011965.jpeg':1,'100012151968.jpeg':1,'100012161969.jpeg':1,'100012311972.jpeg':1,'100012021967.jpeg':1,'100021601972.jpeg':1,'100021801972.jpeg':1,'100021901970.jpeg':1,'100012371963.jpeg':1,'100021621971.jpeg':1,'100021811975.jpeg':1,'100021911964.jpeg':1,'100012381964.jpeg':1,'100021641973.jpeg':1,'100021831971.jpeg':1,'100021911974.jpeg':1,'100012401969.jpeg':1,'100021651970.jpeg':1,'100021841966.jpeg':1,'100012411971.jpeg':1,'100021671971.jpeg':1,'100021851976.jpeg':1,'100012421976.jpeg':1,'100021701965.jpeg':1,'100021861976.jpeg':1,'100012461967.jpeg':1,'100021711966.jpeg':1,'100021871976.jpeg':1,'100021551965.jpeg':1,'100021731975.jpeg':1,'100021881972.jpeg':1,'100021561973.jpeg':1,'100021751967.jpeg':1,'100021891966.jpeg':1,'100021761967.jpeg':1,'100021891972.jpeg':1,'100021591970.jpeg':1,'100021771971.jpeg':1,'100021901964.jpeg':1,'100021611965.jpeg':1,'100021801976.jpeg':1,'100021901972.jpeg':1,'100012371966.jpeg':1,'100021631964.jpeg':1,'100021821966.jpeg':1,'100021911965.jpeg':1,'100012391964.jpeg':1,\n",
    "'100021651966.jpeg':1,'100021831974.jpeg':1,'100012401971.jpeg':1,'100021651975.jpeg':1,'100021841976.jpeg':1,'100012411976.jpeg':1,'100021691965.jpeg':1,'100021861967.jpeg':1,'100012441964.jpeg':1,'100021701967.jpeg':1,'100021871967.jpeg':1,'100021541964.jpeg':1,'100021711971.jpeg':1,'100021881970.jpeg':1,'100021551973.jpeg':1,'100021741972.jpeg':1,'100021881974.jpeg':1,'100021571970.jpeg':1,'100021751969.jpeg':1,'100021891969.jpeg':1,'100021581970.jpeg':1,'100021771966.jpeg':1,'100021891973.jpeg':1,'100021601970.jpeg':1,'100021791967.jpeg':1,'100021901968.jpeg':1,'100021611970.jpeg':1,'100021811965.jpeg':1,'100021901974.jpeg':1,'100012371967.jpeg':1,'100021641966.jpeg':1,'100021831966.jpeg':1,'100021911970.jpeg':1,'100012391971.jpeg':1,'100021651967.jpeg':1,'100012411965.jpeg':1,'100021661974.jpeg':1,'100021851964.jpeg':1,'100012421972.jpeg':1,'100021691971.jpeg':1,'100021861969.jpeg':1,'100012451964.jpeg':1,'100021701971.jpeg':1,'100021871971.jpeg':1,'100021551964.jpeg':1,'100021721971.jpeg':1,'100021881971.jpeg':1,'100021561964.jpeg':1,'100021741975.jpeg':1,'100021881976.jpeg':1,'100021581965.jpeg':1,'100021751972.jpeg':1,'100021891970.jpeg':1,'100021591965.jpeg':1,'100021771970.jpeg':1,'100021891974.jpeg':1,'100030151974.jpeg':1,'100030331966.jpeg':1,'100030431970.jpeg':1,'100030161970.jpeg':1,'100030341968.jpeg':1,'100030461965.jpeg':1,'100030191975.jpeg':1,'100030351968.jpeg':1,'100030461969.jpeg':1,'100021921971.jpeg':1,'100030221969.jpeg':1,'100030361969.jpeg':1,'100030471968.jpeg':1,'100021931976.jpeg':1,'100030231971.jpeg':1,'100030381965.jpeg':1,'100021941973.jpeg':1,'100030241969.jpeg':1,'100030381975.jpeg':1,'100030051976.jpeg':1,'100030261965.jpeg':1,'100030391969.jpeg':1,'100030071976.jpeg':1,'100030261971.jpeg':1,'100030401965.jpeg':1,'100030091967.jpeg':1,'100030281969.jpeg':1,'100030401973.jpeg':1,'100030101974.jpeg':1,'100030301973.jpeg':1,'100030411973.jpeg':1,'100030141970.jpeg':1,'100030311969.jpeg':1,'100030431965.jpeg':1,'100030151975.jpeg':1,'100030331969.jpeg':1,'100030441966.jpeg':1,'100030171970.jpeg':1,'100030341969.jpeg':1,'100030461966.jpeg':1,'100021921969.jpeg':1,'100030201975.jpeg':1,'100030351969.jpeg':1,'100030471965.jpeg':1,\n",
    "'100021931970.jpeg':1,'100030221991.jpeg':1,'100030371968.jpeg':1,'100030481966.jpeg':1,'100021941964.jpeg':1,'100030231991.jpeg':1,'100030381968.jpeg':1,'100030051969.jpeg':1,'100030251969.jpeg':1,'100030391965.jpeg':1,'100030061976.jpeg':1,'100030261966.jpeg':1,'100030391973.jpeg':1,'100030081976.jpeg':1,'100030271966.jpeg':1,'100030401966.jpeg':1,'100030091969.jpeg':1,'100030291969.jpeg':1,'100030401975.jpeg':1,'100030121974.jpeg':1,'100030311966.jpeg':1,'100030411976.jpeg':1,'100030151970.jpeg':1,'100030321969.jpeg':1,'100030431966.jpeg':1,'100030161966.jpeg':1,'100030331976.jpeg':1,'100030451966.jpeg':1,'100030181966.jpeg':1,'100030351965.jpeg':1,'100030461968.jpeg':1,'100021921970.jpeg':1,'100030221967.jpeg':1,'100030361968.jpeg':1,'100030471966.jpeg':1,'100021931973.jpeg':1,'100030231969.jpeg':1,'100030371969.jpeg':1,'100021941970.jpeg':1,'100030241967.jpeg':1,'100030381969.jpeg':1,'100030051971.jpeg':1,'100030251971.jpeg':1,'100030391968.jpeg':1,'100030071965.jpeg':1,'100030261969.jpeg':1,'100030391975.jpeg':1,'100030091964.jpeg':1,'100030271969.jpeg':1,'100030401969.jpeg':1,'100030101969.jpeg':1,'100030301969.jpeg':1,'100030411969.jpeg':1,'100030131970.jpeg':1,'100030311967.jpeg':1,'100030421976.jpeg':1,'100030571966.jpeg':1,'100030781967.jpeg':1,'100035171971.jpeg':1,'100030601966.jpeg':1,'100030811966.jpeg':1,'100035191966.jpeg':1,'100030621966.jpeg':1,'100034991973.jpeg':1,'100035201967.jpeg':1,'100030641971.jpeg':1,'100035021964.jpeg':1,'100035211975.jpeg':1,'100030491973.jpeg':1,'100030661966.jpeg':1,'100035061975.jpeg':1,'100035251968.jpeg':1,'100030501968.jpeg':1,'100030681966.jpeg':1,'100035071973.jpeg':1,'100030511971.jpeg':1,'100030701975.jpeg':1,'100035091965.jpeg':1,'100030521970.jpeg':1,'100030711975.jpeg':1,'100035101968.jpeg':1,'100030531970.jpeg':1,'100030731966.jpeg':1,'100035111972.jpeg':1,'100030551966.jpeg':1,'100030751966.jpeg':1,'100035131966.jpeg':1,'100030561966.jpeg':1,'100030771966.jpeg':1,'100035151967.jpeg':1,'100030581966.jpeg':1,'100030791966.jpeg':1,'100035181972.jpeg':1,'100030601971.jpeg':1,'100030821966.jpeg':1,'100035191969.jpeg':1,'100030631966.jpeg':1,'100035001973.jpeg':1,'100035201975.jpeg':1,'100030651966.jpeg':1,\n",
    "'100035051965.jpeg':1,'100035231966.jpeg':1,'100030501966.jpeg':1,'100030671966.jpeg':1,'100035071967.jpeg':1,'100035251970.jpeg':1,'100030511966.jpeg':1,'100030691966.jpeg':1,'100035081964.jpeg':1,'100030521966.jpeg':1,'100030711966.jpeg':1,'100035091973.jpeg':1,'100030531966.jpeg':1,'100030721966.jpeg':1,'100035101971.jpeg':1,'100030541966.jpeg':1,'100030731973.jpeg':1,'100035121966.jpeg':1,'100030551969.jpeg':1,'100030751970.jpeg':1,'100035141974.jpeg':1,'100030561969.jpeg':1,'100030781966.jpeg':1,'100035151974.jpeg':1,'100030591966.jpeg':1,'100030801966.jpeg':1,'100030611966.jpeg':1,'100034981971.jpeg':1,'100030641966.jpeg':1,'100035011973.jpeg':1,'100035211971.jpeg':1,'100030491966.jpeg':1,'100030661965.jpeg':1,'100035061971.jpeg':1,'100035241968.jpeg':1,'100030501967.jpeg':1,'100035071971.jpeg':1,'100035271974.jpeg':1,'100030511968.jpeg':1,'100030701966.jpeg':1,'100035081973.jpeg':1,'100030521968.jpeg':1,'100030711971.jpeg':1,'100035091976.jpeg':1,'100030531968.jpeg':1,'100030731964.jpeg':1,'100035111968.jpeg':1,'100030541967.jpeg':1,'100030741966.jpeg':1,'100035121972.jpeg':1,'100030551975.jpeg':1,'100030761966.jpeg':1,'100035151966.jpeg':1,'100035391975.jpeg':1,'100042621972.jpeg':1,'100042841968.jpeg':1,'100035411975.jpeg':1,'100042661968.jpeg':1,'100042851971.jpeg':1,'100035441971.jpeg':1,'100042681968.jpeg':1,'100042861976.jpeg':1,'100035461968.jpeg':1,'100042701967.jpeg':1,'100042881968.jpeg':1,'100035471967.jpeg':1,'100042711970.jpeg':1,'100042901976.jpeg':1,'100035281973.jpeg':1,'100035481974.jpeg':1,'100042741969.jpeg':1,'100042921966.jpeg':1,'100035301964.jpeg':1,'100035501965.jpeg':1,'100042771967.jpeg':1,'100042921975.jpeg':1,'100035311969.jpeg':1,'100042551971.jpeg':1,'100042781969.jpeg':1,'100035331964.jpeg':1,'100042571973.jpeg':1,'100042801968.jpeg':1,'100035351964.jpeg':1,'100042591974.jpeg':1,'100042821966.jpeg':1,'100035381966.jpeg':1,'100042611971.jpeg':1,'100042831968.jpeg':1,'100035401975.jpeg':1,'100042641974.jpeg':1,'100042841969.jpeg':1,'100035431971.jpeg':1,'100042661970.jpeg':1,'100042851976.jpeg':1,'100035451966.jpeg':1,'100042681970.jpeg':1,'100042871968.jpeg':1,'100035461976.jpeg':1,'100042701970.jpeg':1,'100042881976.jpeg':1,'100035471976.jpeg':1,'100042721970.jpeg':1,'100042911966.jpeg':1,'100035291964.jpeg':1,'100035481976.jpeg':1,'100042751969.jpeg':1,'100042921969.jpeg':1,'100035301976.jpeg':1,'100035501971.jpeg':1,'100042771969.jpeg':1,'100035321964.jpeg':1,'100042561971.jpeg':1,'100042781972.jpeg':1,'100035331975.jpeg':1,'100042581971.jpeg':1,'100042801969.jpeg':1,'100035361964.jpeg':1,'100042601968.jpeg':1,'100042821967.jpeg':1,'100035391972.jpeg':1,'100042621966.jpeg':1,'100042841966.jpeg':1,'100035411973.jpeg':1,'100042651970.jpeg':1,'100042851968.jpeg':1,'100035441969.jpeg':1,'100042671970.jpeg':1,'100042861968.jpeg':1,'100035451976.jpeg':1,'100042691974.jpeg':1,'100042871976.jpeg':1,'100035471966.jpeg':1,'100042711968.jpeg':1,'100042891976.jpeg':1,'100035481968.jpeg':1,'100042731969.jpeg':1,'100042911976.jpeg':1,'100035291973.jpeg':1,'100035501964.jpeg':1,'100042761969.jpeg':1,'100035311964.jpeg':1,'100035501976.jpeg':1,'100042781968.jpeg':1,'100035321970.jpeg':1,'100042571971.jpeg':1,'100042791970.jpeg':1,'100035341964.jpeg':1,'100042811968.jpeg':1,'100035381964.jpeg':1,'100042601971.jpeg':1,'100042821968.jpeg':1,'100042961976.jpeg':1,'117516582014.jpeg':1,'117519132014.jpeg':1,'100042981964.jpeg':1,'117516642014.jpeg':1,'117519162014.jpeg':1,'100042991976.jpeg':1,'117517122014.jpeg':1,'117519202014.jpeg':1,'100043001971.jpeg':1,'117517522014.jpeg':1,'117519232014.jpeg':1,'100043011971.jpeg':1,'117518712014.jpeg':1,'117522662014.jpeg':1,'100043031976.jpeg':1,'117518932014.jpeg':1,'117522792014.jpeg':1,'100043051967.jpeg':1,'117518972014.jpeg':1,'117528732014.jpeg':1,'100042931972.jpeg':1,'103556701996.jpeg':1,'117519012014.jpeg':1,'117531132014.jpeg':1,'100042941969.jpeg':1,'117516372014.jpeg':1,'117519052014.jpeg':1,'100042951970.jpeg':1,'117516462014.jpeg':1,'117519082014.jpeg':1,'100042961970.jpeg':1,'117516562014.jpeg':1,'117519112014.jpeg':1,'100042971974.jpeg':1,'117516592014.jpeg':1,'117519142014.jpeg':1,'100042981976.jpeg':1,'117516662014.jpeg':1,'117519182014.jpeg':1,'100043001966.jpeg':1,'117517142014.jpeg':1,'117519212014.jpeg':1,'100043001972.jpeg':1,'117517542014.jpeg':1,'117519242014.jpeg':1,'100043011976.jpeg':1,'117518902014.jpeg':1,'117522712014.jpeg':1,'100043041976.jpeg':1,'117518942014.jpeg':1,'117522852014.jpeg':1,'100042921976.jpeg':1,'103412911979.jpeg':1,'117518992014.jpeg':1,'117529512014.jpeg':1,'100042931975.jpeg':1,'109340781990.jpeg':1,'117519022014.jpeg':1,'117531142014.jpeg':1,'100042941976.jpeg':1,'117516402014.jpeg':1,'117519062014.jpeg':1,'100042951976.jpeg':1,'117516542014.jpeg':1,'117519092014.jpeg':1,'100042961974.jpeg':1,'117516572014.jpeg':1,'117519122014.jpeg':1,'100042971976.jpeg':1,'117516622014.jpeg':1,'117519152014.jpeg':1,'100042991971.jpeg':1,'117516682014.jpeg':1,'117519192014.jpeg':1,'100043001969.jpeg':1,'117517502014.jpeg':1,'117519222014.jpeg':1,'100043001976.jpeg':1,'117517562014.jpeg':1,'117522622014.jpeg':1,'100043021976.jpeg':1,'117518912014.jpeg':1,'117522752014.jpeg':1,'100043051966.jpeg':1,'117518962014.jpeg':1,'117522892014.jpeg':1,'103456141996.jpeg':1,'117519002014.jpeg':1,'117529782014.jpeg':1,'100042931976.jpeg':1,'117516322014.jpeg':1,'117519032014.jpeg':1,'100042951967.jpeg':1,'117516432014.jpeg':1,'117519072014.jpeg':1,'117516552014.jpeg':1,'117519102014.jpeg':1,'117541032014.jpeg':1,'117565832014.jpeg':1,'117595962014.jpeg':1,'117544892014.jpeg':1,'117566692014.jpeg':1,'117598292014.jpeg':1,'117550902014.jpeg':1,'117567752014.jpeg':1,'117601552014.jpeg':1,'117552142014.jpeg':1,'117572682014.jpeg':1,'117603912014.jpeg':1,'117555182014.jpeg':1,'117594882014.jpeg':1,'117604572014.jpeg':1,'117559122014.jpeg':1,'117594952014.jpeg':1,'117608092014.jpeg':1,'117560712014.jpeg':1,'117595062014.jpeg':1,'117609142014.jpeg':1,'117560982014.jpeg':1,'117595792014.jpeg':1,'117609592014.jpeg':1,'117531892014.jpeg':1,'117563142014.jpeg':1,'117595872014.jpeg':1,'117609622014.jpeg':1,'117533682014.jpeg':1,'117563262014.jpeg':1,'117595912014.jpeg':1,'117536182014.jpeg':1,'117565512014.jpeg':1,'117595942014.jpeg':1,'117541042014.jpeg':1,'117565992014.jpeg':1,'117598182014.jpeg':1,'117548112014.jpeg':1,'117566932014.jpeg':1,'117599302014.jpeg':1,'117551242014.jpeg':1,'117569792014.jpeg':1,'117601592014.jpeg':1,'117552382014.jpeg':1,'117572702014.jpeg':1,'117604322014.jpeg':1,'117556222014.jpeg':1,'117594892014.jpeg':1,'117604582014.jpeg':1,'117559172014.jpeg':1,'117594992014.jpeg':1,'117608582014.jpeg':1,'117560822014.jpeg':1,'117595762014.jpeg':1,'117609572014.jpeg':1,'117562532014.jpeg':1,'117595802014.jpeg':1,'117609602014.jpeg':1,'117533412014.jpeg':1,'117563232014.jpeg':1,'117595882014.jpeg':1,'117609632014.jpeg':1,'117533702014.jpeg':1,'117563472014.jpeg':1,'117595922014.jpeg':1,'117537982014.jpeg':1,'117565732014.jpeg':1,'117595952014.jpeg':1,'117543662014.jpeg':1,'117566052014.jpeg':1,'117598272014.jpeg':1,'117548252014.jpeg':1,'117567742014.jpeg':1,'117601332014.jpeg':1,'117552132014.jpeg':1,'117572422014.jpeg':1,'117602512014.jpeg':1,'117552392014.jpeg':1,'117573922014.jpeg':1,'117604332014.jpeg':1,'117558812014.jpeg':1,'117594912014.jpeg':1,'117605152014.jpeg':1,'117560292014.jpeg':1,'117595032014.jpeg':1,'117609132014.jpeg':1,'117560892014.jpeg':1,'117595772014.jpeg':1,'117609582014.jpeg':1,'117531872014.jpeg':1,'117562922014.jpeg':1,'117595832014.jpeg':1,'117609612014.jpeg':1,'117533652014.jpeg':1,'117563252014.jpeg':1,'117595892014.jpeg':1,'117609642014.jpeg':1,'117535342014.jpeg':1,'117565502014.jpeg':1,'117595932014.jpeg':1,'117611862014.jpeg':1,'117631902014.jpeg':1,'117645302014.jpeg':1,'117613462014.jpeg':1,'117633922014.jpeg':1,'117645632014.jpeg':1,'117615582014.jpeg':1,'117633992014.jpeg':1,'117646002014.jpeg':1,'117616962014.jpeg':1,'117635692014.jpeg':1,'117650592014.jpeg':1,'117623112014.jpeg':1,'117635822014.jpeg':1,'117655002014.jpeg':1,'117623142014.jpeg':1,'117636732014.jpeg':1,'613023782008.jpeg':1,'117624992014.jpeg':1,'117638012014.jpeg':1,'613023812008.jpeg':1,'117625902014.jpeg':1,'117640972014.jpeg':1,'613025442008.jpeg':1,'117629072014.jpeg':1,'117641062014.jpeg':1,'613036722008.jpeg':1,'117609952014.jpeg':1,'117630812014.jpeg':1,'117641092014.jpeg':1,'613045972008.jpeg':1,'117611822014.jpeg':1,'117630842014.jpeg':1,'117643742014.jpeg':1,'613051142008.jpeg':1,'117612242014.jpeg':1,'117645372014.jpeg':1,'117614372014.jpeg':1,'117633952014.jpeg':1,'117645772014.jpeg':1,'117615592014.jpeg':1,'117634002014.jpeg':1,'117646012014.jpeg':1,'117619152014.jpeg':1,'117635782014.jpeg':1,'117651472014.jpeg':1,'117623122014.jpeg':1,'117635842014.jpeg':1,'613023762008.jpeg':1,'117623552014.jpeg':1,'117636862014.jpeg':1,'613023792008.jpeg':1,'117625842014.jpeg':1,'117640212014.jpeg':1,'613023822008.jpeg':1,'117627742014.jpeg':1,'117640982014.jpeg':1,'613025452008.jpeg':1,'117629242014.jpeg':1,'117641072014.jpeg':1,'613038902008.jpeg':1,'117610822014.jpeg':1,'117630822014.jpeg':1,'117642532014.jpeg':1,'613046832008.jpeg':1,'117611842014.jpeg':1,'117630852014.jpeg':1,'117644812014.jpeg':1,'117613322014.jpeg':1,'117633902014.jpeg':1,'117645482014.jpeg':1,'117614632014.jpeg':1,'117633982014.jpeg':1,'117645992014.jpeg':1,'117615612014.jpeg':1,'117634012014.jpeg':1,'117648342014.jpeg':1,'117621752014.jpeg':1,'117635812014.jpeg':1,'117652822014.jpeg':1,'117623132014.jpeg':1,'117635862014.jpeg':1,'613023772008.jpeg':1,'117623802014.jpeg':1,'117637162014.jpeg':1,'613023802008.jpeg':1,'117625892014.jpeg':1,'117640912014.jpeg':1,'613023832008.jpeg':1,'117628772014.jpeg':1,'117640992014.jpeg':1,'613026132008.jpeg':1,'117630802014.jpeg':1,'117641082014.jpeg':1,'613044092008.jpeg':1,'117611222014.jpeg':1,'117630832014.jpeg':1,'117643222014.jpeg':1,'613047242008.jpeg':1,'613082282008.jpeg':1,'613092352008.jpeg':1,'613107172008.jpeg':1,'613055292008.jpeg':1,'613055832008.jpeg':1,'613082312008.jpeg':1,'613097742008.jpeg':1,'613065592008.jpeg':1,'613083452008.jpeg':1,'613097872008.jpeg':1,'613069272008.jpeg':1,'613086912008.jpeg':1,'613097942008.jpeg':1,'613073182008.jpeg':1,'613086962008.jpeg':1,'613100382008.jpeg':1,'613081732008.jpeg':1,'613086992008.jpeg':1,'613100442008.jpeg':1,'613081762008.jpeg':1,'613087022008.jpeg':1,'613102302008.jpeg':1,'613081972008.jpeg':1,'613087812008.jpeg':1,'613102332008.jpeg':1,'613082022008.jpeg':1,'613087842008.jpeg':1,'613104262008.jpeg':1,'613082232008.jpeg':1,'613089812008.jpeg':1,'613104782008.jpeg':1,'613082262008.jpeg':1,'613090652008.jpeg':1,'613107142008.jpeg':1,'613082292008.jpeg':1,'613107192008.jpeg':1,'613055302008.jpeg':1,'613057572008.jpeg':1,'613082322008.jpeg':1,'613097762008.jpeg':1,'613065602008.jpeg':1,'613086392008.jpeg':1,'613097902008.jpeg':1,'613070082008.jpeg':1,'613086942008.jpeg':1,'613097952008.jpeg':1,'613081712008.jpeg':1,'613086972008.jpeg':1,'613100412008.jpeg':1,'613081742008.jpeg':1,'613087002008.jpeg':1,'613102002008.jpeg':1,'613081942008.jpeg':1,'613087042008.jpeg':1,'613102312008.jpeg':1,'613081982008.jpeg':1,'613087822008.jpeg':1,'613102662008.jpeg':1,'613082212008.jpeg':1,'613087852008.jpeg':1,'613104272008.jpeg':1,'613082242008.jpeg':1,'613090512008.jpeg':1,'613104842008.jpeg':1,'613082272008.jpeg':1,'613092342008.jpeg':1,'613107152008.jpeg':1,'613054042008.jpeg':1,'613082302008.jpeg':1,'613094862008.jpeg':1,'613107212008.jpeg':1,'613055312008.jpeg':1,'613057892008.jpeg':1,'613083122008.jpeg':1,'613097772008.jpeg':1,'613065962008.jpeg':1,'613086412008.jpeg':1,'613097912008.jpeg':1,'613072462008.jpeg':1,'613086952008.jpeg':1,'613100362008.jpeg':1,'613081722008.jpeg':1,'613086982008.jpeg':1,'613100422008.jpeg':1,'613081752008.jpeg':1,'613087012008.jpeg':1,'613102032008.jpeg':1,'613081952008.jpeg':1,'613087252008.jpeg':1,'613102322008.jpeg':1,'613082002008.jpeg':1,'613087832008.jpeg':1,'613102772008.jpeg':1,'613082222008.jpeg':1,'613089262008.jpeg':1,'613104772008.jpeg':1,'613082252008.jpeg':1,'613090522008.jpeg':1,'613107122008.jpeg':1,'613590122009.jpeg':1,'613614652009.jpeg':1,'613682292009.jpeg':1,'613107222008.jpeg':1,'613591592009.jpeg':1,'613623312009.jpeg':1,'613692482009.jpeg':1,'613436042009.jpeg':1,'613592172009.jpeg':1,'613623392009.jpeg':1,'613561562009.jpeg':1,'613594932009.jpeg':1,'613634262009.jpeg':1,'613565182009.jpeg':1,'613606242009.jpeg':1,'613607122009.jpeg':1,'613641662009.jpeg':1,'613565272009.jpeg':1,'613609992009.jpeg':1,'613645602009.jpeg':1,'613567032009.jpeg':1,'613610022009.jpeg':1,'613646122009.jpeg':1,'613567682009.jpeg':1,'613610432009.jpeg':1,'613649022009.jpeg':1,'613572432009.jpeg':1,'613610462009.jpeg':1,'613658762009.jpeg':1,'613575722009.jpeg':1,'613614532009.jpeg':1,'613665852009.jpeg':1,'613583762009.jpeg':1,'613614582009.jpeg':1,'613681822009.jpeg':1,'613590132009.jpeg':1,'613614672009.jpeg':1,'613683312009.jpeg':1,'613107232008.jpeg':1,'613592152009.jpeg':1,'613623342009.jpeg':1,'613561472009.jpeg':1,'613592182009.jpeg':1,'613623402009.jpeg':1,'613561582009.jpeg':1,'613604212009.jpeg':1,'613637312009.jpeg':1,'613565212009.jpeg':1,'613606252009.jpeg':1,'613607302009.jpeg':1,'613643552009.jpeg':1,'613565342009.jpeg':1,'613610002009.jpeg':1,'613646092009.jpeg':1,'613567042009.jpeg':1,'613610032009.jpeg':1,'613646132009.jpeg':1,'613568382009.jpeg':1,'613610442009.jpeg':1,'613654612009.jpeg':1,'613572462009.jpeg':1,'613613792009.jpeg':1,'613658772009.jpeg':1,'613580312009.jpeg':1,'613614542009.jpeg':1,'613670992009.jpeg':1,'613589802009.jpeg':1,'613614642009.jpeg':1,'613682032009.jpeg':1,'613590142009.jpeg':1,'613616272009.jpeg':1,'613687412009.jpeg':1,'613107372008.jpeg':1,'613592162009.jpeg':1,'613623362009.jpeg':1,'613561552009.jpeg':1,'613632452009.jpeg':1,'613561612009.jpeg':1,'613605112009.jpeg':1,'613641622009.jpeg':1,'613565252009.jpeg':1,'613606262009.jpeg':1,'613607312009.jpeg':1,'613645592009.jpeg':1,'613567022009.jpeg':1,'613610012009.jpeg':1,'613646112009.jpeg':1,'613567072009.jpeg':1,'613610422009.jpeg':1,'613646782009.jpeg':1,'613572172009.jpeg':1,'613610452009.jpeg':1,'613658532009.jpeg':1,'613574072009.jpeg':1,'613613802009.jpeg':1,'613665072009.jpeg':1,'613581222009.jpeg':1,'613614552009.jpeg':1,'613681812009.jpeg':1,'614074752010.jpeg':1,'614095842010.jpeg':1,'614111192010.jpeg':1,'614077792010.jpeg':1,'614100242010.jpeg':1,'614111222010.jpeg':1,'613696452009.jpeg':1,'614077822010.jpeg':1,'614110562010.jpeg':1,'614111252010.jpeg':1,'613698922009.jpeg':1,'614077852010.jpeg':1,'614110592010.jpeg':1,'613705512009.jpeg':1,'614077882010.jpeg':1,'614110632010.jpeg':1,'613719532009.jpeg':1,'614077912010.jpeg':1,'614110662010.jpeg':1,'613726042009.jpeg':1,'614077942010.jpeg':1,'614110692010.jpeg':1,'613753222009.jpeg':1,'614082172010.jpeg':1,'614110732010.jpeg':1,'613753252009.jpeg':1,'614082232010.jpeg':1,'614111112010.jpeg':1,'614070682010.jpeg':1,'614082272010.jpeg':1,'614111142010.jpeg':1,'614072262010.jpeg':1,'614087972010.jpeg':1,'614111172010.jpeg':1,'614077532010.jpeg':1,'614100212010.jpeg':1,'614111202010.jpeg':1,'613695132009.jpeg':1,'614077802010.jpeg':1,'614110542010.jpeg':1,'614111232010.jpeg':1,'613697202009.jpeg':1,'614077832010.jpeg':1,'614110572010.jpeg':1,'614111262010.jpeg':1,'613703772009.jpeg':1,'614077862010.jpeg':1,'614110602010.jpeg':1,'613717722009.jpeg':1,'614077892010.jpeg':1,'614110642010.jpeg':1,'613724422009.jpeg':1,'614077922010.jpeg':1,'614110672010.jpeg':1,'613747082009.jpeg':1,'614077952010.jpeg':1,'614110702010.jpeg':1,'613753232009.jpeg':1,'614082192010.jpeg':1,'614111032010.jpeg':1,'613753712009.jpeg':1,'614082252010.jpeg':1,'614111122010.jpeg':1,'614070712010.jpeg':1,'614083722010.jpeg':1,'614111152010.jpeg':1,'614073902010.jpeg':1,'614090352010.jpeg':1,'614111182010.jpeg':1,'614077782010.jpeg':1,'614100222010.jpeg':1,'614111212010.jpeg':1,'613695962009.jpeg':1,'614077812010.jpeg':1,'614110552010.jpeg':1,'614111242010.jpeg':1,'613697212009.jpeg':1,'614077842010.jpeg':1,'614110582010.jpeg':1,'613704052009.jpeg':1,'614077872010.jpeg':1,'614110622010.jpeg':1,'613717742009.jpeg':1,'614077902010.jpeg':1,'614110652010.jpeg':1,'613724442009.jpeg':1,'614077932010.jpeg':1,'614110682010.jpeg':1,'613753212009.jpeg':1,'614077962010.jpeg':1,'614110722010.jpeg':1,'613753242009.jpeg':1,'614082212010.jpeg':1,'614111102010.jpeg':1,'613753972009.jpeg':1,'614082262010.jpeg':1,'614111132010.jpeg':1,'614071172010.jpeg':1,'614087952010.jpeg':1,'614111162010.jpeg':1,'614112162010.jpeg':1,'614116252010.jpeg':1,'614838812011.jpeg':1,'614112192010.jpeg':1,'614116702010.jpeg':1,'614841072011.jpeg':1,'614112682010.jpeg':1,'614116822010.jpeg':1,'614848142011.jpeg':1,'614111282010.jpeg':1,'614112832010.jpeg':1,'614120752010.jpeg':1,'614852272011.jpeg':1,'614111312010.jpeg':1,'614114002010.jpeg':1,'614120862010.jpeg':1,'614111342010.jpeg':1,'614114032010.jpeg':1,'614120892010.jpeg':1,'614111372010.jpeg':1,'614114062010.jpeg':1,'614120922010.jpeg':1,'614111802010.jpeg':1,'614114742010.jpeg':1,'614123662010.jpeg':1,'614112042010.jpeg':1,'614115172010.jpeg':1,'614827632011.jpeg':1,'614112082010.jpeg':1,'614115902010.jpeg':1,'614831262011.jpeg':1,'614112112010.jpeg':1,'614115932010.jpeg':1,'614837512011.jpeg':1,'614112172010.jpeg':1,'614116282010.jpeg':1,'614840692011.jpeg':1,'614112362010.jpeg':1,'614116712010.jpeg':1,'614842362011.jpeg':1,'614112802010.jpeg':1,'614120032010.jpeg':1,'614848542011.jpeg':1,'614111292010.jpeg':1,'614113422010.jpeg':1,'614120842010.jpeg':1,'614852292011.jpeg':1,'614111322010.jpeg':1,'614114012010.jpeg':1,'614120872010.jpeg':1,'614111352010.jpeg':1,'614114042010.jpeg':1,'614120902010.jpeg':1,'614111382010.jpeg':1,'614114072010.jpeg':1,'614120932010.jpeg':1,'614111812010.jpeg':1,'614114752010.jpeg':1,'614826952011.jpeg':1,'614112052010.jpeg':1,'614115882010.jpeg':1,'614827952011.jpeg':1,'614112092010.jpeg':1,'614115912010.jpeg':1,'614834872011.jpeg':1,'614112132010.jpeg':1,'614115942010.jpeg':1,'614837522011.jpeg':1,'614112182010.jpeg':1,'614116292010.jpeg':1,'614840832011.jpeg':1,'614112672010.jpeg':1,'614116722010.jpeg':1,'614843382011.jpeg':1,'614111272010.jpeg':1,'614112822010.jpeg':1,'614120742010.jpeg':1,'614850822011.jpeg':1,'614111302010.jpeg':1,'614113992010.jpeg':1,'614120852010.jpeg':1,'614852312011.jpeg':1,'614111332010.jpeg':1,'614114022010.jpeg':1,'614120882010.jpeg':1,'614111362010.jpeg':1,'614114052010.jpeg':1,'614120912010.jpeg':1,'614111792010.jpeg':1,'614114082010.jpeg':1,'614120942010.jpeg':1,'614112032010.jpeg':1,'614115132010.jpeg':1,'614827072011.jpeg':1,'614112062010.jpeg':1,'614115892010.jpeg':1,'614828452011.jpeg':1,'614112102010.jpeg':1,'614115922010.jpeg':1,'614836612011.jpeg':1,'614897602011.jpeg':1,'614983842011.jpeg':1,'615025342011.jpeg':1,'614903162011.jpeg':1,'614991722011.jpeg':1,'615032002011.jpeg':1,'614923992011.jpeg':1,'614993872011.jpeg':1,'615036132011.jpeg':1,'614936052011.jpeg':1,'614994502011.jpeg':1,'615037222011.jpeg':1,'614936102011.jpeg':1,'615000242011.jpeg':1,'615038772011.jpeg':1,'614852342011.jpeg':1,'614936192011.jpeg':1,'615008242011.jpeg':1,'618614112015.jpeg':1,'614853022011.jpeg':1,'614956962011.jpeg':1,'615008992011.jpeg':1,'614865622011.jpeg':1,'614958962011.jpeg':1,'615013612011.jpeg':1,'614878752011.jpeg':1,'614889762011.jpeg':1,'614968522011.jpeg':1,'615017802011.jpeg':1,'614892352011.jpeg':1,'614972102011.jpeg':1,'615018382011.jpeg':1,'614897542011.jpeg':1,'614981652011.jpeg':1,'615023902011.jpeg':1,'614897622011.jpeg':1,'614990042011.jpeg':1,'615025392011.jpeg':1,'614904052011.jpeg':1,'614992262011.jpeg':1,'615036112011.jpeg':1,'614929532011.jpeg':1,'614993892011.jpeg':1,'615036142011.jpeg':1,'614936072011.jpeg':1,'614996822011.jpeg':1,'615037442011.jpeg':1,'614936112011.jpeg':1,'615004262011.jpeg':1,'615039292011.jpeg':1,'614852372011.jpeg':1,'614947502011.jpeg':1,'615008482011.jpeg':1,'614853032011.jpeg':1,'614957232011.jpeg':1,'615009002011.jpeg':1,'614877482011.jpeg':1,'614963182011.jpeg':1,'615015592011.jpeg':1,'614885032011.jpeg':1,'614889832011.jpeg':1,'614968642011.jpeg':1,'615018332011.jpeg':1,'614893722011.jpeg':1,'614974212011.jpeg':1,'615021962011.jpeg':1,'614897582011.jpeg':1,'614981662011.jpeg':1,'615025262011.jpeg':1,'614900782011.jpeg':1,'614991552011.jpeg':1,'615027742011.jpeg':1,'614916172011.jpeg':1,'614993462011.jpeg':1,'615036122011.jpeg':1,'614935492011.jpeg':1,'614993912011.jpeg':1,'615036152011.jpeg':1,'614936092011.jpeg':1,'614997742011.jpeg':1,'615038762011.jpeg':1,'614936182011.jpeg':1,'615005052011.jpeg':1,'615040202011.jpeg':1,'614852392011.jpeg':1,'614956942011.jpeg':1,'615008512011.jpeg':1,'614861812011.jpeg':1,'614958952011.jpeg':1,'615010512011.jpeg':1,'614878722011.jpeg':1,'614967992011.jpeg':1,'615017002011.jpeg':1,'614885172011.jpeg':1,'614890652011.jpeg':1,'614969222011.jpeg':1,'615018362011.jpeg':1,'614897382011.jpeg':1,'614979612011.jpeg':1,'615022632011.jpeg':1,'618665592015.jpeg':1,'618710482016.jpeg':1,'618780812016.jpeg':1,'618667762015.jpeg':1,'618716172016.jpeg':1,'618784732016.jpeg':1,'618675142015.jpeg':1,'618726392016.jpeg':1,'618797412016.jpeg':1,'618676902015.jpeg':1,'618809082016.jpeg':1,'618684122015.jpeg':1,'618735542016.jpeg':1,'618814812016.jpeg':1,'618693832015.jpeg':1,'618817052016.jpeg':1,'618620042015.jpeg':1,'618697782015.jpeg':1,'618750552016.jpeg':1,'621694852019.jpeg':1,'618625902015.jpeg':1,'618698512015.jpeg':1,'618750582016.jpeg':1,'618638692015.jpeg':1,'618700322015.jpeg':1,'618754182016.jpeg':1,'618651422015.jpeg':1,'618704742015.jpeg':1,'618772272016.jpeg':1,'618657932015.jpeg':1,'618707852015.jpeg':1,'618775662016.jpeg':1,'618666192015.jpeg':1,'618716122016.jpeg':1,'618780882016.jpeg':1,'618668152015.jpeg':1,'618716182016.jpeg':1,'618784982016.jpeg':1,'618676082015.jpeg':1,'618727682016.jpeg':1,'618807442016.jpeg':1,'618679432015.jpeg':1,'618728682016.jpeg':1,'618809632016.jpeg':1,'618692022015.jpeg':1,'618735552016.jpeg':1,'618816802016.jpeg':1,'618618942015.jpeg':1,'618693842015.jpeg':1,'618742632016.jpeg':1,'621694812019.jpeg':1,'618622712015.jpeg':1,'618697792015.jpeg':1,'618750562016.jpeg':1,'621694872019.jpeg':1,'618625912015.jpeg':1,'618698552015.jpeg':1,'618751522016.jpeg':1,'618645222015.jpeg':1,'618703992015.jpeg':1,'618762612016.jpeg':1,'618651432015.jpeg':1,'618774322016.jpeg':1,'618665482015.jpeg':1,'618709742016.jpeg':1,'618778392016.jpeg':1,'618666842015.jpeg':1,'618716152016.jpeg':1,'618781202016.jpeg':1,'618675092015.jpeg':1,'618717582016.jpeg':1,'618785062016.jpeg':1,'618676122015.jpeg':1,'618728562016.jpeg':1,'618808952016.jpeg':1,'618681792015.jpeg':1,'618729162016.jpeg':1,'618812702016.jpeg':1,'618693822015.jpeg':1,'618737522016.jpeg':1,'618816982016.jpeg':1,'618618952015.jpeg':1,'618697772015.jpeg':1,'618742972016.jpeg':1,'621694832019.jpeg':1,'618623332015.jpeg':1,'618698192015.jpeg':1,'618750572016.jpeg':1,'618628852015.jpeg':1,'618698682015.jpeg':1,'618753212016.jpeg':1,'618648052015.jpeg':1,'618704312015.jpeg':1,'618767722016.jpeg':1,'618656452015.jpeg':1,'618705352015.jpeg':1,'618775462016.jpeg':1,'621707602019.jpeg':1,'621725412019.jpeg':1,'621764062020.jpeg':1,'621707632019.jpeg':1,'621726302019.jpeg':1,'621767142020.jpeg':1,'621707702019.jpeg':1,'621731572019.jpeg':1,'621770032020.jpeg':1,'621707752019.jpeg':1,'621734182019.jpeg':1,'621793322020.jpeg':1,'621707782019.jpeg':1,'621736132019.jpeg':1,'621797062020.jpeg':1,'621707812019.jpeg':1,'621742402019.jpeg':1,'621797092020.jpeg':1,'621712382019.jpeg':1,'621743272019.jpeg':1,'621797122020.jpeg':1,'621695512019.jpeg':1,'621712622019.jpeg':1,'621746242019.jpeg':1,'621797152020.jpeg':1,'621701592019.jpeg':1,'621714382019.jpeg':1,'621746722019.jpeg':1,'621704632019.jpeg':1,'621714412019.jpeg':1,'621753612019.jpeg':1,'621707582019.jpeg':1,'621721212019.jpeg':1,'621759022020.jpeg':1,'621707612019.jpeg':1,'621725922019.jpeg':1,'621764312020.jpeg':1,'621707642019.jpeg':1,'621726312019.jpeg':1,'621769032020.jpeg':1,'621707732019.jpeg':1,'621733522019.jpeg':1,'621774182020.jpeg':1,'621707762019.jpeg':1,'621734372019.jpeg':1,'621797042020.jpeg':1,'621707792019.jpeg':1,'621736142019.jpeg':1,'621797072020.jpeg':1,'621710042019.jpeg':1,'621742582019.jpeg':1,'621797102020.jpeg':1,'621712582019.jpeg':1,'621743332019.jpeg':1,'621797132020.jpeg':1,'621695672019.jpeg':1,'621712632019.jpeg':1,'621746252019.jpeg':1,'621797162020.jpeg':1,'621701602019.jpeg':1,'621714392019.jpeg':1,'621748112019.jpeg':1,'621707562019.jpeg':1,'621714422019.jpeg':1,'621753712020.jpeg':1,'621707592019.jpeg':1,'621725402019.jpeg':1,'621759372020.jpeg':1,'621707622019.jpeg':1,'621726272019.jpeg':1,'621766662020.jpeg':1,'621707672019.jpeg':1,'621729132019.jpeg':1,'621769172020.jpeg':1,'621707742019.jpeg':1,'621733752019.jpeg':1,'621793112020.jpeg':1,'621707772019.jpeg':1,'621735172019.jpeg':1,'621797052020.jpeg':1,'621707802019.jpeg':1,'621742392019.jpeg':1,'621797082020.jpeg':1,'621712162019.jpeg':1,'621743262019.jpeg':1,'621797112020.jpeg':1,'621695492019.jpeg':1,'621712612019.jpeg':1,'621745302019.jpeg':1,'621797142020.jpeg':1,'621701582019.jpeg':1,'621713412019.jpeg':1,'621746262019.jpeg':1,'621797172020.jpeg':1,'621702422019.jpeg':1,'621714402019.jpeg':1,'621752782019.jpeg':1,'621707572019.jpeg':1,'621716192019.jpeg':1,'621753762020.jpeg':1,'621797992020.jpeg':1,'621822302020.jpeg':1,'621851782020.jpeg':1,'621798032020.jpeg':1,'621827962020.jpeg':1,'621853362020.jpeg':1,'621798062020.jpeg':1,'621827992020.jpeg':1,'621854872020.jpeg':1,'621798102020.jpeg':1,'621830492020.jpeg':1,'621863292020.jpeg':1,'621798132020.jpeg':1,'621833332020.jpeg':1,'621869842020.jpeg':1,'621798162020.jpeg':1,'621837272020.jpeg':1,'621876822020.jpeg':1,'621801122020.jpeg':1,'621841602020.jpeg':1,'621884672020.jpeg':1,'621803472020.jpeg':1,'621841632020.jpeg':1,'621891142020.jpeg':1,'621797882020.jpeg':1,'621808692020.jpeg':1,'621845332020.jpeg':1,'621891412020.jpeg':1,'621797942020.jpeg':1,'621815792020.jpeg':1,'621847342020.jpeg':1,'621895832020.jpeg':1,'621797972020.jpeg':1,'621822282020.jpeg':1,'621850212020.jpeg':1,'621798002020.jpeg':1,'621822312020.jpeg':1,'621851792020.jpeg':1,'621798042020.jpeg':1,'621827972020.jpeg':1,'621854852020.jpeg':1,'621798072020.jpeg':1,'621828002020.jpeg':1,'621854882020.jpeg':1,'621798112020.jpeg':1,'621830522020.jpeg':1,'621866862020.jpeg':1,'621798142020.jpeg':1,'621836382020.jpeg':1,'621869872020.jpeg':1,'621798172020.jpeg':1,'621841492020.jpeg':1,'621877912020.jpeg':1,'621801132020.jpeg':1,'621841612020.jpeg':1,'621885632020.jpeg':1,'621806592020.jpeg':1,'621841812020.jpeg':1,'621891152020.jpeg':1,'621797922020.jpeg':1,'621812582020.jpeg':1,'621845522020.jpeg':1,'621893082020.jpeg':1,'621797952020.jpeg':1,'621816632020.jpeg':1,'621848522020.jpeg':1,'621797982020.jpeg':1,'621822292020.jpeg':1,'621850922020.jpeg':1,'621798012020.jpeg':1,'621823732020.jpeg':1,'621853282020.jpeg':1,'621798052020.jpeg':1,'621827982020.jpeg':1,'621854862020.jpeg':1,'621798082020.jpeg':1,'621829742020.jpeg':1,'621854902020.jpeg':1,'621798122020.jpeg':1,'621831332020.jpeg':1,'621868202020.jpeg':1,'621798152020.jpeg':1,'621837052020.jpeg':1,'621876172020.jpeg':1,'621801112020.jpeg':1,'621841592020.jpeg':1,'621884632020.jpeg':1,'621801472020.jpeg':1,'621841622020.jpeg':1,'621891132020.jpeg':1,'621808182020.jpeg':1,'621842892020.jpeg':1,'621891162020.jpeg':1,'621797932020.jpeg':1,'621815782020.jpeg':1,'621846122020.jpeg':1,'621895552020.jpeg':1,'621797962020.jpeg':1,'621822272020.jpeg':1,'621849912020.jpeg':1,'621901392020.jpeg':1,'621936522020.jpeg':1,'622008442020.jpeg':1,'622077332020.jpeg':1,'621902482020.jpeg':1,'621936552020.jpeg':1,'622014012020.jpeg':1,'622082362020.jpeg':1,'621915452020.jpeg':1,'621942442020.jpeg':1,'622085692020.jpeg':1,'621917402020.jpeg':1,'621947782020.jpeg':1,'622029232020.jpeg':1,'621917432020.jpeg':1,'622029832020.jpeg':1,'621919612020.jpeg':1,'621951442020.jpeg':1,'622039602020.jpeg':1,'621926342020.jpeg':1,'621952622020.jpeg':1,'622067592020.jpeg':1,'621929932020.jpeg':1,'621970212020.jpeg':1,'622069202020.jpeg':1,'621936442020.jpeg':1,'621985542020.jpeg':1,'622069232020.jpeg':1,'621936472020.jpeg':1,'622004932020.jpeg':1,'622069262020.jpeg':1,'621899572020.jpeg':1,'621936502020.jpeg':1,'622007562020.jpeg':1,'622072502020.jpeg':1,'621901662020.jpeg':1,'621936532020.jpeg':1,'622008742020.jpeg':1,'622080592020.jpeg':1,'621909772020.jpeg':1,'621938952020.jpeg':1,'622014132020.jpeg':1,'622084772020.jpeg':1,'621916662020.jpeg':1,'621944132020.jpeg':1,'622027082020.jpeg':1,'622085702020.jpeg':1,'621917412020.jpeg':1,'621947972020.jpeg':1,'622029252020.jpeg':1,'621917442020.jpeg':1,'622034832020.jpeg':1,'621923782020.jpeg':1,'621951952020.jpeg':1,'622041342020.jpeg':1,'621928332020.jpeg':1,'621955482020.jpeg':1,'622068292020.jpeg':1,'621932372020.jpeg':1,'621980212020.jpeg':1,'622069212020.jpeg':1,'621936452020.jpeg':1,'621996762020.jpeg':1,'622069242020.jpeg':1,'621896052020.jpeg':1,'621936482020.jpeg':1,'622005892020.jpeg':1,'622069272020.jpeg':1,'621899582020.jpeg':1,'621936512020.jpeg':1,'622008432020.jpeg':1,'622072782020.jpeg':1,'621901962020.jpeg':1,'621936542020.jpeg':1,'622008752020.jpeg':1,'622081332020.jpeg':1,'621942432020.jpeg':1,'622017892020.jpeg':1,'622084862020.jpeg':1,'621917392020.jpeg':1,'621945302020.jpeg':1,'622028632020.jpeg':1,'622085712020.jpeg':1,'621917422020.jpeg':1,'621948882020.jpeg':1,'622029822020.jpeg':1,'621917452020.jpeg':1,'621951102020.jpeg':1,'622038832020.jpeg':1,'621924852020.jpeg':1,'621952012020.jpeg':1,'622065302020.jpeg':1,'621929902020.jpeg':1,'621966382020.jpeg':1,'622069192020.jpeg':1,'621934632020.jpeg':1,'621980842020.jpeg':1,'622069222020.jpeg':1,'621936462020.jpeg':1,'622001632020.jpeg':1,'622069252020.jpeg':1,'621899412020.jpeg':1,'621936492020.jpeg':1,'622006012020.jpeg':1,'622072492020.jpeg':1,\n",
    "}\n",
    "len(existen)"
   ]
  },
  {
   "cell_type": "code",
   "execution_count": 21,
   "metadata": {
    "collapsed": true,
    "jupyter": {
     "outputs_hidden": true
    }
   },
   "outputs": [
    {
     "name": "stdout",
     "output_type": "stream",
     "text": [
      "No existe: 100000181910.jpeg\n",
      "No existe: 100001211927.jpeg\n",
      "No existe: 100001271976.jpeg\n",
      "No existe: 100001311965.jpeg\n",
      "No existe: 100001371927.jpeg\n",
      "No existe: 100001391967.jpeg\n",
      "No existe: 100002951969.jpeg\n",
      "No existe: 100002961984.jpeg\n",
      "No existe: 100003001969.jpeg\n",
      "No existe: 100003131976.jpeg\n",
      "No existe: 100003151973.jpeg\n",
      "No existe: 100003161976.jpeg\n",
      "No existe: 100003201965.jpeg\n",
      "No existe: 100003211971.jpeg\n",
      "No existe: 100003211976.jpeg\n",
      "No existe: 100003381967.jpeg\n",
      "No existe: 100003441966.jpeg\n",
      "No existe: 100003461963.jpeg\n",
      "No existe: 100003471985.jpeg\n",
      "No existe: 100003491966.jpeg\n",
      "No existe: 100003561968.jpeg\n",
      "No existe: 100006481973.jpeg\n",
      "No existe: 100006491966.jpeg\n",
      "No existe: 100006491973.jpeg\n",
      "No existe: 100006501975.jpeg\n",
      "No existe: 100006511964.jpeg\n",
      "No existe: 100006511967.jpeg\n",
      "No existe: 100006511972.jpeg\n",
      "No existe: 100006511975.jpeg\n",
      "No existe: 100006521967.jpeg\n",
      "No existe: 100006521975.jpeg\n",
      "No existe: 100006531964.jpeg\n",
      "No existe: 100006531966.jpeg\n",
      "No existe: 100006531967.jpeg\n",
      "No existe: 100006531970.jpeg\n",
      "No existe: 100006531975.jpeg\n",
      "No existe: 100006541967.jpeg\n",
      "No existe: 100006541972.jpeg\n",
      "No existe: 100006541975.jpeg\n",
      "No existe: 100006551964.jpeg\n",
      "No existe: 100006551973.jpeg\n",
      "No existe: 100006551975.jpeg\n",
      "No existe: 100006561973.jpeg\n",
      "No existe: 100006571975.jpeg\n",
      "No existe: 100006581964.jpeg\n",
      "No existe: 100006581975.jpeg\n",
      "No existe: 100006581987.jpeg\n",
      "No existe: 100006591971.jpeg\n",
      "No existe: 100006591975.jpeg\n",
      "No existe: 100006601975.jpeg\n",
      "No existe: 100006611964.jpeg\n",
      "No existe: 100006611968.jpeg\n",
      "No existe: 100006611975.jpeg\n",
      "No existe: 100006621967.jpeg\n",
      "No existe: 100006621968.jpeg\n",
      "No existe: 100006631968.jpeg\n",
      "No existe: 100006651967.jpeg\n",
      "No existe: 100006651973.jpeg\n",
      "No existe: 100006661973.jpeg\n",
      "No existe: 100006671969.jpeg\n",
      "No existe: 100006671970.jpeg\n",
      "No existe: 100006681969.jpeg\n",
      "No existe: 100006691966.jpeg\n",
      "No existe: 100006691971.jpeg\n",
      "No existe: 100006701968.jpeg\n",
      "No existe: 100006701971.jpeg\n",
      "No existe: 100006701975.jpeg\n",
      "No existe: 100006711966.jpeg\n",
      "No existe: 100006711976.jpeg\n",
      "No existe: 100006721966.jpeg\n",
      "No existe: 100006731964.jpeg\n",
      "No existe: 100006731966.jpeg\n",
      "No existe: 100006741966.jpeg\n",
      "No existe: 100006741969.jpeg\n",
      "No existe: 100006751964.jpeg\n",
      "No existe: 100006751966.jpeg\n",
      "No existe: 100006751970.jpeg\n",
      "No existe: 100006751971.jpeg\n",
      "No existe: 100006761970.jpeg\n",
      "No existe: 100006771970.jpeg\n",
      "No existe: 100006771971.jpeg\n",
      "No existe: 100006781966.jpeg\n",
      "No existe: 100006781969.jpeg\n",
      "No existe: 100006791963.jpeg\n",
      "No existe: 100006791969.jpeg\n",
      "No existe: 100006791970.jpeg\n",
      "No existe: 100006801963.jpeg\n",
      "No existe: 100006811963.jpeg\n",
      "No existe: 100006821963.jpeg\n",
      "No existe: 100006821971.jpeg\n",
      "No existe: 100006821972.jpeg\n",
      "No existe: 100006851966.jpeg\n",
      "No existe: 100006861966.jpeg\n",
      "No existe: 100006871966.jpeg\n",
      "No existe: 100006871971.jpeg\n",
      "No existe: 100006871973.jpeg\n",
      "No existe: 100006881966.jpeg\n",
      "No existe: 100006881971.jpeg\n",
      "No existe: 100006891966.jpeg\n",
      "No existe: 100006891971.jpeg\n",
      "No existe: 100006891973.jpeg\n",
      "No existe: 100006891974.jpeg\n",
      "No existe: 100006901966.jpeg\n",
      "No existe: 100006901970.jpeg\n",
      "No existe: 100006901973.jpeg\n",
      "No existe: 100006901974.jpeg\n",
      "No existe: 100006911966.jpeg\n",
      "No existe: 100006911968.jpeg\n",
      "No existe: 100006911969.jpeg\n",
      "No existe: 100006911970.jpeg\n",
      "No existe: 100006911974.jpeg\n",
      "No existe: 100006911975.jpeg\n",
      "No existe: 100006921968.jpeg\n",
      "No existe: 100006921969.jpeg\n",
      "No existe: 100006921987.jpeg\n",
      "No existe: 100006941969.jpeg\n",
      "No existe: 100006951966.jpeg\n",
      "No existe: 100006951972.jpeg\n",
      "No existe: 100006951976.jpeg\n",
      "No existe: 100006961976.jpeg\n",
      "No existe: 100006971976.jpeg\n",
      "No existe: 100006981972.jpeg\n",
      "No existe: 100006981976.jpeg\n",
      "No existe: 100006991970.jpeg\n",
      "No existe: 100007001974.jpeg\n",
      "No existe: 100007011976.jpeg\n",
      "No existe: 100007021967.jpeg\n",
      "No existe: 100007031967.jpeg\n",
      "No existe: 100007051974.jpeg\n",
      "No existe: 100007071972.jpeg\n",
      "No existe: 100012031965.jpeg\n",
      "No existe: 100012041975.jpeg\n",
      "No existe: 100012071965.jpeg\n",
      "No existe: 100012081973.jpeg\n",
      "No existe: 100012181969.jpeg\n",
      "No existe: 100012201965.jpeg\n",
      "No existe: 100012211965.jpeg\n",
      "No existe: 100012211972.jpeg\n",
      "No existe: 100012221971.jpeg\n",
      "No existe: 100012291963.jpeg\n",
      "No existe: 100012301963.jpeg\n",
      "No existe: 100012351963.jpeg\n",
      "No existe: 100021581969.jpeg\n",
      "No existe: 100021831975.jpeg\n",
      "No existe: 100030671976.jpeg\n",
      "No existe: 100035181975.jpeg\n",
      "No existe: 100035191975.jpeg\n",
      "No existe: 100042581973.jpeg\n",
      "No existe: 100042921974.jpeg\n",
      "No existe: 100042931969.jpeg\n",
      "No existe: 100042961967.jpeg\n",
      "No existe: 117632552014.jpeg\n",
      "No existe: 613093092008.jpeg\n",
      "No existe: 613592632009.jpeg\n",
      "No existe: 618705342015.jpeg\n",
      "No existe: 618728632016.jpeg\n",
      "No existe: 618740462016.jpeg\n",
      "No existe: 621914192020.jpeg\n",
      "No existe: 621949212020.jpeg\n",
      "No existe: 621949242020.jpeg\n",
      "No existe: 622019042020.jpeg\n",
      "2209 161\n"
     ]
    }
   ],
   "source": [
    "cont = 0\n",
    "contB = 0\n",
    "for traj in os.listdir(r\"derimg\"):\n",
    "    cont += 1\n",
    "    if traj not in existen:\n",
    "        contB += 1\n",
    "        print('No existe: {}'.format(traj))\n",
    "        os.remove(r\"derimg/\"+traj)\n",
    "print(cont, contB)"
   ]
  },
  {
   "cell_type": "code",
   "execution_count": 22,
   "metadata": {},
   "outputs": [],
   "source": [
    "import cv2\n"
   ]
  },
  {
   "cell_type": "code",
   "execution_count": 29,
   "metadata": {},
   "outputs": [
    {
     "name": "stdout",
     "output_type": "stream",
     "text": [
      "2048: 2048;  \n"
     ]
    }
   ],
   "source": [
    "cont = 0\n",
    "nombre = []\n",
    "ancho = []\n",
    "alto = []\n",
    "for traj in os.listdir(r\"derimg\"):\n",
    "    cont += 1\n",
    "    print('cont: {};  \\r'.format(cont), end=\"\")\n",
    "    im = cv2.imread(r'derimg/' + traj)\n",
    "    nombre.append(traj)\n",
    "    alto.append(im.shape[0])\n",
    "    ancho.append(im.shape[0])\n",
    "print(cont)\n"
   ]
  },
  {
   "cell_type": "code",
   "execution_count": 26,
   "metadata": {},
   "outputs": [
    {
     "data": {
      "text/plain": [
       "(1419, 1028, 3)"
      ]
     },
     "execution_count": 26,
     "metadata": {},
     "output_type": "execute_result"
    }
   ],
   "source": [
    "im = cv2.imread(r'derimg/100000101967.jpeg')\n",
    "im.shape"
   ]
  },
  {
   "cell_type": "code",
   "execution_count": 30,
   "metadata": {},
   "outputs": [],
   "source": [
    "tam = pd.DataFrame(list(zip(nombre, alto, ancho)), \n",
    "               columns =['Nombre', 'Alto','Ancho']) "
   ]
  },
  {
   "cell_type": "code",
   "execution_count": 31,
   "metadata": {},
   "outputs": [],
   "source": [
    "tam.to_csv('dimensiones.csv')"
   ]
  },
  {
   "cell_type": "code",
   "execution_count": 10,
   "metadata": {},
   "outputs": [
    {
     "data": {
      "text/plain": [
       "'0'"
      ]
     },
     "execution_count": 10,
     "metadata": {},
     "output_type": "execute_result"
    }
   ],
   "source": [
    "'621949242020.jpeg'[-6]"
   ]
  }
 ],
 "metadata": {
  "kernelspec": {
   "display_name": "Python 3",
   "language": "python",
   "name": "python3"
  },
  "language_info": {
   "codemirror_mode": {
    "name": "ipython",
    "version": 3
   },
   "file_extension": ".py",
   "mimetype": "text/x-python",
   "name": "python",
   "nbconvert_exporter": "python",
   "pygments_lexer": "ipython3",
   "version": "3.7.4"
  }
 },
 "nbformat": 4,
 "nbformat_minor": 4
}
