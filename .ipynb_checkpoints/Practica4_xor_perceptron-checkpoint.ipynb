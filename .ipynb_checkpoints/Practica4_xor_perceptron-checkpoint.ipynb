{
 "cells": [
  {
   "cell_type": "markdown",
   "metadata": {},
   "source": [
    "## Creacion de funcion XOR"
   ]
  },
  {
   "cell_type": "markdown",
   "metadata": {},
   "source": [
    "Ejercicio en clase"
   ]
  },
  {
   "cell_type": "code",
   "execution_count": 3,
   "metadata": {},
   "outputs": [],
   "source": [
    "def not_custom(x):\n",
    "    parametros = [-1 , 1]\n",
    "    return int(x * parametros[0] + parametros[1]>0)\n"
   ]
  },
  {
   "cell_type": "code",
   "execution_count": 4,
   "metadata": {},
   "outputs": [
    {
     "data": {
      "text/plain": [
       "1"
      ]
     },
     "execution_count": 4,
     "metadata": {},
     "output_type": "execute_result"
    }
   ],
   "source": [
    "test = 0\n",
    "not_custom(test)"
   ]
  },
  {
   "cell_type": "code",
   "execution_count": 5,
   "metadata": {},
   "outputs": [],
   "source": [
    "def or_custom(x1,x2):\n",
    "    parametros = [1,1,0]\n",
    "    \n",
    "    return int(x1*parametros[0] + x2 * parametros[1] + parametros[2] >0) "
   ]
  },
  {
   "cell_type": "code",
   "execution_count": 6,
   "metadata": {},
   "outputs": [
    {
     "data": {
      "text/plain": [
       "0"
      ]
     },
     "execution_count": 6,
     "metadata": {},
     "output_type": "execute_result"
    }
   ],
   "source": [
    "test1 = 0\n",
    "test2 = 0\n",
    "or_custom(test1,test2)"
   ]
  },
  {
   "cell_type": "code",
   "execution_count": 7,
   "metadata": {},
   "outputs": [],
   "source": [
    "def and_custom(x1,x2):\n",
    "    #otra opcion podria ser:\n",
    "    # parametros = [1,1,-1]    \n",
    "    # y compara que sea mayor a 0\n",
    "    parametros = [1,1,0]\n",
    "    \n",
    "    return int(x1*parametros[0] + x2 * parametros[1] + parametros[2] >1) "
   ]
  },
  {
   "cell_type": "code",
   "execution_count": 8,
   "metadata": {},
   "outputs": [
    {
     "data": {
      "text/plain": [
       "0"
      ]
     },
     "execution_count": 8,
     "metadata": {},
     "output_type": "execute_result"
    }
   ],
   "source": [
    "test1 = 1\n",
    "test2 = 0\n",
    "and_custom(test1,test2)"
   ]
  },
  {
   "cell_type": "markdown",
   "metadata": {},
   "source": [
    "<center><img src=\"xor.PNG\" width=\"500px\"></center>"
   ]
  },
  {
   "cell_type": "code",
   "execution_count": 9,
   "metadata": {},
   "outputs": [],
   "source": [
    "def xor_custom(x1,x2):\n",
    "    and1 = and_custom(x1,x2)\n",
    "    or1 = or_custom(x1,x2)\n",
    "    \n",
    "    nand1 = not_custom(and1)\n",
    "    \n",
    "    salida = and_custom(nand1,or1)\n",
    "    return salida"
   ]
  },
  {
   "cell_type": "code",
   "execution_count": 10,
   "metadata": {},
   "outputs": [
    {
     "data": {
      "text/plain": [
       "1"
      ]
     },
     "execution_count": 10,
     "metadata": {},
     "output_type": "execute_result"
    }
   ],
   "source": [
    "test1 = 0\n",
    "test2 = 1\n",
    "xor_custom(test1,test2)"
   ]
  },
  {
   "cell_type": "markdown",
   "metadata": {},
   "source": [
    "# Parte 1\n",
    "## XOR Vectorizado\n",
    "\n",
    "**Ejercicio de composición de funciones para XOR**"
   ]
  },
  {
   "cell_type": "code",
   "execution_count": 11,
   "metadata": {},
   "outputs": [],
   "source": [
    "import numpy as np"
   ]
  },
  {
   "cell_type": "code",
   "execution_count": 12,
   "metadata": {},
   "outputs": [],
   "source": [
    "def vnot_1(x):\n",
    "    b = np.ones(x.shape)\n",
    "    b = np.vstack((x,b)).astype(int)\n",
    "    a = np.array([[-1,1]])\n",
    "    c = np.matmul(a,b)\n",
    "    return c"
   ]
  },
  {
   "cell_type": "code",
   "execution_count": 13,
   "metadata": {},
   "outputs": [],
   "source": [
    "def vnot(x):\n",
    "    return (x == 0).astype(int)"
   ]
  },
  {
   "cell_type": "code",
   "execution_count": 14,
   "metadata": {},
   "outputs": [
    {
     "name": "stdout",
     "output_type": "stream",
     "text": [
      "[[0 1 0 1 1 1 1 0 0 0]]\n",
      "[0 1 0 1 1 1 1 0 0 0]\n"
     ]
    }
   ],
   "source": [
    "test = np.array([1,0,1,0,0,0,0,1,1,1,])\n",
    "print(vnot_1(test))\n",
    "print(vnot(test))"
   ]
  },
  {
   "cell_type": "code",
   "execution_count": 15,
   "metadata": {},
   "outputs": [],
   "source": [
    "def vand(x1, x2):\n",
    "    return np.int_((x1 + x2)> 1)"
   ]
  },
  {
   "cell_type": "code",
   "execution_count": 16,
   "metadata": {},
   "outputs": [
    {
     "data": {
      "text/plain": [
       "array([0, 1, 0, 0])"
      ]
     },
     "execution_count": 16,
     "metadata": {},
     "output_type": "execute_result"
    }
   ],
   "source": [
    "test1= np.array([1,1,0,0])\n",
    "test2= np.array([0,1,0,1])\n",
    "\n",
    "vand(test1, test2)\n"
   ]
  },
  {
   "cell_type": "code",
   "execution_count": 17,
   "metadata": {},
   "outputs": [],
   "source": [
    "def vor(x1,x2):\n",
    "    return np.int_((x1 + x2)>= 1)\n",
    "    "
   ]
  },
  {
   "cell_type": "code",
   "execution_count": 18,
   "metadata": {},
   "outputs": [
    {
     "data": {
      "text/plain": [
       "array([1, 1, 0, 1])"
      ]
     },
     "execution_count": 18,
     "metadata": {},
     "output_type": "execute_result"
    }
   ],
   "source": [
    "test1= np.array([1,1,0,0])\n",
    "test2= np.array([0,1,0,1])\n",
    "\n",
    "vor(test1, test2)\n"
   ]
  },
  {
   "cell_type": "code",
   "execution_count": 19,
   "metadata": {},
   "outputs": [],
   "source": [
    "def vxor(x1,x2):\n",
    "    and1 = vand(x1,x2)\n",
    "    or1 = vor(x1,x2)\n",
    "    \n",
    "    nand1 = vnot(and1)\n",
    "    salida = vand(nand1,or1)\n",
    "    return salida"
   ]
  },
  {
   "cell_type": "code",
   "execution_count": 20,
   "metadata": {},
   "outputs": [
    {
     "data": {
      "text/plain": [
       "array([1, 0, 0, 1])"
      ]
     },
     "execution_count": 20,
     "metadata": {},
     "output_type": "execute_result"
    }
   ],
   "source": [
    "test1= np.array([1,1,0,0])\n",
    "test2= np.array([0,1,0,1])\n",
    "\n",
    "vxor(test1, test2)\n"
   ]
  },
  {
   "cell_type": "markdown",
   "metadata": {},
   "source": [
    "# Parte 2\n",
    "\n",
    "## Perceptron AND"
   ]
  },
  {
   "cell_type": "code",
   "execution_count": 32,
   "metadata": {},
   "outputs": [],
   "source": [
    "def per_and(a,b):\n",
    "    w1 = np.array([1,1])\n",
    "\n",
    "    c = np.vstack((a,b)) \n",
    "    # operacion wx + b\n",
    "    result = np.matmul(w1,c)\n",
    "    \n",
    "    # Funcion step\n",
    "    result = result > 1\n",
    "    return result.astype(int)"
   ]
  },
  {
   "cell_type": "code",
   "execution_count": 33,
   "metadata": {},
   "outputs": [
    {
     "data": {
      "text/plain": [
       "array([0, 1, 0, 0])"
      ]
     },
     "execution_count": 33,
     "metadata": {},
     "output_type": "execute_result"
    }
   ],
   "source": [
    "test1= np.array([1,1,0,0])\n",
    "test2= np.array([0,1,0,1])\n",
    "\n",
    "per_and(test1, test2)"
   ]
  },
  {
   "cell_type": "markdown",
   "metadata": {},
   "source": [
    "## Perceptron OR"
   ]
  },
  {
   "cell_type": "code",
   "execution_count": 34,
   "metadata": {},
   "outputs": [],
   "source": [
    "def per_or(a,b):\n",
    "    w1 = np.array([1,1])\n",
    "\n",
    "    c = np.vstack((a,b)) \n",
    "    # operacion wx + b\n",
    "    result = np.matmul(w1,c)\n",
    "    \n",
    "    # Funcion step\n",
    "    result = result >= 1\n",
    "    return result.astype(int)"
   ]
  },
  {
   "cell_type": "code",
   "execution_count": 35,
   "metadata": {},
   "outputs": [
    {
     "data": {
      "text/plain": [
       "array([1, 1, 0, 1])"
      ]
     },
     "execution_count": 35,
     "metadata": {},
     "output_type": "execute_result"
    }
   ],
   "source": [
    "test1= np.array([1,1,0,0])\n",
    "test2= np.array([0,1,0,1])\n",
    "\n",
    "per_or(test1, test2)"
   ]
  },
  {
   "cell_type": "markdown",
   "metadata": {},
   "source": [
    "### Remplazar las funciones de la parte 1 con los perceptrones entrenados."
   ]
  },
  {
   "cell_type": "code",
   "execution_count": 38,
   "metadata": {},
   "outputs": [],
   "source": [
    "def per_xor(x1,x2):\n",
    "    and1 = per_and(x1,x2)\n",
    "    or1 = per_or(x1,x2)\n",
    "    \n",
    "    nand1 = vnot(and1)\n",
    "    salida = per_and(nand1,or1)\n",
    "    return salida"
   ]
  },
  {
   "cell_type": "code",
   "execution_count": 39,
   "metadata": {},
   "outputs": [
    {
     "data": {
      "text/plain": [
       "array([1, 0, 0, 1])"
      ]
     },
     "execution_count": 39,
     "metadata": {},
     "output_type": "execute_result"
    }
   ],
   "source": [
    "test1= np.array([1,1,0,0])\n",
    "test2= np.array([0,1,0,1])\n",
    "\n",
    "per_xor(test1, test2)"
   ]
  }
 ],
 "metadata": {
  "kernelspec": {
   "display_name": "Python 3",
   "language": "python",
   "name": "python3"
  },
  "language_info": {
   "codemirror_mode": {
    "name": "ipython",
    "version": 3
   },
   "file_extension": ".py",
   "mimetype": "text/x-python",
   "name": "python",
   "nbconvert_exporter": "python",
   "pygments_lexer": "ipython3",
   "version": "3.7.4"
  }
 },
 "nbformat": 4,
 "nbformat_minor": 4
}
