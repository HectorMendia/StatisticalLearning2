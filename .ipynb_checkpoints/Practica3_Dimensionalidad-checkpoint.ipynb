{
 "cells": [
  {
   "cell_type": "markdown",
   "metadata": {},
   "source": [
    "## Practica 3 \n",
    "\n",
    "#### Maldicion de dimensionalidad\n"
   ]
  },
  {
   "cell_type": "code",
   "execution_count": 5,
   "metadata": {},
   "outputs": [],
   "source": [
    "import numpy as np\n",
    "from sklearn.preprocessing import PolynomialFeatures"
   ]
  },
  {
   "cell_type": "code",
   "execution_count": 31,
   "metadata": {},
   "outputs": [],
   "source": [
    "values_2_3 = np.arange(6).reshape(2,3)\n",
    "values_3_6 = np.arange(18).reshape(3,6)\n",
    "values_3_9 = np.arange(27).reshape(3,9)\n"
   ]
  },
  {
   "cell_type": "markdown",
   "metadata": {},
   "source": [
    "**Polinomio grado 1**"
   ]
  },
  {
   "cell_type": "code",
   "execution_count": 18,
   "metadata": {},
   "outputs": [
    {
     "output_type": "execute_result",
     "data": {
      "text/plain": "PolynomialFeatures(degree=1, include_bias=True, interaction_only=False,\n                   order='C')"
     },
     "metadata": {},
     "execution_count": 18
    }
   ],
   "source": [
    "pol1 = PolynomialFeatures(1)\n",
    "pol1"
   ]
  },
  {
   "cell_type": "code",
   "execution_count": 33,
   "metadata": {},
   "outputs": [
    {
     "output_type": "execute_result",
     "data": {
      "text/plain": "array([[1., 0., 1., 2.],\n       [1., 3., 4., 5.]])"
     },
     "metadata": {},
     "execution_count": 33
    }
   ],
   "source": [
    "# solo genera el intercepto y cada variable linealmente\n",
    "pol1.fit_transform(values_2_3)"
   ]
  },
  {
   "cell_type": "markdown",
   "metadata": {},
   "source": [
    "**Polinomio grado 2**"
   ]
  },
  {
   "cell_type": "code",
   "execution_count": 20,
   "metadata": {},
   "outputs": [
    {
     "output_type": "execute_result",
     "data": {
      "text/plain": "PolynomialFeatures(degree=2, include_bias=True, interaction_only=False,\n                   order='C')"
     },
     "metadata": {},
     "execution_count": 20
    }
   ],
   "source": [
    "pol2 = PolynomialFeatures(2)\n",
    "pol2"
   ]
  },
  {
   "cell_type": "code",
   "execution_count": 34,
   "metadata": {},
   "outputs": [
    {
     "output_type": "execute_result",
     "data": {
      "text/plain": "array([[ 1.,  0.,  1.,  2.,  0.,  0.,  0.,  1.,  2.,  4.],\n       [ 1.,  3.,  4.,  5.,  9., 12., 15., 16., 20., 25.]])"
     },
     "metadata": {},
     "execution_count": 34
    }
   ],
   "source": [
    "# genera cada combinacion de valores\n",
    "# el input es [a,b,c] , [d,e,f]\n",
    "# intecepto, a, b, c, aa, ab, ac, bb, bc, cc\n",
    "# intecepto, d, e, f, dd, de, df, ee, ef, ff\n",
    "pol2.fit_transform(values_2_3)"
   ]
  },
  {
   "cell_type": "markdown",
   "metadata": {},
   "source": [
    "**Polinomio grado 3**"
   ]
  },
  {
   "cell_type": "code",
   "execution_count": 29,
   "metadata": {},
   "outputs": [
    {
     "output_type": "execute_result",
     "data": {
      "text/plain": "PolynomialFeatures(degree=3, include_bias=True, interaction_only=False,\n                   order='C')"
     },
     "metadata": {},
     "execution_count": 29
    }
   ],
   "source": [
    "pol3 = PolynomialFeatures(3)\n",
    "pol3"
   ]
  },
  {
   "cell_type": "code",
   "execution_count": 30,
   "metadata": {},
   "outputs": [
    {
     "output_type": "execute_result",
     "data": {
      "text/plain": "array([[  1.,   0.,   1.,   2.,   0.,   0.,   0.,   1.,   2.,   4.,   0.,\n          0.,   0.,   0.,   0.,   0.,   1.,   2.,   4.,   8.],\n       [  1.,   3.,   4.,   5.,   9.,  12.,  15.,  16.,  20.,  25.,  27.,\n         36.,  45.,  48.,  60.,  75.,  64.,  80., 100., 125.]])"
     },
     "metadata": {},
     "execution_count": 30
    }
   ],
   "source": [
    "# intercepto, a, b, c, aa, ab, ac, bb, bc, cc, aaa, aab, aac, abb, abc, acc, bbb, bbc, bcc, ccc\n",
    "pol3.fit_transform(values_2_3)"
   ]
  },
  {
   "cell_type": "code",
   "execution_count": 36,
   "metadata": {},
   "outputs": [
    {
     "output_type": "execute_result",
     "data": {
      "text/plain": "(2, 20)"
     },
     "metadata": {},
     "execution_count": 36
    }
   ],
   "source": [
    "pol3.fit_transform(values_2_3).shape"
   ]
  },
  {
   "cell_type": "markdown",
   "metadata": {},
   "source": [
    "#### Utilizando 6 variables para cada grado de generacion de polinomios"
   ]
  },
  {
   "cell_type": "code",
   "execution_count": 32,
   "metadata": {},
   "outputs": [
    {
     "output_type": "execute_result",
     "data": {
      "text/plain": "array([[ 1.,  0.,  1.,  2.,  3.,  4.,  5.],\n       [ 1.,  6.,  7.,  8.,  9., 10., 11.],\n       [ 1., 12., 13., 14., 15., 16., 17.]])"
     },
     "metadata": {},
     "execution_count": 32
    }
   ],
   "source": [
    "#\n",
    "pol1.fit_transform(values_3_6)"
   ]
  },
  {
   "cell_type": "code",
   "execution_count": 37,
   "metadata": {},
   "outputs": [
    {
     "output_type": "execute_result",
     "data": {
      "text/plain": "array([[  1.,   0.,   1.,   2.,   3.,   4.,   5.,   0.,   0.,   0.,   0.,\n          0.,   0.,   1.,   2.,   3.,   4.,   5.,   4.,   6.,   8.,  10.,\n          9.,  12.,  15.,  16.,  20.,  25.],\n       [  1.,   6.,   7.,   8.,   9.,  10.,  11.,  36.,  42.,  48.,  54.,\n         60.,  66.,  49.,  56.,  63.,  70.,  77.,  64.,  72.,  80.,  88.,\n         81.,  90.,  99., 100., 110., 121.],\n       [  1.,  12.,  13.,  14.,  15.,  16.,  17., 144., 156., 168., 180.,\n        192., 204., 169., 182., 195., 208., 221., 196., 210., 224., 238.,\n        225., 240., 255., 256., 272., 289.]])"
     },
     "metadata": {},
     "execution_count": 37
    }
   ],
   "source": [
    "pol2.fit_transform(values_3_6)"
   ]
  },
  {
   "cell_type": "code",
   "execution_count": 38,
   "metadata": {},
   "outputs": [
    {
     "output_type": "execute_result",
     "data": {
      "text/plain": "array([[1.000e+00, 0.000e+00, 1.000e+00, 2.000e+00, 3.000e+00, 4.000e+00,\n        5.000e+00, 0.000e+00, 0.000e+00, 0.000e+00, 0.000e+00, 0.000e+00,\n        0.000e+00, 1.000e+00, 2.000e+00, 3.000e+00, 4.000e+00, 5.000e+00,\n        4.000e+00, 6.000e+00, 8.000e+00, 1.000e+01, 9.000e+00, 1.200e+01,\n        1.500e+01, 1.600e+01, 2.000e+01, 2.500e+01, 0.000e+00, 0.000e+00,\n        0.000e+00, 0.000e+00, 0.000e+00, 0.000e+00, 0.000e+00, 0.000e+00,\n        0.000e+00, 0.000e+00, 0.000e+00, 0.000e+00, 0.000e+00, 0.000e+00,\n        0.000e+00, 0.000e+00, 0.000e+00, 0.000e+00, 0.000e+00, 0.000e+00,\n        0.000e+00, 1.000e+00, 2.000e+00, 3.000e+00, 4.000e+00, 5.000e+00,\n        4.000e+00, 6.000e+00, 8.000e+00, 1.000e+01, 9.000e+00, 1.200e+01,\n        1.500e+01, 1.600e+01, 2.000e+01, 2.500e+01, 8.000e+00, 1.200e+01,\n        1.600e+01, 2.000e+01, 1.800e+01, 2.400e+01, 3.000e+01, 3.200e+01,\n        4.000e+01, 5.000e+01, 2.700e+01, 3.600e+01, 4.500e+01, 4.800e+01,\n        6.000e+01, 7.500e+01, 6.400e+01, 8.000e+01, 1.000e+02, 1.250e+02],\n       [1.000e+00, 6.000e+00, 7.000e+00, 8.000e+00, 9.000e+00, 1.000e+01,\n        1.100e+01, 3.600e+01, 4.200e+01, 4.800e+01, 5.400e+01, 6.000e+01,\n        6.600e+01, 4.900e+01, 5.600e+01, 6.300e+01, 7.000e+01, 7.700e+01,\n        6.400e+01, 7.200e+01, 8.000e+01, 8.800e+01, 8.100e+01, 9.000e+01,\n        9.900e+01, 1.000e+02, 1.100e+02, 1.210e+02, 2.160e+02, 2.520e+02,\n        2.880e+02, 3.240e+02, 3.600e+02, 3.960e+02, 2.940e+02, 3.360e+02,\n        3.780e+02, 4.200e+02, 4.620e+02, 3.840e+02, 4.320e+02, 4.800e+02,\n        5.280e+02, 4.860e+02, 5.400e+02, 5.940e+02, 6.000e+02, 6.600e+02,\n        7.260e+02, 3.430e+02, 3.920e+02, 4.410e+02, 4.900e+02, 5.390e+02,\n        4.480e+02, 5.040e+02, 5.600e+02, 6.160e+02, 5.670e+02, 6.300e+02,\n        6.930e+02, 7.000e+02, 7.700e+02, 8.470e+02, 5.120e+02, 5.760e+02,\n        6.400e+02, 7.040e+02, 6.480e+02, 7.200e+02, 7.920e+02, 8.000e+02,\n        8.800e+02, 9.680e+02, 7.290e+02, 8.100e+02, 8.910e+02, 9.000e+02,\n        9.900e+02, 1.089e+03, 1.000e+03, 1.100e+03, 1.210e+03, 1.331e+03],\n       [1.000e+00, 1.200e+01, 1.300e+01, 1.400e+01, 1.500e+01, 1.600e+01,\n        1.700e+01, 1.440e+02, 1.560e+02, 1.680e+02, 1.800e+02, 1.920e+02,\n        2.040e+02, 1.690e+02, 1.820e+02, 1.950e+02, 2.080e+02, 2.210e+02,\n        1.960e+02, 2.100e+02, 2.240e+02, 2.380e+02, 2.250e+02, 2.400e+02,\n        2.550e+02, 2.560e+02, 2.720e+02, 2.890e+02, 1.728e+03, 1.872e+03,\n        2.016e+03, 2.160e+03, 2.304e+03, 2.448e+03, 2.028e+03, 2.184e+03,\n        2.340e+03, 2.496e+03, 2.652e+03, 2.352e+03, 2.520e+03, 2.688e+03,\n        2.856e+03, 2.700e+03, 2.880e+03, 3.060e+03, 3.072e+03, 3.264e+03,\n        3.468e+03, 2.197e+03, 2.366e+03, 2.535e+03, 2.704e+03, 2.873e+03,\n        2.548e+03, 2.730e+03, 2.912e+03, 3.094e+03, 2.925e+03, 3.120e+03,\n        3.315e+03, 3.328e+03, 3.536e+03, 3.757e+03, 2.744e+03, 2.940e+03,\n        3.136e+03, 3.332e+03, 3.150e+03, 3.360e+03, 3.570e+03, 3.584e+03,\n        3.808e+03, 4.046e+03, 3.375e+03, 3.600e+03, 3.825e+03, 3.840e+03,\n        4.080e+03, 4.335e+03, 4.096e+03, 4.352e+03, 4.624e+03, 4.913e+03]])"
     },
     "metadata": {},
     "execution_count": 38
    }
   ],
   "source": [
    "pol3.fit_transform(values_3_6)"
   ]
  },
  {
   "cell_type": "code",
   "execution_count": 39,
   "metadata": {
    "tags": []
   },
   "outputs": [
    {
     "output_type": "stream",
     "name": "stdout",
     "text": "(3, 7)\n(3, 28)\n(3, 84)\n"
    }
   ],
   "source": [
    "print(pol1.fit_transform(values_3_6).shape)\n",
    "print(pol2.fit_transform(values_3_6).shape)\n",
    "print(pol3.fit_transform(values_3_6).shape)"
   ]
  },
  {
   "cell_type": "markdown",
   "metadata": {},
   "source": [
    "#### Utilizando 9 variables"
   ]
  },
  {
   "cell_type": "code",
   "execution_count": 40,
   "metadata": {
    "tags": []
   },
   "outputs": [
    {
     "output_type": "stream",
     "name": "stdout",
     "text": "(3, 10)\n(3, 55)\n(3, 220)\n"
    }
   ],
   "source": [
    "print(pol1.fit_transform(values_3_9).shape)\n",
    "print(pol2.fit_transform(values_3_9).shape)\n",
    "print(pol3.fit_transform(values_3_9).shape)"
   ]
  },
  {
   "cell_type": "markdown",
   "metadata": {},
   "source": [
    "## Conclusiones\n",
    "\n",
    "Debido a que se realiza una combinacion de cada variable segun el grado de polinomio, las combinaciones crecen significativamente segun estos valores.  Como se logra observar para un grado de polinomio 1 solo se tienen los valores lineales de cada caso, pero cuando se realiza un polinomio de grado 2 se calculan las combinaciones de cada variable mas los cuadrados.\n",
    "\n",
    "Por lo que tener varias variables genera un polinomio grande como en el ultimo caso, donde con 9 variables un polinomio de grado 3 genera 220 factores.  Este modelo se volveria demasiado grande para determinados casos; por ejemplo si se quisiera utilizar para tratamiento de imagenes. \n",
    "\n",
    "Si la imagen fuera pequeña, de 40 x 40, serian 1600 variables; parte de la utilidad de este proceso es saber donde utilizarlo de forma apropiada en donde la cantidad de variables es poca y el grado del polinomio no es tran grande ya que esto podria provocar overfiting.\n",
    "\n",
    "\n",
    "\n",
    "\n",
    "\n",
    "\n",
    "\n"
   ]
  }
 ],
 "metadata": {
  "kernelspec": {
   "display_name": "Python 3",
   "language": "python",
   "name": "python3"
  },
  "language_info": {
   "codemirror_mode": {
    "name": "ipython",
    "version": 3
   },
   "file_extension": ".py",
   "mimetype": "text/x-python",
   "name": "python",
   "nbconvert_exporter": "python",
   "pygments_lexer": "ipython3",
   "version": "3.7.4"
  }
 },
 "nbformat": 4,
 "nbformat_minor": 4
}