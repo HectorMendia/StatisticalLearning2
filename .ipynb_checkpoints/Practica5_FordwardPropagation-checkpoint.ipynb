{
 "cells": [
  {
   "cell_type": "markdown",
   "metadata": {},
   "source": [
    "## Practica 5\n",
    "#### Forward propagation y representacion intermedia\n",
    "\n",
    "Creacion de Fordward propagation de las graficas"
   ]
  },
  {
   "cell_type": "code",
   "execution_count": 94,
   "metadata": {},
   "outputs": [],
   "source": [
    "import numpy as np\n",
    "import matplotlib.pyplot as plt\n",
    "import seaborn as sb"
   ]
  },
  {
   "cell_type": "code",
   "execution_count": 4,
   "metadata": {},
   "outputs": [],
   "source": [
    "\n"
   ]
  },
  {
   "cell_type": "code",
   "execution_count": 87,
   "metadata": {},
   "outputs": [],
   "source": [
    "class ForwardProg:\n",
    "    def __init__(self, w1, w2):    \n",
    "        self.wl1 = w1\n",
    "        self.wl2 = w2\n",
    "        self.hidden = None\n",
    "\n",
    "    def sigmoid(self,x):\n",
    "        return 1/(1+np.exp(-x))\n",
    "    \n",
    "    def ite_propagation(self,x, add_sesgo= False):\n",
    "        print(x.shape)\n",
    "        print(self.wl1.shape)\n",
    "        hidden = self.sigmoid(np.matmul(x,self.wl1.T))\n",
    "        self.hidden = hidden\n",
    "        #print(hidden.shape)\n",
    "        if add_sesgo:\n",
    "            largo = hidden.shape[0]\n",
    "            sesgo = np.ones(largo).reshape(largo,1)\n",
    "            #print(sesgo.shape)\n",
    "            #print(hidden.shape)\n",
    "            hidden = np.hstack((hidden,sesgo))\n",
    "            #print(hidden.shape)\n",
    "        print(hidden.shape)\n",
    "        print(self.wl2.shape)\n",
    "        sal = self.sigmoid(np.matmul(hidden,self.wl2.T))\n",
    "        #print(sal.shape)\n",
    "        return sal\n",
    "    \n",
    "    def get_hidden(self):\n",
    "        return self.hidden"
   ]
  },
  {
   "cell_type": "markdown",
   "metadata": {},
   "source": [
    "<img src=\"diagrama1.PNG\"/>"
   ]
  },
  {
   "cell_type": "code",
   "execution_count": 88,
   "metadata": {},
   "outputs": [
    {
     "name": "stdout",
     "output_type": "stream",
     "text": [
      "(4, 3)\n",
      "(2, 3)\n",
      "(4, 3)\n",
      "(1, 3)\n"
     ]
    },
    {
     "data": {
      "text/plain": [
       "array([[0.33617605],\n",
       "       [0.27158134],\n",
       "       [0.00447989],\n",
       "       [0.99752738]])"
      ]
     },
     "execution_count": 88,
     "metadata": {},
     "output_type": "execute_result"
    }
   ],
   "source": [
    "x1 = np.array([\n",
    " [5, 10, 1],\n",
    " [1, 1, 1],\n",
    " [0, 1, 1],    \n",
    " [10, 5, 1],\n",
    "])\n",
    "\n",
    "w11 = np.array([\n",
    "    [5, -2, -8],\n",
    "    [7, -3, 1]\n",
    "])\n",
    "\n",
    "w12 = np.array([[7, 5, -6]])\n",
    "\n",
    "red1  = ForwardProg(w11,w12)\n",
    "red1.ite_propagation(x1,True)"
   ]
  },
  {
   "cell_type": "code",
   "execution_count": null,
   "metadata": {},
   "outputs": [],
   "source": []
  },
  {
   "cell_type": "markdown",
   "metadata": {},
   "source": [
    "<img src=\"diagrama2.PNG\"/>"
   ]
  },
  {
   "cell_type": "code",
   "execution_count": 89,
   "metadata": {},
   "outputs": [
    {
     "name": "stdout",
     "output_type": "stream",
     "text": [
      "(6, 2)\n",
      "(3, 2)\n",
      "(6, 3)\n",
      "(1, 3)\n"
     ]
    },
    {
     "data": {
      "text/plain": [
       "array([[0.78815037],\n",
       "       [0.70056714],\n",
       "       [0.74661477],\n",
       "       [0.75329089],\n",
       "       [0.83640392],\n",
       "       [0.84499949]])"
      ]
     },
     "execution_count": 89,
     "metadata": {},
     "output_type": "execute_result"
    }
   ],
   "source": [
    "x2 = np.array([\n",
    " [1, 1],\n",
    " [0, 0],\n",
    " [0, 1],    \n",
    " [1, 0],\n",
    " [2, 4],    \n",
    " [3, 9],\n",
    "])\n",
    "\n",
    "w21 = np.array([\n",
    "    [8, 0.2],\n",
    "    [0.4, 0.9],\n",
    "    [0.3, 0.5]\n",
    "])\n",
    "\n",
    "w22 = np.array([[0.3, 0.5, 0.9]])\n",
    "\n",
    "red2  = ForwardProg(w21,w22)\n",
    "red2.ite_propagation(x2)"
   ]
  },
  {
   "cell_type": "code",
   "execution_count": null,
   "metadata": {},
   "outputs": [],
   "source": []
  },
  {
   "cell_type": "markdown",
   "metadata": {},
   "source": [
    "<img src=\"diagrama3.PNG\"/>"
   ]
  },
  {
   "cell_type": "code",
   "execution_count": 144,
   "metadata": {},
   "outputs": [
    {
     "name": "stdout",
     "output_type": "stream",
     "text": [
      "(4, 3)\n",
      "(2, 3)\n",
      "(4, 3)\n",
      "(1, 3)\n"
     ]
    },
    {
     "data": {
      "text/plain": [
       "array([[4.54391049e-05],\n",
       "       [4.54391049e-05],\n",
       "       [9.99954520e-01],\n",
       "       [9.99954520e-01]])"
      ]
     },
     "execution_count": 144,
     "metadata": {},
     "output_type": "execute_result"
    }
   ],
   "source": [
    "x3 = np.array([\n",
    " [1, 1, 1],\n",
    " [0, 0, 1],\n",
    " [0, 1, 1],    \n",
    " [1, 0, 1],\n",
    "])\n",
    "\n",
    "w31 = np.array([\n",
    "    [20, 20, -10],\n",
    "    [-20, -20, 30]\n",
    "])\n",
    "\n",
    "w32 = np.array([[20, 20, -30]])\n",
    "\n",
    "red3  = ForwardProg(w31,w32)\n",
    "y_ = red3.ite_propagation(x3,True)\n",
    "y_"
   ]
  },
  {
   "cell_type": "code",
   "execution_count": null,
   "metadata": {},
   "outputs": [],
   "source": []
  },
  {
   "cell_type": "code",
   "execution_count": 145,
   "metadata": {},
   "outputs": [
    {
     "data": {
      "text/plain": [
       "array([0, 0, 1, 1])"
      ]
     },
     "execution_count": 145,
     "metadata": {},
     "output_type": "execute_result"
    }
   ],
   "source": [
    "color = (y_>0.5).astype(int)\n",
    "color.T[0]"
   ]
  },
  {
   "cell_type": "code",
   "execution_count": 150,
   "metadata": {},
   "outputs": [
    {
     "data": {
      "image/png": "[encoded data removed]",
      "text/plain": [
       "<Figure size 432x288 with 1 Axes>"
      ]
     },
     "metadata": {
      "needs_background": "light"
     },
     "output_type": "display_data"
    }
   ],
   "source": [
    "\n",
    "temp = [0,0,1,1,0,0]\n",
    "ax = sb.scatterplot(x=red3.hidden[:,0], y=red3.hidden[:,1],s=15, hue=color.T[0])\n",
    "\n"
   ]
  },
  {
   "cell_type": "code",
   "execution_count": 147,
   "metadata": {},
   "outputs": [
    {
     "data": {
      "image/png": "[encoded data removed]",
      "text/plain": [
       "<Figure size 432x288 with 1 Axes>"
      ]
     },
     "metadata": {
      "needs_background": "light"
     },
     "output_type": "display_data"
    }
   ],
   "source": [
    "axo = sb.scatterplot(x=x3[:,0], y=x3[:,1], hue=color.T[0])\n"
   ]
  },
  {
   "cell_type": "markdown",
   "metadata": {},
   "source": [
    "### Conclusiones"
   ]
  },
  {
   "cell_type": "code",
   "execution_count": null,
   "metadata": {},
   "outputs": [],
   "source": []
  },
  {
   "cell_type": "code",
   "execution_count": null,
   "metadata": {},
   "outputs": [],
   "source": []
  },
  {
   "cell_type": "code",
   "execution_count": null,
   "metadata": {},
   "outputs": [],
   "source": []
  }
 ],
 "metadata": {
  "kernelspec": {
   "display_name": "Python 3",
   "language": "python",
   "name": "python3"
  },
  "language_info": {
   "codemirror_mode": {
    "name": "ipython",
    "version": 3
   },
   "file_extension": ".py",
   "mimetype": "text/x-python",
   "name": "python",
   "nbconvert_exporter": "python",
   "pygments_lexer": "ipython3",
   "version": "3.7.4"
  }
 },
 "nbformat": 4,
 "nbformat_minor": 4
}
