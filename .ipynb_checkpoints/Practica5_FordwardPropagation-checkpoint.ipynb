{
 "cells": [
  {
   "cell_type": "markdown",
   "metadata": {},
   "source": [
    "## Practica 5\n",
    "#### Forward propagation y representacion intermedia\n",
    "\n",
    "Creacion de Fordward propagation de las graficas"
   ]
  },
  {
   "cell_type": "code",
   "execution_count": 1,
   "metadata": {},
   "outputs": [],
   "source": [
    "import numpy as np"
   ]
  },
  {
   "cell_type": "code",
   "execution_count": 4,
   "metadata": {},
   "outputs": [],
   "source": [
    "\n"
   ]
  },
  {
   "cell_type": "code",
   "execution_count": 87,
   "metadata": {},
   "outputs": [],
   "source": [
    "class ForwardProg:\n",
    "    def __init__(self, w1, w2):    \n",
    "        self.wl1 = w1\n",
    "        self.wl2 = w2\n",
    "        self.hidden = None\n",
    "\n",
    "    def sigmoid(self,x):\n",
    "        return 1/(1+np.exp(-x))\n",
    "    \n",
    "    def ite_propagation(self,x, add_sesgo= False):\n",
    "        print(x.shape)\n",
    "        print(self.wl1.shape)\n",
    "        hidden = self.sigmoid(np.matmul(x,self.wl1.T))\n",
    "        self.hidden = hidden\n",
    "        #print(hidden.shape)\n",
    "        if add_sesgo:\n",
    "            largo = hidden.shape[0]\n",
    "            sesgo = np.ones(largo).reshape(largo,1)\n",
    "            #print(sesgo.shape)\n",
    "            #print(hidden.shape)\n",
    "            hidden = np.hstack((hidden,sesgo))\n",
    "            #print(hidden.shape)\n",
    "        print(hidden.shape)\n",
    "        print(self.wl2.shape)\n",
    "        sal = self.sigmoid(np.matmul(hidden,self.wl2.T))\n",
    "        #print(sal.shape)\n",
    "        return sal\n",
    "    \n",
    "    def get_hidden(self):\n",
    "        return self.hidden"
   ]
  },
  {
   "cell_type": "markdown",
   "metadata": {},
   "source": [
    "<img src=\"diagrama1.PNG\"/>"
   ]
  },
  {
   "cell_type": "code",
   "execution_count": 88,
   "metadata": {},
   "outputs": [
    {
     "name": "stdout",
     "output_type": "stream",
     "text": [
      "(4, 3)\n",
      "(2, 3)\n",
      "(4, 3)\n",
      "(1, 3)\n"
     ]
    },
    {
     "data": {
      "text/plain": [
       "array([[0.33617605],\n",
       "       [0.27158134],\n",
       "       [0.00447989],\n",
       "       [0.99752738]])"
      ]
     },
     "execution_count": 88,
     "metadata": {},
     "output_type": "execute_result"
    }
   ],
   "source": [
    "x1 = np.array([\n",
    " [5, 10, 1],\n",
    " [1, 1, 1],\n",
    " [0, 1, 1],    \n",
    " [10, 5, 1],\n",
    "])\n",
    "\n",
    "w11 = np.array([\n",
    "    [5, -2, -8],\n",
    "    [7, -3, 1]\n",
    "])\n",
    "\n",
    "w12 = np.array([[7, 5, -6]])\n",
    "\n",
    "red1  = ForwardProg(w11,w12)\n",
    "red1.ite_propagation(x1,True)"
   ]
  },
  {
   "cell_type": "code",
   "execution_count": null,
   "metadata": {},
   "outputs": [],
   "source": []
  },
  {
   "cell_type": "markdown",
   "metadata": {},
   "source": [
    "<img src=\"diagrama2.PNG\"/>"
   ]
  },
  {
   "cell_type": "code",
   "execution_count": 89,
   "metadata": {},
   "outputs": [
    {
     "name": "stdout",
     "output_type": "stream",
     "text": [
      "(6, 2)\n",
      "(3, 2)\n",
      "(6, 3)\n",
      "(1, 3)\n"
     ]
    },
    {
     "data": {
      "text/plain": [
       "array([[0.78815037],\n",
       "       [0.70056714],\n",
       "       [0.74661477],\n",
       "       [0.75329089],\n",
       "       [0.83640392],\n",
       "       [0.84499949]])"
      ]
     },
     "execution_count": 89,
     "metadata": {},
     "output_type": "execute_result"
    }
   ],
   "source": [
    "x2 = np.array([\n",
    " [1, 1],\n",
    " [0, 0],\n",
    " [0, 1],    \n",
    " [1, 0],\n",
    " [2, 4],    \n",
    " [3, 9],\n",
    "])\n",
    "\n",
    "w21 = np.array([\n",
    "    [8, 0.2],\n",
    "    [0.4, 0.9],\n",
    "    [0.3, 0.5]\n",
    "])\n",
    "\n",
    "w22 = np.array([[0.3, 0.5, 0.9]])\n",
    "\n",
    "red2  = ForwardProg(w21,w22)\n",
    "red2.ite_propagation(x2)"
   ]
  },
  {
   "cell_type": "code",
   "execution_count": null,
   "metadata": {},
   "outputs": [],
   "source": []
  },
  {
   "cell_type": "markdown",
   "metadata": {},
   "source": [
    "<img src=\"diagrama3.PNG\"/>"
   ]
  },
  {
   "cell_type": "code",
   "execution_count": 90,
   "metadata": {},
   "outputs": [
    {
     "name": "stdout",
     "output_type": "stream",
     "text": [
      "(6, 3)\n",
      "(2, 3)\n",
      "(6, 3)\n",
      "(1, 3)\n"
     ]
    },
    {
     "data": {
      "text/plain": [
       "array([[4.54391049e-05],\n",
       "       [4.54391049e-05],\n",
       "       [9.99954520e-01],\n",
       "       [9.99954520e-01],\n",
       "       [4.53978687e-05],\n",
       "       [4.53978687e-05]])"
      ]
     },
     "execution_count": 90,
     "metadata": {},
     "output_type": "execute_result"
    }
   ],
   "source": [
    "x3 = np.array([\n",
    " [1, 1, 1],\n",
    " [0, 0, 1],\n",
    " [0, 1, 1],    \n",
    " [1, 0, 1],\n",
    " [2, 4, 1],    \n",
    " [3, 9, 1],\n",
    "])\n",
    "\n",
    "w31 = np.array([\n",
    "    [20, 20, -10],\n",
    "    [-20, -20, 30]\n",
    "])\n",
    "\n",
    "w32 = np.array([[20, 20, -30]])\n",
    "\n",
    "red3  = ForwardProg(w31,w32)\n",
    "red3.ite_propagation(x3,True)"
   ]
  },
  {
   "cell_type": "code",
   "execution_count": 92,
   "metadata": {},
   "outputs": [
    {
     "data": {
      "text/plain": [
       "array([[1.00000000e+00, 4.53978687e-05],\n",
       "       [4.53978687e-05, 1.00000000e+00],\n",
       "       [9.99954602e-01, 9.99954602e-01],\n",
       "       [9.99954602e-01, 9.99954602e-01],\n",
       "       [1.00000000e+00, 8.19401262e-40],\n",
       "       [1.00000000e+00, 6.28288051e-92]])"
      ]
     },
     "execution_count": 92,
     "metadata": {},
     "output_type": "execute_result"
    }
   ],
   "source": [
    "red3.hidden"
   ]
  },
  {
   "cell_type": "code",
   "execution_count": null,
   "metadata": {},
   "outputs": [],
   "source": []
  },
  {
   "cell_type": "code",
   "execution_count": 2,
   "metadata": {},
   "outputs": [],
   "source": [
    "wc1 = np.array([\n",
    "    [0.9, 0.8, 0.1],\n",
    "    [0.3, 0.5, 0.6],\n",
    "    [0.2, 0.4, 0.7]])\n",
    "\n",
    "wc2 = np.array([0.3, 0.5, 0.9])"
   ]
  },
  {
   "cell_type": "code",
   "execution_count": 3,
   "metadata": {},
   "outputs": [],
   "source": [
    "x = np.array([\n",
    "    [1, 0, 1],\n",
    "    [1, 2, 3],\n",
    "    [4, 5, 6],\n",
    "    [6, 7, 8],\n",
    "])"
   ]
  },
  {
   "cell_type": "code",
   "execution_count": 6,
   "metadata": {},
   "outputs": [
    {
     "data": {
      "text/plain": [
       "array([0.77387413, 0.83403412, 0.84538425, 0.84552612])"
      ]
     },
     "execution_count": 6,
     "metadata": {},
     "output_type": "execute_result"
    }
   ],
   "source": [
    "H = np.matmul(x,wc1)\n",
    "A = sigmoid(H)\n",
    "h2 = np.matmul(A,wc2)\n",
    "y_aprox = sigmoid(h2)\n",
    "y_aprox"
   ]
  }
 ],
 "metadata": {
  "kernelspec": {
   "display_name": "Python 3",
   "language": "python",
   "name": "python3"
  },
  "language_info": {
   "codemirror_mode": {
    "name": "ipython",
    "version": 3
   },
   "file_extension": ".py",
   "mimetype": "text/x-python",
   "name": "python",
   "nbconvert_exporter": "python",
   "pygments_lexer": "ipython3",
   "version": "3.7.4"
  }
 },
 "nbformat": 4,
 "nbformat_minor": 4
}
