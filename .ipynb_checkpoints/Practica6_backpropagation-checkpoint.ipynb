{
 "cells": [
  {
   "cell_type": "markdown",
   "metadata": {},
   "source": [
    "# Practica 6\n",
    "### Back-propagation (Propagacion del error)\n",
    "\n",
    "Dado el siguiente diagrama y asumiendo que las neuronas de salida tienen errores de : [3.0,10.0], calcule el término de error(delta minúscula) simplificado para cada una de las neuronas en el diagrama.\n",
    "\n",
    "<img src='back1.png' width='50%'>"
   ]
  },
  {
   "cell_type": "markdown",
   "metadata": {},
   "source": [
    "En este caso lo primero que se calculo fue el forward propagation\n",
    "\n",
    "Tomando como:\n",
    "\n",
    "* x1 = x2 = x3 = 1    \n",
    "* Learning rate = 1\n",
    "* Activacion = sigmoid = $ f(x) =  \\frac{1}{1 + e^-x }  $\n",
    "\n",
    "|     |      |    |      | | |\n",
    "|-----|------|-----|-------|-----|-------|\n",
    "| w1  | 0.3  | w10 | -0.3  | w19 | -0.23 |\n",
    "| w2  | 0.46 | w11 | 0.62  | w20 | 0.22 |\n",
    "| w3  | 0.02 | w12 | 0.45  | w21 | 0.77 |\n",
    "| w4  | 0.22 | w13 | 0.45  | w22 | 0.9 |\n",
    "| w5  | -0.7 | w14 | 0.57  | w23 | 0.88 |\n",
    "| w6  | 0.65 | w15 | 0.48  | w24 | -0.4 |\n",
    "| w7  | 0.65 | w16 | 0.65  |  |  |\n",
    "| w8  | 0.9  | w17 | 0.58  |  |  |\n",
    "| w9  | 0.34 | w18 | -0.45 |  |  |"
   ]
  },
  {
   "cell_type": "markdown",
   "metadata": {},
   "source": [
    "$H1 = x1*w1 + x2*w2 + x3*w3 = 0.3 + 0.46 + 0.02 = 0.78 --> sigmoid(H1) = 0.6856$\n",
    "\n",
    "Por lo que tendriamos\n",
    "\n",
    "|     |      |    |      | | |\n",
    "|-----|------|-----|-------|-----|-------|\n",
    "| H1  | 0.685680114 | H4 | 0.62750375   | Y1 | 0.616164076 |\n",
    "| H2  | 0.542397941 | H5 | 0.737831013  | Y2 | 0.726616765 |\n",
    "| H3  | 0.868755531 | H6 | 0.591300188  |  |  |\n",
    "\n",
    "Los errores datos fueron 3, 10\n",
    "\n"
   ]
  },
  {
   "cell_type": "markdown",
   "metadata": {},
   "source": [
    "**Backpropagation de cada w**"
   ]
  },
  {
   "cell_type": "markdown",
   "metadata": {},
   "source": [
    "$\\alpha = 1$\n",
    "$$ w19 = w19 - \\alpha\\frac{\\partial error}{\\partial w19} $$\n",
    "\n",
    "$$ \\frac{\\partial error}{\\partial w19} = \\frac{\\partial error}{\\partial aY_1} \\frac{\\partial aY_1}{\\partial Y_1} \\frac{\\partial Y_1}{\\partial w19} $$\n",
    "\n",
    "$$\\frac{\\partial error}{\\partial aY_1} = 3$$\n",
    "$$\\frac{\\partial aY_1}{\\partial Y_1} = aY_1(1-aY_1) = 0.616164076 (1-0.616164076) = 0.236505907$$\n",
    "$$\\frac{\\partial Y_1}{\\partial w19} = aH4 = 0.62750375$$\n",
    "$$ \\frac{\\partial error}{\\partial w19} = (3) (0.236505907) (0.62750375) = 0.445225032$$\n",
    "\n",
    "$$ w19 = w19 - \\alpha \\frac{\\partial error}{\\partial w19} = -0.23 - 0.445225032 = -0.675225032$$\n"
   ]
  },
  {
   "cell_type": "markdown",
   "metadata": {},
   "source": [
    "|     | inicial | cambio | nuevo (w-cambio)|\n",
    "|-----|---------|--------|-------|\n",
    "| w19 |  -0.23 | 0.445225032 | -0.675225032 |\n",
    "| w20 |  0.22  | 0.52350418  | -0.30350418  |\n",
    "| w21 |  0.77  | 0.419537963 | 0.350462037  |\n",
    "| w22 |  0.9   | 1.246503832 | -0.346503832 |\n",
    "| w23 |  0.88  | 1.465663248 | -0.585663248 |\n",
    "| w24 |  -0.4  | 1.174587323 | -1.574587323 |\n"
   ]
  },
  {
   "cell_type": "markdown",
   "metadata": {},
   "source": [
    "$$ w10 = w10 - \\alpha\\frac{\\partial error}{\\partial w10} $$\n",
    "<br/>\n",
    "$$ \\frac{\\partial error}{\\partial w10} = \\frac{\\partial error}{\\partial aH4} \\frac{\\partial aH4}{\\partial H4} \\frac{\\partial H4}{\\partial w10} = (1.6246145) (0.233742794) (0.685680114) = 0.260381491$$\n",
    "<br/>\n",
    "\n",
    "$$\\frac{\\partial H4}{\\partial w10} = aH1 = 0.685680114$$\n",
    "$$\\frac{\\partial aH4}{\\partial H4} = aH4(1-aH4) = 0.62750375 (1-0.62750375) = 0.233742794$$\n",
    "$$\\frac{\\partial error}{\\partial aH4} = \\frac{\\partial error1}{\\partial aH4} + \\frac{\\partial error2}{\\partial aH4} = (-0.163189076) + (1.787803576) = 1.6246145 $$ \n",
    "<br/>\n",
    "\n",
    "$$\\frac{\\partial error1}{\\partial aH4} = \\frac{\\partial error1}{\\partial Y_1} \\frac{\\partial Y_1}{\\partial aH4} = (0.709517722)(-0.23) = -0.163189076 $$ \n",
    "$$\\frac{\\partial error1}{\\partial Y_1} = \\frac{\\partial error1}{\\partial aY_1} \\frac{\\partial aY_1}{\\partial Y_1} = (3)(0.236505907) = 0.709517722$$\n",
    "$$\\frac{\\partial Y_1}{\\partial aH4} = w19 = -0.23$$\n",
    "<br/>\n",
    "$$\\frac{\\partial error2}{\\partial aH4} = \\frac{\\partial error2}{\\partial Y_2} \\frac{\\partial Y_2}{\\partial aH4} = (0.198644842)(0.9) = 1.787803576 $$ \n",
    "$$\\frac{\\partial error2}{\\partial Y_2} = \\frac{\\partial error2}{\\partial aY_2} \\frac{\\partial aY_2}{\\partial Y_1} = (10)(0.198644842) = 0.198644842$$\n",
    "$$\\frac{\\partial Y_2}{\\partial aH4} = w22 = 0.9$$\n",
    "\n",
    "\n",
    "<br/>\n",
    "\n",
    "$$ w10 = w10 - \\alpha \\frac{\\partial error}{\\partial w10} = -0.3 - 0.260381491 = -0.560381491$$\n"
   ]
  },
  {
   "cell_type": "markdown",
   "metadata": {},
   "source": [
    "Similar a w10 se calcula w11 y w12\n",
    "\n",
    "<br/>\n",
    "$$ \\frac{\\partial error}{\\partial w11} = \\frac{\\partial error}{\\partial aH4} \\frac{\\partial aH4}{\\partial H4} \\frac{\\partial H4}{\\partial w11} = 0.205971242$$\n",
    "\n",
    "<br/>\n",
    "$$ \\frac{\\partial error}{\\partial w12} = \\frac{\\partial error}{\\partial aH4} \\frac{\\partial aH4}{\\partial H4} \\frac{\\partial H4}{\\partial w12} = 0.329902903$$\n"
   ]
  },
  {
   "cell_type": "markdown",
   "metadata": {},
   "source": [
    "Para w13\n",
    "\n",
    "<br/>\n",
    "$$ \\frac{\\partial error}{\\partial w13} = \\frac{\\partial error}{\\partial aH5} \\frac{\\partial aH5}{\\partial H5} \\frac{\\partial H5}{\\partial w13} = 0.252560341$$\n",
    "\n",
    "<br/>\n",
    "$$\\frac{\\partial H5}{\\partial w13} = aH1 = 0.685680114$$\n",
    "$$\\frac{\\partial aH5}{\\partial H5} = aH5 (1 - aH5) = 0.737831013 (1 - 0.737831013) = 0.193436409$$\n",
    "$$\\frac{\\partial error}{\\partial aH5} = \\frac{\\partial error1}{\\partial aH5} + \\frac{\\partial error2}{\\partial aH5} = (0.156093899) + (1.748074608) = 1.904168507 $$ \n",
    "\n"
   ]
  },
  {
   "cell_type": "markdown",
   "metadata": {},
   "source": [
    "Valores de w\n",
    "\n",
    "|     | inicial | cambio | nuevo (w-cambio) |\n",
    "|-----|---------|--------|-------|\n",
    "| w10 |  -0.3  | 0.260381491 | -0.560381491 |\n",
    "| w11 |  0.62  | 0.205971242 | 0.414028758  |\n",
    "| w12 |  0.45  | 0.329902903 | 0.120097097  |\n",
    "| w13 |  0.45  | 0.252560341 | 0.197439659 |\n",
    "| w14 |  0.57  | 0.199784427 | 0.370215573 |\n",
    "| w15 |  0.48  | 0.319993519 | 0.160006481 |\n",
    "| w16 |  0.65  | -0.041136234 | 0.691136234 |\n",
    "| w17 |  0.58  | -0.032540259 | 0.612540259 |\n",
    "| w18 |  -0.45 | -0.052119538 | -0.397880462 |\n"
   ]
  },
  {
   "cell_type": "markdown",
   "metadata": {},
   "source": [
    "Para la ultima parte w1\n",
    "\n",
    "$$ w1 = w1 - \\alpha\\frac{\\partial error}{\\partial w1} $$\n",
    "<br/>\n",
    "$$ \\frac{\\partial error}{\\partial w1} = \\frac{\\partial error}{\\partial aH1} \\frac{\\partial aH1}{\\partial H1} \\frac{\\partial H1}{\\partial w1} = (0.012832739) (0.215522895) (1) = 0.002765749$$\n",
    "<br/>\n",
    "\n",
    "$$\\frac{\\partial H1}{\\partial w1} = x1 = 1$$\n",
    "$$\\frac{\\partial aH1}{\\partial H1} = aH1(1-aH1) = 0.685680114 (1 - 0.685680114) = 0.215522895$$\n",
    "$$\\frac{\\partial error}{\\partial aH1} = \\frac{\\partial error1}{\\partial aH1} + \\frac{\\partial error2}{\\partial aH1} + \\frac{\\partial error3}{\\partial aH1} = (-0.11392258) + (0.165750984) + (-0.038995665) = 0.012832739 $$ \n",
    "<br/>\n",
    "\n",
    "$$\\frac{\\partial error1}{\\partial aH1} = \\frac{\\partial error1}{\\partial H4} \\frac{\\partial H4}{\\partial aH1} = (0.379741932)(-0.3) = -0.11392258$$ \n",
    "$$\\frac{\\partial error1}{\\partial H4} = \\frac{\\partial error1}{\\partial aH4} \\frac{\\partial aH4}{\\partial H4} = (1.6246145)(0.233742794) = 0.379741932$$\n",
    "$$\\frac{\\partial H4}{\\partial aH1} = w10 = -0.3$$\n",
    "<br/>\n",
    "$$\\frac{\\partial error2}{\\partial aH1} = \\frac{\\partial error2}{\\partial H5} \\frac{\\partial H5}{\\partial aH1} = (0.368335519)(0.45) = 0.165750984$$ \n",
    "$$\\frac{\\partial error2}{\\partial H5} = \\frac{\\partial error2}{\\partial aH5} \\frac{\\partial aH5}{\\partial H5} = (1.904168507)(0.193436409) = 0.368335519$$\n",
    "$$\\frac{\\partial H5}{\\partial aH1} = w13 = 0.45$$\n",
    "<br/>\n",
    "$$\\frac{\\partial error3}{\\partial aH1} = \\frac{\\partial error3}{\\partial H6} \\frac{\\partial H6}{\\partial aH1} = (-0.059993331)(0.65) = -0.038995665$$ \n",
    "$$\\frac{\\partial error3}{\\partial H6} = \\frac{\\partial error3}{\\partial aH6} \\frac{\\partial aH6}{\\partial H6} = (-0.248250721)(0.241664276) = -0.059993331$$\n",
    "$$\\frac{\\partial H6}{\\partial aH1} = w16 = 0.65$$\n",
    "\n",
    "<br/>\n",
    "\n",
    "$$ w10 = w10 - \\alpha \\frac{\\partial error}{\\partial w10} = -0.3 - 0.260381491 = -0.560381491$$\n"
   ]
  },
  {
   "cell_type": "markdown",
   "metadata": {},
   "source": [
    "Cambios en w\n",
    "\n",
    "|     | inicial | cambio | nuevo |\n",
    "|-----|---------|--------|-------|\n",
    "| w1 | 0.3  | 0.002765749 | 0.297234251 |\n",
    "| w2 | 0.46 | 0.002765749 | 0.457234251 |\n",
    "| w3 | 0.02 | 0.002765749 | 0.017234251 |\n",
    "| w4 | 0.22 | 0.101910698 | 0.118089302 |\n",
    "| w5 | -0.7 | 0.101910698 | -0.801910698 |\n",
    "| w6 | 0.65 | 0.101910698 | 0.548089302 |\n",
    "| w7 | 0.65 | 0.042720992 | 0.607279008 |\n",
    "| w8 | 0.9  | 0.042720992 | 0.857279008 |\n",
    "| w9 | 0.34 | 0.042720992 | 0.297279008 |\n"
   ]
  },
  {
   "cell_type": "code",
   "execution_count": null,
   "metadata": {},
   "outputs": [],
   "source": []
  },
  {
   "cell_type": "markdown",
   "metadata": {},
   "source": [
    "### Back-propagation(Práctica)\n",
    "\n",
    "* Entrenar un aproximador para la función Xor usando 2 capas intermedias.\n",
    "* Usar 2 neuronas en la capa anterior a la salida(segunda capa oculta)\n",
    "* Usar al menos 2(pueden ser más) en la primera capa oculta.\n",
    "* Usar activación ReLu en las capas intermedias y no activación en la salida\n",
    "* Usar numpy\n",
    "* Realizar 5 experimentos, en cada experimento(corrida de entrenamiento):\n",
    "* Inicializar los parámetros aleatoriamente con distribución normal centrada en 0 y std = 0.1\n",
    "* Retornar la representación intermedia de la segunda capa oculta.\n",
    "* Graficar las 5 representaciones intermedias(1 por experimento), comparar, comentar y/o concluir."
   ]
  },
  {
   "cell_type": "code",
   "execution_count": 1,
   "metadata": {},
   "outputs": [],
   "source": [
    "import numpy as np\n",
    "import matplotlib.pyplot as plt\n",
    "import seaborn as sb"
   ]
  },
  {
   "cell_type": "code",
   "execution_count": 22,
   "metadata": {},
   "outputs": [],
   "source": [
    "def ident(Z):\n",
    "    A = Z\n",
    "    return A\n",
    "\n",
    "def relu(Z):\n",
    "    A = np.maximum(0,Z)\n",
    "    return A\n"
   ]
  },
  {
   "cell_type": "code",
   "execution_count": 3,
   "metadata": {},
   "outputs": [],
   "source": [
    "def init_params(n_x, n_h, n_y):\n",
    "    np.random.seed(1)\n",
    "    \n",
    "    W1 = np.random.normal(0, 0.1, size=(n_h,n_x))\n",
    "    b1 = np.zeros((n_h,1))\n",
    "    W2 = np.random.normal(0, 0.1, size=(n_h,n_x)) \n",
    "    b2 = np.zeros((n_y,1))\n",
    "    W3 = np.random.normal(0, 0.1, size=(n_y,n_h)) \n",
    "    b3 = np.zeros((n_y,1))\n",
    "\n",
    "    \n",
    "    salida = {\"W1\": W1,\n",
    "                  \"b1\": b1,\n",
    "                  \"W2\": W2,\n",
    "                  \"b2\": b2,\n",
    "                  \"W3\": W3,\n",
    "                  \"b3\": b3}\n",
    "    \n",
    "    return salida    "
   ]
  },
  {
   "cell_type": "code",
   "execution_count": null,
   "metadata": {},
   "outputs": [],
   "source": []
  },
  {
   "cell_type": "code",
   "execution_count": 5,
   "metadata": {},
   "outputs": [],
   "source": []
  },
  {
   "cell_type": "code",
   "execution_count": null,
   "metadata": {},
   "outputs": [],
   "source": []
  },
  {
   "cell_type": "code",
   "execution_count": 23,
   "metadata": {},
   "outputs": [],
   "source": [
    "def forward_propagation(vals, W, b, tipo):\n",
    "    Z = np.dot(W,vals)+b\n",
    "    if tipo == \"ident\":\n",
    "        salida = ident(Z)\n",
    "    elif tipo == \"relu\":\n",
    "        salida = relu(Z)\n",
    "        \n",
    "    return salida,Z"
   ]
  },
  {
   "cell_type": "code",
   "execution_count": null,
   "metadata": {},
   "outputs": [],
   "source": []
  },
  {
   "cell_type": "code",
   "execution_count": null,
   "metadata": {},
   "outputs": [],
   "source": []
  },
  {
   "cell_type": "code",
   "execution_count": 24,
   "metadata": {},
   "outputs": [],
   "source": []
  },
  {
   "cell_type": "code",
   "execution_count": 9,
   "metadata": {},
   "outputs": [],
   "source": [
    "def compute_cost(AL, Y):\n",
    "    m = Y.shape[1]\n",
    "    cost = - np.sum(AL-Y)\n",
    "    cost = cost/m\n",
    "    cost = np.squeeze(cost) # reducir dimensionalidad del array\n",
    "    return cost"
   ]
  },
  {
   "cell_type": "code",
   "execution_count": null,
   "metadata": {},
   "outputs": [],
   "source": []
  },
  {
   "cell_type": "code",
   "execution_count": 25,
   "metadata": {},
   "outputs": [],
   "source": [
    "def linear_backward(dZ, A_prev, w, b):\n",
    "    m = A_prev.shape[1]\n",
    "    dw = np.dot(dZ,A_prev.T)/m\n",
    "\n",
    "    db = np.array([[np.sum(dZ)/m]])  #np.sum(dZ,axis=1,keepdims=True)/m #np.array([[np.sum(dZ)/m]])\n",
    "    dA_prev = np.dot(w.T,dZ)\n",
    "    \n",
    "    return dA_prev, dw, db"
   ]
  },
  {
   "cell_type": "code",
   "execution_count": 26,
   "metadata": {},
   "outputs": [],
   "source": [
    "def linear_activation_backward(dA, A, W, B, Z,tipo):\n",
    "    \n",
    "    if tipo == \"ident\":\n",
    "        dZ = np.ones(dA.shape)\n",
    "    elif tipo == \"relu\":\n",
    "        #dZ = np.where(dA <= 0, 0, 1)\n",
    "        dZ = np.greater(dA, 0).astype(int)\n",
    "        \n",
    "    dA_prev, dW, db = linear_backward(dZ, A, W, B)\n",
    "    return dA_prev, dW, db"
   ]
  },
  {
   "cell_type": "code",
   "execution_count": null,
   "metadata": {},
   "outputs": [],
   "source": []
  },
  {
   "cell_type": "code",
   "execution_count": 13,
   "metadata": {},
   "outputs": [],
   "source": [
    "def update_parameters(parameters, grads, learning_rate):\n",
    "    L = len(parameters) // 2 \n",
    "    for l in range(1,L+1):\n",
    "        parameters[\"W\" + str(l)]= parameters[\"W\" + str(l)] - learning_rate * grads[\"dW\" + str(l)]\n",
    "        parameters[\"b\" + str(l)]= parameters[\"b\" + str(l)] - learning_rate * grads[\"db\" + str(l)]\n",
    "    return parameters"
   ]
  },
  {
   "cell_type": "code",
   "execution_count": 21,
   "metadata": {},
   "outputs": [
    {
     "name": "stdout",
     "output_type": "stream",
     "text": [
      "[[1 1 0 0]\n",
      " [1 0 1 0]] [[ 0.16243454 -0.06117564]\n",
      " [-0.05281718 -0.10729686]] [[0.]\n",
      " [0.]]\n",
      "**\n",
      "[[ 0.08654076 -0.23015387]\n",
      " [ 0.17448118 -0.07612069]] [[0.]]\n",
      "**\n",
      "[[ 0.03190391 -0.02493704]] [[0.]]\n",
      "cost:  0.5001048217627753\n",
      "Y:  [[0 1 1 0]]\n",
      "A2:  [[-0.00016101 -0.00025828  0.          0.        ]]\n",
      "dA2:  [[-1.61007209e-04 -1.00025828e+00 -1.00000000e+00 -0.00000000e+00]]\n",
      "Cost after iteration 0: 0.5001048217627753\n",
      "cost:  0.6000000000000001\n",
      "Y:  [[0 1 1 0]]\n",
      "A2:  [[-0.1 -0.1 -0.1 -0.1]]\n",
      "dA2:  [[-0.1 -1.1 -1.1 -0.1]]\n",
      "cost:  0.7\n",
      "Y:  [[0 1 1 0]]\n",
      "A2:  [[-0.2 -0.2 -0.2 -0.2]]\n",
      "dA2:  [[-0.2 -1.2 -1.2 -0.2]]\n",
      "cost:  0.8\n",
      "Y:  [[0 1 1 0]]\n",
      "A2:  [[-0.3 -0.3 -0.3 -0.3]]\n",
      "dA2:  [[-0.3 -1.3 -1.3 -0.3]]\n",
      "cost:  0.8999999999999999\n",
      "Y:  [[0 1 1 0]]\n",
      "A2:  [[-0.4 -0.4 -0.4 -0.4]]\n",
      "dA2:  [[-0.4 -1.4 -1.4 -0.4]]\n",
      "cost:  1.0\n",
      "Y:  [[0 1 1 0]]\n",
      "A2:  [[-0.5 -0.5 -0.5 -0.5]]\n",
      "dA2:  [[-0.5 -1.5 -1.5 -0.5]]\n",
      "Cost after iteration 5: 1.0\n",
      "cost:  1.1\n",
      "Y:  [[0 1 1 0]]\n",
      "A2:  [[-0.6 -0.6 -0.6 -0.6]]\n",
      "dA2:  [[-0.6 -1.6 -1.6 -0.6]]\n",
      "cost:  1.2\n",
      "Y:  [[0 1 1 0]]\n",
      "A2:  [[-0.7 -0.7 -0.7 -0.7]]\n",
      "dA2:  [[-0.7 -1.7 -1.7 -0.7]]\n",
      "cost:  1.2999999999999998\n",
      "Y:  [[0 1 1 0]]\n",
      "A2:  [[-0.8 -0.8 -0.8 -0.8]]\n",
      "dA2:  [[-0.8 -1.8 -1.8 -0.8]]\n",
      "cost:  1.4\n",
      "Y:  [[0 1 1 0]]\n",
      "A2:  [[-0.9 -0.9 -0.9 -0.9]]\n",
      "dA2:  [[-0.9 -1.9 -1.9 -0.9]]\n",
      "cost:  1.5\n",
      "Y:  [[0 1 1 0]]\n",
      "A2:  [[-1. -1. -1. -1.]]\n",
      "dA2:  [[-1. -2. -2. -1.]]\n",
      "Cost after iteration 10: 1.5\n",
      "salida:  [[-1. -1. -1. -1.]]\n"
     ]
    },
    {
     "data": {
      "image/png": "[encoded data removed]",
      "text/plain": [
       "<Figure size 432x288 with 1 Axes>"
      ]
     },
     "metadata": {
      "needs_background": "light"
     },
     "output_type": "display_data"
    }
   ],
   "source": [
    "n_x = 2\n",
    "n_h = 2\n",
    "n_y = 1\n",
    "num_iterations = 11\n",
    "learning_rate = 0.1\n",
    "print_cost=True\n",
    "#layers_dims = (n_x, n_h, n_y)\n",
    "\n",
    "X = np.array([[1,1],[1,0],[0,1],[0,0]]).T\n",
    "Y = np.array([[0,1,1,0]])\n",
    "\n",
    "np.random.seed(1)\n",
    "grads = {}\n",
    "costs = []                              # to keep track of the cost\n",
    "m = X.shape[1]                           # number of examples\n",
    "#(n_x, n_h, n_y) = layers_dims\n",
    "\n",
    "# Initialize parameters dictionary, by calling one of the functions you'd previously implemented\n",
    "### START CODE HERE ### (≈ 1 line of code)\n",
    "parameters = init(n_x, n_h, n_y) \n",
    "### END CODE HERE ###\n",
    "\n",
    "# Get W1, b1, W2 and b2 from the dictionary parameters.\n",
    "W1 = parameters[\"W1\"]\n",
    "b1 = parameters[\"b1\"]\n",
    "W2 = parameters[\"W2\"]\n",
    "b2 = parameters[\"b2\"]\n",
    "W3 = parameters[\"W3\"]\n",
    "b3 = parameters[\"b3\"]\n",
    "print(X, W1, b1)\n",
    "print('**')\n",
    "print(W2, b2)\n",
    "print('**')\n",
    "print(W3, b3)\n",
    "\n",
    "# Loop (gradient descent)\n",
    "\n",
    "for i in range(0, num_iterations):\n",
    "\n",
    "    # Forward propagation: LINEAR -> RELU -> LINEAR -> SIGMOID. Inputs: \"X, W1, b1\". Output: \"A1, cache1, A2, cache2\".\n",
    "    ### START CODE HERE ### (≈ 2 lines of code)\n",
    "    #print(X, W1, b1)\n",
    "    #A1, X,W1,b1 = forward_propagation(X, W1, b1, \"relu\")\n",
    "    #A2, a2,w2,b2 = forward_propagation(A1, W2, b2,\"ident\")\n",
    "    #A3, a2,w2,b2 = forward_propagation(A1, W2, b2,\"ident\")\n",
    "    A1,Z1 = forward_propagation(X, W1, b1, \"relu\")\n",
    "    A2,Z2 = forward_propagation(A1, W2, b2,\"relu\")\n",
    "    A3,Z3 = forward_propagation(A2, W3, b3,\"ident\")\n",
    "    ### END CODE HERE ###\n",
    "\n",
    "    # Compute cost\n",
    "    ### START CODE HERE ### (≈ 1 line of code)\n",
    "    cost = compute_cost(A3, Y)\n",
    "    print('cost: ',cost)\n",
    "    ### END CODE HERE ###\n",
    "\n",
    "    # Initializing backward propagation\n",
    "    \n",
    "    #dA2 = - (np.divide(Y, A2) - np.divide(1 - Y, 1 - A2))\n",
    "    dA3 = -(Y - A3)\n",
    "    print('Y: ', Y)\n",
    "    print('A2: ', A3)\n",
    "    print('dA2: ', dA3)\n",
    "    # Backward propagation. Inputs: \"dA2, cache2, cache1\". Outputs: \"dA1, dW2, db2; also dA0 (not used), dW1, db1\".\n",
    "    ### START CODE HERE ### (≈ 2 lines of code)\n",
    "    dA2, dW3, db3 = linear_activation_backward(dA3, A3, W3, b3, Z3, \"ident\")\n",
    "    #print('dA1: ', dA1.shape)\n",
    "    dA1, dW2, db2 = linear_activation_backward(dA2, A2, W2, b2, Z2, \"relu\")\n",
    "    \n",
    "    dA0, dW1, db1 = linear_activation_backward(dA1, A1, W1, b1, Z1, \"relu\")\n",
    "    ### END CODE HERE ###\n",
    "\n",
    "    # Set grads['dWl'] to dW1, grads['db1'] to db1, grads['dW2'] to dW2, grads['db2'] to db2\n",
    "    grads['dW1'] = dW1\n",
    "    grads['db1'] = db1\n",
    "    grads['dW2'] = dW2\n",
    "    grads['db2'] = db2\n",
    "    grads['dW3'] = dW3\n",
    "    grads['db3'] = db3\n",
    "\n",
    "    # Update parameters.\n",
    "    ### START CODE HERE ### (approx. 1 line of code)\n",
    "    parameters = update_parameters(parameters, grads, learning_rate)\n",
    "    ### END CODE HERE ###\n",
    "\n",
    "    # Retrieve W1, b1, W2, b2 from parameters\n",
    "    W1 = parameters[\"W1\"]\n",
    "    b1 = parameters[\"b1\"]\n",
    "    W2 = parameters[\"W2\"]\n",
    "    b2 = parameters[\"b2\"]\n",
    "    W3 = parameters[\"W3\"]\n",
    "    b3 = parameters[\"b3\"]\n",
    "\n",
    "    # Print the cost every 100 training example\n",
    "    if print_cost and i % 5 == 0:\n",
    "        print(\"Cost after iteration {}: {}\".format(i, np.squeeze(cost)))\n",
    "    if print_cost and i % 5 == 0:\n",
    "        costs.append(cost)\n",
    "\n",
    "# plot the cost\n",
    "print('salida: ', A3)\n",
    "plt.plot(np.squeeze(costs))\n",
    "plt.ylabel('cost')\n",
    "plt.xlabel('iterations (per tens)')\n",
    "plt.title(\"Learning rate =\" + str(learning_rate))\n",
    "plt.show()"
   ]
  },
  {
   "cell_type": "code",
   "execution_count": 15,
   "metadata": {},
   "outputs": [
    {
     "data": {
      "text/plain": [
       "-38.80339624247857"
      ]
     },
     "execution_count": 15,
     "metadata": {},
     "output_type": "execute_result"
    }
   ],
   "source": [
    "x = np.array([[0.00876302, 0.01405721, 0.,         0.        ]])\n",
    "x[x==0] = 1e-15\n",
    "np.nansum(np.multiply(np.log(x),np.array([[0, 1, 1, 0]])))\n"
   ]
  },
  {
   "cell_type": "code",
   "execution_count": 16,
   "metadata": {},
   "outputs": [
    {
     "name": "stdout",
     "output_type": "stream",
     "text": [
      "4\n",
      "(1, 2) (2, 4)\n",
      "4\n"
     ]
    }
   ],
   "source": [
    "x = np.array([[1,1],[1, 0], [0, 1], [0, 0]] )\n",
    "w = np.array([[ 0.16243454, -0.06117564], [-0.05281718, -0.10729686]])\n",
    "\n",
    "x = np.array([[1,1],[1, 0], [0, 1], [0, 0]] ).T\n",
    "w = np.array([[ 0.16243454, -0.06117564]])\n",
    "\n",
    "\n",
    "b= np.array([[0.], [0.]])\n",
    "print(x.shape[1])\n",
    "print(w.shape,x.shape)\n",
    "np.dot(w,x)\n",
    "y = np.array([[0,1,1,0]])\n",
    "print(y.shape[1])"
   ]
  },
  {
   "cell_type": "code",
   "execution_count": 17,
   "metadata": {},
   "outputs": [
    {
     "data": {
      "text/plain": [
       "array([2, 4])"
      ]
     },
     "execution_count": 17,
     "metadata": {},
     "output_type": "execute_result"
    }
   ],
   "source": [
    "np.dot(2,np.array([1,2]).T)"
   ]
  },
  {
   "cell_type": "code",
   "execution_count": 18,
   "metadata": {},
   "outputs": [
    {
     "data": {
      "text/plain": [
       "True"
      ]
     },
     "execution_count": 18,
     "metadata": {},
     "output_type": "execute_result"
    }
   ],
   "source": [
    "\n",
    "np.array([[1,1],[1,0],[0,1],[0,0]])\n",
    "\n",
    "\n",
    "type(1) == int"
   ]
  },
  {
   "cell_type": "code",
   "execution_count": 19,
   "metadata": {},
   "outputs": [
    {
     "name": "stdout",
     "output_type": "stream",
     "text": [
      "2 2 1\n",
      "[[ 0.16243454 -0.06117564]\n",
      " [-0.05281718 -0.10729686]]\n",
      "[[ 0.08654076 -0.23015387]]\n"
     ]
    }
   ],
   "source": [
    "np.random.seed(1)\n",
    "    \n",
    "W1 = np.random.randn(n_h,n_x) * 0.1\n",
    "W2 = np.random.randn(n_y,n_h) * 0.1\n",
    "\n",
    "print(n_h,n_x,n_y)\n",
    "print(W1)\n",
    "print(W2)"
   ]
  },
  {
   "cell_type": "code",
   "execution_count": 20,
   "metadata": {},
   "outputs": [
    {
     "data": {
      "text/plain": [
       "array([[ 0.08654076, -0.23015387]])"
      ]
     },
     "execution_count": 20,
     "metadata": {},
     "output_type": "execute_result"
    }
   ],
   "source": [
    "np.random.seed(1)\n",
    "\n",
    "np.random.normal(0, 0.1, size=(2, 2))\n",
    "np.random.normal(0, 0.1, size=(1, 2))"
   ]
  }
 ],
 "metadata": {
  "kernelspec": {
   "display_name": "Python 3",
   "language": "python",
   "name": "python3"
  },
  "language_info": {
   "codemirror_mode": {
    "name": "ipython",
    "version": 3
   },
   "file_extension": ".py",
   "mimetype": "text/x-python",
   "name": "python",
   "nbconvert_exporter": "python",
   "pygments_lexer": "ipython3",
   "version": "3.7.4"
  }
 },
 "nbformat": 4,
 "nbformat_minor": 4
}
