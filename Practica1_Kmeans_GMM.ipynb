{
 "cells": [
  {
   "cell_type": "markdown",
   "metadata": {},
   "source": [
    "## Practica sobre K-Means y GMM"
   ]
  },
  {
   "cell_type": "code",
   "execution_count": 1,
   "metadata": {},
   "outputs": [],
   "source": [
    "import numpy as np\n",
    "import pandas as pd\n",
    "import random\n",
    "import seaborn as sns; sns.set()\n",
    "import matplotlib.pyplot as plt\n",
    "from  sklearn.mixture import GaussianMixture\n"
   ]
  },
  {
   "cell_type": "code",
   "execution_count": 190,
   "metadata": {},
   "outputs": [],
   "source": [
    "base_data_or = pd.read_csv('estaturas.csv')"
   ]
  },
  {
   "cell_type": "code",
   "execution_count": 191,
   "metadata": {},
   "outputs": [],
   "source": [
    "base_data = base_data_or.to_numpy()\n",
    "#base_data"
   ]
  },
  {
   "cell_type": "code",
   "execution_count": null,
   "metadata": {},
   "outputs": [],
   "source": []
  },
  {
   "cell_type": "code",
   "execution_count": null,
   "metadata": {},
   "outputs": [],
   "source": []
  },
  {
   "cell_type": "code",
   "execution_count": 388,
   "metadata": {},
   "outputs": [],
   "source": [
    "\n",
    "def kmeans(data,epochs = 5,k = 5,status=False, seed=False):\n",
    "    if seed:\n",
    "        random.seed(101)\n",
    "    j = np.array([])\n",
    "    total = len(data)\n",
    "    # seleccion aleatoria de elementos como k iniciales\n",
    "    randomlist = random.sample(range(0, total-1), k)\n",
    "    listk = np.array([data[i] for i in randomlist])\n",
    "    # registro para saber donde iniciaron los k\n",
    "    init_k =  np.copy(listk)\n",
    "    \n",
    "    for i in range(epochs):\n",
    "        # (x-x*)  (y - y*)\n",
    "        diferencias = data[:,None]- listk\n",
    "\n",
    "        # (x-x*)^2 + (y - y*)^2\n",
    "        suma_cuadrados = np.sum(np.square(diferencias),axis=2)\n",
    "\n",
    "        # distancia euclidiana sqrt( suma_cuadrados )\n",
    "        distancia_euc = np.sqrt(suma_cuadrados)\n",
    "\n",
    "        # seleccion del k con la distancia mas cercana\n",
    "        assigned = np.argmin(distancia_euc,axis=1)\n",
    "        #print(assigned)\n",
    "\n",
    "        # sumatoria de las distancias minimas de cada elemento \n",
    "        #   :distancia_euc tiene todas las k-esimas distancias, \n",
    "        #   por eso se toma el minimo. en este caso\n",
    "        j = np.append(j,sum(np.min(distancia_euc,axis=1))/total)\n",
    "        if status:\n",
    "            print(j[i])\n",
    "        # reasignacion de k\n",
    "        for i in range(k):\n",
    "            # filtro del los datos para cada k\n",
    "            subgrupo = data[assigned==i]\n",
    "            # nuevo centroide de k\n",
    "            listk[i] = np.average(subgrupo,axis=0)\n",
    "    #print(j)\n",
    "    \n",
    "    return (listk,init_k,j, assigned)"
   ]
  },
  {
   "cell_type": "markdown",
   "metadata": {},
   "source": [
    "### Con los datos crudos"
   ]
  },
  {
   "cell_type": "code",
   "execution_count": 414,
   "metadata": {},
   "outputs": [
    {
     "name": "stdout",
     "output_type": "stream",
     "text": [
      "1.1340839873535546\n",
      "1.0847258687549142\n",
      "1.0847258687549142\n",
      "1.0847258687549142\n",
      "1.0847258687549142\n",
      "[[ 1.79777778 26.        ]\n",
      " [ 1.68111111 30.88888889]\n",
      " [ 1.77166667 35.66666667]\n",
      " [ 1.768      23.2       ]\n",
      " [ 1.65       26.        ]]\n",
      "J:  [1.13408399 1.08472587 1.08472587 1.08472587 1.08472587]\n"
     ]
    }
   ],
   "source": [
    "ks,k_init,j,assigned = kmeans(base_data, epochs = 5,k = 5,status=True, seed=False)\n",
    "print(ks)\n",
    "print('J: ',j)"
   ]
  },
  {
   "cell_type": "markdown",
   "metadata": {},
   "source": [
    "#### Grafica J"
   ]
  },
  {
   "cell_type": "code",
   "execution_count": 415,
   "metadata": {},
   "outputs": [
    {
     "data": {
      "text/plain": [
       "[<matplotlib.lines.Line2D at 0x21dabec51c8>]"
      ]
     },
     "execution_count": 415,
     "metadata": {},
     "output_type": "execute_result"
    },
    {
     "data": {
      "image/png": "[encoded data removed]",
      "text/plain": [
       "<Figure size 432x288 with 1 Axes>"
      ]
     },
     "metadata": {
      "needs_background": "light"
     },
     "output_type": "display_data"
    }
   ],
   "source": [
    "plt.plot(j)"
   ]
  },
  {
   "cell_type": "markdown",
   "metadata": {},
   "source": [
    "##### Grafica de clusters\n",
    "Se prepresenta el universo de elementos agrupados por colores y por medio de X los centroides definidos"
   ]
  },
  {
   "cell_type": "code",
   "execution_count": 416,
   "metadata": {},
   "outputs": [
    {
     "data": {
      "text/plain": [
       "<matplotlib.axes._subplots.AxesSubplot at 0x21dacec7588>"
      ]
     },
     "execution_count": 416,
     "metadata": {},
     "output_type": "execute_result"
    },
    {
     "data": {
      "image/png": "[encoded data removed]",
      "text/plain": [
       "<Figure size 432x288 with 1 Axes>"
      ]
     },
     "metadata": {
      "needs_background": "light"
     },
     "output_type": "display_data"
    }
   ],
   "source": [
    "base_data_or['k'] = assigned\n",
    "sns.scatterplot(x=\"Edad\", y=\"Estatura\",  palette=\"Set1\",s=75,\n",
    "                     hue=\"k\", data=base_data_or)\n",
    "# definicion de k\n",
    "sns.scatterplot(x=ks[:,1], y=ks[:,0],  marker=\"x\",s=100)\n",
    "# puntos iniciales\n",
    "#sns.scatterplot(x=init_k[:,1], y=init_k[:,0],  marker=\"s\",s=75,color=\".2\" )"
   ]
  },
  {
   "cell_type": "markdown",
   "metadata": {},
   "source": [
    "### Escalado de datos"
   ]
  },
  {
   "cell_type": "code",
   "execution_count": 417,
   "metadata": {},
   "outputs": [
    {
     "data": {
      "text/plain": [
       "array([[0.73333333, 0.26315789],\n",
       "       [0.63333333, 0.52631579],\n",
       "       [0.56666667, 0.15789474]])"
      ]
     },
     "execution_count": 417,
     "metadata": {},
     "output_type": "execute_result"
    }
   ],
   "source": [
    "esc_data = (base_data - np.min(base_data, axis=0))/ ( np.max(base_data, axis=0) - np.min(base_data, axis=0) )\n",
    "esc_data[0:3]"
   ]
  },
  {
   "cell_type": "code",
   "execution_count": 489,
   "metadata": {},
   "outputs": [
    {
     "name": "stdout",
     "output_type": "stream",
     "text": [
      "0.18518823091674064\n",
      "0.14478159946452407\n",
      "0.13196121418194529\n",
      "0.13007019090954955\n",
      "0.13092045861958165\n",
      "[[0.825      0.22368421]\n",
      " [0.18888889 0.44736842]\n",
      " [0.725      0.61842105]\n",
      " [0.44285714 0.23308271]\n",
      " [0.75       0.94736842]]\n",
      "J:  [0.18518823 0.1447816  0.13196121 0.13007019 0.13092046]\n"
     ]
    }
   ],
   "source": [
    "ks,k_init,j,assigned = kmeans(esc_data, epochs = 5,k = 5,status=True,seed=False)\n",
    "print(ks)\n",
    "print('J: ',j)"
   ]
  },
  {
   "cell_type": "markdown",
   "metadata": {},
   "source": [
    "#### Grafica J"
   ]
  },
  {
   "cell_type": "code",
   "execution_count": 490,
   "metadata": {},
   "outputs": [
    {
     "data": {
      "text/plain": [
       "[<matplotlib.lines.Line2D at 0x21daf28adc8>]"
      ]
     },
     "execution_count": 490,
     "metadata": {},
     "output_type": "execute_result"
    },
    {
     "data": {
      "image/png": "[encoded data removed]",
      "text/plain": [
       "<Figure size 432x288 with 1 Axes>"
      ]
     },
     "metadata": {
      "needs_background": "light"
     },
     "output_type": "display_data"
    }
   ],
   "source": [
    "plt.plot(j)"
   ]
  },
  {
   "cell_type": "code",
   "execution_count": 494,
   "metadata": {},
   "outputs": [
    {
     "data": {
      "text/plain": [
       "<matplotlib.axes._subplots.AxesSubplot at 0x21db027fdc8>"
      ]
     },
     "execution_count": 494,
     "metadata": {},
     "output_type": "execute_result"
    },
    {
     "data": {
      "image/png": "[encoded data removed]",
      "text/plain": [
       "<Figure size 432x288 with 1 Axes>"
      ]
     },
     "metadata": {},
     "output_type": "display_data"
    }
   ],
   "source": [
    "sns.scatterplot(x=esc_data[:,1], y=esc_data[:,0],  palette=\"Set1\",s=75,\n",
    "                     hue=assigned)\n",
    "# definicion de k\n",
    "sns.scatterplot(x=ks[:,1], y=ks[:,0],  marker=\"x\",s=100)\n",
    "# puntos iniciales\n",
    "#sns.scatterplot(x=init_k[:,1], y=init_k[:,0],  marker=\"s\",s=75,color=\".2\" )"
   ]
  },
  {
   "cell_type": "markdown",
   "metadata": {},
   "source": [
    "En base diversas ejecuciones y por el medio elbow se estima que un buen k seria de 2, considerando que el algoritmo converve en menos de 5 epochs.\n",
    "\n",
    "Aunque en varias ocuaciones elbow sugiere hacer un solo grupo; pero seria lo mismo que no hacer nada por lo que se deja la opcion de crear almenos 2 grupos"
   ]
  },
  {
   "cell_type": "code",
   "execution_count": 453,
   "metadata": {},
   "outputs": [
    {
     "name": "stdout",
     "output_type": "stream",
     "text": [
      "0.40469321492863886\n",
      "0.2506812450719016\n",
      "0.24813383764910393\n",
      "0.24542337296742933\n",
      "0.24158456591823274\n",
      "J:  [0.40469321 0.25068125 0.24813384 0.24542337 0.24158457]\n"
     ]
    },
    {
     "data": {
      "text/plain": [
       "[<matplotlib.lines.Line2D at 0x21dad854d48>]"
      ]
     },
     "execution_count": 453,
     "metadata": {},
     "output_type": "execute_result"
    },
    {
     "data": {
      "image/png": "[encoded data removed]",
      "text/plain": [
       "<Figure size 432x288 with 1 Axes>"
      ]
     },
     "metadata": {
      "needs_background": "light"
     },
     "output_type": "display_data"
    }
   ],
   "source": [
    "ks,k_init,j,assigned = kmeans(esc_data, epochs = 5,k = 2,status=True,seed=False)\n",
    "print('J: ',j)\n",
    "plt.plot(j)"
   ]
  },
  {
   "cell_type": "code",
   "execution_count": 454,
   "metadata": {},
   "outputs": [
    {
     "data": {
      "text/plain": [
       "<matplotlib.axes._subplots.AxesSubplot at 0x21dad8a4208>"
      ]
     },
     "execution_count": 454,
     "metadata": {},
     "output_type": "execute_result"
    },
    {
     "data": {
      "image/png": "[encoded data removed]",
      "text/plain": [
       "<Figure size 432x288 with 1 Axes>"
      ]
     },
     "metadata": {
      "needs_background": "light"
     },
     "output_type": "display_data"
    }
   ],
   "source": [
    "sns.scatterplot(x=esc_data[:,1], y=esc_data[:,0],  palette=\"Set1\",s=75,\n",
    "                     hue=assigned)\n",
    "# definicion de k\n",
    "sns.scatterplot(x=ks[:,1], y=ks[:,0],  marker=\"x\",s=100)"
   ]
  },
  {
   "cell_type": "markdown",
   "metadata": {},
   "source": [
    "### GMM"
   ]
  },
  {
   "cell_type": "code",
   "execution_count": null,
   "metadata": {},
   "outputs": [],
   "source": [
    "gmm = G"
   ]
  },
  {
   "cell_type": "code",
   "execution_count": null,
   "metadata": {},
   "outputs": [],
   "source": []
  },
  {
   "cell_type": "code",
   "execution_count": null,
   "metadata": {},
   "outputs": [],
   "source": []
  },
  {
   "cell_type": "code",
   "execution_count": null,
   "metadata": {},
   "outputs": [],
   "source": []
  },
  {
   "cell_type": "code",
   "execution_count": null,
   "metadata": {},
   "outputs": [],
   "source": []
  },
  {
   "cell_type": "code",
   "execution_count": null,
   "metadata": {},
   "outputs": [],
   "source": []
  },
  {
   "cell_type": "code",
   "execution_count": null,
   "metadata": {},
   "outputs": [],
   "source": []
  },
  {
   "cell_type": "code",
   "execution_count": null,
   "metadata": {},
   "outputs": [],
   "source": []
  },
  {
   "cell_type": "code",
   "execution_count": null,
   "metadata": {},
   "outputs": [],
   "source": []
  }
 ],
 "metadata": {
  "kernelspec": {
   "display_name": "Python 3",
   "language": "python",
   "name": "python3"
  },
  "language_info": {
   "codemirror_mode": {
    "name": "ipython",
    "version": 3
   },
   "file_extension": ".py",
   "mimetype": "text/x-python",
   "name": "python",
   "nbconvert_exporter": "python",
   "pygments_lexer": "ipython3",
   "version": "3.7.4"
  }
 },
 "nbformat": 4,
 "nbformat_minor": 4
}
